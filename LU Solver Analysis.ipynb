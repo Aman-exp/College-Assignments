{
 "cells": [
  {
   "cell_type": "markdown",
   "metadata": {},
   "source": [
    "# LU Solver"
   ]
  },
  {
   "cell_type": "markdown",
   "metadata": {},
   "source": [
    "### Importing the required libraries"
   ]
  },
  {
   "cell_type": "code",
   "execution_count": 11,
   "metadata": {},
   "outputs": [],
   "source": [
    "from LU_helper_functions import *\n",
    "from scipy.linalg import lu, solve, lu_solve, lu_factor\n",
    "import time\n",
    "import numpy as np\n",
    "import pandas as pd"
   ]
  },
  {
   "cell_type": "markdown",
   "metadata": {},
   "source": [
    "### Generating the matrices for test"
   ]
  },
  {
   "cell_type": "code",
   "execution_count": 12,
   "metadata": {},
   "outputs": [],
   "source": [
    "n = [10,50,100,400,1000,1500,2000] # Size of matrix\n",
    "A, b = [], []\n",
    "for i in n:\n",
    "    A.append(np.random.rand(i,i)) # Random Matrices\n",
    "    b.append(np.random.rand(i)) # Random Vectors"
   ]
  },
  {
   "cell_type": "markdown",
   "metadata": {},
   "source": [
    "### LU Factorization Time Analysis"
   ]
  },
  {
   "cell_type": "code",
   "execution_count": 13,
   "metadata": {},
   "outputs": [],
   "source": [
    "Our_Factorization_Time = []\n",
    "SciPy_Factorization_Time = []\n",
    "for i in A:\n",
    "    start = time.time()\n",
    "    _ = lu_decomposition(i)\n",
    "    end = time.time()\n",
    "    Our_Factorization_Time.append(end-start)\n",
    "    start = time.time()\n",
    "    _ = lu(i)\n",
    "    end = time.time()\n",
    "    SciPy_Factorization_Time.append(end-start)\n"
   ]
  },
  {
   "cell_type": "code",
   "execution_count": 14,
   "metadata": {},
   "outputs": [
    {
     "data": {
      "text/html": [
       "<style type=\"text/css\">\n",
       "#T_201ef_row0_col0, #T_201ef_row0_col1, #T_201ef_row0_col2, #T_201ef_row1_col0, #T_201ef_row1_col1, #T_201ef_row1_col2, #T_201ef_row2_col0, #T_201ef_row2_col1, #T_201ef_row2_col2, #T_201ef_row3_col0, #T_201ef_row3_col1, #T_201ef_row3_col2, #T_201ef_row4_col0, #T_201ef_row4_col1, #T_201ef_row4_col2, #T_201ef_row5_col0, #T_201ef_row5_col1, #T_201ef_row5_col2, #T_201ef_row6_col0, #T_201ef_row6_col1, #T_201ef_row6_col2 {\n",
       "  text-align: center;\n",
       "}\n",
       "</style>\n",
       "<table id=\"T_201ef\">\n",
       "  <thead>\n",
       "    <tr>\n",
       "      <th class=\"blank level0\" >&nbsp;</th>\n",
       "      <th id=\"T_201ef_level0_col0\" class=\"col_heading level0 col0\" >Matrix Order</th>\n",
       "      <th id=\"T_201ef_level0_col1\" class=\"col_heading level0 col1\" >My Method (in sec)</th>\n",
       "      <th id=\"T_201ef_level0_col2\" class=\"col_heading level0 col2\" >Using SciPy (in sec)</th>\n",
       "    </tr>\n",
       "  </thead>\n",
       "  <tbody>\n",
       "    <tr>\n",
       "      <th id=\"T_201ef_level0_row0\" class=\"row_heading level0 row0\" >1</th>\n",
       "      <td id=\"T_201ef_row0_col0\" class=\"data row0 col0\" >10</td>\n",
       "      <td id=\"T_201ef_row0_col1\" class=\"data row0 col1\" >0.000999</td>\n",
       "      <td id=\"T_201ef_row0_col2\" class=\"data row0 col2\" >0.000000</td>\n",
       "    </tr>\n",
       "    <tr>\n",
       "      <th id=\"T_201ef_level0_row1\" class=\"row_heading level0 row1\" >2</th>\n",
       "      <td id=\"T_201ef_row1_col0\" class=\"data row1 col0\" >50</td>\n",
       "      <td id=\"T_201ef_row1_col1\" class=\"data row1 col1\" >0.003552</td>\n",
       "      <td id=\"T_201ef_row1_col2\" class=\"data row1 col2\" >0.000000</td>\n",
       "    </tr>\n",
       "    <tr>\n",
       "      <th id=\"T_201ef_level0_row2\" class=\"row_heading level0 row2\" >3</th>\n",
       "      <td id=\"T_201ef_row2_col0\" class=\"data row2 col0\" >100</td>\n",
       "      <td id=\"T_201ef_row2_col1\" class=\"data row2 col1\" >0.006028</td>\n",
       "      <td id=\"T_201ef_row2_col2\" class=\"data row2 col2\" >0.042273</td>\n",
       "    </tr>\n",
       "    <tr>\n",
       "      <th id=\"T_201ef_level0_row3\" class=\"row_heading level0 row3\" >4</th>\n",
       "      <td id=\"T_201ef_row3_col0\" class=\"data row3 col0\" >400</td>\n",
       "      <td id=\"T_201ef_row3_col1\" class=\"data row3 col1\" >0.120514</td>\n",
       "      <td id=\"T_201ef_row3_col2\" class=\"data row3 col2\" >0.026259</td>\n",
       "    </tr>\n",
       "    <tr>\n",
       "      <th id=\"T_201ef_level0_row4\" class=\"row_heading level0 row4\" >5</th>\n",
       "      <td id=\"T_201ef_row4_col0\" class=\"data row4 col0\" >1000</td>\n",
       "      <td id=\"T_201ef_row4_col1\" class=\"data row4 col1\" >1.520151</td>\n",
       "      <td id=\"T_201ef_row4_col2\" class=\"data row4 col2\" >0.095937</td>\n",
       "    </tr>\n",
       "    <tr>\n",
       "      <th id=\"T_201ef_level0_row5\" class=\"row_heading level0 row5\" >6</th>\n",
       "      <td id=\"T_201ef_row5_col0\" class=\"data row5 col0\" >1500</td>\n",
       "      <td id=\"T_201ef_row5_col1\" class=\"data row5 col1\" >4.707232</td>\n",
       "      <td id=\"T_201ef_row5_col2\" class=\"data row5 col2\" >0.100031</td>\n",
       "    </tr>\n",
       "    <tr>\n",
       "      <th id=\"T_201ef_level0_row6\" class=\"row_heading level0 row6\" >7</th>\n",
       "      <td id=\"T_201ef_row6_col0\" class=\"data row6 col0\" >2000</td>\n",
       "      <td id=\"T_201ef_row6_col1\" class=\"data row6 col1\" >10.470248</td>\n",
       "      <td id=\"T_201ef_row6_col2\" class=\"data row6 col2\" >0.159881</td>\n",
       "    </tr>\n",
       "  </tbody>\n",
       "</table>\n"
      ],
      "text/plain": [
       "<pandas.io.formats.style.Styler at 0x1f285cc8a50>"
      ]
     },
     "execution_count": 14,
     "metadata": {},
     "output_type": "execute_result"
    }
   ],
   "source": [
    "# Factorization Time Table for comparison\n",
    "table = pd.DataFrame(list(zip(n,Our_Factorization_Time,SciPy_Factorization_Time)),columns = [\"Matrix Order\",\"My Method (in sec)\",\"Using SciPy (in sec)\"],\n",
    "                     index=range(1, len(n) + 1))\n",
    "table.style.set_properties(**{'text-align':'center'})"
   ]
  },
  {
   "cell_type": "markdown",
   "metadata": {},
   "source": [
    "### LU Solver Time Analysis"
   ]
  },
  {
   "cell_type": "code",
   "execution_count": 15,
   "metadata": {},
   "outputs": [],
   "source": [
    "Our_Solver_Time = []\n",
    "SciPy_Solver_Time = []\n",
    "for i in range(len(A)):\n",
    "    start = time.time()\n",
    "    _ = lu_solver(A[i],b[i])\n",
    "    end = time.time()\n",
    "    Our_Solver_Time.append(end-start)\n",
    "    start = time.time()\n",
    "    lu_piv, piv = lu_factor(A[i])\n",
    "    _ = lu_solve((lu_piv, piv), b[i])\n",
    "    end = time.time()\n",
    "    SciPy_Solver_Time.append(end-start)"
   ]
  },
  {
   "cell_type": "code",
   "execution_count": 16,
   "metadata": {},
   "outputs": [
    {
     "data": {
      "text/html": [
       "<style type=\"text/css\">\n",
       "#T_e8839_row0_col0, #T_e8839_row0_col1, #T_e8839_row0_col2, #T_e8839_row1_col0, #T_e8839_row1_col1, #T_e8839_row1_col2, #T_e8839_row2_col0, #T_e8839_row2_col1, #T_e8839_row2_col2, #T_e8839_row3_col0, #T_e8839_row3_col1, #T_e8839_row3_col2, #T_e8839_row4_col0, #T_e8839_row4_col1, #T_e8839_row4_col2, #T_e8839_row5_col0, #T_e8839_row5_col1, #T_e8839_row5_col2, #T_e8839_row6_col0, #T_e8839_row6_col1, #T_e8839_row6_col2 {\n",
       "  text-align: center;\n",
       "}\n",
       "</style>\n",
       "<table id=\"T_e8839\">\n",
       "  <thead>\n",
       "    <tr>\n",
       "      <th class=\"blank level0\" >&nbsp;</th>\n",
       "      <th id=\"T_e8839_level0_col0\" class=\"col_heading level0 col0\" >Matrix Order</th>\n",
       "      <th id=\"T_e8839_level0_col1\" class=\"col_heading level0 col1\" >My Method (in sec)</th>\n",
       "      <th id=\"T_e8839_level0_col2\" class=\"col_heading level0 col2\" >Using SciPy (in sec)</th>\n",
       "    </tr>\n",
       "  </thead>\n",
       "  <tbody>\n",
       "    <tr>\n",
       "      <th id=\"T_e8839_level0_row0\" class=\"row_heading level0 row0\" >1</th>\n",
       "      <td id=\"T_e8839_row0_col0\" class=\"data row0 col0\" >10</td>\n",
       "      <td id=\"T_e8839_row0_col1\" class=\"data row0 col1\" >0.005003</td>\n",
       "      <td id=\"T_e8839_row0_col2\" class=\"data row0 col2\" >0.000534</td>\n",
       "    </tr>\n",
       "    <tr>\n",
       "      <th id=\"T_e8839_level0_row1\" class=\"row_heading level0 row1\" >2</th>\n",
       "      <td id=\"T_e8839_row1_col0\" class=\"data row1 col0\" >50</td>\n",
       "      <td id=\"T_e8839_row1_col1\" class=\"data row1 col1\" >0.000000</td>\n",
       "      <td id=\"T_e8839_row1_col2\" class=\"data row1 col2\" >0.000000</td>\n",
       "    </tr>\n",
       "    <tr>\n",
       "      <th id=\"T_e8839_level0_row2\" class=\"row_heading level0 row2\" >3</th>\n",
       "      <td id=\"T_e8839_row2_col0\" class=\"data row2 col0\" >100</td>\n",
       "      <td id=\"T_e8839_row2_col1\" class=\"data row2 col1\" >0.010945</td>\n",
       "      <td id=\"T_e8839_row2_col2\" class=\"data row2 col2\" >0.048362</td>\n",
       "    </tr>\n",
       "    <tr>\n",
       "      <th id=\"T_e8839_level0_row3\" class=\"row_heading level0 row3\" >4</th>\n",
       "      <td id=\"T_e8839_row3_col0\" class=\"data row3 col0\" >400</td>\n",
       "      <td id=\"T_e8839_row3_col1\" class=\"data row3 col1\" >0.135137</td>\n",
       "      <td id=\"T_e8839_row3_col2\" class=\"data row3 col2\" >0.029410</td>\n",
       "    </tr>\n",
       "    <tr>\n",
       "      <th id=\"T_e8839_level0_row4\" class=\"row_heading level0 row4\" >5</th>\n",
       "      <td id=\"T_e8839_row4_col0\" class=\"data row4 col0\" >1000</td>\n",
       "      <td id=\"T_e8839_row4_col1\" class=\"data row4 col1\" >1.520363</td>\n",
       "      <td id=\"T_e8839_row4_col2\" class=\"data row4 col2\" >0.049780</td>\n",
       "    </tr>\n",
       "    <tr>\n",
       "      <th id=\"T_e8839_level0_row5\" class=\"row_heading level0 row5\" >6</th>\n",
       "      <td id=\"T_e8839_row5_col0\" class=\"data row5 col0\" >1500</td>\n",
       "      <td id=\"T_e8839_row5_col1\" class=\"data row5 col1\" >4.750159</td>\n",
       "      <td id=\"T_e8839_row5_col2\" class=\"data row5 col2\" >0.092530</td>\n",
       "    </tr>\n",
       "    <tr>\n",
       "      <th id=\"T_e8839_level0_row6\" class=\"row_heading level0 row6\" >7</th>\n",
       "      <td id=\"T_e8839_row6_col0\" class=\"data row6 col0\" >2000</td>\n",
       "      <td id=\"T_e8839_row6_col1\" class=\"data row6 col1\" >10.587825</td>\n",
       "      <td id=\"T_e8839_row6_col2\" class=\"data row6 col2\" >0.128588</td>\n",
       "    </tr>\n",
       "  </tbody>\n",
       "</table>\n"
      ],
      "text/plain": [
       "<pandas.io.formats.style.Styler at 0x1f285cc5310>"
      ]
     },
     "execution_count": 16,
     "metadata": {},
     "output_type": "execute_result"
    }
   ],
   "source": [
    "table = pd.DataFrame(list(zip(n,Our_Solver_Time,SciPy_Solver_Time)),columns = [\"Matrix Order\",\"My Method (in sec)\",\"Using SciPy (in sec)\"],\n",
    "                     index=range(1, len(n) + 1))\n",
    "table.style.set_properties(**{'text-align':'center'})"
   ]
  },
  {
   "cell_type": "markdown",
   "metadata": {},
   "source": [
    "### _||PA-LU||_ for both solvers"
   ]
  },
  {
   "cell_type": "code",
   "execution_count": 17,
   "metadata": {},
   "outputs": [],
   "source": [
    "# We will use the Frobenius Norm to get the largest precision error.\n",
    "Our_Matrix_Norms, SciPy_matrix_norms = [], []\n",
    "for i in range(len(A)):\n",
    "    P, L, U = lu_decomposition(A[i])\n",
    "    Our_Matrix_Norms.append(np.max(np.abs(np.subtract(np.matmul(P,A[i]),np.matmul(L,U)))))\n",
    "    P, L, U = lu(A[i])\n",
    "    SciPy_matrix_norms.append(np.max(np.abs(np.subtract(np.matmul(P,A[i]),np.matmul(L,U)))))"
   ]
  },
  {
   "cell_type": "code",
   "execution_count": 18,
   "metadata": {},
   "outputs": [
    {
     "data": {
      "text/html": [
       "<style type=\"text/css\">\n",
       "#T_b16ad_row0_col0, #T_b16ad_row0_col1, #T_b16ad_row0_col2, #T_b16ad_row1_col0, #T_b16ad_row1_col1, #T_b16ad_row1_col2, #T_b16ad_row2_col0, #T_b16ad_row2_col1, #T_b16ad_row2_col2, #T_b16ad_row3_col0, #T_b16ad_row3_col1, #T_b16ad_row3_col2, #T_b16ad_row4_col0, #T_b16ad_row4_col1, #T_b16ad_row4_col2, #T_b16ad_row5_col0, #T_b16ad_row5_col1, #T_b16ad_row5_col2, #T_b16ad_row6_col0, #T_b16ad_row6_col1, #T_b16ad_row6_col2 {\n",
       "  text-align: center;\n",
       "}\n",
       "</style>\n",
       "<table id=\"T_b16ad\">\n",
       "  <thead>\n",
       "    <tr>\n",
       "      <th class=\"blank level0\" >&nbsp;</th>\n",
       "      <th id=\"T_b16ad_level0_col0\" class=\"col_heading level0 col0\" >Matrix Order</th>\n",
       "      <th id=\"T_b16ad_level0_col1\" class=\"col_heading level0 col1\" >Norm in my method</th>\n",
       "      <th id=\"T_b16ad_level0_col2\" class=\"col_heading level0 col2\" >Norm using SciPy</th>\n",
       "    </tr>\n",
       "  </thead>\n",
       "  <tbody>\n",
       "    <tr>\n",
       "      <th id=\"T_b16ad_level0_row0\" class=\"row_heading level0 row0\" >1</th>\n",
       "      <td id=\"T_b16ad_row0_col0\" class=\"data row0 col0\" >10</td>\n",
       "      <td id=\"T_b16ad_row0_col1\" class=\"data row0 col1\" >0.000000</td>\n",
       "      <td id=\"T_b16ad_row0_col2\" class=\"data row0 col2\" >0.831438</td>\n",
       "    </tr>\n",
       "    <tr>\n",
       "      <th id=\"T_b16ad_level0_row1\" class=\"row_heading level0 row1\" >2</th>\n",
       "      <td id=\"T_b16ad_row1_col0\" class=\"data row1 col0\" >50</td>\n",
       "      <td id=\"T_b16ad_row1_col1\" class=\"data row1 col1\" >0.000000</td>\n",
       "      <td id=\"T_b16ad_row1_col2\" class=\"data row1 col2\" >0.966079</td>\n",
       "    </tr>\n",
       "    <tr>\n",
       "      <th id=\"T_b16ad_level0_row2\" class=\"row_heading level0 row2\" >3</th>\n",
       "      <td id=\"T_b16ad_row2_col0\" class=\"data row2 col0\" >100</td>\n",
       "      <td id=\"T_b16ad_row2_col1\" class=\"data row2 col1\" >0.000000</td>\n",
       "      <td id=\"T_b16ad_row2_col2\" class=\"data row2 col2\" >0.991945</td>\n",
       "    </tr>\n",
       "    <tr>\n",
       "      <th id=\"T_b16ad_level0_row3\" class=\"row_heading level0 row3\" >4</th>\n",
       "      <td id=\"T_b16ad_row3_col0\" class=\"data row3 col0\" >400</td>\n",
       "      <td id=\"T_b16ad_row3_col1\" class=\"data row3 col1\" >0.000000</td>\n",
       "      <td id=\"T_b16ad_row3_col2\" class=\"data row3 col2\" >0.999201</td>\n",
       "    </tr>\n",
       "    <tr>\n",
       "      <th id=\"T_b16ad_level0_row4\" class=\"row_heading level0 row4\" >5</th>\n",
       "      <td id=\"T_b16ad_row4_col0\" class=\"data row4 col0\" >1000</td>\n",
       "      <td id=\"T_b16ad_row4_col1\" class=\"data row4 col1\" >0.000000</td>\n",
       "      <td id=\"T_b16ad_row4_col2\" class=\"data row4 col2\" >0.998566</td>\n",
       "    </tr>\n",
       "    <tr>\n",
       "      <th id=\"T_b16ad_level0_row5\" class=\"row_heading level0 row5\" >6</th>\n",
       "      <td id=\"T_b16ad_row5_col0\" class=\"data row5 col0\" >1500</td>\n",
       "      <td id=\"T_b16ad_row5_col1\" class=\"data row5 col1\" >0.000000</td>\n",
       "      <td id=\"T_b16ad_row5_col2\" class=\"data row5 col2\" >0.999705</td>\n",
       "    </tr>\n",
       "    <tr>\n",
       "      <th id=\"T_b16ad_level0_row6\" class=\"row_heading level0 row6\" >7</th>\n",
       "      <td id=\"T_b16ad_row6_col0\" class=\"data row6 col0\" >2000</td>\n",
       "      <td id=\"T_b16ad_row6_col1\" class=\"data row6 col1\" >0.000000</td>\n",
       "      <td id=\"T_b16ad_row6_col2\" class=\"data row6 col2\" >0.999658</td>\n",
       "    </tr>\n",
       "  </tbody>\n",
       "</table>\n"
      ],
      "text/plain": [
       "<pandas.io.formats.style.Styler at 0x1f285bfaf90>"
      ]
     },
     "execution_count": 18,
     "metadata": {},
     "output_type": "execute_result"
    }
   ],
   "source": [
    "table = pd.DataFrame(list(zip(n,Our_Matrix_Norms,SciPy_matrix_norms)),columns = [\"Matrix Order\",\"Norm in my method\",\"Norm using SciPy\"],\n",
    "                     index=range(1, len(n) + 1))\n",
    "table.style.set_properties(**{'text-align':'center'})"
   ]
  },
  {
   "cell_type": "markdown",
   "metadata": {},
   "source": [
    "### $\\|Ax_0 - b\\|$ for both solvers"
   ]
  },
  {
   "cell_type": "code",
   "execution_count": 19,
   "metadata": {},
   "outputs": [],
   "source": [
    "# We will use the ∞-Norm to get the largest precision error.\n",
    "Our_Vector_Norms, SciPy_Vector_norms = [], []\n",
    "for i in range(len(A)):\n",
    "    P, L, U, x = lu_solver(A[i],b[i])\n",
    "    Our_Vector_Norms.append(np.max(np.abs(np.subtract(np.matmul(A[i],x),b[i]))))\n",
    "    a = lu_factor(A[i])\n",
    "    x = lu_solve(a,b[i])\n",
    "    SciPy_Vector_norms.append(np.max(np.abs(np.subtract(np.matmul(A[i],x),b[i]))))"
   ]
  },
  {
   "cell_type": "code",
   "execution_count": 20,
   "metadata": {},
   "outputs": [
    {
     "data": {
      "text/html": [
       "<style type=\"text/css\">\n",
       "#T_39412_row0_col0, #T_39412_row0_col1, #T_39412_row0_col2, #T_39412_row1_col0, #T_39412_row1_col1, #T_39412_row1_col2, #T_39412_row2_col0, #T_39412_row2_col1, #T_39412_row2_col2, #T_39412_row3_col0, #T_39412_row3_col1, #T_39412_row3_col2, #T_39412_row4_col0, #T_39412_row4_col1, #T_39412_row4_col2, #T_39412_row5_col0, #T_39412_row5_col1, #T_39412_row5_col2, #T_39412_row6_col0, #T_39412_row6_col1, #T_39412_row6_col2 {\n",
       "  text-align: center;\n",
       "}\n",
       "</style>\n",
       "<table id=\"T_39412\">\n",
       "  <thead>\n",
       "    <tr>\n",
       "      <th class=\"blank level0\" >&nbsp;</th>\n",
       "      <th id=\"T_39412_level0_col0\" class=\"col_heading level0 col0\" >Matrix Order</th>\n",
       "      <th id=\"T_39412_level0_col1\" class=\"col_heading level0 col1\" >Vector Norm in my method</th>\n",
       "      <th id=\"T_39412_level0_col2\" class=\"col_heading level0 col2\" >Vector Norm using SciPy</th>\n",
       "    </tr>\n",
       "  </thead>\n",
       "  <tbody>\n",
       "    <tr>\n",
       "      <th id=\"T_39412_level0_row0\" class=\"row_heading level0 row0\" >1</th>\n",
       "      <td id=\"T_39412_row0_col0\" class=\"data row0 col0\" >10</td>\n",
       "      <td id=\"T_39412_row0_col1\" class=\"data row0 col1\" >0.000000</td>\n",
       "      <td id=\"T_39412_row0_col2\" class=\"data row0 col2\" >0.000000</td>\n",
       "    </tr>\n",
       "    <tr>\n",
       "      <th id=\"T_39412_level0_row1\" class=\"row_heading level0 row1\" >2</th>\n",
       "      <td id=\"T_39412_row1_col0\" class=\"data row1 col0\" >50</td>\n",
       "      <td id=\"T_39412_row1_col1\" class=\"data row1 col1\" >0.000000</td>\n",
       "      <td id=\"T_39412_row1_col2\" class=\"data row1 col2\" >0.000000</td>\n",
       "    </tr>\n",
       "    <tr>\n",
       "      <th id=\"T_39412_level0_row2\" class=\"row_heading level0 row2\" >3</th>\n",
       "      <td id=\"T_39412_row2_col0\" class=\"data row2 col0\" >100</td>\n",
       "      <td id=\"T_39412_row2_col1\" class=\"data row2 col1\" >0.000000</td>\n",
       "      <td id=\"T_39412_row2_col2\" class=\"data row2 col2\" >0.000000</td>\n",
       "    </tr>\n",
       "    <tr>\n",
       "      <th id=\"T_39412_level0_row3\" class=\"row_heading level0 row3\" >4</th>\n",
       "      <td id=\"T_39412_row3_col0\" class=\"data row3 col0\" >400</td>\n",
       "      <td id=\"T_39412_row3_col1\" class=\"data row3 col1\" >0.000000</td>\n",
       "      <td id=\"T_39412_row3_col2\" class=\"data row3 col2\" >0.000000</td>\n",
       "    </tr>\n",
       "    <tr>\n",
       "      <th id=\"T_39412_level0_row4\" class=\"row_heading level0 row4\" >5</th>\n",
       "      <td id=\"T_39412_row4_col0\" class=\"data row4 col0\" >1000</td>\n",
       "      <td id=\"T_39412_row4_col1\" class=\"data row4 col1\" >0.000000</td>\n",
       "      <td id=\"T_39412_row4_col2\" class=\"data row4 col2\" >0.000000</td>\n",
       "    </tr>\n",
       "    <tr>\n",
       "      <th id=\"T_39412_level0_row5\" class=\"row_heading level0 row5\" >6</th>\n",
       "      <td id=\"T_39412_row5_col0\" class=\"data row5 col0\" >1500</td>\n",
       "      <td id=\"T_39412_row5_col1\" class=\"data row5 col1\" >0.000000</td>\n",
       "      <td id=\"T_39412_row5_col2\" class=\"data row5 col2\" >0.000000</td>\n",
       "    </tr>\n",
       "    <tr>\n",
       "      <th id=\"T_39412_level0_row6\" class=\"row_heading level0 row6\" >7</th>\n",
       "      <td id=\"T_39412_row6_col0\" class=\"data row6 col0\" >2000</td>\n",
       "      <td id=\"T_39412_row6_col1\" class=\"data row6 col1\" >0.000000</td>\n",
       "      <td id=\"T_39412_row6_col2\" class=\"data row6 col2\" >0.000000</td>\n",
       "    </tr>\n",
       "  </tbody>\n",
       "</table>\n"
      ],
      "text/plain": [
       "<pandas.io.formats.style.Styler at 0x1f285cdad90>"
      ]
     },
     "execution_count": 20,
     "metadata": {},
     "output_type": "execute_result"
    }
   ],
   "source": [
    "table = pd.DataFrame(list(zip(n,Our_Vector_Norms,SciPy_Vector_norms)),columns = [\"Matrix Order\",\"Vector Norm in my method\",\"Vector Norm using SciPy\"],\n",
    "                     index=range(1, len(n) + 1))\n",
    "table.style.set_properties(**{'text-align':'center'})"
   ]
  }
 ],
 "metadata": {
  "kernelspec": {
   "display_name": "Python 3",
   "language": "python",
   "name": "python3"
  },
  "language_info": {
   "codemirror_mode": {
    "name": "ipython",
    "version": 3
   },
   "file_extension": ".py",
   "mimetype": "text/x-python",
   "name": "python",
   "nbconvert_exporter": "python",
   "pygments_lexer": "ipython3",
   "version": "3.11.4"
  }
 },
 "nbformat": 4,
 "nbformat_minor": 2
}
