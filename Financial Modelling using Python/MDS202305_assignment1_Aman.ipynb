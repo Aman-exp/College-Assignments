{
  "cells": [
    {
      "cell_type": "markdown",
      "metadata": {
        "id": "AmsUP5GmcxCQ"
      },
      "source": [
        "<div align=\"center\" style=\"border: 2px solid #4CAF50; padding: 20px; border-radius: 10px; background-color: #f9f9f9; width: 80%; margin: auto;\">\n",
        "\n",
        "<h1>\n",
        "<h1> Financial Modelling using Python</h1>  \n",
        "<h3> January 2025 Semester</h3>  \n",
        "<h2> Assignment</h2>\n",
        "\n",
        "</div>"
      ]
    },
    {
      "cell_type": "markdown",
      "metadata": {
        "id": "27ncsbVAtqGk"
      },
      "source": [
        "## Instructions\n",
        "\n",
        "- **Save your file name** as:  \n",
        "  `rollnumber_Assignmentno_name_lastname.extension`  \n",
        "  *Example:* `MDS202101_assignment1_mousum_dutta.pdf`\n",
        "\n",
        "- **If you write a program**, explain your Python code using **non-executable comments** as much as possible.\n",
        "\n",
        "- **Deadline:** *27 April 2025 (by 11:59 PM)*\n",
        "\n",
        "- **Requests for extension will not be entertained.**\n"
      ]
    },
    {
      "cell_type": "code",
      "execution_count": 1,
      "metadata": {
        "colab": {
          "base_uri": "https://localhost:8080/"
        },
        "id": "ptLufr7D5nZu",
        "outputId": "d69499ff-abc1-4f95-8877-41885ca42f27"
      },
      "outputs": [
        {
          "name": "stdout",
          "output_type": "stream",
          "text": [
            "\u001b[?25l   \u001b[90m━━━━━━━━━━━━━━━━━━━━━━━━━━━━━━━━━━━━━━━━\u001b[0m \u001b[32m0.0/2.9 MB\u001b[0m \u001b[31m?\u001b[0m eta \u001b[36m-:--:--\u001b[0m\r\u001b[2K   \u001b[91m━\u001b[0m\u001b[91m╸\u001b[0m\u001b[90m━━━━━━━━━━━━━━━━━━━━━━━━━━━━━━━━━━━━━━\u001b[0m \u001b[32m0.1/2.9 MB\u001b[0m \u001b[31m4.8 MB/s\u001b[0m eta \u001b[36m0:00:01\u001b[0m\r\u001b[2K   \u001b[91m━━━━━━━━━━━━━\u001b[0m\u001b[90m╺\u001b[0m\u001b[90m━━━━━━━━━━━━━━━━━━━━━━━━━━\u001b[0m \u001b[32m1.0/2.9 MB\u001b[0m \u001b[31m14.5 MB/s\u001b[0m eta \u001b[36m0:00:01\u001b[0m\r\u001b[2K   \u001b[91m━━━━━━━━━━━━━━━━━━━━━━━━━━━━━━━━━━━━━━━\u001b[0m\u001b[91m╸\u001b[0m \u001b[32m2.9/2.9 MB\u001b[0m \u001b[31m27.5 MB/s\u001b[0m eta \u001b[36m0:00:01\u001b[0m\r\u001b[2K   \u001b[91m━━━━━━━━━━━━━━━━━━━━━━━━━━━━━━━━━━━━━━━\u001b[0m\u001b[91m╸\u001b[0m \u001b[32m2.9/2.9 MB\u001b[0m \u001b[31m27.5 MB/s\u001b[0m eta \u001b[36m0:00:01\u001b[0m\r\u001b[2K   \u001b[91m━━━━━━━━━━━━━━━━━━━━━━━━━━━━━━━━━━━━━━━\u001b[0m\u001b[91m╸\u001b[0m \u001b[32m2.9/2.9 MB\u001b[0m \u001b[31m27.5 MB/s\u001b[0m eta \u001b[36m0:00:01\u001b[0m\r\u001b[2K   \u001b[90m━━━━━━━━━━━━━━━━━━━━━━━━━━━━━━━━━━━━━━━━\u001b[0m \u001b[32m2.9/2.9 MB\u001b[0m \u001b[31m15.1 MB/s\u001b[0m eta \u001b[36m0:00:00\u001b[0m\n",
            "\u001b[?25h"
          ]
        }
      ],
      "source": [
        "# Install necessary libraries\n",
        "!pip install copulae --quiet\n",
        "!pip install yfinance --quiet  # To download financial data from Yahoo Finance\n",
        "\n",
        "# Importing required libraries for the analysis\n",
        "import yfinance as yf  # Library to fetch stock data from Yahoo Finance\n",
        "import numpy as np  # Numpy for numerical operations\n",
        "import pandas as pd  # Pandas for data manipulation and analysis\n",
        "import matplotlib.pyplot as plt  # For plotting graphs\n",
        "from datetime import datetime, timedelta  # For working with dates\n",
        "import scipy.stats as stats  # For statistical functions\n",
        "from scipy.stats import norm  # Normal distribution for statistics\n",
        "from scipy.stats import gennorm  # Generalized normal distribution for fitting\n",
        "from copulae import TCopula  # For copula modeling (specifically t-Copula)\n",
        "\n",
        "# Additional import for linear least squares\n",
        "from numpy.linalg import lstsq  # For solving linear systems via least squares"
      ]
    },
    {
      "cell_type": "markdown",
      "metadata": {
        "id": "7gyTVP7HvBEp"
      },
      "source": [
        "# Question 1\n",
        "\n",
        "Suppose a student has taken an education load of size Rs 0.8 million. The  interest rate is 12%. Write a python program that generates the schedule of repayment of the loan in 5 years (or ‘n’ number of years). Assume the first payment date is 01 January 2026. Also, show the breakup of each payment as principal and interest.\n"
      ]
    },
    {
      "cell_type": "markdown",
      "metadata": {
        "id": "Mj_hzRLuviGo"
      },
      "source": [
        "# Answer 1"
      ]
    },
    {
      "cell_type": "code",
      "execution_count": null,
      "metadata": {
        "id": "3jf9Iarvogmn"
      },
      "outputs": [],
      "source": [
        "# Define a function to generate repayment schedule\n",
        "def generate_repayment_schedule(\n",
        "    loan_amount=800000,     # Total loan amount in Rs\n",
        "    annual_interest_rate=12, # Annual interest rate in percentage\n",
        "    years=5,                 # Loan repayment period in years\n",
        "    start_date='2026-01-01'  # First payment date\n",
        "):\n",
        "    # Convert annual interest rate to monthly interest rate\n",
        "    monthly_interest_rate = annual_interest_rate / 100 / 12\n",
        "\n",
        "    # Calculate total number of payments (months)\n",
        "    number_of_payments = years * 12\n",
        "\n",
        "    # Calculate fixed monthly payment using amortization formula\n",
        "    monthly_payment = loan_amount * (monthly_interest_rate * (1 + monthly_interest_rate) ** number_of_payments) / \\\n",
        "                      ((1 + monthly_interest_rate) ** number_of_payments - 1)\n",
        "\n",
        "    # Initialize an empty list to store payment details\n",
        "    schedule = []\n",
        "\n",
        "    # Parse the start date string into a datetime object\n",
        "    payment_date = datetime.strptime(start_date, '%Y-%m-%d')\n",
        "\n",
        "    # Set the initial balance to the full loan amount\n",
        "    balance = loan_amount\n",
        "\n",
        "    # Loop through each payment\n",
        "    for i in range(1, number_of_payments + 1):\n",
        "        # Calculate interest for the current month\n",
        "        interest_payment = balance * monthly_interest_rate\n",
        "\n",
        "        # Calculate principal payment by subtracting interest from total monthly payment\n",
        "        principal_payment = monthly_payment - interest_payment\n",
        "\n",
        "        # Reduce the balance by the principal payment\n",
        "        balance -= principal_payment\n",
        "\n",
        "        # Adjust the final payment if balance goes negative (due to rounding)\n",
        "        if balance < 0:\n",
        "            principal_payment += balance     # Reduce principal payment to exact amount\n",
        "            monthly_payment += balance        # Reduce monthly payment accordingly\n",
        "            balance = 0                       # Set balance to zero\n",
        "\n",
        "        # Add this month's details to the schedule list\n",
        "        schedule.append({\n",
        "            'Payment No': i,\n",
        "            'Payment Date': payment_date.strftime('%Y-%m-%d'),      # Format date as string\n",
        "            'Monthly Payment (Rs)': round(monthly_payment, 2),       # Round to 2 decimal places\n",
        "            'Principal Payment (Rs)': round(principal_payment, 2),\n",
        "            'Interest Payment (Rs)': round(interest_payment, 2),\n",
        "            'Remaining Balance (Rs)': round(balance, 2)\n",
        "        })\n",
        "\n",
        "        # Move payment date to the next month\n",
        "        # If current month is December, go to January next year\n",
        "        next_month = payment_date.month % 12 + 1\n",
        "        next_year = payment_date.year + (payment_date.month // 12)\n",
        "        payment_date = payment_date.replace(year=next_year, month=next_month)\n",
        "\n",
        "    # Create a pandas DataFrame to organize schedule nicely\n",
        "    df_schedule = pd.DataFrame(schedule)\n",
        "\n",
        "    # Return the final DataFrame\n",
        "    return df_schedule"
      ]
    },
    {
      "cell_type": "code",
      "execution_count": null,
      "metadata": {
        "colab": {
          "base_uri": "https://localhost:8080/"
        },
        "id": "dsRxe_Sgothi",
        "outputId": "421d6546-2485-49e9-a2e5-7571d9719abb"
      },
      "outputs": [
        {
          "name": "stdout",
          "output_type": "stream",
          "text": [
            "    Payment No Payment Date  Monthly Payment (Rs)  Principal Payment (Rs)  \\\n",
            "0            1   2026-01-01              17795.56                 9795.56   \n",
            "1            2   2026-02-01              17795.56                 9893.51   \n",
            "2            3   2026-03-01              17795.56                 9992.45   \n",
            "3            4   2026-04-01              17795.56                10092.37   \n",
            "4            5   2026-05-01              17795.56                10193.30   \n",
            "5            6   2026-06-01              17795.56                10295.23   \n",
            "6            7   2026-07-01              17795.56                10398.18   \n",
            "7            8   2026-08-01              17795.56                10502.16   \n",
            "8            9   2026-09-01              17795.56                10607.19   \n",
            "9           10   2026-10-01              17795.56                10713.26   \n",
            "10          11   2026-11-01              17795.56                10820.39   \n",
            "11          12   2026-12-01              17795.56                10928.59   \n",
            "12          13   2027-01-01              17795.56                11037.88   \n",
            "13          14   2027-02-01              17795.56                11148.26   \n",
            "14          15   2027-03-01              17795.56                11259.74   \n",
            "15          16   2027-04-01              17795.56                11372.34   \n",
            "16          17   2027-05-01              17795.56                11486.06   \n",
            "17          18   2027-06-01              17795.56                11600.92   \n",
            "18          19   2027-07-01              17795.56                11716.93   \n",
            "19          20   2027-08-01              17795.56                11834.10   \n",
            "20          21   2027-09-01              17795.56                11952.44   \n",
            "21          22   2027-10-01              17795.56                12071.97   \n",
            "22          23   2027-11-01              17795.56                12192.69   \n",
            "23          24   2027-12-01              17795.56                12314.61   \n",
            "24          25   2028-01-01              17795.56                12437.76   \n",
            "25          26   2028-02-01              17795.56                12562.14   \n",
            "26          27   2028-03-01              17795.56                12687.76   \n",
            "27          28   2028-04-01              17795.56                12814.64   \n",
            "28          29   2028-05-01              17795.56                12942.78   \n",
            "29          30   2028-06-01              17795.56                13072.21   \n",
            "30          31   2028-07-01              17795.56                13202.93   \n",
            "31          32   2028-08-01              17795.56                13334.96   \n",
            "32          33   2028-09-01              17795.56                13468.31   \n",
            "33          34   2028-10-01              17795.56                13602.99   \n",
            "34          35   2028-11-01              17795.56                13739.02   \n",
            "35          36   2028-12-01              17795.56                13876.41   \n",
            "36          37   2029-01-01              17795.56                14015.18   \n",
            "37          38   2029-02-01              17795.56                14155.33   \n",
            "38          39   2029-03-01              17795.56                14296.88   \n",
            "39          40   2029-04-01              17795.56                14439.85   \n",
            "40          41   2029-05-01              17795.56                14584.25   \n",
            "41          42   2029-06-01              17795.56                14730.09   \n",
            "42          43   2029-07-01              17795.56                14877.39   \n",
            "43          44   2029-08-01              17795.56                15026.17   \n",
            "44          45   2029-09-01              17795.56                15176.43   \n",
            "45          46   2029-10-01              17795.56                15328.19   \n",
            "46          47   2029-11-01              17795.56                15481.48   \n",
            "47          48   2029-12-01              17795.56                15636.29   \n",
            "48          49   2030-01-01              17795.56                15792.65   \n",
            "49          50   2030-02-01              17795.56                15950.58   \n",
            "50          51   2030-03-01              17795.56                16110.09   \n",
            "51          52   2030-04-01              17795.56                16271.19   \n",
            "52          53   2030-05-01              17795.56                16433.90   \n",
            "53          54   2030-06-01              17795.56                16598.24   \n",
            "54          55   2030-07-01              17795.56                16764.22   \n",
            "55          56   2030-08-01              17795.56                16931.86   \n",
            "56          57   2030-09-01              17795.56                17101.18   \n",
            "57          58   2030-10-01              17795.56                17272.19   \n",
            "58          59   2030-11-01              17795.56                17444.92   \n",
            "59          60   2030-12-01              17795.56                17619.36   \n",
            "\n",
            "    Interest Payment (Rs)  Remaining Balance (Rs)  \n",
            "0                 8000.00               790204.44  \n",
            "1                 7902.04               780310.93  \n",
            "2                 7803.11               770318.48  \n",
            "3                 7703.18               760226.11  \n",
            "4                 7602.26               750032.81  \n",
            "5                 7500.33               739737.58  \n",
            "6                 7397.38               729339.40  \n",
            "7                 7293.39               718837.23  \n",
            "8                 7188.37               708230.05  \n",
            "9                 7082.30               697516.79  \n",
            "10                6975.17               686696.40  \n",
            "11                6866.96               675767.80  \n",
            "12                6757.68               664729.92  \n",
            "13                6647.30               653581.67  \n",
            "14                6535.82               642321.92  \n",
            "15                6423.22               630949.58  \n",
            "16                6309.50               619463.52  \n",
            "17                6194.64               607862.60  \n",
            "18                6078.63               596145.67  \n",
            "19                5961.46               584311.57  \n",
            "20                5843.12               572359.12  \n",
            "21                5723.59               560287.16  \n",
            "22                5602.87               548094.47  \n",
            "23                5480.94               535779.86  \n",
            "24                5357.80               523342.10  \n",
            "25                5233.42               510779.96  \n",
            "26                5107.80               498092.20  \n",
            "27                4980.92               485277.57  \n",
            "28                4852.78               472334.78  \n",
            "29                4723.35               459262.57  \n",
            "30                4592.63               446059.64  \n",
            "31                4460.60               432724.68  \n",
            "32                4327.25               419256.37  \n",
            "33                4192.56               405653.37  \n",
            "34                4056.53               391914.35  \n",
            "35                3919.14               378037.93  \n",
            "36                3780.38               364022.75  \n",
            "37                3640.23               349867.42  \n",
            "38                3498.67               335570.54  \n",
            "39                3355.71               321130.69  \n",
            "40                3211.31               306546.44  \n",
            "41                3065.46               291816.34  \n",
            "42                2918.16               276938.95  \n",
            "43                2769.39               261912.78  \n",
            "44                2619.13               246736.35  \n",
            "45                2467.36               231408.15  \n",
            "46                2314.08               215926.68  \n",
            "47                2159.27               200290.39  \n",
            "48                2002.90               184497.73  \n",
            "49                1844.98               168547.15  \n",
            "50                1685.47               152437.06  \n",
            "51                1524.37               136165.88  \n",
            "52                1361.66               119731.98  \n",
            "53                1197.32               103133.74  \n",
            "54                1031.34                86369.52  \n",
            "55                 863.70                69437.65  \n",
            "56                 694.38                52336.47  \n",
            "57                 523.36                35064.28  \n",
            "58                 350.64                17619.36  \n",
            "59                 176.19                    0.00  \n"
          ]
        }
      ],
      "source": [
        "# Generate the repayment schedule\n",
        "schedule_df = generate_repayment_schedule()\n",
        "\n",
        "# Print the repayment schedule\n",
        "print(schedule_df)"
      ]
    },
    {
      "cell_type": "markdown",
      "metadata": {
        "id": "UxF0msk-veth"
      },
      "source": [
        "This Python program calculates a loan repayment schedule based on standard amortization. It takes the loan amount, interest rate, number of years, and start date as input. It calculates monthly payments, splits them into principal and interest parts, and updates the remaining balance after each payment."
      ]
    },
    {
      "cell_type": "markdown",
      "metadata": {
        "id": "n0mhRce-zNyG"
      },
      "source": [
        "# Question 2\n",
        "Consider a 20-year 8% bond with the coupon paid semi-annually. What will be the present value of the bond? Use the following spot rates table to compute the present value. Also, compute **duration** and **convexity**.\n",
        "\n",
        "| Period | Spot Rate |\n",
        "|:------:|:---------:|\n",
        "| 6M     | 2.90%     |\n",
        "| 1 Yr   | 4.40%     |\n",
        "| 2 Yr   | 4.80%     |\n",
        "| 3 Yr   | 5.00%     |\n",
        "| 5 Yr   | 5.30%     |\n",
        "| 10 Yr  | 5.40%     |\n",
        "| 20 Yr  | 5.50%     |"
      ]
    },
    {
      "cell_type": "markdown",
      "metadata": {
        "id": "ddWZKEEuz7dW"
      },
      "source": [
        "# Answer 2"
      ]
    },
    {
      "cell_type": "code",
      "execution_count": null,
      "metadata": {
        "colab": {
          "base_uri": "https://localhost:8080/"
        },
        "id": "YRZvlHJXouxh",
        "outputId": "55daa1ed-6a0f-49e7-b3ba-eb3608f3f37a"
      },
      "outputs": [
        {
          "name": "stdout",
          "output_type": "stream",
          "text": [
            "Present Value (Bond Price): Rs 130.67\n",
            "Macaulay Duration: 11.4382 years\n",
            "Modified Duration: 11.1321 years\n",
            "Convexity: 185.3986\n",
            "\n",
            "Detailed Cash Flow Table:\n",
            "    Period  Cashflow  Spot Rate (per 6M)  Discounted CF (PV)\n",
            "0        1       4.0                1.45            3.942829\n",
            "1        2       4.0                2.20            3.829642\n",
            "2        3       4.0                2.40            3.725290\n",
            "3        4       4.0                2.40            3.637979\n",
            "4        5       4.0                2.50            3.535417\n",
            "5        6       4.0                2.50            3.449187\n",
            "6        7       4.0                2.65            3.330790\n",
            "7        8       4.0                2.65            3.244803\n",
            "8        9       4.0                2.65            3.161036\n",
            "9       10       4.0                2.65            3.079431\n",
            "10      11       4.0                2.70            2.983906\n",
            "11      12       4.0                2.70            2.905458\n",
            "12      13       4.0                2.70            2.829073\n",
            "13      14       4.0                2.70            2.754697\n",
            "14      15       4.0                2.70            2.682275\n",
            "15      16       4.0                2.70            2.611758\n",
            "16      17       4.0                2.70            2.543094\n",
            "17      18       4.0                2.70            2.476236\n",
            "18      19       4.0                2.70            2.411135\n",
            "19      20       4.0                2.70            2.347746\n",
            "20      21       4.0                2.75            2.262776\n",
            "21      22       4.0                2.75            2.202215\n",
            "22      23       4.0                2.75            2.143275\n",
            "23      24       4.0                2.75            2.085912\n",
            "24      25       4.0                2.75            2.030085\n",
            "25      26       4.0                2.75            1.975752\n",
            "26      27       4.0                2.75            1.922873\n",
            "27      28       4.0                2.75            1.871409\n",
            "28      29       4.0                2.75            1.821323\n",
            "29      30       4.0                2.75            1.772577\n",
            "30      31       4.0                2.75            1.725136\n",
            "31      32       4.0                2.75            1.678964\n",
            "32      33       4.0                2.75            1.634028\n",
            "33      34       4.0                2.75            1.590295\n",
            "34      35       4.0                2.75            1.547733\n",
            "35      36       4.0                2.75            1.506309\n",
            "36      37       4.0                2.75            1.465994\n",
            "37      38       4.0                2.75            1.426758\n",
            "38      39       4.0                2.75            1.388573\n",
            "39      40     104.0                2.75           35.136631\n"
          ]
        }
      ],
      "source": [
        "# Define bond parameters\n",
        "face_value = 100     # Face value of the bond (usually Rs 100 or $100)\n",
        "coupon_rate = 0.08   # 8% annual coupon\n",
        "years = 20           # 20 years maturity\n",
        "payments_per_year = 2  # Semi-annual payments\n",
        "\n",
        "# Calculate coupon per period\n",
        "coupon_payment = (coupon_rate * face_value) / payments_per_year\n",
        "\n",
        "# Total number of periods (20 years * 2)\n",
        "total_periods = years * payments_per_year\n",
        "\n",
        "# Define the spot rates (in decimal form) for available periods\n",
        "# Note: These are annual spot rates. We'll adjust for semi-annual later\n",
        "spot_rates = {\n",
        "    0.5: 0.029,   # 6 months\n",
        "    1: 0.044,     # 1 year\n",
        "    2: 0.048,     # 2 years\n",
        "    3: 0.05,      # 3 years\n",
        "    5: 0.053,     # 5 years\n",
        "    10: 0.054,    # 10 years\n",
        "    20: 0.055     # 20 years\n",
        "}\n",
        "\n",
        "# Create a list of spot rates for each period (semi-annual)\n",
        "# Interpolating missing periods by assuming constant rates between given points\n",
        "spot_rate_list = []\n",
        "\n",
        "# We'll interpolate manually for simplicity\n",
        "for period in range(1, total_periods + 1):\n",
        "    time_in_years = period / 2\n",
        "\n",
        "    if time_in_years <= 0.5:\n",
        "        spot = spot_rates[0.5]\n",
        "    elif time_in_years <= 1:\n",
        "        spot = spot_rates[1]\n",
        "    elif time_in_years <= 2:\n",
        "        spot = spot_rates[2]\n",
        "    elif time_in_years <= 3:\n",
        "        spot = spot_rates[3]\n",
        "    elif time_in_years <= 5:\n",
        "        spot = spot_rates[5]\n",
        "    elif time_in_years <= 10:\n",
        "        spot = spot_rates[10]\n",
        "    else:\n",
        "        spot = spot_rates[20]\n",
        "\n",
        "    # Semi-annual rate adjustment: divide by 2\n",
        "    spot_rate_list.append(spot / 2)\n",
        "\n",
        "# Now calculate the Present Value of each cash flow\n",
        "cashflows = []\n",
        "present_values = []\n",
        "\n",
        "for period in range(1, total_periods + 1):\n",
        "    # Regular coupon payments\n",
        "    cashflow = coupon_payment\n",
        "\n",
        "    # Add face value on final period\n",
        "    if period == total_periods:\n",
        "        cashflow += face_value\n",
        "\n",
        "    # Discount the cashflow\n",
        "    discount_factor = (1 + spot_rate_list[period - 1]) ** period\n",
        "    pv = cashflow / discount_factor\n",
        "\n",
        "    # Store results\n",
        "    cashflows.append(cashflow)\n",
        "    present_values.append(pv)\n",
        "\n",
        "# Total present value of the bond\n",
        "bond_price = sum(present_values)\n",
        "\n",
        "print(f\"Present Value (Bond Price): Rs {bond_price:.2f}\")\n",
        "\n",
        "# ---- Duration Calculation ----\n",
        "\n",
        "# Macaulay Duration = sum(t * PV(cashflow at t)) / Bond price\n",
        "weighted_times = []\n",
        "\n",
        "for period in range(1, total_periods + 1):\n",
        "    weighted_time = (period / payments_per_year) * (present_values[period - 1] / bond_price)\n",
        "    weighted_times.append(weighted_time)\n",
        "\n",
        "macaulay_duration = sum(weighted_times)\n",
        "modified_duration = macaulay_duration / (1 + (spot_rate_list[-1]))\n",
        "\n",
        "print(f\"Macaulay Duration: {macaulay_duration:.4f} years\")\n",
        "print(f\"Modified Duration: {modified_duration:.4f} years\")\n",
        "\n",
        "# ---- Convexity Calculation ----\n",
        "\n",
        "convexity_parts = []\n",
        "\n",
        "for period in range(1, total_periods + 1):\n",
        "    convexity_part = (period * (period + 1)) * (present_values[period - 1] / bond_price) / (payments_per_year ** 2)\n",
        "    convexity_parts.append(convexity_part)\n",
        "\n",
        "convexity = sum(convexity_parts)\n",
        "\n",
        "print(f\"Convexity: {convexity:.4f}\")\n",
        "\n",
        "df = pd.DataFrame({\n",
        "    'Period': list(range(1, total_periods + 1)),\n",
        "    'Cashflow': cashflows,\n",
        "    'Spot Rate (per 6M)': [round(r*100, 2) for r in spot_rate_list],\n",
        "    'Discounted CF (PV)': present_values\n",
        "})\n",
        "\n",
        "print(\"\\nDetailed Cash Flow Table:\")\n",
        "print(df)"
      ]
    },
    {
      "cell_type": "markdown",
      "metadata": {
        "id": "F5ds8o9k02-y"
      },
      "source": [
        "# Question 3\n",
        "\n",
        "Complete the following tasks under this assignment.\n",
        "\n",
        "### a. Download one-year INFY, and RIL stock prices from National Stock Exchange\n",
        "\n"
      ]
    },
    {
      "cell_type": "code",
      "execution_count": 2,
      "metadata": {
        "colab": {
          "base_uri": "https://localhost:8080/",
          "height": 303
        },
        "id": "JifIYplN1u90",
        "outputId": "4c3ee3bd-cf11-4453-d7a5-9af7368cd3a3"
      },
      "outputs": [
        {
          "name": "stdout",
          "output_type": "stream",
          "text": [
            "YF.download() has changed argument auto_adjust default to True\n"
          ]
        },
        {
          "name": "stderr",
          "output_type": "stream",
          "text": [
            "[*********************100%***********************]  2 of 2 completed\n"
          ]
        },
        {
          "data": {
            "application/vnd.google.colaboratory.intrinsic+json": {
              "summary": "{\n  \"name\": \"data\",\n  \"rows\": 246,\n  \"fields\": [\n    {\n      \"column\": [\n        \"Date\",\n        \"\"\n      ],\n      \"properties\": {\n        \"dtype\": \"date\",\n        \"min\": \"2024-04-29 00:00:00\",\n        \"max\": \"2025-04-25 00:00:00\",\n        \"num_unique_values\": 246,\n        \"samples\": [\n          \"2024-06-18 00:00:00\",\n          \"2024-05-08 00:00:00\",\n          \"2025-01-20 00:00:00\"\n        ],\n        \"semantic_type\": \"\",\n        \"description\": \"\"\n      }\n    },\n    {\n      \"column\": [\n        \"Close\",\n        \"INFY.NS\"\n      ],\n      \"properties\": {\n        \"dtype\": \"number\",\n        \"std\": 188.403974464573,\n        \"min\": 1377.9603271484375,\n        \"max\": 1999.699951171875,\n        \"num_unique_values\": 244,\n        \"samples\": [\n          1377.9603271484375,\n          1403.322509765625,\n          1948.550048828125\n        ],\n        \"semantic_type\": \"\",\n        \"description\": \"\"\n      }\n    },\n    {\n      \"column\": [\n        \"Close\",\n        \"RELIANCE.NS\"\n      ],\n      \"properties\": {\n        \"dtype\": \"number\",\n        \"std\": 116.46503737808038,\n        \"min\": 1161.9000244140625,\n        \"max\": 1595.4849853515625,\n        \"num_unique_values\": 240,\n        \"samples\": [\n          1392.5487060546875,\n          1413.7518310546875,\n          1479.800048828125\n        ],\n        \"semantic_type\": \"\",\n        \"description\": \"\"\n      }\n    },\n    {\n      \"column\": [\n        \"High\",\n        \"INFY.NS\"\n      ],\n      \"properties\": {\n        \"dtype\": \"number\",\n        \"std\": 190.47226768971302,\n        \"min\": 1399.0699449345661,\n        \"max\": 2006.449951171875,\n        \"num_unique_values\": 244,\n        \"samples\": [\n          1399.0699449345661,\n          1415.5633113681472,\n          1965.5999755859375\n        ],\n        \"semantic_type\": \"\",\n        \"description\": \"\"\n      }\n    },\n    {\n      \"column\": [\n        \"High\",\n        \"RELIANCE.NS\"\n      ],\n      \"properties\": {\n        \"dtype\": \"number\",\n        \"std\": 117.30613013387368,\n        \"min\": 1171.25,\n        \"max\": 1603.3582879590508,\n        \"num_unique_values\": 241,\n        \"samples\": [\n          1492.9828563818792,\n          1428.1030260106236,\n          1307.699951171875\n        ],\n        \"semantic_type\": \"\",\n        \"description\": \"\"\n      }\n    },\n    {\n      \"column\": [\n        \"Low\",\n        \"INFY.NS\"\n      ],\n      \"properties\": {\n        \"dtype\": \"number\",\n        \"std\": 187.4963202867766,\n        \"min\": 1307.0,\n        \"max\": 1977.5999755859375,\n        \"num_unique_values\": 244,\n        \"samples\": [\n          1343.0576858974464,\n          1401.65099644159,\n          1932.0\n        ],\n        \"semantic_type\": \"\",\n        \"description\": \"\"\n      }\n    },\n    {\n      \"column\": [\n        \"Low\",\n        \"RELIANCE.NS\"\n      ],\n      \"properties\": {\n        \"dtype\": \"number\",\n        \"std\": 116.14250763855179,\n        \"min\": 1114.8499755859375,\n        \"max\": 1580.1370716514475,\n        \"num_unique_values\": 240,\n        \"samples\": [\n          1354.702181790911,\n          1392.7729836046894,\n          1445.875\n        ],\n        \"semantic_type\": \"\",\n        \"description\": \"\"\n      }\n    },\n    {\n      \"column\": [\n        \"Open\",\n        \"INFY.NS\"\n      ],\n      \"properties\": {\n        \"dtype\": \"number\",\n        \"std\": 189.23166617102245,\n        \"min\": 1352.0,\n        \"max\": 1995.449951171875,\n        \"num_unique_values\": 245,\n        \"samples\": [\n          1393.1374928712394,\n          1411.1389078945185,\n          1939.0\n        ],\n        \"semantic_type\": \"\",\n        \"description\": \"\"\n      }\n    },\n    {\n      \"column\": [\n        \"Open\",\n        \"RELIANCE.NS\"\n      ],\n      \"properties\": {\n        \"dtype\": \"number\",\n        \"std\": 117.10366293586026,\n        \"min\": 1132.199951171875,\n        \"max\": 1599.0229249170825,\n        \"num_unique_values\": 238,\n        \"samples\": [\n          1340.0,\n          1431.4167994426434,\n          1216.0\n        ],\n        \"semantic_type\": \"\",\n        \"description\": \"\"\n      }\n    },\n    {\n      \"column\": [\n        \"Volume\",\n        \"INFY.NS\"\n      ],\n      \"properties\": {\n        \"dtype\": \"number\",\n        \"std\": 4153096,\n        \"min\": 0,\n        \"max\": 37113815,\n        \"num_unique_values\": 246,\n        \"samples\": [\n          5420939,\n          6234983,\n          4333011\n        ],\n        \"semantic_type\": \"\",\n        \"description\": \"\"\n      }\n    },\n    {\n      \"column\": [\n        \"Volume\",\n        \"RELIANCE.NS\"\n      ],\n      \"properties\": {\n        \"dtype\": \"number\",\n        \"std\": 6697791,\n        \"min\": 0,\n        \"max\": 41620730,\n        \"num_unique_values\": 246,\n        \"samples\": [\n          7196766,\n          9439002,\n          14040244\n        ],\n        \"semantic_type\": \"\",\n        \"description\": \"\"\n      }\n    }\n  ]\n}",
              "type": "dataframe",
              "variable_name": "data"
            },
            "text/html": [
              "\n",
              "  <div id=\"df-23dfbd71-7b93-48b5-9289-3a02f68c7ef1\" class=\"colab-df-container\">\n",
              "    <div>\n",
              "<style scoped>\n",
              "    .dataframe tbody tr th:only-of-type {\n",
              "        vertical-align: middle;\n",
              "    }\n",
              "\n",
              "    .dataframe tbody tr th {\n",
              "        vertical-align: top;\n",
              "    }\n",
              "\n",
              "    .dataframe thead tr th {\n",
              "        text-align: left;\n",
              "    }\n",
              "\n",
              "    .dataframe thead tr:last-of-type th {\n",
              "        text-align: right;\n",
              "    }\n",
              "</style>\n",
              "<table border=\"1\" class=\"dataframe\">\n",
              "  <thead>\n",
              "    <tr>\n",
              "      <th>Price</th>\n",
              "      <th colspan=\"2\" halign=\"left\">Close</th>\n",
              "      <th colspan=\"2\" halign=\"left\">High</th>\n",
              "      <th colspan=\"2\" halign=\"left\">Low</th>\n",
              "      <th colspan=\"2\" halign=\"left\">Open</th>\n",
              "      <th colspan=\"2\" halign=\"left\">Volume</th>\n",
              "    </tr>\n",
              "    <tr>\n",
              "      <th>Ticker</th>\n",
              "      <th>INFY.NS</th>\n",
              "      <th>RELIANCE.NS</th>\n",
              "      <th>INFY.NS</th>\n",
              "      <th>RELIANCE.NS</th>\n",
              "      <th>INFY.NS</th>\n",
              "      <th>RELIANCE.NS</th>\n",
              "      <th>INFY.NS</th>\n",
              "      <th>RELIANCE.NS</th>\n",
              "      <th>INFY.NS</th>\n",
              "      <th>RELIANCE.NS</th>\n",
              "    </tr>\n",
              "    <tr>\n",
              "      <th>Date</th>\n",
              "      <th></th>\n",
              "      <th></th>\n",
              "      <th></th>\n",
              "      <th></th>\n",
              "      <th></th>\n",
              "      <th></th>\n",
              "      <th></th>\n",
              "      <th></th>\n",
              "      <th></th>\n",
              "      <th></th>\n",
              "    </tr>\n",
              "  </thead>\n",
              "  <tbody>\n",
              "    <tr>\n",
              "      <th>2024-04-29</th>\n",
              "      <td>1410.647339</td>\n",
              "      <td>1460.069580</td>\n",
              "      <td>1415.612551</td>\n",
              "      <td>1462.934855</td>\n",
              "      <td>1404.256534</td>\n",
              "      <td>1445.095378</td>\n",
              "      <td>1405.927927</td>\n",
              "      <td>1445.095378</td>\n",
              "      <td>5055957</td>\n",
              "      <td>7247974</td>\n",
              "    </tr>\n",
              "    <tr>\n",
              "      <th>2024-04-30</th>\n",
              "      <td>1396.685913</td>\n",
              "      <td>1462.037842</td>\n",
              "      <td>1412.417126</td>\n",
              "      <td>1478.058419</td>\n",
              "      <td>1393.736311</td>\n",
              "      <td>1457.926795</td>\n",
              "      <td>1410.598108</td>\n",
              "      <td>1463.034459</td>\n",
              "      <td>6936588</td>\n",
              "      <td>11474262</td>\n",
              "    </tr>\n",
              "    <tr>\n",
              "      <th>2024-05-02</th>\n",
              "      <td>1390.688232</td>\n",
              "      <td>1461.589478</td>\n",
              "      <td>1400.077847</td>\n",
              "      <td>1472.327934</td>\n",
              "      <td>1388.131935</td>\n",
              "      <td>1459.172631</td>\n",
              "      <td>1389.262639</td>\n",
              "      <td>1467.020994</td>\n",
              "      <td>10076354</td>\n",
              "      <td>14512646</td>\n",
              "    </tr>\n",
              "    <tr>\n",
              "      <th>2024-05-03</th>\n",
              "      <td>1392.507324</td>\n",
              "      <td>1429.149536</td>\n",
              "      <td>1400.864531</td>\n",
              "      <td>1469.960975</td>\n",
              "      <td>1379.627298</td>\n",
              "      <td>1411.359938</td>\n",
              "      <td>1398.209817</td>\n",
              "      <td>1466.024385</td>\n",
              "      <td>8842345</td>\n",
              "      <td>17226958</td>\n",
              "    </tr>\n",
              "    <tr>\n",
              "      <th>2024-05-06</th>\n",
              "      <td>1401.945923</td>\n",
              "      <td>1414.723511</td>\n",
              "      <td>1421.413225</td>\n",
              "      <td>1435.129230</td>\n",
              "      <td>1393.293709</td>\n",
              "      <td>1413.203645</td>\n",
              "      <td>1396.145015</td>\n",
              "      <td>1430.644451</td>\n",
              "      <td>6445422</td>\n",
              "      <td>7394208</td>\n",
              "    </tr>\n",
              "  </tbody>\n",
              "</table>\n",
              "</div>\n",
              "    <div class=\"colab-df-buttons\">\n",
              "\n",
              "  <div class=\"colab-df-container\">\n",
              "    <button class=\"colab-df-convert\" onclick=\"convertToInteractive('df-23dfbd71-7b93-48b5-9289-3a02f68c7ef1')\"\n",
              "            title=\"Convert this dataframe to an interactive table.\"\n",
              "            style=\"display:none;\">\n",
              "\n",
              "  <svg xmlns=\"http://www.w3.org/2000/svg\" height=\"24px\" viewBox=\"0 -960 960 960\">\n",
              "    <path d=\"M120-120v-720h720v720H120Zm60-500h600v-160H180v160Zm220 220h160v-160H400v160Zm0 220h160v-160H400v160ZM180-400h160v-160H180v160Zm440 0h160v-160H620v160ZM180-180h160v-160H180v160Zm440 0h160v-160H620v160Z\"/>\n",
              "  </svg>\n",
              "    </button>\n",
              "\n",
              "  <style>\n",
              "    .colab-df-container {\n",
              "      display:flex;\n",
              "      gap: 12px;\n",
              "    }\n",
              "\n",
              "    .colab-df-convert {\n",
              "      background-color: #E8F0FE;\n",
              "      border: none;\n",
              "      border-radius: 50%;\n",
              "      cursor: pointer;\n",
              "      display: none;\n",
              "      fill: #1967D2;\n",
              "      height: 32px;\n",
              "      padding: 0 0 0 0;\n",
              "      width: 32px;\n",
              "    }\n",
              "\n",
              "    .colab-df-convert:hover {\n",
              "      background-color: #E2EBFA;\n",
              "      box-shadow: 0px 1px 2px rgba(60, 64, 67, 0.3), 0px 1px 3px 1px rgba(60, 64, 67, 0.15);\n",
              "      fill: #174EA6;\n",
              "    }\n",
              "\n",
              "    .colab-df-buttons div {\n",
              "      margin-bottom: 4px;\n",
              "    }\n",
              "\n",
              "    [theme=dark] .colab-df-convert {\n",
              "      background-color: #3B4455;\n",
              "      fill: #D2E3FC;\n",
              "    }\n",
              "\n",
              "    [theme=dark] .colab-df-convert:hover {\n",
              "      background-color: #434B5C;\n",
              "      box-shadow: 0px 1px 3px 1px rgba(0, 0, 0, 0.15);\n",
              "      filter: drop-shadow(0px 1px 2px rgba(0, 0, 0, 0.3));\n",
              "      fill: #FFFFFF;\n",
              "    }\n",
              "  </style>\n",
              "\n",
              "    <script>\n",
              "      const buttonEl =\n",
              "        document.querySelector('#df-23dfbd71-7b93-48b5-9289-3a02f68c7ef1 button.colab-df-convert');\n",
              "      buttonEl.style.display =\n",
              "        google.colab.kernel.accessAllowed ? 'block' : 'none';\n",
              "\n",
              "      async function convertToInteractive(key) {\n",
              "        const element = document.querySelector('#df-23dfbd71-7b93-48b5-9289-3a02f68c7ef1');\n",
              "        const dataTable =\n",
              "          await google.colab.kernel.invokeFunction('convertToInteractive',\n",
              "                                                    [key], {});\n",
              "        if (!dataTable) return;\n",
              "\n",
              "        const docLinkHtml = 'Like what you see? Visit the ' +\n",
              "          '<a target=\"_blank\" href=https://colab.research.google.com/notebooks/data_table.ipynb>data table notebook</a>'\n",
              "          + ' to learn more about interactive tables.';\n",
              "        element.innerHTML = '';\n",
              "        dataTable['output_type'] = 'display_data';\n",
              "        await google.colab.output.renderOutput(dataTable, element);\n",
              "        const docLink = document.createElement('div');\n",
              "        docLink.innerHTML = docLinkHtml;\n",
              "        element.appendChild(docLink);\n",
              "      }\n",
              "    </script>\n",
              "  </div>\n",
              "\n",
              "\n",
              "    <div id=\"df-8bd8f70b-6d54-464d-a358-8075dc799668\">\n",
              "      <button class=\"colab-df-quickchart\" onclick=\"quickchart('df-8bd8f70b-6d54-464d-a358-8075dc799668')\"\n",
              "                title=\"Suggest charts\"\n",
              "                style=\"display:none;\">\n",
              "\n",
              "<svg xmlns=\"http://www.w3.org/2000/svg\" height=\"24px\"viewBox=\"0 0 24 24\"\n",
              "     width=\"24px\">\n",
              "    <g>\n",
              "        <path d=\"M19 3H5c-1.1 0-2 .9-2 2v14c0 1.1.9 2 2 2h14c1.1 0 2-.9 2-2V5c0-1.1-.9-2-2-2zM9 17H7v-7h2v7zm4 0h-2V7h2v10zm4 0h-2v-4h2v4z\"/>\n",
              "    </g>\n",
              "</svg>\n",
              "      </button>\n",
              "\n",
              "<style>\n",
              "  .colab-df-quickchart {\n",
              "      --bg-color: #E8F0FE;\n",
              "      --fill-color: #1967D2;\n",
              "      --hover-bg-color: #E2EBFA;\n",
              "      --hover-fill-color: #174EA6;\n",
              "      --disabled-fill-color: #AAA;\n",
              "      --disabled-bg-color: #DDD;\n",
              "  }\n",
              "\n",
              "  [theme=dark] .colab-df-quickchart {\n",
              "      --bg-color: #3B4455;\n",
              "      --fill-color: #D2E3FC;\n",
              "      --hover-bg-color: #434B5C;\n",
              "      --hover-fill-color: #FFFFFF;\n",
              "      --disabled-bg-color: #3B4455;\n",
              "      --disabled-fill-color: #666;\n",
              "  }\n",
              "\n",
              "  .colab-df-quickchart {\n",
              "    background-color: var(--bg-color);\n",
              "    border: none;\n",
              "    border-radius: 50%;\n",
              "    cursor: pointer;\n",
              "    display: none;\n",
              "    fill: var(--fill-color);\n",
              "    height: 32px;\n",
              "    padding: 0;\n",
              "    width: 32px;\n",
              "  }\n",
              "\n",
              "  .colab-df-quickchart:hover {\n",
              "    background-color: var(--hover-bg-color);\n",
              "    box-shadow: 0 1px 2px rgba(60, 64, 67, 0.3), 0 1px 3px 1px rgba(60, 64, 67, 0.15);\n",
              "    fill: var(--button-hover-fill-color);\n",
              "  }\n",
              "\n",
              "  .colab-df-quickchart-complete:disabled,\n",
              "  .colab-df-quickchart-complete:disabled:hover {\n",
              "    background-color: var(--disabled-bg-color);\n",
              "    fill: var(--disabled-fill-color);\n",
              "    box-shadow: none;\n",
              "  }\n",
              "\n",
              "  .colab-df-spinner {\n",
              "    border: 2px solid var(--fill-color);\n",
              "    border-color: transparent;\n",
              "    border-bottom-color: var(--fill-color);\n",
              "    animation:\n",
              "      spin 1s steps(1) infinite;\n",
              "  }\n",
              "\n",
              "  @keyframes spin {\n",
              "    0% {\n",
              "      border-color: transparent;\n",
              "      border-bottom-color: var(--fill-color);\n",
              "      border-left-color: var(--fill-color);\n",
              "    }\n",
              "    20% {\n",
              "      border-color: transparent;\n",
              "      border-left-color: var(--fill-color);\n",
              "      border-top-color: var(--fill-color);\n",
              "    }\n",
              "    30% {\n",
              "      border-color: transparent;\n",
              "      border-left-color: var(--fill-color);\n",
              "      border-top-color: var(--fill-color);\n",
              "      border-right-color: var(--fill-color);\n",
              "    }\n",
              "    40% {\n",
              "      border-color: transparent;\n",
              "      border-right-color: var(--fill-color);\n",
              "      border-top-color: var(--fill-color);\n",
              "    }\n",
              "    60% {\n",
              "      border-color: transparent;\n",
              "      border-right-color: var(--fill-color);\n",
              "    }\n",
              "    80% {\n",
              "      border-color: transparent;\n",
              "      border-right-color: var(--fill-color);\n",
              "      border-bottom-color: var(--fill-color);\n",
              "    }\n",
              "    90% {\n",
              "      border-color: transparent;\n",
              "      border-bottom-color: var(--fill-color);\n",
              "    }\n",
              "  }\n",
              "</style>\n",
              "\n",
              "      <script>\n",
              "        async function quickchart(key) {\n",
              "          const quickchartButtonEl =\n",
              "            document.querySelector('#' + key + ' button');\n",
              "          quickchartButtonEl.disabled = true;  // To prevent multiple clicks.\n",
              "          quickchartButtonEl.classList.add('colab-df-spinner');\n",
              "          try {\n",
              "            const charts = await google.colab.kernel.invokeFunction(\n",
              "                'suggestCharts', [key], {});\n",
              "          } catch (error) {\n",
              "            console.error('Error during call to suggestCharts:', error);\n",
              "          }\n",
              "          quickchartButtonEl.classList.remove('colab-df-spinner');\n",
              "          quickchartButtonEl.classList.add('colab-df-quickchart-complete');\n",
              "        }\n",
              "        (() => {\n",
              "          let quickchartButtonEl =\n",
              "            document.querySelector('#df-8bd8f70b-6d54-464d-a358-8075dc799668 button');\n",
              "          quickchartButtonEl.style.display =\n",
              "            google.colab.kernel.accessAllowed ? 'block' : 'none';\n",
              "        })();\n",
              "      </script>\n",
              "    </div>\n",
              "\n",
              "    </div>\n",
              "  </div>\n"
            ],
            "text/plain": [
              "Price             Close                      High                       Low  \\\n",
              "Ticker          INFY.NS  RELIANCE.NS      INFY.NS  RELIANCE.NS      INFY.NS   \n",
              "Date                                                                          \n",
              "2024-04-29  1410.647339  1460.069580  1415.612551  1462.934855  1404.256534   \n",
              "2024-04-30  1396.685913  1462.037842  1412.417126  1478.058419  1393.736311   \n",
              "2024-05-02  1390.688232  1461.589478  1400.077847  1472.327934  1388.131935   \n",
              "2024-05-03  1392.507324  1429.149536  1400.864531  1469.960975  1379.627298   \n",
              "2024-05-06  1401.945923  1414.723511  1421.413225  1435.129230  1393.293709   \n",
              "\n",
              "Price                           Open                 Volume              \n",
              "Ticker      RELIANCE.NS      INFY.NS  RELIANCE.NS   INFY.NS RELIANCE.NS  \n",
              "Date                                                                     \n",
              "2024-04-29  1445.095378  1405.927927  1445.095378   5055957     7247974  \n",
              "2024-04-30  1457.926795  1410.598108  1463.034459   6936588    11474262  \n",
              "2024-05-02  1459.172631  1389.262639  1467.020994  10076354    14512646  \n",
              "2024-05-03  1411.359938  1398.209817  1466.024385   8842345    17226958  \n",
              "2024-05-06  1413.203645  1396.145015  1430.644451   6445422     7394208  "
            ]
          },
          "execution_count": 2,
          "metadata": {},
          "output_type": "execute_result"
        }
      ],
      "source": [
        "# Define stock symbols for NSE\n",
        "stocks = ['INFY.NS', 'RELIANCE.NS']\n",
        "\n",
        "# Define date range for past 1 year\n",
        "end_date = pd.to_datetime('today').date()\n",
        "start_date = end_date.replace(year=end_date.year - 1)\n",
        "\n",
        "# Download the stock price data\n",
        "data = yf.download(stocks, start=start_date, end=end_date)\n",
        "\n",
        "# Show the first few rows\n",
        "data.head()"
      ]
    },
    {
      "cell_type": "code",
      "execution_count": 3,
      "metadata": {
        "colab": {
          "base_uri": "https://localhost:8080/"
        },
        "id": "dr18ZnWR2GiZ",
        "outputId": "3f912cb4-f4a6-44e7-fad7-89b45ae50427"
      },
      "outputs": [
        {
          "name": "stdout",
          "output_type": "stream",
          "text": [
            "Saved INFY and RIL 'Close' prices to CSV successfully!\n"
          ]
        }
      ],
      "source": [
        "# Save CLOSE prices for INFY and RIL\n",
        "infy_close = data[('Close', 'INFY.NS')]\n",
        "ril_close = data[('Close', 'RELIANCE.NS')]\n",
        "\n",
        "# Save to CSV files\n",
        "infy_close.to_csv('INFY_stock_prices.csv')\n",
        "ril_close.to_csv('RIL_stock_prices.csv')\n",
        "\n",
        "print(\"Saved INFY and RIL 'Close' prices to CSV successfully!\")"
      ]
    },
    {
      "cell_type": "markdown",
      "metadata": {
        "id": "kMEODygf1O8h"
      },
      "source": [
        "### b. Compute the daily returns for both."
      ]
    },
    {
      "cell_type": "code",
      "execution_count": 5,
      "metadata": {
        "colab": {
          "base_uri": "https://localhost:8080/"
        },
        "id": "hIpteU8i3kYS",
        "outputId": "d41f65f3-b3e2-42c2-8f0f-202f71156c3d"
      },
      "outputs": [
        {
          "name": "stdout",
          "output_type": "stream",
          "text": [
            "\n",
            "Part b: Computing daily returns for INFY and RIL...\n",
            "                INFY       RIL\n",
            "Date                          \n",
            "2024-04-30 -0.009897  0.001348\n",
            "2024-05-02 -0.004294 -0.000307\n",
            "2024-05-03  0.001308 -0.022195\n",
            "2024-05-06  0.006778 -0.010094\n",
            "2024-05-07  0.010555 -0.012716\n"
          ]
        }
      ],
      "source": [
        "print(\"\\nPart b: Computing daily returns for INFY and RIL...\")\n",
        "\n",
        "# Calculate daily returns\n",
        "infy_returns = infy_close.pct_change().dropna()\n",
        "ril_returns = ril_close.pct_change().dropna()\n",
        "\n",
        "# Combine into a DataFrame\n",
        "returns = pd.DataFrame({\n",
        "    'INFY': infy_returns,\n",
        "    'RIL': ril_returns\n",
        "})\n",
        "\n",
        "print(returns.head())"
      ]
    },
    {
      "cell_type": "markdown",
      "metadata": {
        "id": "jbQb3ZE51SI5"
      },
      "source": [
        "### c. Fit the return series separately to Generalized Gaussian distribution if you can or fit the normal distribution.\n"
      ]
    },
    {
      "cell_type": "code",
      "execution_count": 6,
      "metadata": {
        "colab": {
          "base_uri": "https://localhost:8080/"
        },
        "id": "hQnHAiFW30Lp",
        "outputId": "11413f09-2c2a-4350-957f-97646bb136b9"
      },
      "outputs": [
        {
          "name": "stdout",
          "output_type": "stream",
          "text": [
            "INFY Return GGD Parameters -> Shape (beta): 1.1423, Location (loc): 0.000453, Scale (scale): 0.013479\n",
            "RIL  Return GGD Parameters -> Shape (beta): 1.2028, Location (loc): 0.000122, Scale (scale): 0.013152\n"
          ]
        }
      ],
      "source": [
        "# Fit GGD to INFY and RIL returns\n",
        "beta_infy, loc_infy, scale_infy = gennorm.fit(returns['INFY'])\n",
        "beta_ril, loc_ril, scale_ril = gennorm.fit(returns['RIL'])\n",
        "\n",
        "print(f\"INFY Return GGD Parameters -> Shape (beta): {beta_infy:.4f}, Location (loc): {loc_infy:.6f}, Scale (scale): {scale_infy:.6f}\")\n",
        "print(f\"RIL  Return GGD Parameters -> Shape (beta): {beta_ril:.4f}, Location (loc): {loc_ril:.6f}, Scale (scale): {scale_ril:.6f}\")"
      ]
    },
    {
      "cell_type": "markdown",
      "metadata": {
        "id": "9Ysrr94G1VQT"
      },
      "source": [
        "### d. Fit the T-Copula with the return series. You may use the `copulae` package for the same or your own."
      ]
    },
    {
      "cell_type": "code",
      "execution_count": 17,
      "metadata": {
        "colab": {
          "base_uri": "https://localhost:8080/"
        },
        "id": "GR8DvVyN7RZ1",
        "outputId": "f4ecb4b2-48dc-48ff-c6ba-fabe86cc18bf"
      },
      "outputs": [
        {
          "name": "stdout",
          "output_type": "stream",
          "text": [
            "Copula degrees of freedom (df): 12.55\n",
            "Correlation matrix:\n",
            "[0.24384854]\n"
          ]
        }
      ],
      "source": [
        "# Transform returns to uniform margins using GGD CDFs\n",
        "u_infy = gennorm.cdf(returns['INFY'], beta_infy, loc=loc_infy, scale=scale_infy)\n",
        "u_ril = gennorm.cdf(returns['RIL'], beta_ril, loc=loc_ril, scale=scale_ril)\n",
        "\n",
        "# Stack into a matrix\n",
        "u = np.vstack((u_infy, u_ril)).T\n",
        "\n",
        "# Initialize and fit a T-Copula\n",
        "cop = TCopula(dim=2)\n",
        "cop.fit(u, method='ml')  # Maximum Likelihood fit\n",
        "\n",
        "# Extract fitted parameters\n",
        "df = cop.params[0]\n",
        "correlation_matrix = cop.params[1]\n",
        "\n",
        "print(f\"Copula degrees of freedom (df): {df:.2f}\")\n",
        "print(\"Correlation matrix:\")\n",
        "print(correlation_matrix)"
      ]
    },
    {
      "cell_type": "markdown",
      "metadata": {
        "id": "Vty35zsn1ZqD"
      },
      "source": [
        "### e. Construct a portfolio with equal units from both."
      ]
    },
    {
      "cell_type": "code",
      "execution_count": 19,
      "metadata": {
        "colab": {
          "base_uri": "https://localhost:8080/"
        },
        "id": "M6pVjYtv7ru1",
        "outputId": "62d97bd6-1ad3-4db3-d633-8e67b4548835"
      },
      "outputs": [
        {
          "name": "stdout",
          "output_type": "stream",
          "text": [
            "Equal-weighted portfolio returns calculated successfully!\n",
            "\n",
            "                INFY       RIL  Portfolio\n",
            "Date                                     \n",
            "2024-04-30 -0.009897  0.001348  -0.004275\n",
            "2024-05-02 -0.004294 -0.000307  -0.002300\n",
            "2024-05-03  0.001308 -0.022195  -0.010443\n",
            "2024-05-06  0.006778 -0.010094  -0.001658\n",
            "2024-05-07  0.010555 -0.012716  -0.001080\n"
          ]
        }
      ],
      "source": [
        "returns['Portfolio'] = (returns['INFY'] + returns['RIL']) / 2\n",
        "\n",
        "print(\"Equal-weighted portfolio returns calculated successfully!\\n\")\n",
        "print(returns[['INFY', 'RIL', 'Portfolio']].head())"
      ]
    },
    {
      "cell_type": "markdown",
      "metadata": {
        "id": "t7dQgnzG1bQr"
      },
      "source": [
        "### f. Simulate 10,000 or more random returns of your portfolio using copula."
      ]
    },
    {
      "cell_type": "code",
      "execution_count": 20,
      "metadata": {
        "colab": {
          "base_uri": "https://localhost:8080/"
        },
        "id": "wipNKAzJ8BKE",
        "outputId": "d92fedb5-173d-4bdf-b610-440390a3226c"
      },
      "outputs": [
        {
          "name": "stdout",
          "output_type": "stream",
          "text": [
            "Here are the first few simulated portfolio returns:\n",
            "[-0.00509493 -0.00705872 -0.00308968 -0.01073496 -0.01579009]\n"
          ]
        }
      ],
      "source": [
        "# Number of simulations\n",
        "n_simulations = 10000\n",
        "\n",
        "# Generate random samples from the fitted T-Copula\n",
        "u_sim = cop.random(n_simulations)\n",
        "\n",
        "# Convert uniform margins back to GGD returns\n",
        "sim_infy = gennorm.ppf(u_sim[:, 0], beta_infy, loc=loc_infy, scale=scale_infy)\n",
        "sim_ril = gennorm.ppf(u_sim[:, 1], beta_ril, loc=loc_ril, scale=scale_ril)\n",
        "\n",
        "# Simulated portfolio returns (equal-weighted)\n",
        "sim_portfolio_returns = (sim_infy + sim_ril) / 2\n",
        "\n",
        "print(\"Here are the first few simulated portfolio returns:\")\n",
        "print(sim_portfolio_returns[:5])"
      ]
    },
    {
      "cell_type": "markdown",
      "metadata": {
        "id": "m0baputn1du5"
      },
      "source": [
        "### g. And calculate the maximum loss you may have in a day that you can say with 95% confidence."
      ]
    },
    {
      "cell_type": "code",
      "execution_count": 21,
      "metadata": {
        "colab": {
          "base_uri": "https://localhost:8080/",
          "height": 581
        },
        "id": "mZc6U4z38LB1",
        "outputId": "4715902c-ca8e-426f-8131-b1c133e41e68"
      },
      "outputs": [
        {
          "name": "stdout",
          "output_type": "stream",
          "text": [
            "95% daily Value at Risk (maximum expected loss): 1.89%\n"
          ]
        },
        {
          "data": {
            "image/png": "[encoded data removed]",
            "text/plain": [
              "<Figure size 1000x600 with 1 Axes>"
            ]
          },
          "metadata": {},
          "output_type": "display_data"
        }
      ],
      "source": [
        "# 5th percentile return (loss)\n",
        "VaR_95 = np.percentile(sim_portfolio_returns, 5)\n",
        "\n",
        "print(f\"95% daily Value at Risk (maximum expected loss): {abs(VaR_95)*100:.2f}%\")\n",
        "\n",
        "plt.figure(figsize=(10, 6))\n",
        "plt.hist(sim_portfolio_returns, bins=50, density=True, alpha=0.7, color='purple', edgecolor='black')\n",
        "plt.title('Simulated Portfolio Returns')\n",
        "plt.xlabel('Return')\n",
        "plt.ylabel('Density')\n",
        "plt.grid(True)\n",
        "plt.show()"
      ]
    },
    {
      "cell_type": "markdown",
      "metadata": {
        "id": "MwWVUp0W8g6S"
      },
      "source": [
        "# Question 4\n",
        "\n",
        "The following website contains information about companies listed in NIFTY 50. [https://tradebrains.in/nifty-50-companies-list/](https://tradebrains.in/nifty-50-companies-list/)\n",
        "\n",
        "Choose the first 3 companies from the list.\n",
        "\n",
        "What will be the prices for both **Call Option** and **Put Option** derived from each of the three companies’ stocks? Assume the following:\n",
        "\n",
        "### a. Risk-free interest rate is 6% annually compounded.\n",
        "\n",
        "### b. You are computing the prices on your last birthday.\n",
        "\n",
        "### c. The Stock price is the last closing price prior to the computing date.\n",
        "\n",
        "\n",
        "### d. Expiration date is exactly 3 months from the computing date.\n",
        "\n",
        "### e. The Strike price is 1.2 times the last closing price one month prior to the computing date.\n",
        "\n",
        "### f. Compute volatility based on the last 3 years of data from the computing date.\n",
        "\n",
        "### g. Additionally:\n",
        "\n",
        "- a. Compute the **Delta**, **Gamma**, **Vega**, and **Theta** for each of the derivatives.\n",
        "- b. Construct a **portfolio** that consists of these three stocks and their derivatives such that the portfolio is **Delta**, **Gamma**, and **Vega** neutral.\n",
        "- c. Explain if such a portfolio cannot be constructed."
      ]
    },
    {
      "cell_type": "code",
      "execution_count": null,
      "metadata": {
        "colab": {
          "base_uri": "https://localhost:8080/"
        },
        "id": "_P8L0sx5_jIY",
        "outputId": "60ff595a-4c62-4e8c-e989-c316145cbd81"
      },
      "outputs": [
        {
          "name": "stderr",
          "output_type": "stream",
          "text": [
            "[*********************100%***********************]  3 of 3 completed"
          ]
        },
        {
          "name": "stdout",
          "output_type": "stream",
          "text": [
            "\n",
            "Part a: Last Closing Prices on 2025-02-03\n",
            "Ticker\n",
            "HDFCBANK.NS    1690.949951\n",
            "RELIANCE.NS    1264.599976\n",
            "TCS.NS         4073.149902\n",
            "Name: 2025-02-01 00:00:00, dtype: float64\n",
            "\n",
            "Part a: Closing Prices 1 Month Prior (30 days before the birthday):\n",
            "Ticker\n",
            "HDFCBANK.NS    1749.199951\n",
            "RELIANCE.NS    1251.150024\n",
            "TCS.NS         4035.569336\n",
            "Name: 2025-01-03 00:00:00, dtype: float64\n"
          ]
        },
        {
          "name": "stderr",
          "output_type": "stream",
          "text": [
            "\n"
          ]
        }
      ],
      "source": [
        "import datetime as dt\n",
        "\n",
        "# List of first 3 NIFTY 50 companies\n",
        "symbols = ['RELIANCE.NS', 'TCS.NS', 'HDFCBANK.NS']\n",
        "\n",
        "# Define the birthday\n",
        "birthday = dt.date(2025, 2, 3)\n",
        "\n",
        "# Dates for historical data and price lookup\n",
        "end_date = birthday\n",
        "start_date = end_date - dt.timedelta(days=3*365)  # 3 years back\n",
        "\n",
        "one_month_prior = birthday - dt.timedelta(days=31)\n",
        "\n",
        "# Download stock price data\n",
        "data = yf.download(symbols, start=start_date, end=end_date)\n",
        "\n",
        "# Closing prices data\n",
        "close_prices = data['Close']\n",
        "\n",
        "# Convert birthday to Timestamp for comparison\n",
        "birthday_timestamp = pd.Timestamp(birthday)\n",
        "\n",
        "# Fetch last closing prices (before the birthday)\n",
        "last_close_price = close_prices.loc[close_prices.index <= birthday_timestamp].iloc[-1]\n",
        "\n",
        "# Fetch closing prices 1 month prior (before birthday)\n",
        "one_month_prior_timestamp = pd.Timestamp(one_month_prior)\n",
        "one_month_prior_close = close_prices.loc[close_prices.index <= one_month_prior_timestamp].iloc[-1]\n",
        "\n",
        "print(\"\\nPart a: Last Closing Prices on\", birthday)\n",
        "print(last_close_price)\n",
        "\n",
        "print(\"\\nPart a: Closing Prices 1 Month Prior (30 days before the birthday):\")\n",
        "print(one_month_prior_close)"
      ]
    },
    {
      "cell_type": "code",
      "execution_count": null,
      "metadata": {
        "colab": {
          "base_uri": "https://localhost:8080/"
        },
        "id": "l5zKyO6nBsxm",
        "outputId": "f8ab09d0-f4d2-4b55-cfb4-e0622d3d04a7"
      },
      "outputs": [
        {
          "name": "stdout",
          "output_type": "stream",
          "text": [
            "\n",
            "Part b: Strike Prices (1.2x one month prior):\n",
            "Ticker\n",
            "HDFCBANK.NS    2099.039941\n",
            "RELIANCE.NS    1501.380029\n",
            "TCS.NS         4842.683203\n",
            "Name: 2025-01-03 00:00:00, dtype: float64\n"
          ]
        }
      ],
      "source": [
        "# Calculate Strike Prices (1.2 times last closing price one month prior)\n",
        "strike_prices = one_month_prior_close * 1.2\n",
        "\n",
        "print(\"\\nPart b: Strike Prices (1.2x one month prior):\")\n",
        "print(strike_prices)"
      ]
    },
    {
      "cell_type": "code",
      "execution_count": null,
      "metadata": {
        "colab": {
          "base_uri": "https://localhost:8080/"
        },
        "id": "TwK2EXXWBtKB",
        "outputId": "e3ee27e6-5841-42c0-96de-24e123baf3e2"
      },
      "outputs": [
        {
          "name": "stdout",
          "output_type": "stream",
          "text": [
            "\n",
            "Part c: Annualized Volatility for Each Stock:\n",
            "Ticker\n",
            "HDFCBANK.NS    0.218502\n",
            "RELIANCE.NS    0.225590\n",
            "TCS.NS         0.211039\n",
            "dtype: float64\n"
          ]
        }
      ],
      "source": [
        "# Calculate daily returns and annualized volatility\n",
        "daily_returns = close_prices.pct_change().dropna()\n",
        "\n",
        "# Volatility = standard deviation of daily returns * sqrt(252 (trading days in a year))\n",
        "volatility = daily_returns.std() * np.sqrt(252)\n",
        "\n",
        "print(\"\\nPart c: Annualized Volatility for Each Stock:\")\n",
        "print(volatility)"
      ]
    },
    {
      "cell_type": "code",
      "execution_count": null,
      "metadata": {
        "colab": {
          "base_uri": "https://localhost:8080/"
        },
        "id": "u3U6v577Bzp_",
        "outputId": "46f85759-c4f7-45a6-c52d-64b0c7771c1f"
      },
      "outputs": [
        {
          "name": "stdout",
          "output_type": "stream",
          "text": [
            "\n",
            "Part d: Option Prices (Call and Put):\n",
            "Stock: RELIANCE.NS | Call Price: 5.61 | Put Price: 220.34\n",
            "Stock: TCS.NS | Call Price: 13.22 | Put Price: 711.63\n",
            "Stock: HDFCBANK.NS | Call Price: 2.51 | Put Price: 379.77\n"
          ]
        }
      ],
      "source": [
        "# Risk-free interest rate (annual rate, compounded)\n",
        "risk_free_rate = 0.06  # 6% annually compounded\n",
        "\n",
        "# Time to maturity (expiration date in 3 months)\n",
        "T = 90 / 365  # time to maturity in years\n",
        "\n",
        "# Black-Scholes Option Pricing Formula\n",
        "def black_scholes_price(S, K, T, r, sigma, option_type='call'):\n",
        "    d1 = (np.log(S / K) + (r + (sigma**2)/2) * T) / (sigma * np.sqrt(T))\n",
        "    d2 = d1 - sigma * np.sqrt(T)\n",
        "\n",
        "    if option_type == 'call':\n",
        "        price = S * norm.cdf(d1) - K * np.exp(-r * T) * norm.cdf(d2)\n",
        "    elif option_type == 'put':\n",
        "        price = K * np.exp(-r * T) * norm.cdf(-d2) - S * norm.cdf(-d1)\n",
        "    else:\n",
        "        raise ValueError(\"option_type must be 'call' or 'put'\")\n",
        "    return price, d1, d2\n",
        "\n",
        "# Calculate Option Prices (Call and Put)\n",
        "results = {}\n",
        "\n",
        "for sym in symbols:\n",
        "    S = last_close_price[sym]\n",
        "    K = strike_prices[sym]\n",
        "    sigma = volatility[sym]\n",
        "\n",
        "    # Calculate Call and Put option prices\n",
        "    call_price, _, _ = black_scholes_price(S, K, T, risk_free_rate, sigma, option_type='call')\n",
        "    put_price, _, _ = black_scholes_price(S, K, T, risk_free_rate, sigma, option_type='put')\n",
        "\n",
        "    results[sym] = {\n",
        "        'Call Price': call_price,\n",
        "        'Put Price': put_price,\n",
        "    }\n",
        "\n",
        "# Display Option Prices\n",
        "print(\"\\nPart d: Option Prices (Call and Put):\")\n",
        "for sym, res in results.items():\n",
        "    print(f\"Stock: {sym} | Call Price: {res['Call Price']:.2f} | Put Price: {res['Put Price']:.2f}\")"
      ]
    },
    {
      "cell_type": "code",
      "execution_count": null,
      "metadata": {
        "colab": {
          "base_uri": "https://localhost:8080/"
        },
        "id": "YnEWPcREB5N3",
        "outputId": "e3936452-48ec-4aa5-a76e-ce076b1cbdc1"
      },
      "outputs": [
        {
          "name": "stdout",
          "output_type": "stream",
          "text": [
            "\n",
            "Part e: Option Greeks (Delta, Gamma, Vega, Theta):\n",
            "Stock: RELIANCE.NS\n",
            "  Call Delta: 0.0895\n",
            "  Put Delta: -0.9105\n",
            "  Call Gamma: 0.0011\n",
            "  Put Gamma: 0.0011\n",
            "  Call Vega: 1.0152\n",
            "  Put Vega: 1.0152\n",
            "  Call Theta: -0.1449\n",
            "  Put Theta: 0.0983\n",
            "Stock: TCS.NS\n",
            "  Call Delta: 0.0725\n",
            "  Put Delta: -0.9275\n",
            "  Call Gamma: 0.0003\n",
            "  Put Gamma: 0.0003\n",
            "  Call Vega: 2.7884\n",
            "  Put Vega: 2.7884\n",
            "  Call Theta: -0.3733\n",
            "  Put Theta: 0.4111\n",
            "Stock: HDFCBANK.NS\n",
            "  Call Delta: 0.0358\n",
            "  Put Delta: -0.9642\n",
            "  Call Gamma: 0.0004\n",
            "  Put Gamma: 0.0004\n",
            "  Call Vega: 0.6606\n",
            "  Put Vega: 0.6606\n",
            "  Call Theta: -0.0897\n",
            "  Put Theta: 0.2503\n"
          ]
        }
      ],
      "source": [
        "def black_scholes_greeks(S, K, T, r, sigma, option_type='call'):\n",
        "    price, d1, d2 = black_scholes_price(S, K, T, r, sigma, option_type)\n",
        "\n",
        "    # Delta, Gamma, Vega, Theta calculations\n",
        "    delta = norm.cdf(d1) if option_type == 'call' else -norm.cdf(-d1)\n",
        "    gamma = norm.pdf(d1) / (S * sigma * np.sqrt(T))\n",
        "    vega = S * norm.pdf(d1) * np.sqrt(T) / 100  # per 1% change\n",
        "    theta = -(S * norm.pdf(d1) * sigma) / (2 * np.sqrt(T))\n",
        "    if option_type == 'call':\n",
        "        theta += -r * K * np.exp(-r * T) * norm.cdf(d2)\n",
        "    else:\n",
        "        theta += r * K * np.exp(-r * T) * norm.cdf(-d2)\n",
        "    theta = theta / 365  # per day\n",
        "\n",
        "    return price, delta, gamma, vega, theta\n",
        "\n",
        "# Calculate Greeks for each option (Call and Put)\n",
        "greek_results = {}\n",
        "\n",
        "for sym in symbols:\n",
        "    S = last_close_price[sym]\n",
        "    K = strike_prices[sym]\n",
        "    sigma = volatility[sym]\n",
        "\n",
        "    # Calculate Call and Put option Greeks\n",
        "    call_price, call_delta, call_gamma, call_vega, call_theta = black_scholes_greeks(S, K, T, risk_free_rate, sigma, option_type='call')\n",
        "    put_price, put_delta, put_gamma, put_vega, put_theta = black_scholes_greeks(S, K, T, risk_free_rate, sigma, option_type='put')\n",
        "\n",
        "    greek_results[sym] = {\n",
        "        'Call Delta': call_delta,\n",
        "        'Put Delta': put_delta,\n",
        "        'Call Gamma': call_gamma,\n",
        "        'Put Gamma': put_gamma,\n",
        "        'Call Vega': call_vega,\n",
        "        'Put Vega': put_vega,\n",
        "        'Call Theta': call_theta,\n",
        "        'Put Theta': put_theta,\n",
        "    }\n",
        "\n",
        "print(\"\\nPart e: Option Greeks (Delta, Gamma, Vega, Theta):\")\n",
        "for sym, greeks in greek_results.items():\n",
        "    print(f\"Stock: {sym}\")\n",
        "    for key, val in greeks.items():\n",
        "        print(f\"  {key}: {val:.4f}\")"
      ]
    },
    {
      "cell_type": "code",
      "execution_count": null,
      "metadata": {
        "colab": {
          "base_uri": "https://localhost:8080/"
        },
        "id": "CsQiFO-HCCUv",
        "outputId": "5c2c0c75-f89a-46aa-dc12-669512bc2f1a"
      },
      "outputs": [
        {
          "name": "stdout",
          "output_type": "stream",
          "text": [
            "\n",
            "Part f: Greeks Summary for Portfolio Neutralization:\n",
            "                Delta     Gamma      Vega\n",
            "RELIANCE.NS  0.089466  0.001141  1.015235\n",
            "TCS.NS       0.072451  0.000323  2.788375\n",
            "HDFCBANK.NS  0.035779  0.000429  0.660625\n",
            "\n",
            "Part f: Portfolio Weights for Delta-Gamma-Vega Neutrality:\n",
            "RELIANCE.NS: 0.0000\n",
            "TCS.NS: 0.0000\n",
            "HDFCBANK.NS: 0.0000\n"
          ]
        }
      ],
      "source": [
        "# Collect Greeks into a DataFrame\n",
        "greek_df = pd.DataFrame(greek_results).T[['Call Delta', 'Call Gamma', 'Call Vega']]\n",
        "greek_df.columns = ['Delta', 'Gamma', 'Vega']\n",
        "\n",
        "print(\"\\nPart f: Greeks Summary for Portfolio Neutralization:\")\n",
        "print(greek_df)\n",
        "\n",
        "# Solve for weights w1, w2, w3 such that:\n",
        "# w1*Delta1 + w2*Delta2 + w3*Delta3 = 0\n",
        "# w1*Gamma1 + w2*Gamma2 + w3*Gamma3 = 0\n",
        "# w1*Vega1 + w2*Vega2 + w3*Vega3 = 0\n",
        "\n",
        "A = greek_df.values.T\n",
        "b = np.zeros(3)\n",
        "\n",
        "try:\n",
        "    weights, residuals, rank, s = lstsq(A, b, rcond=None)\n",
        "    print(\"\\nPart f: Portfolio Weights for Delta-Gamma-Vega Neutrality:\")\n",
        "    for sym, w in zip(greek_df.index, weights):\n",
        "        print(f\"{sym}: {w:.4f}\")\n",
        "except Exception as e:\n",
        "    print(\"\\nPart f: Could not construct a fully neutral portfolio due to singular matrix (dependencies among Greeks).\")\n",
        "    print(f\"Reason: {str(e)}\")"
      ]
    },
    {
      "cell_type": "markdown",
      "metadata": {
        "id": "S02hlOVUCrkI"
      },
      "source": [
        "## Part g\n",
        "The portfolio weights for Delta, Gamma, and Vega neutrality are all zero, which indicates that the matrix used to calculate the weights is singular. This happens when the Greeks (Delta, Gamma, Vega) for the selected options are linearly dependent, meaning that the changes in one option's Greek can be perfectly explained by the others.\n",
        "\n",
        "In this case, the options of the selected stocks (RELIANCE.NS, TCS.NS, HDFCBANK.NS) do not provide enough independent risk factors to balance the portfolio. Essentially, the stocks and their derivatives have overlapping risk exposures, preventing a solution where their combined Greeks cancel out to achieve neutrality.\n",
        "\n",
        "As a result, the portfolio cannot be fully neutralized in terms of Delta, Gamma, and Vega because there is insufficient diversity in the options' risk profiles to construct a balanced, risk-neutral position."
      ]
    },
    {
      "cell_type": "markdown",
      "metadata": {
        "id": "7lsHysnHDPhF"
      },
      "source": [
        "# Question 5\n",
        "\n",
        "Assume you are assigned the task of evaluating the stock of **Infosys (INFY)**. To evaluate the stock, you calculate the **required return using the CAPM**. You can assume that the price of Infosys is fairly valued. The following information is available:\n",
        "\n",
        "- Expected Annual **Nifty** return is **10%**\n",
        "- **Beta** of INFY is **0.55**\n",
        "- **Risk-free rate** is **5.3%**\n",
        "- The annualised **volatility of market return** is **15%**"
      ]
    },
    {
      "cell_type": "code",
      "execution_count": null,
      "metadata": {
        "id": "mHM9Vah7DsMu"
      },
      "outputs": [],
      "source": [
        "# Given Data\n",
        "market_return = 0.10  # Expected annual market return (10%)\n",
        "beta_infy = 0.55      # Beta of INFY\n",
        "risk_free_rate = 0.053  # Risk-free rate (5.3%)\n",
        "market_volatility = 0.15  # Market annualized volatility (15%)\n",
        "current_price_infy = 3500  # Current price of INFY stock"
      ]
    },
    {
      "cell_type": "markdown",
      "metadata": {
        "id": "waJTc3wzDrp2"
      },
      "source": [
        "Answer the following questions:"
      ]
    },
    {
      "cell_type": "markdown",
      "metadata": {
        "id": "_W0W-ORXDWCu"
      },
      "source": [
        "### a. Using **CAPM**, calculate the **annual expected return** of INFY."
      ]
    },
    {
      "cell_type": "code",
      "execution_count": null,
      "metadata": {
        "colab": {
          "base_uri": "https://localhost:8080/"
        },
        "id": "pkUJ-PSRDysF",
        "outputId": "be8735f1-b1ee-451c-d216-db958e0bd183"
      },
      "outputs": [
        {
          "name": "stdout",
          "output_type": "stream",
          "text": [
            "Part a: Expected annual return of INFY: 7.89%\n"
          ]
        }
      ],
      "source": [
        "expected_return_infy = risk_free_rate + beta_infy * (market_return - risk_free_rate)\n",
        "print(f\"Part a: Expected annual return of INFY: {expected_return_infy * 100:.2f}%\")"
      ]
    },
    {
      "cell_type": "markdown",
      "metadata": {
        "id": "p4u4dWd2DbBW"
      },
      "source": [
        "### b. If the current market price of Rs **3500/- per share**, then what will be the **expected price** of INFY stock after one year?"
      ]
    },
    {
      "cell_type": "code",
      "execution_count": null,
      "metadata": {
        "colab": {
          "base_uri": "https://localhost:8080/"
        },
        "id": "xQp2p5K1D0Lu",
        "outputId": "051d9ea5-1429-41da-cc10-4ef97b9d736d"
      },
      "outputs": [
        {
          "name": "stdout",
          "output_type": "stream",
          "text": [
            "Part b: Expected price of INFY after one year: Rs. 3775.98\n"
          ]
        }
      ],
      "source": [
        "expected_price_infy = current_price_infy * (1 + expected_return_infy)\n",
        "print(f\"Part b: Expected price of INFY after one year: Rs. {expected_price_infy:.2f}\")"
      ]
    },
    {
      "cell_type": "markdown",
      "metadata": {
        "id": "qPZ8kZBXDdJG"
      },
      "source": [
        "### c. Find the **annualised volatility** of the return of INFY."
      ]
    },
    {
      "cell_type": "code",
      "execution_count": null,
      "metadata": {
        "colab": {
          "base_uri": "https://localhost:8080/"
        },
        "id": "6kJMojCcD4Ws",
        "outputId": "46be9e5c-f78b-4196-972b-2849e9c217b0"
      },
      "outputs": [
        {
          "name": "stdout",
          "output_type": "stream",
          "text": [
            "Part c: Annualized volatility of INFY: 8.25%\n"
          ]
        }
      ],
      "source": [
        "volatility_infy = beta_infy * market_volatility\n",
        "print(f\"Part c: Annualized volatility of INFY: {volatility_infy * 100:.2f}%\")"
      ]
    },
    {
      "cell_type": "markdown",
      "metadata": {
        "id": "qGv1XZHtDfKu"
      },
      "source": [
        "### d. Assuming INFY return follows **Gaussian distribution**, what is the **probability** that after one year the INFY price will be **less than Rs. 3500/-**?"
      ]
    },
    {
      "cell_type": "code",
      "execution_count": null,
      "metadata": {
        "colab": {
          "base_uri": "https://localhost:8080/"
        },
        "id": "dy2tUfEiEOMH",
        "outputId": "c7177704-2be1-47ef-96ae-9b5a4ea76a2b"
      },
      "outputs": [
        {
          "name": "stdout",
          "output_type": "stream",
          "text": [
            "Part d: Probability that INFY price will be less than Rs. 3500 after one year: 16.96%\n"
          ]
        }
      ],
      "source": [
        "# First, calculate the expected price and the standard deviation (volatility) of INFY\n",
        "expected_price_infy = current_price_infy * (1 + expected_return_infy)\n",
        "\n",
        "# Z-score calculation\n",
        "z_score = (current_price_infy - expected_price_infy) / (volatility_infy * current_price_infy)\n",
        "# Probability from the normal distribution (CDF)\n",
        "probability = norm.cdf(z_score)\n",
        "\n",
        "print(f\"Part d: Probability that INFY price will be less than Rs. 3500 after one year: {probability * 100:.2f}%\")"
      ]
    }
  ],
  "metadata": {
    "colab": {
      "provenance": []
    },
    "kernelspec": {
      "display_name": "Python 3",
      "name": "python3"
    },
    "language_info": {
      "name": "python"
    }
  },
  "nbformat": 4,
  "nbformat_minor": 0
}
