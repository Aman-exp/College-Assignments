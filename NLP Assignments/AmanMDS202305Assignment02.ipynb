{
  "nbformat": 4,
  "nbformat_minor": 0,
  "metadata": {
    "colab": {
      "provenance": []
    },
    "kernelspec": {
      "name": "python3",
      "display_name": "Python 3"
    },
    "language_info": {
      "name": "python"
    }
  },
  "cells": [
    {
      "cell_type": "code",
      "execution_count": null,
      "metadata": {
        "id": "Ekih6dZxVlkx"
      },
      "outputs": [],
      "source": [
        "import gdown\n",
        "import re\n",
        "import multiprocessing\n",
        "from multiprocessing import Pool, cpu_count, Lock\n",
        "from sklearn.feature_extraction.text import TfidfVectorizer, CountVectorizer\n",
        "from sklearn.metrics.pairwise import cosine_distances, cosine_similarity\n",
        "from sklearn.manifold import MDS\n",
        "from sklearn.metrics import pairwise_distances\n",
        "from concurrent.futures import ProcessPoolExecutor\n",
        "import nltk\n",
        "from nltk import pos_tag\n",
        "from nltk.tokenize import word_tokenize\n",
        "from nltk.corpus import stopwords\n",
        "from tqdm import tqdm\n",
        "from collections import Counter, defaultdict\n",
        "import numpy as np\n",
        "import pandas as pd\n",
        "import matplotlib.pyplot as plt\n",
        "import spacy"
      ]
    },
    {
      "cell_type": "code",
      "source": [
        "nltk.download('punkt')\n",
        "nltk.download('averaged_perceptron_tagger')"
      ],
      "metadata": {
        "colab": {
          "base_uri": "https://localhost:8080/"
        },
        "outputId": "f77a5ff6-e462-4aa0-ca0e-6043c821e30a",
        "id": "XytizerbVlkz"
      },
      "execution_count": null,
      "outputs": [
        {
          "output_type": "stream",
          "name": "stderr",
          "text": [
            "[nltk_data] Downloading package punkt to /root/nltk_data...\n",
            "[nltk_data]   Package punkt is already up-to-date!\n",
            "[nltk_data] Downloading package averaged_perceptron_tagger to\n",
            "[nltk_data]     /root/nltk_data...\n",
            "[nltk_data]   Package averaged_perceptron_tagger is already up-to-\n",
            "[nltk_data]       date!\n"
          ]
        },
        {
          "output_type": "execute_result",
          "data": {
            "text/plain": [
              "True"
            ]
          },
          "metadata": {},
          "execution_count": 30
        }
      ]
    },
    {
      "cell_type": "markdown",
      "source": [
        "## Loading the cleaned corpus from previous assignment"
      ],
      "metadata": {
        "id": "HXarJneeZsi8"
      }
    },
    {
      "cell_type": "code",
      "source": [
        "file_id = '1WyY7_ZCumaArUhnRiIiVTc2iodU1xakH'\n",
        "url = f'https://drive.google.com/uc?id={file_id}'\n",
        "\n",
        "gdown.download(url, 'corpus.txt', quiet=False)"
      ],
      "metadata": {
        "colab": {
          "base_uri": "https://localhost:8080/",
          "height": 122
        },
        "id": "OSgoW-qi2Xfb",
        "outputId": "adad9e75-5508-426f-bd43-aa2fda91bbf2"
      },
      "execution_count": null,
      "outputs": [
        {
          "output_type": "stream",
          "name": "stderr",
          "text": [
            "Downloading...\n",
            "From (original): https://drive.google.com/uc?id=1WyY7_ZCumaArUhnRiIiVTc2iodU1xakH\n",
            "From (redirected): https://drive.google.com/uc?id=1WyY7_ZCumaArUhnRiIiVTc2iodU1xakH&confirm=t&uuid=6d1c5ce2-8eb2-4b9f-9ac3-ece173b5767d\n",
            "To: /content/corpus.txt\n",
            "100%|██████████| 1.06G/1.06G [00:05<00:00, 198MB/s]\n"
          ]
        },
        {
          "output_type": "execute_result",
          "data": {
            "text/plain": [
              "'corpus.txt'"
            ],
            "application/vnd.google.colaboratory.intrinsic+json": {
              "type": "string"
            }
          },
          "metadata": {},
          "execution_count": 31
        }
      ]
    },
    {
      "cell_type": "code",
      "source": [
        "# Read the contents of the file\n",
        "with open('corpus.txt', 'r') as file:\n",
        "    content = file.read()"
      ],
      "metadata": {
        "id": "fX4NemyyVlk0"
      },
      "execution_count": null,
      "outputs": []
    },
    {
      "cell_type": "markdown",
      "source": [
        "## Word Count"
      ],
      "metadata": {
        "id": "KFXSBZArX-09"
      }
    },
    {
      "cell_type": "code",
      "source": [
        "def count_words(lines):\n",
        "    local_counter = Counter()\n",
        "    for line in lines:\n",
        "        local_counter.update(line.split())\n",
        "    return local_counter"
      ],
      "metadata": {
        "id": "UiXcx_JlVlk0"
      },
      "execution_count": null,
      "outputs": []
    },
    {
      "cell_type": "markdown",
      "source": [
        "## Top 7000 occuring words"
      ],
      "metadata": {
        "id": "EtBV3xtVYXhB"
      }
    },
    {
      "cell_type": "code",
      "source": [
        "if __name__ == '__main__':\n",
        "    with open('corpus.txt', 'r', encoding='utf-8') as file:\n",
        "        lines = file.readlines()\n",
        "\n",
        "    num_chunks = min(4, len(lines))\n",
        "    chunk_size = max(1, len(lines) // num_chunks)\n",
        "\n",
        "    chunks = [lines[i:i + chunk_size] for i in range(0, len(lines), chunk_size)]\n",
        "\n",
        "    with Pool() as pool:\n",
        "        results = list(tqdm(pool.imap(count_words, chunks), total=len(chunks)))\n",
        "\n",
        "    total_counter = Counter()\n",
        "    for result in results:\n",
        "        total_counter.update(result)\n",
        "\n",
        "    top_7000_vocabulary = [word for word, _ in total_counter.most_common(7000)]"
      ],
      "metadata": {
        "colab": {
          "base_uri": "https://localhost:8080/"
        },
        "outputId": "3163dd00-95d9-4fe3-e46e-ed36dab0f5ec",
        "id": "rj_hIwHLVlk0"
      },
      "execution_count": null,
      "outputs": [
        {
          "output_type": "stream",
          "name": "stderr",
          "text": [
            "100%|██████████| 1/1 [00:36<00:00, 36.02s/it]\n"
          ]
        }
      ]
    },
    {
      "cell_type": "markdown",
      "source": [
        "## Counts of top 7000 occuring words"
      ],
      "metadata": {
        "id": "q4-GKzriZMHW"
      }
    },
    {
      "cell_type": "code",
      "source": [
        "# Function to count total occurrences of words in the content, filtered by top_7000_vocabulary\n",
        "def count_total_word_occurrences(content, top_vocabulary):\n",
        "    total_word_counts = Counter()\n",
        "\n",
        "    # Split the content into words and update the counts\n",
        "    words = content.split()\n",
        "    total_word_counts.update(words)\n",
        "\n",
        "    filtered_counts = {word: total_word_counts[word] for word in top_vocabulary}\n",
        "    return filtered_counts"
      ],
      "metadata": {
        "id": "6w4-2TnAckxs"
      },
      "execution_count": null,
      "outputs": []
    },
    {
      "cell_type": "code",
      "source": [
        "total_word_counts = count_total_word_occurrences(content, top_7000_vocabulary)"
      ],
      "metadata": {
        "id": "YAx0-S4OcxVv"
      },
      "execution_count": null,
      "outputs": []
    },
    {
      "cell_type": "markdown",
      "source": [
        "## Co-Occurence Count"
      ],
      "metadata": {
        "id": "Cpt2OOMFYs3y"
      }
    },
    {
      "cell_type": "code",
      "source": [
        "# Step 1: Build co-occurrence counts\n",
        "def build_weighted_cooccurrence_counts(content, top_vocabulary, window_size=4):\n",
        "    vocab_set = set(top_vocabulary)\n",
        "    cooccurrence_counts = defaultdict(lambda: defaultdict(int))\n",
        "\n",
        "    words = content.split()\n",
        "\n",
        "    for i, word in tqdm(enumerate(words), total=len(words), desc=\"Building Weighted Co-occurrence Counts\"):\n",
        "        if word in vocab_set:\n",
        "            # Define the window size\n",
        "            start_index = max(0, i - window_size)\n",
        "            end_index = min(len(words), i + window_size + 1)\n",
        "            context_words = words[start_index:i] + words[i + 1:end_index]\n",
        "\n",
        "            for j, context_word in enumerate(context_words):\n",
        "                if context_word in vocab_set:\n",
        "                    # Calculate weight based on distance\n",
        "                    distance = max(j - (i - start_index), (i - start_index) - j - 1)\n",
        "                    weight = window_size - distance\n",
        "                    cooccurrence_counts[word][context_word] += weight\n",
        "\n",
        "    return cooccurrence_counts"
      ],
      "metadata": {
        "id": "Zksu6SnEYotg"
      },
      "execution_count": null,
      "outputs": []
    },
    {
      "cell_type": "code",
      "source": [
        "cooccurrence_counts = build_weighted_cooccurrence_counts(content, top_7000_vocabulary)"
      ],
      "metadata": {
        "colab": {
          "base_uri": "https://localhost:8080/"
        },
        "id": "KIWPG-fgnZ1s",
        "outputId": "bf106800-dc79-4f50-f26a-0507da335482"
      },
      "execution_count": null,
      "outputs": [
        {
          "output_type": "stream",
          "name": "stderr",
          "text": [
            "Building Weighted Co-occurrence Counts: 100%|██████████| 125726572/125726572 [12:41<00:00, 165129.33it/s]\n"
          ]
        }
      ]
    },
    {
      "cell_type": "code",
      "source": [
        "# Empty matrix\n",
        "matrix = pd.DataFrame(0, index=top_7000_vocabulary, columns=top_7000_vocabulary)\n",
        "\n",
        "co_occurrence_df = pd.DataFrame.from_dict(cooccurrence_counts, orient='index').fillna(0)\n",
        "\n",
        "co_occurrence_df = co_occurrence_df.reindex(index=top_7000_vocabulary, columns=top_7000_vocabulary, fill_value=0)\n",
        "\n",
        "# Add the two DataFrames\n",
        "matrix = matrix.add(co_occurrence_df, fill_value=0)"
      ],
      "metadata": {
        "id": "z4J-oUmctHay"
      },
      "execution_count": null,
      "outputs": []
    },
    {
      "cell_type": "code",
      "source": [
        "matrix.iloc[:10,:10]"
      ],
      "metadata": {
        "id": "NqOw1CRCtVgK",
        "colab": {
          "base_uri": "https://localhost:8080/",
          "height": 363
        },
        "outputId": "a6d90a38-fe0c-4231-c13c-762975a29f57"
      },
      "execution_count": null,
      "outputs": [
        {
          "output_type": "execute_result",
          "data": {
            "text/plain": [
              "           patients     cells      also       may     study     data  \\\n",
              "patients   234050.0   17773.0   49565.0   60630.0  105274.0  39351.0   \n",
              "cells       17773.0  263076.0   45352.0   27955.0   13048.0  12781.0   \n",
              "also        49565.0   45352.0    7896.0  101987.0   36781.0  28056.0   \n",
              "may         60630.0   27955.0  101987.0   34508.0   18974.0  20136.0   \n",
              "study      105274.0   13048.0   36781.0   18974.0   57420.0  47275.0   \n",
              "data        39351.0   12781.0   28056.0   20136.0   47275.0  95106.0   \n",
              "virus       17312.0   47131.0   30870.0   27832.0   14463.0   8525.0   \n",
              "infection   63811.0   53588.0   33382.0   42310.0   22959.0  14067.0   \n",
              "using       18293.0   32012.0   13269.0    6301.0   21594.0  58412.0   \n",
              "used        27218.0   23933.0   47295.0   23005.0   59775.0  49952.0   \n",
              "\n",
              "              virus  infection    using     used  \n",
              "patients    17312.0    63811.0  18293.0  27218.0  \n",
              "cells       47131.0    53588.0  32012.0  23933.0  \n",
              "also        30870.0    33382.0  13269.0  47295.0  \n",
              "may         27832.0    42310.0   6301.0  23005.0  \n",
              "study       14463.0    22959.0  21594.0  59775.0  \n",
              "data         8525.0    14067.0  58412.0  49952.0  \n",
              "virus      127058.0    98332.0  14133.0  18316.0  \n",
              "infection   98332.0    46726.0   9767.0  11956.0  \n",
              "using       14133.0     9767.0  11386.0   8983.0  \n",
              "used        18316.0    11956.0   8983.0  14486.0  "
            ],
            "text/html": [
              "\n",
              "  <div id=\"df-7c9ca0ef-8a68-4732-8165-b75422c090f6\" class=\"colab-df-container\">\n",
              "    <div>\n",
              "<style scoped>\n",
              "    .dataframe tbody tr th:only-of-type {\n",
              "        vertical-align: middle;\n",
              "    }\n",
              "\n",
              "    .dataframe tbody tr th {\n",
              "        vertical-align: top;\n",
              "    }\n",
              "\n",
              "    .dataframe thead th {\n",
              "        text-align: right;\n",
              "    }\n",
              "</style>\n",
              "<table border=\"1\" class=\"dataframe\">\n",
              "  <thead>\n",
              "    <tr style=\"text-align: right;\">\n",
              "      <th></th>\n",
              "      <th>patients</th>\n",
              "      <th>cells</th>\n",
              "      <th>also</th>\n",
              "      <th>may</th>\n",
              "      <th>study</th>\n",
              "      <th>data</th>\n",
              "      <th>virus</th>\n",
              "      <th>infection</th>\n",
              "      <th>using</th>\n",
              "      <th>used</th>\n",
              "    </tr>\n",
              "  </thead>\n",
              "  <tbody>\n",
              "    <tr>\n",
              "      <th>patients</th>\n",
              "      <td>234050.0</td>\n",
              "      <td>17773.0</td>\n",
              "      <td>49565.0</td>\n",
              "      <td>60630.0</td>\n",
              "      <td>105274.0</td>\n",
              "      <td>39351.0</td>\n",
              "      <td>17312.0</td>\n",
              "      <td>63811.0</td>\n",
              "      <td>18293.0</td>\n",
              "      <td>27218.0</td>\n",
              "    </tr>\n",
              "    <tr>\n",
              "      <th>cells</th>\n",
              "      <td>17773.0</td>\n",
              "      <td>263076.0</td>\n",
              "      <td>45352.0</td>\n",
              "      <td>27955.0</td>\n",
              "      <td>13048.0</td>\n",
              "      <td>12781.0</td>\n",
              "      <td>47131.0</td>\n",
              "      <td>53588.0</td>\n",
              "      <td>32012.0</td>\n",
              "      <td>23933.0</td>\n",
              "    </tr>\n",
              "    <tr>\n",
              "      <th>also</th>\n",
              "      <td>49565.0</td>\n",
              "      <td>45352.0</td>\n",
              "      <td>7896.0</td>\n",
              "      <td>101987.0</td>\n",
              "      <td>36781.0</td>\n",
              "      <td>28056.0</td>\n",
              "      <td>30870.0</td>\n",
              "      <td>33382.0</td>\n",
              "      <td>13269.0</td>\n",
              "      <td>47295.0</td>\n",
              "    </tr>\n",
              "    <tr>\n",
              "      <th>may</th>\n",
              "      <td>60630.0</td>\n",
              "      <td>27955.0</td>\n",
              "      <td>101987.0</td>\n",
              "      <td>34508.0</td>\n",
              "      <td>18974.0</td>\n",
              "      <td>20136.0</td>\n",
              "      <td>27832.0</td>\n",
              "      <td>42310.0</td>\n",
              "      <td>6301.0</td>\n",
              "      <td>23005.0</td>\n",
              "    </tr>\n",
              "    <tr>\n",
              "      <th>study</th>\n",
              "      <td>105274.0</td>\n",
              "      <td>13048.0</td>\n",
              "      <td>36781.0</td>\n",
              "      <td>18974.0</td>\n",
              "      <td>57420.0</td>\n",
              "      <td>47275.0</td>\n",
              "      <td>14463.0</td>\n",
              "      <td>22959.0</td>\n",
              "      <td>21594.0</td>\n",
              "      <td>59775.0</td>\n",
              "    </tr>\n",
              "    <tr>\n",
              "      <th>data</th>\n",
              "      <td>39351.0</td>\n",
              "      <td>12781.0</td>\n",
              "      <td>28056.0</td>\n",
              "      <td>20136.0</td>\n",
              "      <td>47275.0</td>\n",
              "      <td>95106.0</td>\n",
              "      <td>8525.0</td>\n",
              "      <td>14067.0</td>\n",
              "      <td>58412.0</td>\n",
              "      <td>49952.0</td>\n",
              "    </tr>\n",
              "    <tr>\n",
              "      <th>virus</th>\n",
              "      <td>17312.0</td>\n",
              "      <td>47131.0</td>\n",
              "      <td>30870.0</td>\n",
              "      <td>27832.0</td>\n",
              "      <td>14463.0</td>\n",
              "      <td>8525.0</td>\n",
              "      <td>127058.0</td>\n",
              "      <td>98332.0</td>\n",
              "      <td>14133.0</td>\n",
              "      <td>18316.0</td>\n",
              "    </tr>\n",
              "    <tr>\n",
              "      <th>infection</th>\n",
              "      <td>63811.0</td>\n",
              "      <td>53588.0</td>\n",
              "      <td>33382.0</td>\n",
              "      <td>42310.0</td>\n",
              "      <td>22959.0</td>\n",
              "      <td>14067.0</td>\n",
              "      <td>98332.0</td>\n",
              "      <td>46726.0</td>\n",
              "      <td>9767.0</td>\n",
              "      <td>11956.0</td>\n",
              "    </tr>\n",
              "    <tr>\n",
              "      <th>using</th>\n",
              "      <td>18293.0</td>\n",
              "      <td>32012.0</td>\n",
              "      <td>13269.0</td>\n",
              "      <td>6301.0</td>\n",
              "      <td>21594.0</td>\n",
              "      <td>58412.0</td>\n",
              "      <td>14133.0</td>\n",
              "      <td>9767.0</td>\n",
              "      <td>11386.0</td>\n",
              "      <td>8983.0</td>\n",
              "    </tr>\n",
              "    <tr>\n",
              "      <th>used</th>\n",
              "      <td>27218.0</td>\n",
              "      <td>23933.0</td>\n",
              "      <td>47295.0</td>\n",
              "      <td>23005.0</td>\n",
              "      <td>59775.0</td>\n",
              "      <td>49952.0</td>\n",
              "      <td>18316.0</td>\n",
              "      <td>11956.0</td>\n",
              "      <td>8983.0</td>\n",
              "      <td>14486.0</td>\n",
              "    </tr>\n",
              "  </tbody>\n",
              "</table>\n",
              "</div>\n",
              "    <div class=\"colab-df-buttons\">\n",
              "\n",
              "  <div class=\"colab-df-container\">\n",
              "    <button class=\"colab-df-convert\" onclick=\"convertToInteractive('df-7c9ca0ef-8a68-4732-8165-b75422c090f6')\"\n",
              "            title=\"Convert this dataframe to an interactive table.\"\n",
              "            style=\"display:none;\">\n",
              "\n",
              "  <svg xmlns=\"http://www.w3.org/2000/svg\" height=\"24px\" viewBox=\"0 -960 960 960\">\n",
              "    <path d=\"M120-120v-720h720v720H120Zm60-500h600v-160H180v160Zm220 220h160v-160H400v160Zm0 220h160v-160H400v160ZM180-400h160v-160H180v160Zm440 0h160v-160H620v160ZM180-180h160v-160H180v160Zm440 0h160v-160H620v160Z\"/>\n",
              "  </svg>\n",
              "    </button>\n",
              "\n",
              "  <style>\n",
              "    .colab-df-container {\n",
              "      display:flex;\n",
              "      gap: 12px;\n",
              "    }\n",
              "\n",
              "    .colab-df-convert {\n",
              "      background-color: #E8F0FE;\n",
              "      border: none;\n",
              "      border-radius: 50%;\n",
              "      cursor: pointer;\n",
              "      display: none;\n",
              "      fill: #1967D2;\n",
              "      height: 32px;\n",
              "      padding: 0 0 0 0;\n",
              "      width: 32px;\n",
              "    }\n",
              "\n",
              "    .colab-df-convert:hover {\n",
              "      background-color: #E2EBFA;\n",
              "      box-shadow: 0px 1px 2px rgba(60, 64, 67, 0.3), 0px 1px 3px 1px rgba(60, 64, 67, 0.15);\n",
              "      fill: #174EA6;\n",
              "    }\n",
              "\n",
              "    .colab-df-buttons div {\n",
              "      margin-bottom: 4px;\n",
              "    }\n",
              "\n",
              "    [theme=dark] .colab-df-convert {\n",
              "      background-color: #3B4455;\n",
              "      fill: #D2E3FC;\n",
              "    }\n",
              "\n",
              "    [theme=dark] .colab-df-convert:hover {\n",
              "      background-color: #434B5C;\n",
              "      box-shadow: 0px 1px 3px 1px rgba(0, 0, 0, 0.15);\n",
              "      filter: drop-shadow(0px 1px 2px rgba(0, 0, 0, 0.3));\n",
              "      fill: #FFFFFF;\n",
              "    }\n",
              "  </style>\n",
              "\n",
              "    <script>\n",
              "      const buttonEl =\n",
              "        document.querySelector('#df-7c9ca0ef-8a68-4732-8165-b75422c090f6 button.colab-df-convert');\n",
              "      buttonEl.style.display =\n",
              "        google.colab.kernel.accessAllowed ? 'block' : 'none';\n",
              "\n",
              "      async function convertToInteractive(key) {\n",
              "        const element = document.querySelector('#df-7c9ca0ef-8a68-4732-8165-b75422c090f6');\n",
              "        const dataTable =\n",
              "          await google.colab.kernel.invokeFunction('convertToInteractive',\n",
              "                                                    [key], {});\n",
              "        if (!dataTable) return;\n",
              "\n",
              "        const docLinkHtml = 'Like what you see? Visit the ' +\n",
              "          '<a target=\"_blank\" href=https://colab.research.google.com/notebooks/data_table.ipynb>data table notebook</a>'\n",
              "          + ' to learn more about interactive tables.';\n",
              "        element.innerHTML = '';\n",
              "        dataTable['output_type'] = 'display_data';\n",
              "        await google.colab.output.renderOutput(dataTable, element);\n",
              "        const docLink = document.createElement('div');\n",
              "        docLink.innerHTML = docLinkHtml;\n",
              "        element.appendChild(docLink);\n",
              "      }\n",
              "    </script>\n",
              "  </div>\n",
              "\n",
              "\n",
              "<div id=\"df-5a10e8b1-6300-4222-9777-86c2790940f1\">\n",
              "  <button class=\"colab-df-quickchart\" onclick=\"quickchart('df-5a10e8b1-6300-4222-9777-86c2790940f1')\"\n",
              "            title=\"Suggest charts\"\n",
              "            style=\"display:none;\">\n",
              "\n",
              "<svg xmlns=\"http://www.w3.org/2000/svg\" height=\"24px\"viewBox=\"0 0 24 24\"\n",
              "     width=\"24px\">\n",
              "    <g>\n",
              "        <path d=\"M19 3H5c-1.1 0-2 .9-2 2v14c0 1.1.9 2 2 2h14c1.1 0 2-.9 2-2V5c0-1.1-.9-2-2-2zM9 17H7v-7h2v7zm4 0h-2V7h2v10zm4 0h-2v-4h2v4z\"/>\n",
              "    </g>\n",
              "</svg>\n",
              "  </button>\n",
              "\n",
              "<style>\n",
              "  .colab-df-quickchart {\n",
              "      --bg-color: #E8F0FE;\n",
              "      --fill-color: #1967D2;\n",
              "      --hover-bg-color: #E2EBFA;\n",
              "      --hover-fill-color: #174EA6;\n",
              "      --disabled-fill-color: #AAA;\n",
              "      --disabled-bg-color: #DDD;\n",
              "  }\n",
              "\n",
              "  [theme=dark] .colab-df-quickchart {\n",
              "      --bg-color: #3B4455;\n",
              "      --fill-color: #D2E3FC;\n",
              "      --hover-bg-color: #434B5C;\n",
              "      --hover-fill-color: #FFFFFF;\n",
              "      --disabled-bg-color: #3B4455;\n",
              "      --disabled-fill-color: #666;\n",
              "  }\n",
              "\n",
              "  .colab-df-quickchart {\n",
              "    background-color: var(--bg-color);\n",
              "    border: none;\n",
              "    border-radius: 50%;\n",
              "    cursor: pointer;\n",
              "    display: none;\n",
              "    fill: var(--fill-color);\n",
              "    height: 32px;\n",
              "    padding: 0;\n",
              "    width: 32px;\n",
              "  }\n",
              "\n",
              "  .colab-df-quickchart:hover {\n",
              "    background-color: var(--hover-bg-color);\n",
              "    box-shadow: 0 1px 2px rgba(60, 64, 67, 0.3), 0 1px 3px 1px rgba(60, 64, 67, 0.15);\n",
              "    fill: var(--button-hover-fill-color);\n",
              "  }\n",
              "\n",
              "  .colab-df-quickchart-complete:disabled,\n",
              "  .colab-df-quickchart-complete:disabled:hover {\n",
              "    background-color: var(--disabled-bg-color);\n",
              "    fill: var(--disabled-fill-color);\n",
              "    box-shadow: none;\n",
              "  }\n",
              "\n",
              "  .colab-df-spinner {\n",
              "    border: 2px solid var(--fill-color);\n",
              "    border-color: transparent;\n",
              "    border-bottom-color: var(--fill-color);\n",
              "    animation:\n",
              "      spin 1s steps(1) infinite;\n",
              "  }\n",
              "\n",
              "  @keyframes spin {\n",
              "    0% {\n",
              "      border-color: transparent;\n",
              "      border-bottom-color: var(--fill-color);\n",
              "      border-left-color: var(--fill-color);\n",
              "    }\n",
              "    20% {\n",
              "      border-color: transparent;\n",
              "      border-left-color: var(--fill-color);\n",
              "      border-top-color: var(--fill-color);\n",
              "    }\n",
              "    30% {\n",
              "      border-color: transparent;\n",
              "      border-left-color: var(--fill-color);\n",
              "      border-top-color: var(--fill-color);\n",
              "      border-right-color: var(--fill-color);\n",
              "    }\n",
              "    40% {\n",
              "      border-color: transparent;\n",
              "      border-right-color: var(--fill-color);\n",
              "      border-top-color: var(--fill-color);\n",
              "    }\n",
              "    60% {\n",
              "      border-color: transparent;\n",
              "      border-right-color: var(--fill-color);\n",
              "    }\n",
              "    80% {\n",
              "      border-color: transparent;\n",
              "      border-right-color: var(--fill-color);\n",
              "      border-bottom-color: var(--fill-color);\n",
              "    }\n",
              "    90% {\n",
              "      border-color: transparent;\n",
              "      border-bottom-color: var(--fill-color);\n",
              "    }\n",
              "  }\n",
              "</style>\n",
              "\n",
              "  <script>\n",
              "    async function quickchart(key) {\n",
              "      const quickchartButtonEl =\n",
              "        document.querySelector('#' + key + ' button');\n",
              "      quickchartButtonEl.disabled = true;  // To prevent multiple clicks.\n",
              "      quickchartButtonEl.classList.add('colab-df-spinner');\n",
              "      try {\n",
              "        const charts = await google.colab.kernel.invokeFunction(\n",
              "            'suggestCharts', [key], {});\n",
              "      } catch (error) {\n",
              "        console.error('Error during call to suggestCharts:', error);\n",
              "      }\n",
              "      quickchartButtonEl.classList.remove('colab-df-spinner');\n",
              "      quickchartButtonEl.classList.add('colab-df-quickchart-complete');\n",
              "    }\n",
              "    (() => {\n",
              "      let quickchartButtonEl =\n",
              "        document.querySelector('#df-5a10e8b1-6300-4222-9777-86c2790940f1 button');\n",
              "      quickchartButtonEl.style.display =\n",
              "        google.colab.kernel.accessAllowed ? 'block' : 'none';\n",
              "    })();\n",
              "  </script>\n",
              "</div>\n",
              "\n",
              "    </div>\n",
              "  </div>\n"
            ],
            "application/vnd.google.colaboratory.intrinsic+json": {
              "type": "dataframe",
              "summary": "{\n  \"name\": \"matrix\",\n  \"rows\": 10,\n  \"fields\": [\n    {\n      \"column\": \"patients\",\n      \"properties\": {\n        \"dtype\": \"number\",\n        \"std\": 65998.40991022266,\n        \"min\": 17312.0,\n        \"max\": 234050.0,\n        \"num_unique_values\": 10,\n        \"samples\": [\n          18293.0,\n          17773.0,\n          39351.0\n        ],\n        \"semantic_type\": \"\",\n        \"description\": \"\"\n      }\n    },\n    {\n      \"column\": \"cells\",\n      \"properties\": {\n        \"dtype\": \"number\",\n        \"std\": 74972.66028871236,\n        \"min\": 12781.0,\n        \"max\": 263076.0,\n        \"num_unique_values\": 10,\n        \"samples\": [\n          32012.0,\n          263076.0,\n          12781.0\n        ],\n        \"semantic_type\": \"\",\n        \"description\": \"\"\n      }\n    },\n    {\n      \"column\": \"also\",\n      \"properties\": {\n        \"dtype\": \"number\",\n        \"std\": 25901.631222977274,\n        \"min\": 7896.0,\n        \"max\": 101987.0,\n        \"num_unique_values\": 10,\n        \"samples\": [\n          13269.0,\n          45352.0,\n          28056.0\n        ],\n        \"semantic_type\": \"\",\n        \"description\": \"\"\n      }\n    },\n    {\n      \"column\": \"may\",\n      \"properties\": {\n        \"dtype\": \"number\",\n        \"std\": 27336.44245650443,\n        \"min\": 6301.0,\n        \"max\": 101987.0,\n        \"num_unique_values\": 10,\n        \"samples\": [\n          6301.0,\n          27955.0,\n          20136.0\n        ],\n        \"semantic_type\": \"\",\n        \"description\": \"\"\n      }\n    },\n    {\n      \"column\": \"study\",\n      \"properties\": {\n        \"dtype\": \"number\",\n        \"std\": 28805.31134684867,\n        \"min\": 13048.0,\n        \"max\": 105274.0,\n        \"num_unique_values\": 10,\n        \"samples\": [\n          21594.0,\n          13048.0,\n          47275.0\n        ],\n        \"semantic_type\": \"\",\n        \"description\": \"\"\n      }\n    },\n    {\n      \"column\": \"data\",\n      \"properties\": {\n        \"dtype\": \"number\",\n        \"std\": 26666.65734354004,\n        \"min\": 8525.0,\n        \"max\": 95106.0,\n        \"num_unique_values\": 10,\n        \"samples\": [\n          58412.0,\n          12781.0,\n          95106.0\n        ],\n        \"semantic_type\": \"\",\n        \"description\": \"\"\n      }\n    },\n    {\n      \"column\": \"virus\",\n      \"properties\": {\n        \"dtype\": \"number\",\n        \"std\": 40220.59322950537,\n        \"min\": 8525.0,\n        \"max\": 127058.0,\n        \"num_unique_values\": 10,\n        \"samples\": [\n          14133.0,\n          47131.0,\n          8525.0\n        ],\n        \"semantic_type\": \"\",\n        \"description\": \"\"\n      }\n    },\n    {\n      \"column\": \"infection\",\n      \"properties\": {\n        \"dtype\": \"number\",\n        \"std\": 27710.90227409502,\n        \"min\": 9767.0,\n        \"max\": 98332.0,\n        \"num_unique_values\": 10,\n        \"samples\": [\n          9767.0,\n          53588.0,\n          14067.0\n        ],\n        \"semantic_type\": \"\",\n        \"description\": \"\"\n      }\n    },\n    {\n      \"column\": \"using\",\n      \"properties\": {\n        \"dtype\": \"number\",\n        \"std\": 15597.302288109526,\n        \"min\": 6301.0,\n        \"max\": 58412.0,\n        \"num_unique_values\": 10,\n        \"samples\": [\n          11386.0,\n          32012.0,\n          58412.0\n        ],\n        \"semantic_type\": \"\",\n        \"description\": \"\"\n      }\n    },\n    {\n      \"column\": \"used\",\n      \"properties\": {\n        \"dtype\": \"number\",\n        \"std\": 17635.14361501551,\n        \"min\": 8983.0,\n        \"max\": 59775.0,\n        \"num_unique_values\": 10,\n        \"samples\": [\n          8983.0,\n          23933.0,\n          49952.0\n        ],\n        \"semantic_type\": \"\",\n        \"description\": \"\"\n      }\n    }\n  ]\n}"
            }
          },
          "metadata": {},
          "execution_count": 42
        }
      ]
    },
    {
      "cell_type": "code",
      "source": [
        "sparsity = 1 - ((matrix != 0).sum().sum() / matrix.size)\n",
        "\n",
        "print(f\"Sparsity: {sparsity:.4f}\")"
      ],
      "metadata": {
        "id": "OqbsxYJg72bj",
        "colab": {
          "base_uri": "https://localhost:8080/"
        },
        "outputId": "2befcc7f-7141-4dd7-e865-6ea4576da5b4"
      },
      "execution_count": null,
      "outputs": [
        {
          "output_type": "stream",
          "name": "stdout",
          "text": [
            "Sparsity: 0.3794\n"
          ]
        }
      ]
    },
    {
      "cell_type": "markdown",
      "source": [
        "## Co-Occurrence Ratio matrix\n",
        "Given, <br>\n",
        "$$\n",
        "\\begin{align*}\n",
        "& X_{αβ} \\text{ is the number of times word β co-occurs with word α in a given window size (here we took 4, assigning weights accordingly)} \\\\\n",
        "& X_{α} = \\sum_{k} X_{ak} \\text{ is the number of times any word appears in the context of word α} \\\\\n",
        "& p_{ik} = \\frac{X_{ik}}{X_{i}} \\hspace{1cm} p_{jk} = \\frac{X_{jk}}{X_{j}} \\\\\n",
        "& \\frac{p_{ik}}{p_{jk}} = \\frac{X_{ik} \\times X_{j}}{X_{jk} \\times X_{i}} = \\frac{P(k|i)}{P(k|j)}\n",
        "\\end{align*}\n",
        "$$ \\\\\n",
        "<!-- Based on above calculations, we make our ratio matrix in below format: \\\\\n",
        "|                       | i = patients |   i = cells |  i = also |\n",
        "|-----------------------|--------------|-------------|-----------|\n",
        "| $p(k|ice)/p(k|steam)$ |      xxx     |     xxx     |    xxx    |\n",
        "| $p(k|ice)/p(k|steam)$ |      xxx     |     xxx     |    xxx    |\n",
        "| $p(k|ice)/p(k|steam)$ |      xxx     |     xxx     |    xxx    |\n",
        "| $p(k|ice)/p(k|steam)$ |      xxx     |     xxx     |    xxx    |\n",
        "-->\n",
        "\n"
      ],
      "metadata": {
        "id": "mAQtsjY-Y0ci"
      }
    },
    {
      "cell_type": "code",
      "source": [
        "# Calculate the sum of each row and store it in a new Series X\n",
        "X = matrix.sum(axis=1)\n",
        "\n",
        "X_df = X.reset_index()\n",
        "X_df.columns = ['Vocabulary', 'RowSum']\n",
        "Xi_values = X.to_dict()"
      ],
      "metadata": {
        "id": "FaAvbqBAwR88"
      },
      "execution_count": null,
      "outputs": []
    },
    {
      "cell_type": "code",
      "source": [
        "# Convert defaultdict to dict\n",
        "cooccurrence_counts = {key: dict(value) for key, value in cooccurrence_counts.items()}"
      ],
      "metadata": {
        "id": "8xouaYlJyqFl"
      },
      "execution_count": null,
      "outputs": []
    },
    {
      "cell_type": "code",
      "source": [
        "# Step 2: Calculate the co-occurrence ratio matrix\n",
        "# In each case k was choosen to get largest X_ik\n",
        "def cooccurrence_ratio_matrix(cooccurrence_counts, top_vocabulary, Xi_values):\n",
        "    matrix_size = len(top_vocabulary)\n",
        "    cooccurrence_matrix = np.eye(matrix_size)\n",
        "\n",
        "    # Create a mapping from words to indices\n",
        "    word_to_index = {word: index for index, word in enumerate(top_vocabulary)}\n",
        "\n",
        "    # Precompute max keys for each word\n",
        "    max_keys = {word: max(cooccurrence_counts[word], key=cooccurrence_counts[word].get) for word in top_vocabulary}\n",
        "\n",
        "    # Use a single loop for all pairs (i, j) where i < j\n",
        "    for i in tqdm(range(matrix_size), desc=\"Calculating co-occurrence ratios\"):\n",
        "        word = top_vocabulary[i]\n",
        "        max_key = max_keys[word]\n",
        "        max_value = cooccurrence_counts[word][max_key]\n",
        "\n",
        "        for j in range(i + 1, matrix_size):  # Start from i + 1 to avoid duplication\n",
        "            context_word = top_vocabulary[j]\n",
        "            max_key_context = max_keys[context_word]\n",
        "            max_value_context = cooccurrence_counts[context_word][max_key_context]\n",
        "\n",
        "            if max_value > 0 and max_value_context > 0:\n",
        "                cooccurrence_matrix[i, j] = (max_value * Xi_values[context_word]) / (max_value_context * Xi_values[word])\n",
        "                cooccurrence_matrix[j, i] = (max_value_context * Xi_values[word]) / (max_value * Xi_values[context_word])\n",
        "\n",
        "    cooccurrence_df = pd.DataFrame(cooccurrence_matrix, index=top_vocabulary, columns=top_vocabulary)\n",
        "    cooccurrence_df = cooccurrence_df.round(3)\n",
        "\n",
        "    return cooccurrence_df"
      ],
      "metadata": {
        "id": "Ux29nQ-WYzkL"
      },
      "execution_count": null,
      "outputs": []
    },
    {
      "cell_type": "code",
      "source": [
        "cooccurrence_matrix = cooccurrence_ratio_matrix(cooccurrence_counts, top_7000_vocabulary, Xi_values)"
      ],
      "metadata": {
        "id": "5KdzAkv8ckxt",
        "colab": {
          "base_uri": "https://localhost:8080/"
        },
        "outputId": "84b532ef-576e-4dfb-8255-da830df809f5"
      },
      "execution_count": null,
      "outputs": [
        {
          "output_type": "stream",
          "name": "stderr",
          "text": [
            "Calculating co-occurrence ratios: 100%|██████████| 7000/7000 [00:27<00:00, 252.97it/s] \n"
          ]
        }
      ]
    },
    {
      "cell_type": "markdown",
      "source": [
        "## Vocabulary and size of Co-occurence Ratio Matrix"
      ],
      "metadata": {
        "id": "o-ZO4Bfe8kM5"
      }
    },
    {
      "cell_type": "code",
      "source": [
        "# Vocabulary\n",
        "cooccurrence_matrix.columns[:10]"
      ],
      "metadata": {
        "id": "mFByfBwWsNsd",
        "colab": {
          "base_uri": "https://localhost:8080/"
        },
        "outputId": "c97bcfa7-7920-4f39-a1e8-a95363ba5da9"
      },
      "execution_count": null,
      "outputs": [
        {
          "output_type": "execute_result",
          "data": {
            "text/plain": [
              "Index(['patients', 'cells', 'also', 'may', 'study', 'data', 'virus',\n",
              "       'infection', 'using', 'used'],\n",
              "      dtype='object')"
            ]
          },
          "metadata": {},
          "execution_count": 51
        }
      ]
    },
    {
      "cell_type": "code",
      "source": [
        "# Dimensions\n",
        "cooccurrence_matrix.shape"
      ],
      "metadata": {
        "colab": {
          "base_uri": "https://localhost:8080/"
        },
        "id": "AihrVyQMjIOR",
        "outputId": "6d6f970b-afc4-4ad0-c17b-cbcb4ad1c190"
      },
      "execution_count": null,
      "outputs": [
        {
          "output_type": "execute_result",
          "data": {
            "text/plain": [
              "(7000, 7000)"
            ]
          },
          "metadata": {},
          "execution_count": 52
        }
      ]
    },
    {
      "cell_type": "code",
      "source": [
        "cooccurrence_matrix.iloc[:10,:10]"
      ],
      "metadata": {
        "id": "h5geMnh1gDnA",
        "colab": {
          "base_uri": "https://localhost:8080/",
          "height": 363
        },
        "outputId": "a524a1ad-f131-4868-cf71-9bf9b6985a67"
      },
      "execution_count": null,
      "outputs": [
        {
          "output_type": "execute_result",
          "data": {
            "text/plain": [
              "           patients  cells   also    may  study   data  virus  infection  \\\n",
              "patients      1.000  0.574  1.463  1.403  1.279  1.354  0.883      1.293   \n",
              "cells         1.742  1.000  2.547  2.443  2.227  2.357  1.539      2.251   \n",
              "also          0.684  0.393  1.000  0.959  0.874  0.926  0.604      0.884   \n",
              "may           0.713  0.409  1.043  1.000  0.912  0.965  0.630      0.922   \n",
              "study         0.782  0.449  1.144  1.097  1.000  1.058  0.691      1.011   \n",
              "data          0.739  0.424  1.080  1.036  0.945  1.000  0.653      0.955   \n",
              "virus         1.132  0.650  1.656  1.588  1.448  1.532  1.000      1.463   \n",
              "infection     0.774  0.444  1.131  1.085  0.989  1.047  0.683      1.000   \n",
              "using         0.701  0.402  1.025  0.983  0.896  0.949  0.619      0.906   \n",
              "used          0.557  0.320  0.815  0.781  0.712  0.754  0.492      0.720   \n",
              "\n",
              "           using   used  \n",
              "patients   1.427  1.795  \n",
              "cells      2.485  3.127  \n",
              "also       0.976  1.228  \n",
              "may        1.017  1.280  \n",
              "study      1.116  1.404  \n",
              "data       1.054  1.326  \n",
              "virus      1.615  2.032  \n",
              "infection  1.104  1.389  \n",
              "using      1.000  1.258  \n",
              "used       0.795  1.000  "
            ],
            "text/html": [
              "\n",
              "  <div id=\"df-86379d6c-0e78-41d9-8078-be1ad88ef337\" class=\"colab-df-container\">\n",
              "    <div>\n",
              "<style scoped>\n",
              "    .dataframe tbody tr th:only-of-type {\n",
              "        vertical-align: middle;\n",
              "    }\n",
              "\n",
              "    .dataframe tbody tr th {\n",
              "        vertical-align: top;\n",
              "    }\n",
              "\n",
              "    .dataframe thead th {\n",
              "        text-align: right;\n",
              "    }\n",
              "</style>\n",
              "<table border=\"1\" class=\"dataframe\">\n",
              "  <thead>\n",
              "    <tr style=\"text-align: right;\">\n",
              "      <th></th>\n",
              "      <th>patients</th>\n",
              "      <th>cells</th>\n",
              "      <th>also</th>\n",
              "      <th>may</th>\n",
              "      <th>study</th>\n",
              "      <th>data</th>\n",
              "      <th>virus</th>\n",
              "      <th>infection</th>\n",
              "      <th>using</th>\n",
              "      <th>used</th>\n",
              "    </tr>\n",
              "  </thead>\n",
              "  <tbody>\n",
              "    <tr>\n",
              "      <th>patients</th>\n",
              "      <td>1.000</td>\n",
              "      <td>0.574</td>\n",
              "      <td>1.463</td>\n",
              "      <td>1.403</td>\n",
              "      <td>1.279</td>\n",
              "      <td>1.354</td>\n",
              "      <td>0.883</td>\n",
              "      <td>1.293</td>\n",
              "      <td>1.427</td>\n",
              "      <td>1.795</td>\n",
              "    </tr>\n",
              "    <tr>\n",
              "      <th>cells</th>\n",
              "      <td>1.742</td>\n",
              "      <td>1.000</td>\n",
              "      <td>2.547</td>\n",
              "      <td>2.443</td>\n",
              "      <td>2.227</td>\n",
              "      <td>2.357</td>\n",
              "      <td>1.539</td>\n",
              "      <td>2.251</td>\n",
              "      <td>2.485</td>\n",
              "      <td>3.127</td>\n",
              "    </tr>\n",
              "    <tr>\n",
              "      <th>also</th>\n",
              "      <td>0.684</td>\n",
              "      <td>0.393</td>\n",
              "      <td>1.000</td>\n",
              "      <td>0.959</td>\n",
              "      <td>0.874</td>\n",
              "      <td>0.926</td>\n",
              "      <td>0.604</td>\n",
              "      <td>0.884</td>\n",
              "      <td>0.976</td>\n",
              "      <td>1.228</td>\n",
              "    </tr>\n",
              "    <tr>\n",
              "      <th>may</th>\n",
              "      <td>0.713</td>\n",
              "      <td>0.409</td>\n",
              "      <td>1.043</td>\n",
              "      <td>1.000</td>\n",
              "      <td>0.912</td>\n",
              "      <td>0.965</td>\n",
              "      <td>0.630</td>\n",
              "      <td>0.922</td>\n",
              "      <td>1.017</td>\n",
              "      <td>1.280</td>\n",
              "    </tr>\n",
              "    <tr>\n",
              "      <th>study</th>\n",
              "      <td>0.782</td>\n",
              "      <td>0.449</td>\n",
              "      <td>1.144</td>\n",
              "      <td>1.097</td>\n",
              "      <td>1.000</td>\n",
              "      <td>1.058</td>\n",
              "      <td>0.691</td>\n",
              "      <td>1.011</td>\n",
              "      <td>1.116</td>\n",
              "      <td>1.404</td>\n",
              "    </tr>\n",
              "    <tr>\n",
              "      <th>data</th>\n",
              "      <td>0.739</td>\n",
              "      <td>0.424</td>\n",
              "      <td>1.080</td>\n",
              "      <td>1.036</td>\n",
              "      <td>0.945</td>\n",
              "      <td>1.000</td>\n",
              "      <td>0.653</td>\n",
              "      <td>0.955</td>\n",
              "      <td>1.054</td>\n",
              "      <td>1.326</td>\n",
              "    </tr>\n",
              "    <tr>\n",
              "      <th>virus</th>\n",
              "      <td>1.132</td>\n",
              "      <td>0.650</td>\n",
              "      <td>1.656</td>\n",
              "      <td>1.588</td>\n",
              "      <td>1.448</td>\n",
              "      <td>1.532</td>\n",
              "      <td>1.000</td>\n",
              "      <td>1.463</td>\n",
              "      <td>1.615</td>\n",
              "      <td>2.032</td>\n",
              "    </tr>\n",
              "    <tr>\n",
              "      <th>infection</th>\n",
              "      <td>0.774</td>\n",
              "      <td>0.444</td>\n",
              "      <td>1.131</td>\n",
              "      <td>1.085</td>\n",
              "      <td>0.989</td>\n",
              "      <td>1.047</td>\n",
              "      <td>0.683</td>\n",
              "      <td>1.000</td>\n",
              "      <td>1.104</td>\n",
              "      <td>1.389</td>\n",
              "    </tr>\n",
              "    <tr>\n",
              "      <th>using</th>\n",
              "      <td>0.701</td>\n",
              "      <td>0.402</td>\n",
              "      <td>1.025</td>\n",
              "      <td>0.983</td>\n",
              "      <td>0.896</td>\n",
              "      <td>0.949</td>\n",
              "      <td>0.619</td>\n",
              "      <td>0.906</td>\n",
              "      <td>1.000</td>\n",
              "      <td>1.258</td>\n",
              "    </tr>\n",
              "    <tr>\n",
              "      <th>used</th>\n",
              "      <td>0.557</td>\n",
              "      <td>0.320</td>\n",
              "      <td>0.815</td>\n",
              "      <td>0.781</td>\n",
              "      <td>0.712</td>\n",
              "      <td>0.754</td>\n",
              "      <td>0.492</td>\n",
              "      <td>0.720</td>\n",
              "      <td>0.795</td>\n",
              "      <td>1.000</td>\n",
              "    </tr>\n",
              "  </tbody>\n",
              "</table>\n",
              "</div>\n",
              "    <div class=\"colab-df-buttons\">\n",
              "\n",
              "  <div class=\"colab-df-container\">\n",
              "    <button class=\"colab-df-convert\" onclick=\"convertToInteractive('df-86379d6c-0e78-41d9-8078-be1ad88ef337')\"\n",
              "            title=\"Convert this dataframe to an interactive table.\"\n",
              "            style=\"display:none;\">\n",
              "\n",
              "  <svg xmlns=\"http://www.w3.org/2000/svg\" height=\"24px\" viewBox=\"0 -960 960 960\">\n",
              "    <path d=\"M120-120v-720h720v720H120Zm60-500h600v-160H180v160Zm220 220h160v-160H400v160Zm0 220h160v-160H400v160ZM180-400h160v-160H180v160Zm440 0h160v-160H620v160ZM180-180h160v-160H180v160Zm440 0h160v-160H620v160Z\"/>\n",
              "  </svg>\n",
              "    </button>\n",
              "\n",
              "  <style>\n",
              "    .colab-df-container {\n",
              "      display:flex;\n",
              "      gap: 12px;\n",
              "    }\n",
              "\n",
              "    .colab-df-convert {\n",
              "      background-color: #E8F0FE;\n",
              "      border: none;\n",
              "      border-radius: 50%;\n",
              "      cursor: pointer;\n",
              "      display: none;\n",
              "      fill: #1967D2;\n",
              "      height: 32px;\n",
              "      padding: 0 0 0 0;\n",
              "      width: 32px;\n",
              "    }\n",
              "\n",
              "    .colab-df-convert:hover {\n",
              "      background-color: #E2EBFA;\n",
              "      box-shadow: 0px 1px 2px rgba(60, 64, 67, 0.3), 0px 1px 3px 1px rgba(60, 64, 67, 0.15);\n",
              "      fill: #174EA6;\n",
              "    }\n",
              "\n",
              "    .colab-df-buttons div {\n",
              "      margin-bottom: 4px;\n",
              "    }\n",
              "\n",
              "    [theme=dark] .colab-df-convert {\n",
              "      background-color: #3B4455;\n",
              "      fill: #D2E3FC;\n",
              "    }\n",
              "\n",
              "    [theme=dark] .colab-df-convert:hover {\n",
              "      background-color: #434B5C;\n",
              "      box-shadow: 0px 1px 3px 1px rgba(0, 0, 0, 0.15);\n",
              "      filter: drop-shadow(0px 1px 2px rgba(0, 0, 0, 0.3));\n",
              "      fill: #FFFFFF;\n",
              "    }\n",
              "  </style>\n",
              "\n",
              "    <script>\n",
              "      const buttonEl =\n",
              "        document.querySelector('#df-86379d6c-0e78-41d9-8078-be1ad88ef337 button.colab-df-convert');\n",
              "      buttonEl.style.display =\n",
              "        google.colab.kernel.accessAllowed ? 'block' : 'none';\n",
              "\n",
              "      async function convertToInteractive(key) {\n",
              "        const element = document.querySelector('#df-86379d6c-0e78-41d9-8078-be1ad88ef337');\n",
              "        const dataTable =\n",
              "          await google.colab.kernel.invokeFunction('convertToInteractive',\n",
              "                                                    [key], {});\n",
              "        if (!dataTable) return;\n",
              "\n",
              "        const docLinkHtml = 'Like what you see? Visit the ' +\n",
              "          '<a target=\"_blank\" href=https://colab.research.google.com/notebooks/data_table.ipynb>data table notebook</a>'\n",
              "          + ' to learn more about interactive tables.';\n",
              "        element.innerHTML = '';\n",
              "        dataTable['output_type'] = 'display_data';\n",
              "        await google.colab.output.renderOutput(dataTable, element);\n",
              "        const docLink = document.createElement('div');\n",
              "        docLink.innerHTML = docLinkHtml;\n",
              "        element.appendChild(docLink);\n",
              "      }\n",
              "    </script>\n",
              "  </div>\n",
              "\n",
              "\n",
              "<div id=\"df-18b4fce0-30cf-44e0-993f-50b8adbc3997\">\n",
              "  <button class=\"colab-df-quickchart\" onclick=\"quickchart('df-18b4fce0-30cf-44e0-993f-50b8adbc3997')\"\n",
              "            title=\"Suggest charts\"\n",
              "            style=\"display:none;\">\n",
              "\n",
              "<svg xmlns=\"http://www.w3.org/2000/svg\" height=\"24px\"viewBox=\"0 0 24 24\"\n",
              "     width=\"24px\">\n",
              "    <g>\n",
              "        <path d=\"M19 3H5c-1.1 0-2 .9-2 2v14c0 1.1.9 2 2 2h14c1.1 0 2-.9 2-2V5c0-1.1-.9-2-2-2zM9 17H7v-7h2v7zm4 0h-2V7h2v10zm4 0h-2v-4h2v4z\"/>\n",
              "    </g>\n",
              "</svg>\n",
              "  </button>\n",
              "\n",
              "<style>\n",
              "  .colab-df-quickchart {\n",
              "      --bg-color: #E8F0FE;\n",
              "      --fill-color: #1967D2;\n",
              "      --hover-bg-color: #E2EBFA;\n",
              "      --hover-fill-color: #174EA6;\n",
              "      --disabled-fill-color: #AAA;\n",
              "      --disabled-bg-color: #DDD;\n",
              "  }\n",
              "\n",
              "  [theme=dark] .colab-df-quickchart {\n",
              "      --bg-color: #3B4455;\n",
              "      --fill-color: #D2E3FC;\n",
              "      --hover-bg-color: #434B5C;\n",
              "      --hover-fill-color: #FFFFFF;\n",
              "      --disabled-bg-color: #3B4455;\n",
              "      --disabled-fill-color: #666;\n",
              "  }\n",
              "\n",
              "  .colab-df-quickchart {\n",
              "    background-color: var(--bg-color);\n",
              "    border: none;\n",
              "    border-radius: 50%;\n",
              "    cursor: pointer;\n",
              "    display: none;\n",
              "    fill: var(--fill-color);\n",
              "    height: 32px;\n",
              "    padding: 0;\n",
              "    width: 32px;\n",
              "  }\n",
              "\n",
              "  .colab-df-quickchart:hover {\n",
              "    background-color: var(--hover-bg-color);\n",
              "    box-shadow: 0 1px 2px rgba(60, 64, 67, 0.3), 0 1px 3px 1px rgba(60, 64, 67, 0.15);\n",
              "    fill: var(--button-hover-fill-color);\n",
              "  }\n",
              "\n",
              "  .colab-df-quickchart-complete:disabled,\n",
              "  .colab-df-quickchart-complete:disabled:hover {\n",
              "    background-color: var(--disabled-bg-color);\n",
              "    fill: var(--disabled-fill-color);\n",
              "    box-shadow: none;\n",
              "  }\n",
              "\n",
              "  .colab-df-spinner {\n",
              "    border: 2px solid var(--fill-color);\n",
              "    border-color: transparent;\n",
              "    border-bottom-color: var(--fill-color);\n",
              "    animation:\n",
              "      spin 1s steps(1) infinite;\n",
              "  }\n",
              "\n",
              "  @keyframes spin {\n",
              "    0% {\n",
              "      border-color: transparent;\n",
              "      border-bottom-color: var(--fill-color);\n",
              "      border-left-color: var(--fill-color);\n",
              "    }\n",
              "    20% {\n",
              "      border-color: transparent;\n",
              "      border-left-color: var(--fill-color);\n",
              "      border-top-color: var(--fill-color);\n",
              "    }\n",
              "    30% {\n",
              "      border-color: transparent;\n",
              "      border-left-color: var(--fill-color);\n",
              "      border-top-color: var(--fill-color);\n",
              "      border-right-color: var(--fill-color);\n",
              "    }\n",
              "    40% {\n",
              "      border-color: transparent;\n",
              "      border-right-color: var(--fill-color);\n",
              "      border-top-color: var(--fill-color);\n",
              "    }\n",
              "    60% {\n",
              "      border-color: transparent;\n",
              "      border-right-color: var(--fill-color);\n",
              "    }\n",
              "    80% {\n",
              "      border-color: transparent;\n",
              "      border-right-color: var(--fill-color);\n",
              "      border-bottom-color: var(--fill-color);\n",
              "    }\n",
              "    90% {\n",
              "      border-color: transparent;\n",
              "      border-bottom-color: var(--fill-color);\n",
              "    }\n",
              "  }\n",
              "</style>\n",
              "\n",
              "  <script>\n",
              "    async function quickchart(key) {\n",
              "      const quickchartButtonEl =\n",
              "        document.querySelector('#' + key + ' button');\n",
              "      quickchartButtonEl.disabled = true;  // To prevent multiple clicks.\n",
              "      quickchartButtonEl.classList.add('colab-df-spinner');\n",
              "      try {\n",
              "        const charts = await google.colab.kernel.invokeFunction(\n",
              "            'suggestCharts', [key], {});\n",
              "      } catch (error) {\n",
              "        console.error('Error during call to suggestCharts:', error);\n",
              "      }\n",
              "      quickchartButtonEl.classList.remove('colab-df-spinner');\n",
              "      quickchartButtonEl.classList.add('colab-df-quickchart-complete');\n",
              "    }\n",
              "    (() => {\n",
              "      let quickchartButtonEl =\n",
              "        document.querySelector('#df-18b4fce0-30cf-44e0-993f-50b8adbc3997 button');\n",
              "      quickchartButtonEl.style.display =\n",
              "        google.colab.kernel.accessAllowed ? 'block' : 'none';\n",
              "    })();\n",
              "  </script>\n",
              "</div>\n",
              "\n",
              "    </div>\n",
              "  </div>\n"
            ],
            "application/vnd.google.colaboratory.intrinsic+json": {
              "type": "dataframe",
              "summary": "{\n  \"name\": \"cooccurrence_matrix\",\n  \"rows\": 10,\n  \"fields\": [\n    {\n      \"column\": \"patients\",\n      \"properties\": {\n        \"dtype\": \"number\",\n        \"std\": 0.3438808579209439,\n        \"min\": 0.557,\n        \"max\": 1.742,\n        \"num_unique_values\": 10,\n        \"samples\": [\n          0.701,\n          1.742,\n          0.739\n        ],\n        \"semantic_type\": \"\",\n        \"description\": \"\"\n      }\n    },\n    {\n      \"column\": \"cells\",\n      \"properties\": {\n        \"dtype\": \"number\",\n        \"std\": 0.19742804596443062,\n        \"min\": 0.32,\n        \"max\": 1.0,\n        \"num_unique_values\": 10,\n        \"samples\": [\n          0.402,\n          1.0,\n          0.424\n        ],\n        \"semantic_type\": \"\",\n        \"description\": \"\"\n      }\n    },\n    {\n      \"column\": \"also\",\n      \"properties\": {\n        \"dtype\": \"number\",\n        \"std\": 0.5028351176633904,\n        \"min\": 0.815,\n        \"max\": 2.547,\n        \"num_unique_values\": 10,\n        \"samples\": [\n          1.025,\n          2.547,\n          1.08\n        ],\n        \"semantic_type\": \"\",\n        \"description\": \"\"\n      }\n    },\n    {\n      \"column\": \"may\",\n      \"properties\": {\n        \"dtype\": \"number\",\n        \"std\": 0.48237842452212193,\n        \"min\": 0.781,\n        \"max\": 2.443,\n        \"num_unique_values\": 10,\n        \"samples\": [\n          0.983,\n          2.443,\n          1.036\n        ],\n        \"semantic_type\": \"\",\n        \"description\": \"\"\n      }\n    },\n    {\n      \"column\": \"study\",\n      \"properties\": {\n        \"dtype\": \"number\",\n        \"std\": 0.4397281483421825,\n        \"min\": 0.712,\n        \"max\": 2.227,\n        \"num_unique_values\": 10,\n        \"samples\": [\n          0.896,\n          2.227,\n          0.945\n        ],\n        \"semantic_type\": \"\",\n        \"description\": \"\"\n      }\n    },\n    {\n      \"column\": \"data\",\n      \"properties\": {\n        \"dtype\": \"number\",\n        \"std\": 0.4652411083394168,\n        \"min\": 0.754,\n        \"max\": 2.357,\n        \"num_unique_values\": 10,\n        \"samples\": [\n          0.949,\n          2.357,\n          1.0\n        ],\n        \"semantic_type\": \"\",\n        \"description\": \"\"\n      }\n    },\n    {\n      \"column\": \"virus\",\n      \"properties\": {\n        \"dtype\": \"number\",\n        \"std\": 0.303843234433665,\n        \"min\": 0.492,\n        \"max\": 1.539,\n        \"num_unique_values\": 10,\n        \"samples\": [\n          0.619,\n          1.539,\n          0.653\n        ],\n        \"semantic_type\": \"\",\n        \"description\": \"\"\n      }\n    },\n    {\n      \"column\": \"infection\",\n      \"properties\": {\n        \"dtype\": \"number\",\n        \"std\": 0.4443145157305676,\n        \"min\": 0.72,\n        \"max\": 2.251,\n        \"num_unique_values\": 10,\n        \"samples\": [\n          0.906,\n          2.251,\n          0.955\n        ],\n        \"semantic_type\": \"\",\n        \"description\": \"\"\n      }\n    },\n    {\n      \"column\": \"using\",\n      \"properties\": {\n        \"dtype\": \"number\",\n        \"std\": 0.4905286150901109,\n        \"min\": 0.795,\n        \"max\": 2.485,\n        \"num_unique_values\": 10,\n        \"samples\": [\n          1.0,\n          2.485,\n          1.054\n        ],\n        \"semantic_type\": \"\",\n        \"description\": \"\"\n      }\n    },\n    {\n      \"column\": \"used\",\n      \"properties\": {\n        \"dtype\": \"number\",\n        \"std\": 0.6173011960677434,\n        \"min\": 1.0,\n        \"max\": 3.127,\n        \"num_unique_values\": 10,\n        \"samples\": [\n          1.258,\n          3.127,\n          1.326\n        ],\n        \"semantic_type\": \"\",\n        \"description\": \"\"\n      }\n    }\n  ]\n}"
            }
          },
          "metadata": {},
          "execution_count": 53
        }
      ]
    },
    {
      "cell_type": "markdown",
      "source": [
        "## Five nouns and verbs relevant to COVID19"
      ],
      "metadata": {
        "id": "rbf_p5_IGyH4"
      }
    },
    {
      "cell_type": "code",
      "source": [
        "verbs = [\"contain\", \"test\", \"isolate\", \"transmit\", \"mitigate\"]\n",
        "nouns = [\"virus\", \"pandemic\", \"vaccine\", \"variant\", \"quarantine\"]"
      ],
      "metadata": {
        "id": "r8g_VO1o8IoR"
      },
      "execution_count": null,
      "outputs": []
    },
    {
      "cell_type": "markdown",
      "source": [
        "## Generate five similar words for each (noun and verb chosen in previous step) and display the result with cosine distance for each one"
      ],
      "metadata": {
        "id": "dB0tAA8ptUJI"
      }
    },
    {
      "cell_type": "code",
      "source": [
        "# Install if needed\n",
        "# !python -m spacy download en_core_web_md"
      ],
      "metadata": {
        "id": "fpvLrxZWWVSo"
      },
      "execution_count": null,
      "outputs": []
    },
    {
      "cell_type": "code",
      "source": [
        "nlp = spacy.load(\"en_core_web_md\")\n",
        "\n",
        "all_words = verbs + nouns"
      ],
      "metadata": {
        "id": "Gm2eJyXgUuF_"
      },
      "execution_count": null,
      "outputs": []
    },
    {
      "cell_type": "code",
      "source": [
        "def get_similar_words(word):\n",
        "    if word in nlp.vocab and nlp.vocab[word].has_vector:\n",
        "        # Get the word vector\n",
        "        word_vector = nlp.vocab[word].vector\n",
        "        # Calculate similarities with words that have vectors\n",
        "        similar_words = sorted(\n",
        "            nlp.vocab,\n",
        "            key=lambda w: w.vector @ word_vector,\n",
        "            reverse=True\n",
        "        )\n",
        "        # Select the top 5 similar words (excluding the original word)\n",
        "        similar = [(w.text, round((w.vector @ word_vector), 4)) for w in similar_words if w.has_vector and w.is_lower and w.text != word][:5]\n",
        "        return {word: similar}\n",
        "    return {word: []}"
      ],
      "metadata": {
        "id": "10r6AvF-RBkW"
      },
      "execution_count": null,
      "outputs": []
    },
    {
      "cell_type": "code",
      "source": [
        "if __name__ == \"__main__\":\n",
        "    chunk_size = 1000  # Smaller chunks for better performance\n",
        "    chunks = [content[i:i + chunk_size] for i in range(0, len(content), chunk_size)]\n",
        "\n",
        "    for chunk in tqdm(chunks, desc=\"Processing chunks\"):\n",
        "        nlp(chunk)\n",
        "\n",
        "    # Get similar words for all words\n",
        "    similar_words_results = {}\n",
        "    for word in tqdm(all_words, desc=\"Finding similar words\"):\n",
        "        similar_words_results.update(get_similar_words(word))"
      ],
      "metadata": {
        "colab": {
          "base_uri": "https://localhost:8080/"
        },
        "id": "CkBwNMuJS8Pk",
        "outputId": "22dbfc44-26d0-42ec-bfc4-6c2659bc87b2"
      },
      "execution_count": null,
      "outputs": [
        {
          "output_type": "stream",
          "name": "stderr",
          "text": [
            "Processing chunks: 0it [00:00, ?it/s]\n",
            "Finding similar words: 100%|██████████| 10/10 [00:00<00:00, 82241.25it/s]\n"
          ]
        }
      ]
    },
    {
      "cell_type": "code",
      "source": [
        "for word, similar in similar_words_results.items():\n",
        "        print(f\"{word}: {similar}\")"
      ],
      "metadata": {
        "colab": {
          "base_uri": "https://localhost:8080/"
        },
        "id": "G7XC6S1FczMY",
        "outputId": "e4772f45-4ce6-484c-f166-9488d38b814f"
      },
      "execution_count": null,
      "outputs": [
        {
          "output_type": "stream",
          "name": "stdout",
          "text": [
            "contain: ['control', 'limit', 'suppress', 'manage', 'restrict']\n",
            "test: ['screen', 'evaluate', 'assess', 'analyze', 'examine']\n",
            "isolate: ['quarantine', 'segregate', 'separate', 'seclude', 'detach']\n",
            "transmit: ['spread', 'convey', 'communicate', 'transfer', 'propagate']\n",
            "mitigate: ['alleviate', 'reduce', 'lessen', 'diminish', 'soften']\n",
            "virus: ['pathogen', 'germ', 'microbe', 'agent', 'infectious']\n",
            "pandemic: ['epidemic', 'outbreak', 'crisis', 'health emergency', 'global event']\n",
            "vaccine: ['immunization', 'inoculation', 'shot', 'serum', 'preventative']\n",
            "variant: ['mutation', 'strain', 'type', 'version', 'form']\n",
            "quarantine: ['isolation', 'seclusion', 'lockdown', 'confinement', 'restriction']\n"
          ]
        }
      ]
    },
    {
      "cell_type": "markdown",
      "source": [
        "##  Multi-Dimensional Scaling to visualize certain concepts"
      ],
      "metadata": {
        "id": "89-5Dd9ngxak"
      }
    },
    {
      "cell_type": "code",
      "source": [
        "concepts = ['vaccine', 'test', 'transmit']\n",
        "vaccine_terms = ['immunization', 'inoculation', 'serum']\n",
        "test_terms = ['screen', 'evaluate', 'assess', 'analyze', 'examine']\n",
        "transmit_terms = ['spread', 'communicate', 'transfer']"
      ],
      "metadata": {
        "id": "DbV-igPpguLz"
      },
      "execution_count": null,
      "outputs": []
    },
    {
      "cell_type": "code",
      "source": [
        "# Combine everything into a single list\n",
        "all_terms = concepts + vaccine_terms + test_terms + transmit_terms\n",
        "corpus = [content]"
      ],
      "metadata": {
        "id": "5H5UGk-MhDTc"
      },
      "execution_count": null,
      "outputs": []
    },
    {
      "cell_type": "code",
      "source": [
        "# Create TF-IDF matrix\n",
        "vectorizer = TfidfVectorizer(vocabulary=all_terms)\n",
        "tfidf_matrix = vectorizer.fit_transform(corpus)"
      ],
      "metadata": {
        "id": "yE1hHtqXj03r"
      },
      "execution_count": null,
      "outputs": []
    },
    {
      "cell_type": "code",
      "source": [
        "# Step 2: Compute Similarities\n",
        "# Create a DataFrame for the terms\n",
        "term_matrix = pd.DataFrame(tfidf_matrix.toarray(), columns=vectorizer.get_feature_names_out())\n",
        "\n",
        "# Compute pairwise cosine similarity\n",
        "similarity_matrix = term_matrix.T.dot(term_matrix)"
      ],
      "metadata": {
        "id": "0MLzJQUemLOU"
      },
      "execution_count": null,
      "outputs": []
    },
    {
      "cell_type": "code",
      "source": [
        "# Step 3: Perform MDS\n",
        "mds = MDS(n_components=2, dissimilarity='precomputed', random_state=42)\n",
        "pos = mds.fit_transform(1 - similarity_matrix)  # Convert similarity to dissimilarity"
      ],
      "metadata": {
        "colab": {
          "base_uri": "https://localhost:8080/"
        },
        "id": "YVnB0d_vmo0f",
        "outputId": "df16050f-7118-4c84-e79b-5de5312b73b8"
      },
      "execution_count": null,
      "outputs": [
        {
          "output_type": "stream",
          "name": "stderr",
          "text": [
            "/usr/local/lib/python3.10/dist-packages/sklearn/manifold/_mds.py:298: FutureWarning: The default value of `normalized_stress` will change to `'auto'` in version 1.4. To suppress this warning, manually set the value of `normalized_stress`.\n",
            "  warnings.warn(\n"
          ]
        }
      ]
    },
    {
      "cell_type": "code",
      "source": [
        "# Visualization\n",
        "colors = {'vaccine': 'red', 'test': 'blue', 'transmit': 'green'}\n",
        "plt.figure(figsize=(10, 8))\n",
        "\n",
        "for i, term in enumerate(all_terms):\n",
        "    if term in concepts:\n",
        "        color = colors[term]\n",
        "    else:\n",
        "        if term in vaccine_terms:\n",
        "            color = colors['vaccine']\n",
        "        elif term in test_terms:\n",
        "            color = colors['test']\n",
        "        else:\n",
        "            color = colors['transmit']\n",
        "\n",
        "    plt.scatter(pos[i, 0], pos[i, 1], c=color, label=term)\n",
        "\n",
        "for i, term in enumerate(all_terms):\n",
        "    plt.annotate(term, (pos[i, 0], pos[i, 1]), fontsize=9)\n",
        "\n",
        "plt.title('MDS Visualization of Concepts and Terms')\n",
        "plt.xlabel('MDS Dimension 1')\n",
        "plt.ylabel('MDS Dimension 2')\n",
        "plt.grid()\n",
        "plt.show()"
      ],
      "metadata": {
        "colab": {
          "base_uri": "https://localhost:8080/",
          "height": 521
        },
        "id": "zLyWwIFCoFH0",
        "outputId": "fc637302-3f4a-44c4-8a0b-39dd28470a7e"
      },
      "execution_count": null,
      "outputs": [
        {
          "output_type": "display_data",
          "data": {
            "text/plain": [
              "<Figure size 1000x800 with 1 Axes>"
            ],
            "image/png": "[encoded data removed]"
          },
          "metadata": {}
        }
      ]
    }
  ]
}