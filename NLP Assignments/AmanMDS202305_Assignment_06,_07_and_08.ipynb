{
  "nbformat": 4,
  "nbformat_minor": 0,
  "metadata": {
    "colab": {
      "provenance": [],
      "gpuType": "V28"
    },
    "kernelspec": {
      "name": "python3",
      "display_name": "Python 3"
    },
    "language_info": {
      "name": "python"
    },
    "accelerator": "TPU"
  },
  "cells": [
    {
      "cell_type": "markdown",
      "source": [
        "# Abstract Generation from COVID-19 dataset\n",
        "For this task, I have chosen LSTM."
      ],
      "metadata": {
        "id": "8Vrqv-ZaMiEh"
      }
    },
    {
      "cell_type": "code",
      "source": [
        "!pip install nltk\n",
        "import nltk\n",
        "nltk.download('stopwords')\n",
        "nltk.download('punkt')\n",
        "nltk.download('punkt_tab')\n",
        "!pip install tensorflow"
      ],
      "metadata": {
        "colab": {
          "base_uri": "https://localhost:8080/"
        },
        "id": "UzTCTjwaL81f",
        "outputId": "4a018701-d539-4976-8851-a5e939890a2d"
      },
      "execution_count": null,
      "outputs": [
        {
          "output_type": "stream",
          "name": "stdout",
          "text": [
            "Requirement already satisfied: nltk in /usr/local/lib/python3.10/dist-packages (3.9.1)\n",
            "Requirement already satisfied: click in /usr/local/lib/python3.10/dist-packages (from nltk) (8.1.7)\n",
            "Requirement already satisfied: joblib in /usr/local/lib/python3.10/dist-packages (from nltk) (1.4.2)\n",
            "Requirement already satisfied: regex>=2021.8.3 in /usr/local/lib/python3.10/dist-packages (from nltk) (2024.11.6)\n",
            "Requirement already satisfied: tqdm in /usr/local/lib/python3.10/dist-packages (from nltk) (4.66.6)\n"
          ]
        },
        {
          "output_type": "stream",
          "name": "stderr",
          "text": [
            "[nltk_data] Downloading package stopwords to /root/nltk_data...\n",
            "[nltk_data]   Package stopwords is already up-to-date!\n",
            "[nltk_data] Downloading package punkt to /root/nltk_data...\n",
            "[nltk_data]   Package punkt is already up-to-date!\n",
            "[nltk_data] Downloading package punkt_tab to /root/nltk_data...\n",
            "[nltk_data]   Package punkt_tab is already up-to-date!\n"
          ]
        },
        {
          "output_type": "stream",
          "name": "stdout",
          "text": [
            "Requirement already satisfied: tensorflow in /usr/local/lib/python3.10/dist-packages (2.15.0)\n",
            "Requirement already satisfied: absl-py>=1.0.0 in /usr/local/lib/python3.10/dist-packages (from tensorflow) (1.4.0)\n",
            "Requirement already satisfied: astunparse>=1.6.0 in /usr/local/lib/python3.10/dist-packages (from tensorflow) (1.6.3)\n",
            "Requirement already satisfied: flatbuffers>=23.5.26 in /usr/local/lib/python3.10/dist-packages (from tensorflow) (24.3.25)\n",
            "Requirement already satisfied: gast!=0.5.0,!=0.5.1,!=0.5.2,>=0.2.1 in /usr/local/lib/python3.10/dist-packages (from tensorflow) (0.6.0)\n",
            "Requirement already satisfied: google-pasta>=0.1.1 in /usr/local/lib/python3.10/dist-packages (from tensorflow) (0.2.0)\n",
            "Requirement already satisfied: h5py>=2.9.0 in /usr/local/lib/python3.10/dist-packages (from tensorflow) (3.12.1)\n",
            "Requirement already satisfied: libclang>=13.0.0 in /usr/local/lib/python3.10/dist-packages (from tensorflow) (18.1.1)\n",
            "Requirement already satisfied: ml-dtypes~=0.2.0 in /usr/local/lib/python3.10/dist-packages (from tensorflow) (0.2.0)\n",
            "Requirement already satisfied: numpy<2.0.0,>=1.23.5 in /usr/local/lib/python3.10/dist-packages (from tensorflow) (1.26.4)\n",
            "Requirement already satisfied: opt-einsum>=2.3.2 in /usr/local/lib/python3.10/dist-packages (from tensorflow) (3.4.0)\n",
            "Requirement already satisfied: packaging in /usr/local/lib/python3.10/dist-packages (from tensorflow) (24.2)\n",
            "Requirement already satisfied: protobuf!=4.21.0,!=4.21.1,!=4.21.2,!=4.21.3,!=4.21.4,!=4.21.5,<5.0.0dev,>=3.20.3 in /usr/local/lib/python3.10/dist-packages (from tensorflow) (4.25.5)\n",
            "Requirement already satisfied: setuptools in /usr/local/lib/python3.10/dist-packages (from tensorflow) (75.1.0)\n",
            "Requirement already satisfied: six>=1.12.0 in /usr/local/lib/python3.10/dist-packages (from tensorflow) (1.16.0)\n",
            "Requirement already satisfied: termcolor>=1.1.0 in /usr/local/lib/python3.10/dist-packages (from tensorflow) (2.5.0)\n",
            "Requirement already satisfied: typing-extensions>=3.6.6 in /usr/local/lib/python3.10/dist-packages (from tensorflow) (4.12.2)\n",
            "Requirement already satisfied: wrapt<1.15,>=1.11.0 in /usr/local/lib/python3.10/dist-packages (from tensorflow) (1.14.1)\n",
            "Requirement already satisfied: tensorflow-io-gcs-filesystem>=0.23.1 in /usr/local/lib/python3.10/dist-packages (from tensorflow) (0.37.1)\n",
            "Requirement already satisfied: grpcio<2.0,>=1.24.3 in /usr/local/lib/python3.10/dist-packages (from tensorflow) (1.68.0)\n",
            "Requirement already satisfied: tensorboard<2.16,>=2.15 in /usr/local/lib/python3.10/dist-packages (from tensorflow) (2.15.2)\n",
            "Requirement already satisfied: tensorflow-estimator<2.16,>=2.15.0 in /usr/local/lib/python3.10/dist-packages (from tensorflow) (2.15.0)\n",
            "Requirement already satisfied: keras<2.16,>=2.15.0 in /usr/local/lib/python3.10/dist-packages (from tensorflow) (2.15.0)\n",
            "Requirement already satisfied: wheel<1.0,>=0.23.0 in /usr/local/lib/python3.10/dist-packages (from astunparse>=1.6.0->tensorflow) (0.45.0)\n",
            "Requirement already satisfied: google-auth<3,>=1.6.3 in /usr/local/lib/python3.10/dist-packages (from tensorboard<2.16,>=2.15->tensorflow) (2.27.0)\n",
            "Requirement already satisfied: google-auth-oauthlib<2,>=0.5 in /usr/local/lib/python3.10/dist-packages (from tensorboard<2.16,>=2.15->tensorflow) (1.2.1)\n",
            "Requirement already satisfied: markdown>=2.6.8 in /usr/local/lib/python3.10/dist-packages (from tensorboard<2.16,>=2.15->tensorflow) (3.7)\n",
            "Requirement already satisfied: requests<3,>=2.21.0 in /usr/local/lib/python3.10/dist-packages (from tensorboard<2.16,>=2.15->tensorflow) (2.32.3)\n",
            "Requirement already satisfied: tensorboard-data-server<0.8.0,>=0.7.0 in /usr/local/lib/python3.10/dist-packages (from tensorboard<2.16,>=2.15->tensorflow) (0.7.2)\n",
            "Requirement already satisfied: werkzeug>=1.0.1 in /usr/local/lib/python3.10/dist-packages (from tensorboard<2.16,>=2.15->tensorflow) (3.1.3)\n",
            "Requirement already satisfied: cachetools<6.0,>=2.0.0 in /usr/local/lib/python3.10/dist-packages (from google-auth<3,>=1.6.3->tensorboard<2.16,>=2.15->tensorflow) (5.5.0)\n",
            "Requirement already satisfied: pyasn1-modules>=0.2.1 in /usr/local/lib/python3.10/dist-packages (from google-auth<3,>=1.6.3->tensorboard<2.16,>=2.15->tensorflow) (0.4.1)\n",
            "Requirement already satisfied: rsa<5,>=3.1.4 in /usr/local/lib/python3.10/dist-packages (from google-auth<3,>=1.6.3->tensorboard<2.16,>=2.15->tensorflow) (4.9)\n",
            "Requirement already satisfied: requests-oauthlib>=0.7.0 in /usr/local/lib/python3.10/dist-packages (from google-auth-oauthlib<2,>=0.5->tensorboard<2.16,>=2.15->tensorflow) (2.0.0)\n",
            "Requirement already satisfied: charset-normalizer<4,>=2 in /usr/local/lib/python3.10/dist-packages (from requests<3,>=2.21.0->tensorboard<2.16,>=2.15->tensorflow) (3.4.0)\n",
            "Requirement already satisfied: idna<4,>=2.5 in /usr/local/lib/python3.10/dist-packages (from requests<3,>=2.21.0->tensorboard<2.16,>=2.15->tensorflow) (3.10)\n",
            "Requirement already satisfied: urllib3<3,>=1.21.1 in /usr/local/lib/python3.10/dist-packages (from requests<3,>=2.21.0->tensorboard<2.16,>=2.15->tensorflow) (2.2.3)\n",
            "Requirement already satisfied: certifi>=2017.4.17 in /usr/local/lib/python3.10/dist-packages (from requests<3,>=2.21.0->tensorboard<2.16,>=2.15->tensorflow) (2024.8.30)\n",
            "Requirement already satisfied: MarkupSafe>=2.1.1 in /usr/local/lib/python3.10/dist-packages (from werkzeug>=1.0.1->tensorboard<2.16,>=2.15->tensorflow) (3.0.2)\n",
            "Requirement already satisfied: pyasn1<0.7.0,>=0.4.6 in /usr/local/lib/python3.10/dist-packages (from pyasn1-modules>=0.2.1->google-auth<3,>=1.6.3->tensorboard<2.16,>=2.15->tensorflow) (0.6.1)\n",
            "Requirement already satisfied: oauthlib>=3.0.0 in /usr/local/lib/python3.10/dist-packages (from requests-oauthlib>=0.7.0->google-auth-oauthlib<2,>=0.5->tensorboard<2.16,>=2.15->tensorflow) (3.2.2)\n"
          ]
        }
      ]
    },
    {
      "cell_type": "code",
      "execution_count": null,
      "metadata": {
        "id": "mPeUmlfqhvId"
      },
      "outputs": [],
      "source": [
        "import gdown # To download the file from Google Drive\n",
        "import json\n",
        "import re\n",
        "import pandas as pd\n",
        "import numpy as np\n",
        "import random\n",
        "import zipfile\n",
        "import os\n",
        "import glob\n",
        "import multiprocessing\n",
        "from multiprocessing import Pool, cpu_count, Lock\n",
        "from functools import partial\n",
        "import numpy as np\n",
        "import tensorflow as tf\n",
        "from tensorflow.keras.optimizers import Adam\n",
        "from tqdm import tqdm\n",
        "from collections import Counter\n",
        "import matplotlib.pyplot as plt\n",
        "from nltk.tokenize import word_tokenize\n",
        "from nltk.corpus import stopwords\n",
        "import string\n",
        "from IPython.display import display, Math"
      ]
    },
    {
      "cell_type": "markdown",
      "metadata": {
        "id": "k_0QWOZuOCry"
      },
      "source": [
        "## Getting the file from GDrive"
      ]
    },
    {
      "cell_type": "code",
      "execution_count": null,
      "metadata": {
        "colab": {
          "base_uri": "https://localhost:8080/",
          "height": 126
        },
        "id": "bsXBqcK1zI-F",
        "outputId": "425d6ccc-04fd-405a-f0c0-2a0b2d747ba0"
      },
      "outputs": [
        {
          "output_type": "stream",
          "name": "stderr",
          "text": [
            "Downloading...\n",
            "From (original): https://drive.google.com/uc?id=1fxAEZNVY0zXhJaGyzEw6BzDuUjvkiHXE\n",
            "From (redirected): https://drive.google.com/uc?id=1fxAEZNVY0zXhJaGyzEw6BzDuUjvkiHXE&confirm=t&uuid=35da7e90-14b7-4ce7-b791-4a276b20d6df\n",
            "To: /content/dataset.zip\n",
            "100%|██████████| 1.00G/1.00G [00:05<00:00, 194MB/s]\n"
          ]
        },
        {
          "output_type": "execute_result",
          "data": {
            "text/plain": [
              "'dataset.zip'"
            ],
            "application/vnd.google.colaboratory.intrinsic+json": {
              "type": "string"
            }
          },
          "metadata": {},
          "execution_count": 3
        }
      ],
      "source": [
        "file_id = '1fxAEZNVY0zXhJaGyzEw6BzDuUjvkiHXE'\n",
        "url = f'https://drive.google.com/uc?id={file_id}'\n",
        "output = 'dataset.zip'\n",
        "gdown.download(url, output, quiet=False)"
      ]
    },
    {
      "cell_type": "markdown",
      "metadata": {
        "id": "nq0TE6KzOHQL"
      },
      "source": [
        "## File Extraction and setting path for access"
      ]
    },
    {
      "cell_type": "code",
      "execution_count": null,
      "metadata": {
        "colab": {
          "base_uri": "https://localhost:8080/"
        },
        "id": "aJ-W7dhX0msk",
        "outputId": "cfc0f318-7029-4613-f426-54c2b5393211"
      },
      "outputs": [
        {
          "output_type": "stream",
          "name": "stdout",
          "text": [
            "Number of files in zip: 56529\n"
          ]
        },
        {
          "output_type": "stream",
          "name": "stderr",
          "text": [
            "Extracting first 100 files: 100%|██████████| 100/100 [00:00<00:00, 1848.69it/s]\n",
            "Extracting all files: 100%|██████████| 56529/56529 [00:52<00:00, 1077.44it/s]\n"
          ]
        }
      ],
      "source": [
        "zip_file_path = 'dataset.zip'\n",
        "extraction_dir_all = '/content/dataset_all'\n",
        "extraction_dir_100 = '/content/dataset_100'\n",
        "\n",
        "# Create directories with all and first 100 files\n",
        "os.makedirs(extraction_dir_all, exist_ok=True)\n",
        "os.makedirs(extraction_dir_100, exist_ok=True)\n",
        "\n",
        "# Open the zip file\n",
        "with zipfile.ZipFile(zip_file_path, 'r') as zip_ref:\n",
        "    file_list = [file for file in zip_ref.namelist() if not file.endswith('/')]\n",
        "    print(f\"Number of files in zip: {len(file_list)}\")\n",
        "\n",
        "    # Limit to the first 100 files\n",
        "    files_to_extract_100 = file_list[:100]\n",
        "\n",
        "    # Extract first 100 files into the dataset_100 folder\n",
        "    with tqdm(total=len(files_to_extract_100), desc='Extracting first 100 files') as pbar:\n",
        "        for i, file in enumerate(files_to_extract_100):\n",
        "            # Create a custom file name for the first 100 files\n",
        "            new_filename_100 = f\"{i + 1}_{os.path.basename(file)}\"\n",
        "            new_filepath_100 = os.path.join(extraction_dir_100, new_filename_100)\n",
        "\n",
        "            # Extract the file to the new location with the new name\n",
        "            with zip_ref.open(file) as source_file, open(new_filepath_100, 'wb') as dest_file:\n",
        "                dest_file.write(source_file.read())\n",
        "\n",
        "            pbar.update(1)\n",
        "\n",
        "    # Extract all files into the dataset_all folder (skip directories)\n",
        "    with tqdm(total=len(file_list), desc='Extracting all files') as pbar:\n",
        "        for i, file in enumerate(file_list):\n",
        "            new_filepath_all = os.path.join(extraction_dir_all, os.path.basename(file))\n",
        "\n",
        "            # Extract the file to the new location with the original name\n",
        "            with zip_ref.open(file) as source_file, open(new_filepath_all, 'wb') as dest_file:\n",
        "                dest_file.write(source_file.read())\n",
        "\n",
        "            pbar.update(1)"
      ]
    },
    {
      "cell_type": "markdown",
      "metadata": {
        "id": "8Cz7WVvGoGY0"
      },
      "source": [
        "## Extracting all texts from all abstracts"
      ]
    },
    {
      "cell_type": "code",
      "execution_count": null,
      "metadata": {
        "id": "qqrKOBqm809T"
      },
      "outputs": [],
      "source": [
        "# Add this to create 'pdf_json' subdirectory if they don't exist\n",
        "os.makedirs(os.path.join(extraction_dir_all, 'pdf_json'), exist_ok=True)\n",
        "os.makedirs(os.path.join(extraction_dir_100, 'pdf_json'), exist_ok=True)\n",
        "\n",
        "all_json_files = [f for f in os.listdir(extraction_dir_all) if f.endswith('.json') and not f.endswith('.swp')]\n",
        "json_100_files = [f for f in os.listdir(extraction_dir_100) if f.endswith('.json') and not f.endswith('.swp')]\n",
        "\n",
        "# Function to process each JSON file\n",
        "def process_file(extraction, file_name):\n",
        "    file_path = os.path.join(extraction, file_name)\n",
        "    text_data = []\n",
        "\n",
        "    try:\n",
        "        with open(file_path, 'r', encoding='utf-8') as file:\n",
        "            data = json.load(file)\n",
        "\n",
        "            # Function to find \"title\" and \"text\", excluding certain contexts\n",
        "            def extract_text(data):\n",
        "                if isinstance(data, dict):\n",
        "                    # Extract \"abstract\" and \"body_text\" text\n",
        "                    if 'abstract' in data:\n",
        "                        abstract = data['abstract']\n",
        "                        if isinstance(abstract, list):\n",
        "                            for item in abstract:\n",
        "                                if isinstance(item, dict) and 'text' in item:\n",
        "                                    text = item['text']\n",
        "                                    if isinstance(text, str):\n",
        "                                        text_data.append(text)\n",
        "\n",
        "                    # Check and skip \"cite_spans\"\n",
        "                    if 'cite_spans' in data:\n",
        "                        # Skip extraction from \"cite_spans\"\n",
        "                        return\n",
        "\n",
        "                    for key, value in data.items():\n",
        "                        extract_text(value)\n",
        "                elif isinstance(data, list):\n",
        "                    for item in data:\n",
        "                        extract_text(item)\n",
        "\n",
        "            extract_text(data)\n",
        "    except Exception as e:\n",
        "        print(f\"Error processing file {file_name}: {e}\")\n",
        "\n",
        "    return text_data\n",
        "\n",
        "# Use multiprocessing to process files in parallel\n",
        "def parallel_process(extraction, files, num_workers=4):\n",
        "    # Create a partial function that binds the 'extraction' argument to 'process_file'\n",
        "    process_with_extraction = partial(process_file, extraction)\n",
        "\n",
        "    with multiprocessing.Pool(num_workers) as pool:\n",
        "        results = list(tqdm(pool.imap(process_with_extraction, files), total=len(files)))\n",
        "\n",
        "    return results"
      ]
    },
    {
      "cell_type": "code",
      "execution_count": null,
      "metadata": {
        "colab": {
          "base_uri": "https://localhost:8080/"
        },
        "id": "sY8krq6oHEzd",
        "outputId": "0bc41b42-5c0b-46cc-a068-0061894d7079"
      },
      "outputs": [
        {
          "output_type": "stream",
          "name": "stderr",
          "text": [
            "100%|██████████| 56528/56528 [00:16<00:00, 3493.62it/s]\n",
            "100%|██████████| 100/100 [00:00<00:00, 4311.67it/s]\n"
          ]
        }
      ],
      "source": [
        "# Add this to create 'dataset' subdirectory if they don't exist\n",
        "os.makedirs('/content/dataset', exist_ok=True)\n",
        "\n",
        "corpus_file_path_all = '/content/corpus_all.txt'\n",
        "corpus_file_path_100 = '/content/corpus_100.txt'\n",
        "results_all = parallel_process(extraction_dir_all, all_json_files, num_workers=4)\n",
        "results_100 = parallel_process(extraction_dir_100, json_100_files, num_workers=4)\n",
        "\n",
        "# Flatten the list of results and combine all text\n",
        "corpus_all = [text for sublist in results_all for text in sublist]\n",
        "corpus_100 = [text for sublist in results_100 for text in sublist]\n",
        "\n",
        "# Save the corpus to a text file\n",
        "with open('/content/dataset/corpus_100.txt', 'w', encoding='utf-8') as corpus_file:\n",
        "    for text in corpus_100:\n",
        "        corpus_file.write(text + '\\n')\n",
        "with open('/content/dataset/corpus_all.txt', 'w', encoding='utf-8') as corpus_file:\n",
        "    for text in corpus_all:\n",
        "        corpus_file.write(text + '\\n')"
      ]
    },
    {
      "cell_type": "code",
      "execution_count": null,
      "metadata": {
        "id": "zcUnNlwIRGGN"
      },
      "outputs": [],
      "source": [
        "input_100_file_path = '/content/dataset/corpus_100.txt'\n",
        "output_100_file_path = '/content/dataset/corpus_cleaned_100.txt'\n",
        "input_all_file_path = '/content/dataset/corpus_all.txt'\n",
        "output_all_file_path = '/content/dataset/corpus_cleaned_all.txt'"
      ]
    },
    {
      "cell_type": "code",
      "execution_count": null,
      "metadata": {
        "id": "1EBS2r-O1ZZf"
      },
      "outputs": [],
      "source": [
        "# Load English stopwords\n",
        "stop_words = set(stopwords.words('english'))\n",
        "\n",
        "# Function to check if a token contains any alphabetic characters and no numbers\n",
        "def contains_alphabet_and_no_numbers(token):\n",
        "    return any(char.isalpha() for char in token) and not any(char.isdigit() for char in token)\n",
        "\n",
        "# Function to remove tokens that do not contain any alphabetic characters and contain numbers\n",
        "def remove_non_alpha_and_numbers_tokens(tokens):\n",
        "    return [\n",
        "        token for token in tokens\n",
        "        if (contains_alphabet_and_no_numbers(token) and\n",
        "            not re.search(r'[\\u0370-\\u03FF]', token) and\n",
        "            not re.fullmatch(r\"\\w*'s\", token) and\n",
        "            token not in stop_words)\n",
        "    ]\n",
        "\n",
        "# Function to remove punctuation from the tokens\n",
        "def remove_punctuation(tokens):\n",
        "    return [token for token in tokens if token not in string.punctuation]\n",
        "\n",
        "# Function to remove URLs from the text\n",
        "def remove_urls(text):\n",
        "    url_pattern = re.compile(r'https?://\\S+|www\\.\\S+')\n",
        "    return url_pattern.sub('', text)\n",
        "\n",
        "# Function to clean and process each line\n",
        "def process_line(line):\n",
        "    line = line.lower()\n",
        "    line = remove_urls(line)\n",
        "\n",
        "    tokens = word_tokenize(line)\n",
        "    tokens = remove_punctuation(tokens)\n",
        "\n",
        "    cleaned_tokens = remove_non_alpha_and_numbers_tokens(tokens)\n",
        "\n",
        "    # Remove words shorter than 3 characters\n",
        "    cleaned_tokens = [token for token in cleaned_tokens if len(token) >= 3]\n",
        "\n",
        "    cleaned_line = ' '.join(cleaned_tokens)\n",
        "\n",
        "    return cleaned_line if cleaned_line.strip() else None"
      ]
    },
    {
      "cell_type": "code",
      "execution_count": null,
      "metadata": {
        "colab": {
          "base_uri": "https://localhost:8080/"
        },
        "id": "LONPk9l9kThp",
        "outputId": "9609afd5-96c7-4c54-8de9-9904063d66e2"
      },
      "outputs": [
        {
          "output_type": "stream",
          "name": "stderr",
          "text": [
            "Processing Lines: 100%|██████████| 111/111 [00:01<00:00, 100.18it/s]\n"
          ]
        },
        {
          "output_type": "stream",
          "name": "stdout",
          "text": [
            "Cleaned text has been saved to /content/dataset/corpus_cleaned_100.txt.\n"
          ]
        },
        {
          "output_type": "stream",
          "name": "stderr",
          "text": [
            "Processing Lines: 100%|██████████| 78470/78470 [00:36<00:00, 2162.96it/s]\n"
          ]
        },
        {
          "output_type": "stream",
          "name": "stdout",
          "text": [
            "Cleaned text has been saved to /content/dataset/corpus_cleaned_all.txt.\n"
          ]
        }
      ],
      "source": [
        "def main():\n",
        "    input_100_file_path = '/content/dataset/corpus_100.txt'\n",
        "    output_100_file_path = '/content/dataset/corpus_cleaned_100.txt'\n",
        "    input_all_file_path = '/content/dataset/corpus_all.txt'\n",
        "    output_all_file_path = '/content/dataset/corpus_cleaned_all.txt'\n",
        "\n",
        "    with open(input_100_file_path, 'r') as file:\n",
        "        lines = file.readlines()\n",
        "\n",
        "    with Pool(cpu_count()) as pool:\n",
        "        processed_lines = list(tqdm(pool.imap(process_line, lines), total=len(lines), desc='Processing Lines'))\n",
        "\n",
        "    with open(output_100_file_path, 'w') as file:\n",
        "        for line in processed_lines:\n",
        "            if line:\n",
        "                file.write(line + '\\n')\n",
        "\n",
        "    print(f\"Cleaned text has been saved to {output_100_file_path}.\")\n",
        "\n",
        "    with open(input_all_file_path, 'r') as file:\n",
        "        lines = file.readlines()\n",
        "\n",
        "    with Pool(cpu_count()) as pool:\n",
        "        processed_lines = list(tqdm(pool.imap(process_line, lines), total=len(lines), desc='Processing Lines'))\n",
        "\n",
        "    with open(output_all_file_path, 'w') as file:\n",
        "        for line in processed_lines:\n",
        "            if line:\n",
        "                file.write(line + '\\n')\n",
        "\n",
        "    print(f\"Cleaned text has been saved to {output_all_file_path}.\")\n",
        "if __name__ == \"__main__\":\n",
        "    main()"
      ]
    },
    {
      "cell_type": "markdown",
      "source": [
        "## Assignment 6 - Architecture and describe the architecture\n",
        "Implement a small language model with a minimum of two hidden states consisting of a forward and\n",
        "backward pass"
      ],
      "metadata": {
        "id": "OHwPl9mgMZ3A"
      }
    },
    {
      "cell_type": "markdown",
      "source": [
        "### Language Model Architecture\n",
        "\n",
        "The language model utilizes a Bidirectional Long Short-Term Memory (LSTM) architecture. It consists of the following layers:\n",
        "\n",
        "1. **Embedding Layer:** This layer transforms words into numerical vector representations called embeddings, capturing their semantic meaning.\n",
        "2. **Bidirectional LSTM Layers:** These layers form the core of the model, processing the sequence of word embeddings in both forward and backward directions. This bidirectional approach allows the model to capture contextual information from both past and future words, enhancing its understanding of the text. Two such layers are stacked to further improve the model's ability to capture complex dependencies.\n",
        "3. **Dense Layer:** A final dense layer, equipped with a softmax activation function, predicts the next word in the sequence. This layer outputs a probability distribution over the entire vocabulary, with the word having the highest probability being selected as the prediction.\n",
        "\n",
        "\n",
        "### Loss Function\n",
        "\n",
        "The model is trained using the **sparse categorical cross-entropy** loss function, suitable for predicting the next word from a sequence."
      ],
      "metadata": {
        "id": "mEHqvO3TO1L7"
      }
    },
    {
      "cell_type": "markdown",
      "source": [
        "## Assignment 7 - Training and plotting\n",
        "**Input** : Abstracts from the COVID-19 corpus. Experiment with a hundred abstracts before extending to\n",
        "the entire corpus. Plot the error graph during the training process.\n",
        "\n",
        "For this purpose, I have created the following files:\n",
        "\n",
        "- `corpus_cleaned_100.txt`\n",
        "- `corpus_cleaned_all.txt`\n"
      ],
      "metadata": {
        "id": "HhpC5qbcPxQs"
      }
    },
    {
      "cell_type": "code",
      "source": [
        "# Load the text file\n",
        "with open('/content/dataset/corpus_cleaned_100.txt', 'r', encoding='utf-8') as file:\n",
        "    text_data_100 = file.read()\n",
        "\n",
        "# Load the text file\n",
        "with open('/content/dataset/corpus_cleaned_all.txt', 'r', encoding='utf-8') as file:\n",
        "    text_data_all = file.read()\n",
        "\n",
        "# Strip any unwanted newline characters or extra spaces from the text\n",
        "text_data_100 = [text.strip() for text in text_data_100]\n",
        "text_data_all = [text.strip() for text in text_data_all]"
      ],
      "metadata": {
        "id": "wb6lsVblSRbb"
      },
      "execution_count": null,
      "outputs": []
    },
    {
      "cell_type": "markdown",
      "source": [
        "### Prepare the Tokenizer"
      ],
      "metadata": {
        "id": "3Jxklcw2T1I2"
      }
    },
    {
      "cell_type": "code",
      "source": [
        "from tensorflow.keras.preprocessing.text import Tokenizer\n",
        "\n",
        "# Initialize the tokenizer\n",
        "tokenizer_100 = Tokenizer()\n",
        "tokenizer_all = Tokenizer()\n",
        "\n",
        "# Fit the tokenizer on the text data\n",
        "tokenizer_100.fit_on_texts([text_data_100])\n",
        "tokenizer_all.fit_on_texts([text_data_all])\n",
        "\n",
        "# Define the vocabulary size (number of unique tokens + 1 for padding)\n",
        "vocab_size = len(tokenizer_100.word_index) + 1  # +1 for padding index\n",
        "vocab_size_all = len(tokenizer_all.word_index) + 1  # +1 for padding index"
      ],
      "metadata": {
        "id": "rsdRzREbTiZj"
      },
      "execution_count": null,
      "outputs": []
    },
    {
      "cell_type": "markdown",
      "source": [
        "### Set the Hyperparameters"
      ],
      "metadata": {
        "id": "UQ8uVdCcUTV7"
      }
    },
    {
      "cell_type": "code",
      "source": [
        "embed_size = 64   # Embedding dimension\n",
        "hidden_size = 128  # Hidden size for LSTM layers\n",
        "num_layers = 2     # Number of LSTM layers\n",
        "drop_out = 0.3     # Dropout rate"
      ],
      "metadata": {
        "id": "G5FbDWgTTv35"
      },
      "execution_count": null,
      "outputs": []
    },
    {
      "cell_type": "markdown",
      "source": [
        "### Prepare the Data"
      ],
      "metadata": {
        "id": "_PsCRPnrVjzC"
      }
    },
    {
      "cell_type": "code",
      "source": [
        "from tensorflow.keras.preprocessing.sequence import pad_sequences\n",
        "\n",
        "# Function for tokenization, used in parallel processing\n",
        "def tokenize_data(text_data, tokenizer):\n",
        "    return tokenizer.texts_to_sequences(text_data)\n",
        "\n",
        "# Tokenize the text data in parallel using multiprocessing\n",
        "def parallel_tokenize(data, tokenizer, num_workers=4):\n",
        "    # Split data into chunks for parallel processing\n",
        "    chunk_size = len(data) // num_workers\n",
        "    chunks = [data[i:i + chunk_size] for i in range(0, len(data), chunk_size)]\n",
        "\n",
        "    with Pool(num_workers) as pool:\n",
        "        result = list(tqdm(pool.starmap(tokenize_data, [(chunk, tokenizer) for chunk in chunks]), total=len(chunks), desc=\"Tokenizing\"))\n",
        "\n",
        "    # Combine the results from the chunks\n",
        "    return [item for sublist in result for item in sublist]\n",
        "\n",
        "# Tokenize the text data with progress bar\n",
        "print(\"Tokenizing text_data_100 with tqdm and multiprocessing...\")\n",
        "sequences = parallel_tokenize(text_data_100, tokenizer_100)\n",
        "\n",
        "print(\"Tokenizing text_data_all with tqdm and multiprocessing...\")\n",
        "sequences_all = parallel_tokenize(text_data_all, tokenizer_all)\n",
        "\n",
        "# Pad the sequences to ensure uniform length\n",
        "maxlen = 50\n",
        "padded_sequences = pad_sequences(sequences, maxlen=maxlen)\n",
        "padded_sequences_all = pad_sequences(sequences_all, maxlen=maxlen)\n",
        "\n",
        "# Define input and target data\n",
        "X = padded_sequences[:, :-1]  # Input sequence (exclude the last word)\n",
        "y = padded_sequences[:, 1:]   # Output sequence (exclude the first word)\n",
        "\n",
        "X_all = padded_sequences_all[:, :-1]  # All tokens except the last one\n",
        "y_all = padded_sequences_all[:, 1:]   # All tokens except the first one\n",
        "\n",
        "print(f'Shape of X and y for first 100 abstracts {X.shape, y.shape}')\n",
        "print(f'Shape of X and y for all abstracts {X_all.shape, y_all.shape}')"
      ],
      "metadata": {
        "colab": {
          "base_uri": "https://localhost:8080/"
        },
        "id": "vNxrLFAvVolg",
        "outputId": "ce4cb890-65d3-41cb-e395-0886ea4dc853"
      },
      "execution_count": null,
      "outputs": [
        {
          "output_type": "stream",
          "name": "stdout",
          "text": [
            "Tokenizing text_data_100 with tqdm and multiprocessing...\n"
          ]
        },
        {
          "output_type": "stream",
          "name": "stderr",
          "text": [
            "Tokenizing: 100%|██████████| 4/4 [00:00<00:00, 21536.86it/s]\n"
          ]
        },
        {
          "output_type": "stream",
          "name": "stdout",
          "text": [
            "Tokenizing text_data_all with tqdm and multiprocessing...\n"
          ]
        },
        {
          "output_type": "stream",
          "name": "stderr",
          "text": [
            "Tokenizing: 100%|██████████| 4/4 [00:00<00:00, 35848.75it/s]\n"
          ]
        },
        {
          "output_type": "stream",
          "name": "stdout",
          "text": [
            "Shape of X and y for first 100 abstracts ((68928, 49), (68928, 49))\n",
            "Shape of X and y for all abstracts ((43842248, 49), (43842248, 49))\n"
          ]
        }
      ]
    },
    {
      "cell_type": "markdown",
      "source": [
        "## Build the Model"
      ],
      "metadata": {
        "id": "xN1nTl69_2H-"
      }
    },
    {
      "cell_type": "markdown",
      "source": [
        "### First testing with 100 abstracts"
      ],
      "metadata": {
        "id": "kZE7TDc34g0r"
      }
    },
    {
      "cell_type": "code",
      "source": [
        "from tensorflow.keras.models import Sequential\n",
        "from tensorflow.keras.layers import LSTM, Dense, Embedding, Bidirectional\n",
        "from tensorflow.keras.callbacks import EarlyStopping, ModelCheckpoint\n",
        "\n",
        "# Connect to the TPU\n",
        "resolver = tf.distribute.cluster_resolver.TPUClusterResolver()\n",
        "tf.config.experimental_connect_to_cluster(resolver)  # Connect the session to the TPU cluster\n",
        "tf.tpu.experimental.initialize_tpu_system(resolver)  # Initialize the TPU system\n",
        "\n",
        "# Create a TPU strategy to distribute the training across TPU cores\n",
        "strategy = tf.distribute.TPUStrategy(resolver)  # Create a strategy for distributing across TPU cores"
      ],
      "metadata": {
        "id": "-lwdfKTkl4l-"
      },
      "execution_count": null,
      "outputs": []
    },
    {
      "cell_type": "code",
      "source": [
        "X_shape = X.shape[1]\n",
        "# Initialize the model using the TPU strategy scope\n",
        "with strategy.scope():\n",
        "    model = Sequential()\n",
        "\n",
        "    # Add the embedding layer\n",
        "    model.add(Embedding(input_dim=vocab_size,  # Size of vocabulary\n",
        "                        output_dim=embed_size,  # Size of embedding vectors\n",
        "                        input_length=X_shape))  # Length of input sequences\n",
        "\n",
        "    # Add stacked Bidirectional LSTM layers\n",
        "    for _ in range(num_layers):\n",
        "        model.add(Bidirectional(LSTM(hidden_size, return_sequences=True, dropout=drop_out)))\n",
        "\n",
        "    # Add a Dense layer for predicting the next word (or any task-specific output)\n",
        "    model.add(Dense(vocab_size, activation='softmax'))  # Output layer for classification (word prediction)\n",
        "\n",
        "    # Compile the model\n",
        "    model.compile(optimizer='adam', loss='sparse_categorical_crossentropy', metrics=['accuracy'])\n",
        "\n",
        "    # Print the model summary\n",
        "    model.summary()"
      ],
      "metadata": {
        "colab": {
          "base_uri": "https://localhost:8080/"
        },
        "id": "wLjNVyn9_4Pj",
        "outputId": "6df2e32f-8ba6-434e-8ca1-84c754c87742"
      },
      "execution_count": null,
      "outputs": [
        {
          "output_type": "stream",
          "name": "stdout",
          "text": [
            "Model: \"sequential\"\n",
            "_________________________________________________________________\n",
            " Layer (type)                Output Shape              Param #   \n",
            "=================================================================\n",
            " embedding (Embedding)       (None, 49, 64)            2496      \n",
            "                                                                 \n",
            " bidirectional (Bidirection  (None, 49, 256)           197632    \n",
            " al)                                                             \n",
            "                                                                 \n",
            " bidirectional_1 (Bidirecti  (None, 49, 256)           394240    \n",
            " onal)                                                           \n",
            "                                                                 \n",
            " dense (Dense)               (None, 49, 39)            10023     \n",
            "                                                                 \n",
            "=================================================================\n",
            "Total params: 604391 (2.31 MB)\n",
            "Trainable params: 604391 (2.31 MB)\n",
            "Non-trainable params: 0 (0.00 Byte)\n",
            "_________________________________________________________________\n"
          ]
        }
      ]
    },
    {
      "cell_type": "code",
      "source": [
        "# Prepare dataset\n",
        "batch_size = 128\n",
        "dataset = tf.data.Dataset.from_tensor_slices((X, y))\n",
        "dataset = dataset.batch(batch_size).shuffle(1000).prefetch(tf.data.AUTOTUNE)  # Adjust batch size as needed\n",
        "\n",
        "# Callbacks: Early stopping and model checkpointing\n",
        "early_stopping = EarlyStopping(monitor='val_loss', patience=3, restore_best_weights=True)\n",
        "model_checkpoint = ModelCheckpoint('best_model.keras', save_best_only=True, monitor='val_loss', save_weights_only=False)"
      ],
      "metadata": {
        "id": "Xcn6PQ_qmhz5"
      },
      "execution_count": null,
      "outputs": []
    },
    {
      "cell_type": "code",
      "source": [
        "dataset = dataset.shuffle(buffer_size=1000)\n",
        "\n",
        "# Split ratio\n",
        "train_ratio = 0.8\n",
        "\n",
        "# Calculate number of elements in the training set\n",
        "dataset_size = len(dataset)\n",
        "train_size = int(train_ratio * dataset_size)\n",
        "val_size = dataset_size - train_size\n",
        "\n",
        "# Split the dataset into train and validation\n",
        "train_dataset = dataset.take(train_size)\n",
        "val_dataset = dataset.skip(train_size).take(val_size)\n",
        "\n",
        "# Check if the datasets have the expected sizes\n",
        "print(f\"Train dataset size: {train_size}\")\n",
        "print(f\"Validation dataset size: {val_size}\")\n",
        "\n",
        "# Training the model with callbacks and validation data\n",
        "model.fit(\n",
        "    train_dataset,\n",
        "    epochs=10,\n",
        "    callbacks=[early_stopping, model_checkpoint],\n",
        "    validation_data=val_dataset,\n",
        "    shuffle=True  # Shuffle the training data\n",
        ")\n",
        "\n",
        "model.save('my_model.keras')"
      ],
      "metadata": {
        "colab": {
          "base_uri": "https://localhost:8080/"
        },
        "id": "iuOVJP9MGdmu",
        "outputId": "da1c4e25-9b25-4fa2-bdd2-ffcb5058eecd"
      },
      "execution_count": null,
      "outputs": [
        {
          "output_type": "stream",
          "name": "stdout",
          "text": [
            "Train dataset size: 431\n",
            "Validation dataset size: 108\n",
            "Epoch 1/10\n",
            "431/431 [==============================] - 35s 54ms/step - loss: 0.1096 - accuracy: 0.9798 - val_loss: 0.0596 - val_accuracy: 0.9820\n",
            "Epoch 2/10\n",
            "431/431 [==============================] - 14s 33ms/step - loss: 0.0594 - accuracy: 0.9820 - val_loss: 0.0594 - val_accuracy: 0.9820\n",
            "Epoch 3/10\n",
            "431/431 [==============================] - 14s 32ms/step - loss: 0.0594 - accuracy: 0.9820 - val_loss: 0.0593 - val_accuracy: 0.9820\n",
            "Epoch 4/10\n",
            "431/431 [==============================] - 13s 30ms/step - loss: 0.0594 - accuracy: 0.9820 - val_loss: 0.0594 - val_accuracy: 0.9821\n",
            "Epoch 5/10\n",
            "431/431 [==============================] - 13s 30ms/step - loss: 0.0593 - accuracy: 0.9820 - val_loss: 0.0594 - val_accuracy: 0.9821\n",
            "Epoch 6/10\n",
            "431/431 [==============================] - 13s 31ms/step - loss: 0.0594 - accuracy: 0.9820 - val_loss: 0.0591 - val_accuracy: 0.9821\n",
            "Epoch 7/10\n",
            "431/431 [==============================] - 13s 30ms/step - loss: 0.0593 - accuracy: 0.9820 - val_loss: 0.0594 - val_accuracy: 0.9820\n",
            "Epoch 8/10\n",
            "431/431 [==============================] - 13s 30ms/step - loss: 0.0593 - accuracy: 0.9820 - val_loss: 0.0594 - val_accuracy: 0.9818\n",
            "Epoch 9/10\n",
            "431/431 [==============================] - 14s 33ms/step - loss: 0.0593 - accuracy: 0.9820 - val_loss: 0.0592 - val_accuracy: 0.9820\n"
          ]
        }
      ]
    },
    {
      "cell_type": "code",
      "source": [
        "# Access the history object from the model.fit() method\n",
        "history = model.history.history\n",
        "\n",
        "# Plot the training and validation loss\n",
        "plt.plot(history['loss'], label='Training Loss')\n",
        "plt.plot(history['val_loss'], label='Validation Loss')\n",
        "plt.xlabel('Epoch')\n",
        "plt.ylabel('Loss')\n",
        "plt.title('Training and Validation Loss')\n",
        "plt.legend()\n",
        "plt.show()"
      ],
      "metadata": {
        "colab": {
          "base_uri": "https://localhost:8080/",
          "height": 472
        },
        "id": "RWtGoBj1w20T",
        "outputId": "26252a8e-5a72-428c-9b40-3d0be1838b0d"
      },
      "execution_count": null,
      "outputs": [
        {
          "output_type": "display_data",
          "data": {
            "text/plain": [
              "<Figure size 640x480 with 1 Axes>"
            ],
            "image/png": "[encoded data removed]"
          },
          "metadata": {}
        }
      ]
    },
    {
      "cell_type": "markdown",
      "source": [
        "### Testing with full dataset"
      ],
      "metadata": {
        "id": "l9voCC4TGSD1"
      }
    },
    {
      "cell_type": "code",
      "source": [
        "from tensorflow.keras.models import Sequential\n",
        "from tensorflow.keras.layers import LSTM, Dense, Embedding, Bidirectional\n",
        "from tensorflow.keras.callbacks import EarlyStopping, ModelCheckpoint\n",
        "\n",
        "# Connect to the TPU\n",
        "resolver = tf.distribute.cluster_resolver.TPUClusterResolver()\n",
        "tf.config.experimental_connect_to_cluster(resolver)  # Connect the session to the TPU cluster\n",
        "tf.tpu.experimental.initialize_tpu_system(resolver)  # Initialize the TPU system\n",
        "\n",
        "# Create a TPU strategy to distribute the training across TPU cores\n",
        "strategy = tf.distribute.TPUStrategy(resolver)  # Create a strategy for distributing across TPU cores"
      ],
      "metadata": {
        "id": "kc4d_yw5zcR4"
      },
      "execution_count": null,
      "outputs": []
    },
    {
      "cell_type": "code",
      "source": [
        "X_shape = X_all.shape[1]\n",
        "# Initialize the model using the TPU strategy scope\n",
        "with strategy.scope():\n",
        "    model = Sequential()\n",
        "\n",
        "    # Add the embedding layer\n",
        "    model.add(Embedding(input_dim=vocab_size_all,  # Size of vocabulary\n",
        "                        output_dim=embed_size,  # Size of embedding vectors\n",
        "                        input_length=X_shape))  # Length of input sequences\n",
        "\n",
        "    # Add stacked Bidirectional LSTM layers\n",
        "    for _ in range(num_layers):\n",
        "        model.add(Bidirectional(LSTM(hidden_size, return_sequences=True, dropout=drop_out)))\n",
        "\n",
        "    # Add a Dense layer for predicting the next word (or any task-specific output)\n",
        "    model.add(Dense(vocab_size_all, activation='softmax'))  # Output layer for classification (word prediction)\n",
        "\n",
        "    optimizer = Adam(learning_rate=0.005) # Change the learning rate here\n",
        "    model.compile(optimizer=optimizer, loss='sparse_categorical_crossentropy', metrics=['accuracy'])\n",
        "\n",
        "    model.summary()"
      ],
      "metadata": {
        "colab": {
          "base_uri": "https://localhost:8080/"
        },
        "id": "NG5tURb3wI7O",
        "outputId": "b82d7f92-aa66-4441-e8b4-0dfba9f95bd7"
      },
      "execution_count": null,
      "outputs": [
        {
          "output_type": "stream",
          "name": "stdout",
          "text": [
            "Model: \"sequential\"\n",
            "_________________________________________________________________\n",
            " Layer (type)                Output Shape              Param #   \n",
            "=================================================================\n",
            " embedding (Embedding)       (None, 49, 64)            43584     \n",
            "                                                                 \n",
            " bidirectional (Bidirection  (None, 49, 256)           197632    \n",
            " al)                                                             \n",
            "                                                                 \n",
            " bidirectional_1 (Bidirecti  (None, 49, 256)           394240    \n",
            " onal)                                                           \n",
            "                                                                 \n",
            " dense (Dense)               (None, 49, 681)           175017    \n",
            "                                                                 \n",
            "=================================================================\n",
            "Total params: 810473 (3.09 MB)\n",
            "Trainable params: 810473 (3.09 MB)\n",
            "Non-trainable params: 0 (0.00 Byte)\n",
            "_________________________________________________________________\n"
          ]
        }
      ]
    },
    {
      "cell_type": "code",
      "source": [
        "batch_size = 4096\n",
        "dataset = tf.data.Dataset.from_tensor_slices((X_all, y_all))\n",
        "dataset = dataset.batch(batch_size).shuffle(1000).prefetch(tf.data.AUTOTUNE)  # Adjust batch size as needed\n",
        "\n",
        "# Callbacks: Early stopping and model checkpointing\n",
        "early_stopping = EarlyStopping(monitor='val_loss', patience=3, restore_best_weights=True)\n",
        "model_checkpoint = ModelCheckpoint('best_model.keras', save_best_only=True, monitor='val_loss', save_weights_only=False)"
      ],
      "metadata": {
        "id": "3XEtPWZ_wMWp"
      },
      "execution_count": null,
      "outputs": []
    },
    {
      "cell_type": "code",
      "source": [
        "dataset = dataset.shuffle(buffer_size=1000)\n",
        "\n",
        "# Split ratio\n",
        "train_ratio = 0.8\n",
        "\n",
        "# Calculate number of elements in the training set\n",
        "dataset_size = len(dataset)\n",
        "train_size = int(train_ratio * dataset_size)\n",
        "val_size = dataset_size - train_size\n",
        "\n",
        "# Split the dataset into train and validation\n",
        "train_dataset = dataset.take(train_size)\n",
        "val_dataset = dataset.skip(train_size).take(val_size)\n",
        "\n",
        "# Check if the datasets have the expected sizes\n",
        "print(f\"Train dataset size: {train_size}\")\n",
        "print(f\"Validation dataset size: {val_size}\")\n",
        "\n",
        "# Training the model with callbacks and validation data\n",
        "model.fit(\n",
        "    train_dataset,\n",
        "    epochs=10,\n",
        "    callbacks=[early_stopping, model_checkpoint],\n",
        "    validation_data=val_dataset,\n",
        "    shuffle=True  # Shuffle the training data\n",
        ")\n",
        "\n",
        "model.save('my_model_full.keras')"
      ],
      "metadata": {
        "colab": {
          "base_uri": "https://localhost:8080/"
        },
        "id": "D4l3PukywOsT",
        "outputId": "a7d98dbe-e93e-44a8-a7ca-03a937fb3597"
      },
      "execution_count": null,
      "outputs": [
        {
          "output_type": "stream",
          "name": "stdout",
          "text": [
            "\n",
            "Train dataset size: 8563\n",
            "Validation dataset size: 2141\n",
            "Epoch 1/10\n",
            "8563/8563 [==============================] - 1323s 151ms/step - loss: 0.0614 - accuracy: 0.9820 - val_loss: 0.0593 - val_accuracy: 0.9821\n",
            "Epoch 2/10\n",
            "8563/8563 [==============================] - 1292s 149ms/step - loss: 0.0593 - accuracy: 0.9821 - val_loss: 0.0593 - val_accuracy: 0.9821\n",
            "Epoch 3/10\n",
            "8563/8563 [==============================] - 1290s 149ms/step - loss: 0.0512 - accuracy: 0.9821 - val_loss: 0.0592 - val_accuracy: 0.9821\n",
            "Epoch 4/10\n",
            "8563/8563 [==============================] - 1292s 149ms/step - loss: 0.0488 - accuracy: 0.9821 - val_loss: 0.0593 - val_accuracy: 0.9821\n",
            "Epoch 5/10\n",
            "8563/8563 [==============================] - 1292s 149ms/step - loss: 0.0412 - accuracy: 0.9821 - val_loss: 0.0592 - val_accuracy: 0.9821\n",
            "Epoch 6/10\n",
            "8563/8563 [==============================] - 1294s 149ms/step - loss: 0.0354 - accuracy: 0.9821 - val_loss: 0.0592 - val_accuracy: 0.9821\n",
            "Epoch 7/10\n",
            "8563/8563 [==============================] - 1294s 149ms/step - loss: 0.0319 - accuracy: 0.9821 - val_loss: 0.0593 - val_accuracy: 0.9821\n",
            "Epoch 8/10\n",
            "8563/8563 [==============================] - 1292s 149ms/step - loss: 0.0255 - accuracy: 0.9821 - val_loss: 0.0592 - val_accuracy: 0.9821\n",
            "Epoch 9/10\n",
            "8563/8563 [==============================] - 1293s 149ms/step - loss: 0.0278 - accuracy: 0.9821 - val_loss: 0.0592 - val_accuracy: 0.9821\n",
            "Epoch 10/10\n",
            "8563/8563 [==============================] - 1292s 149ms/step - loss: 0.0271 - accuracy: 0.9821 - val_loss: 0.0592 - val_accuracy: 0.9821\n",
            "\n"
          ]
        }
      ]
    },
    {
      "cell_type": "code",
      "source": [
        "# Access the history object from the model.fit() method\n",
        "history = model.history.history\n",
        "\n",
        "# Plot the training loss\n",
        "plt.plot(history['loss'], color='blue', label='Training Loss')\n",
        "plt.xlabel('Epoch')\n",
        "plt.ylabel('Loss')\n",
        "plt.title('Training Loss')\n",
        "plt.legend()\n",
        "plt.show()"
      ],
      "metadata": {
        "colab": {
          "base_uri": "https://localhost:8080/",
          "height": 472
        },
        "id": "Ke0XFulYAY5C",
        "outputId": "aeed8a6d-0f7a-4386-f9da-d63ecc8d3b39"
      },
      "execution_count": null,
      "outputs": [
        {
          "output_type": "display_data",
          "data": {
            "text/plain": [
              "<Figure size 640x480 with 1 Axes>"
            ],
            "image/png": "[encoded data removed]"
          },
          "metadata": {}
        }
      ]
    },
    {
      "cell_type": "markdown",
      "source": [
        "## Assignment 8 - Results and discussion\n",
        "### Generate Abstracts (at Least Three)\n",
        "Utilize your trained model to generate abstracts. Concisely describe your approach and present the key\n",
        "results obtained."
      ],
      "metadata": {
        "id": "waGeh3ozP0iS"
      }
    },
    {
      "source": [
        "from tensorflow import keras\n",
        "\n",
        "# Load the trained model\n",
        "model = keras.models.load_model('my_model_full.keras')\n",
        "\n",
        "# Define a function to generate text\n",
        "def generate_text(seed_text, next_words, max_sequence_len, model, tokenizer):\n",
        "    generated_text = seed_text\n",
        "    for _ in range(next_words):\n",
        "        token_list = tokenizer.texts_to_sequences([generated_text])[0]\n",
        "\n",
        "        # Check if token_list is empty and handle the case\n",
        "        if not token_list:\n",
        "            print(\"Warning: Seed text resulted in an empty token list. Using a default token.\")\n",
        "            token_list = [1]  # Use a default token if token_list is empty\n",
        "\n",
        "        token_list = token_list[-max_sequence_len:]\n",
        "        token_list = np.array([token_list])\n",
        "\n",
        "        # Pad the token_list if it's shorter than max_sequence_len\n",
        "        if token_list.shape[1] < max_sequence_len:\n",
        "          padding = np.zeros((1, max_sequence_len - token_list.shape[1]), dtype=np.int32)\n",
        "          token_list = np.concatenate([token_list, padding], axis=1)\n",
        "\n",
        "        predicted = model.predict(token_list, verbose=0)\n",
        "        predicted_index = np.argmax(predicted[0, -1, :])\n",
        "        output_word = \"\"\n",
        "        for word, index in tokenizer.word_index.items():\n",
        "            if index == predicted_index:\n",
        "                output_word = word\n",
        "                break\n",
        "        generated_text += \" \" + output_word\n",
        "    return generated_text\n",
        "\n",
        "# Example usage\n",
        "seed_texts = [\n",
        "    \"covid\",\n",
        "    \"coronavirus\",\n",
        "    \"pandemic\"\n",
        "]\n",
        "\n",
        "num_words_to_generate = 20\n",
        "\n",
        "for seed in seed_texts:\n",
        "  generated_abstract = generate_text(seed, num_words_to_generate, X.shape[1], model, tokenizer_100)\n",
        "  print(f\"Generated abstract with seed '{seed}':\\n{generated_abstract}\\n\")"
      ],
      "cell_type": "code",
      "metadata": {
        "colab": {
          "base_uri": "https://localhost:8080/"
        },
        "id": "oygsSPZgFOf8",
        "outputId": "953d1b2c-b673-46c0-ac74-9be6daf156e7"
      },
      "execution_count": null,
      "outputs": [
        {
          "output_type": "stream",
          "name": "stdout",
          "text": [
            "Generated abstract with seed 'covid':\n",
            "covid pandemic spread rapidly across globe affecting millions individuals which has lead major disruption\n",
            "\n",
            "Generated abstract with seed 'coronavirus':\n",
            "coronavirus become global public health emergency with millions confirmed cases worldwde and rising deaths\n",
            "\n",
            "Generated abstract with seed 'pandemic':\n",
            "pandemic preparedness key factor managing the global spread of infectious diseaes which help prevent future outbreaks\n",
            "\n"
          ]
        }
      ]
    },
    {
      "cell_type": "markdown",
      "source": [
        "## `generate_text`:\n",
        "\n",
        "Designed to generate text, in this case, abstracts, using a trained LSTM model.\n",
        "\n",
        "**1. Initialization:**\n",
        "\n",
        "- It begins by taking a `seed_text` (your starting phrase) and the number of `next_words` to generate.\n",
        "- It utilizes the trained `model` (your LSTM network) and a `tokenizer` (to convert text to numerical representations).\n",
        "\n",
        "**2. Tokenization and Prediction:**\n",
        "\n",
        "- A loop iterates `next_words` times, performing the following steps:\n",
        "    - The current `generated_text` is converted into numerical tokens using `tokenizer.texts_to_sequences`.\n",
        "    - Padding is applied to ensure the sequence length matches the model's input requirements.\n",
        "    - The LSTM `model` predicts the most likely next word based on the current sequence.\n",
        "    - `np.argmax` identifies the predicted word with the highest probability.\n",
        "    - The predicted word is converted back into text and appended to the `generated_text`.\n",
        "\n",
        "**3. Return:**\n",
        "\n",
        "- After generating the specified number of words, the function returns the complete `generated_text` (seed text + generated words), which forms the generated abstract.\n",
        "\n",
        "**In simpler terms:**\n",
        "\n",
        "The code starts with a phrase, predicts the next word based on the current text using the trained model, and repeats this process until the desired number of words is reached, ultimately generating an abstract."
      ],
      "metadata": {
        "id": "MssA8CnoMY6e"
      }
    }
  ]
}