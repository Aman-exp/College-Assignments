{
  "nbformat": 4,
  "nbformat_minor": 0,
  "metadata": {
    "colab": {
      "provenance": [],
      "gpuType": "V28"
    },
    "kernelspec": {
      "name": "python3",
      "display_name": "Python 3"
    },
    "language_info": {
      "name": "python"
    },
    "accelerator": "TPU"
  },
  "cells": [
    {
      "cell_type": "markdown",
      "source": [
        "## Loading libraries"
      ],
      "metadata": {
        "id": "EDAAo5pLN3Pv"
      }
    },
    {
      "cell_type": "code",
      "execution_count": null,
      "metadata": {
        "id": "_D3VYoP40tor"
      },
      "outputs": [],
      "source": [
        "import gdown # To download the file from Google Drive\n",
        "import json\n",
        "import re\n",
        "import pandas as pd\n",
        "import numpy as np\n",
        "import zipfile\n",
        "import os\n",
        "import glob\n",
        "import multiprocessing\n",
        "from multiprocessing import Pool, cpu_count, Lock\n",
        "from functools import partial\n",
        "from tqdm import tqdm\n",
        "from collections import Counter\n",
        "from sklearn.linear_model import LinearRegression\n",
        "import matplotlib.pyplot as plt\n",
        "import seaborn as sns\n",
        "import nltk\n",
        "from nltk.tokenize import word_tokenize\n",
        "from nltk.corpus import stopwords\n",
        "import string\n",
        "from IPython.display import display, Math"
      ]
    },
    {
      "cell_type": "code",
      "source": [
        "nltk.download('punkt')"
      ],
      "metadata": {
        "colab": {
          "base_uri": "https://localhost:8080/"
        },
        "id": "qPnQ_YO2lbO_",
        "outputId": "bc1bfffd-daa8-4088-fecc-d2ad88ec5454"
      },
      "execution_count": null,
      "outputs": [
        {
          "output_type": "stream",
          "name": "stderr",
          "text": [
            "[nltk_data] Downloading package punkt to /root/nltk_data...\n",
            "[nltk_data]   Unzipping tokenizers/punkt.zip.\n"
          ]
        },
        {
          "output_type": "execute_result",
          "data": {
            "text/plain": [
              "True"
            ]
          },
          "metadata": {},
          "execution_count": 2
        }
      ]
    },
    {
      "cell_type": "markdown",
      "source": [
        "## Getting the file from GDrive"
      ],
      "metadata": {
        "id": "k_0QWOZuOCry"
      }
    },
    {
      "cell_type": "code",
      "execution_count": null,
      "metadata": {
        "colab": {
          "base_uri": "https://localhost:8080/",
          "height": 142
        },
        "id": "bsXBqcK1zI-F",
        "outputId": "027e75cf-b213-4129-f864-c712eaabf082"
      },
      "outputs": [
        {
          "output_type": "stream",
          "name": "stderr",
          "text": [
            "Downloading...\n",
            "From (original): https://drive.google.com/uc?id=1fxAEZNVY0zXhJaGyzEw6BzDuUjvkiHXE\n",
            "From (redirected): https://drive.google.com/uc?id=1fxAEZNVY0zXhJaGyzEw6BzDuUjvkiHXE&confirm=t&uuid=51d4c285-b365-40ba-9421-b42fdaf4ca8f\n",
            "To: /content/dataset.zip\n",
            "100%|██████████| 1.00G/1.00G [00:19<00:00, 51.2MB/s]\n"
          ]
        },
        {
          "output_type": "execute_result",
          "data": {
            "text/plain": [
              "'dataset.zip'"
            ],
            "application/vnd.google.colaboratory.intrinsic+json": {
              "type": "string"
            }
          },
          "metadata": {},
          "execution_count": 3
        }
      ],
      "source": [
        "file_id = '1fxAEZNVY0zXhJaGyzEw6BzDuUjvkiHXE'\n",
        "url = f'https://drive.google.com/uc?id={file_id}'\n",
        "output = 'dataset.zip'\n",
        "gdown.download(url, output, quiet=False)"
      ]
    },
    {
      "cell_type": "markdown",
      "source": [
        "# Task 1"
      ],
      "metadata": {
        "id": "jz-Xr8hEI4aH"
      }
    },
    {
      "cell_type": "markdown",
      "source": [
        "## File Extraction and setting path for access"
      ],
      "metadata": {
        "id": "nq0TE6KzOHQL"
      }
    },
    {
      "cell_type": "code",
      "execution_count": null,
      "metadata": {
        "id": "aJ-W7dhX0msk",
        "colab": {
          "base_uri": "https://localhost:8080/"
        },
        "outputId": "413303ee-36b6-42f2-e488-d0d5a942a54f"
      },
      "outputs": [
        {
          "output_type": "stream",
          "name": "stderr",
          "text": [
            "Extracting files: 100%|██████████| 56530/56530 [00:31<00:00, 1809.87it/s]\n"
          ]
        }
      ],
      "source": [
        "zip_file_path = 'dataset.zip'\n",
        "extraction_dir = '/content/dataset'\n",
        "\n",
        "os.makedirs(extraction_dir, exist_ok=True)\n",
        "\n",
        "with zipfile.ZipFile(zip_file_path, 'r') as zip_ref:\n",
        "    file_list = zip_ref.namelist()\n",
        "\n",
        "    with tqdm(total=len(file_list), desc='Extracting files') as pbar:\n",
        "        for file in file_list:\n",
        "            zip_ref.extract(file, extraction_dir)\n",
        "            pbar.update(1)"
      ]
    },
    {
      "cell_type": "markdown",
      "source": [
        "## Getting the file from GDrive"
      ],
      "metadata": {
        "id": "TSj7btfPNPQI"
      }
    },
    {
      "cell_type": "code",
      "execution_count": null,
      "metadata": {
        "colab": {
          "base_uri": "https://localhost:8080/",
          "height": 142
        },
        "outputId": "027e75cf-b213-4129-f864-c712eaabf082",
        "id": "bcq5jRwpNPQJ"
      },
      "outputs": [
        {
          "output_type": "stream",
          "name": "stderr",
          "text": [
            "Downloading...\n",
            "From (original): https://drive.google.com/uc?id=1fxAEZNVY0zXhJaGyzEw6BzDuUjvkiHXE\n",
            "From (redirected): https://drive.google.com/uc?id=1fxAEZNVY0zXhJaGyzEw6BzDuUjvkiHXE&confirm=t&uuid=51d4c285-b365-40ba-9421-b42fdaf4ca8f\n",
            "To: /content/dataset.zip\n",
            "100%|██████████| 1.00G/1.00G [00:19<00:00, 51.2MB/s]\n"
          ]
        },
        {
          "output_type": "execute_result",
          "data": {
            "text/plain": [
              "'dataset.zip'"
            ],
            "application/vnd.google.colaboratory.intrinsic+json": {
              "type": "string"
            }
          },
          "metadata": {},
          "execution_count": 3
        }
      ],
      "source": [
        "file_id = '1fxAEZNVY0zXhJaGyzEw6BzDuUjvkiHXE'\n",
        "url = f'https://drive.google.com/uc?id={file_id}'\n",
        "output = 'dataset.zip'\n",
        "gdown.download(url, output, quiet=False)"
      ]
    },
    {
      "cell_type": "code",
      "execution_count": null,
      "metadata": {
        "colab": {
          "base_uri": "https://localhost:8080/"
        },
        "id": "kgoAfv98u--d",
        "outputId": "49e97e42-8576-4308-a42d-9ffba9a6a665"
      },
      "outputs": [
        {
          "output_type": "stream",
          "name": "stdout",
          "text": [
            "Found 56528 files.\n"
          ]
        }
      ],
      "source": [
        "# Listing all files in the dataset directory\n",
        "file_list = []\n",
        "for root, dirs, files in os.walk('dataset'):\n",
        "    for file in files:\n",
        "        if not file.endswith('.swp'): # .swp is not of our use\n",
        "            file_list.append(os.path.join(root, file))\n",
        "\n",
        "print(f\"Found {len(file_list)} files.\")"
      ]
    },
    {
      "cell_type": "markdown",
      "metadata": {
        "id": "BcbR1aMu3Fft"
      },
      "source": [
        "## Here we check if all the json-encoded files have the same relevant keys"
      ]
    },
    {
      "cell_type": "code",
      "execution_count": null,
      "metadata": {
        "id": "saLcKF8jvY4C"
      },
      "outputs": [],
      "source": [
        "# Based on observations of json-encoded text format we extract the relevant keys\n",
        "def extract_keys(file_path):\n",
        "    try:\n",
        "        with open(file_path, 'r') as f:\n",
        "            data = json.load(f)\n",
        "        metadata_keys = [k for k in data.get('metadata', {}).keys() if k != 'authors']\n",
        "        other_keys = [k for k in data if k not in {'metadata', 'paper_id'}]\n",
        "        return file_path, metadata_keys, other_keys\n",
        "    except Exception as e:\n",
        "        return file_path, str(e), str(e)\n",
        "\n",
        "def process_files(file_list):\n",
        "    with Pool(min(4, os.cpu_count())) as pool:\n",
        "        return pool.map(extract_keys, file_list)\n",
        "\n",
        "df = pd.DataFrame(process_files(file_list), columns=['File Path', 'Metadata Keys', 'Other Keys'])\n",
        "\n",
        "df['Combined Keys'] = df.apply(lambda row: frozenset(row['Metadata Keys']) | frozenset(row['Other Keys']), axis=1)"
      ]
    },
    {
      "cell_type": "code",
      "execution_count": null,
      "metadata": {
        "colab": {
          "base_uri": "https://localhost:8080/"
        },
        "id": "EULQ99B09kZZ",
        "outputId": "4c7691c4-78e2-4246-bd18-b0d6767ef221"
      },
      "outputs": [
        {
          "output_type": "stream",
          "name": "stdout",
          "text": [
            "All relevant keys are the same.\n",
            "frozenset({'abstract', 'body_text', 'back_matter', 'bib_entries', 'title', 'ref_entries'})\n"
          ]
        }
      ],
      "source": [
        "print(f\"{'All relevant keys are the same.' if df['Combined Keys'].nunique() == 1 else 'Not all relevant keys are the same.'}\\n{df.drop(columns=['File Path']).iloc[0]['Combined Keys']}\")"
      ]
    },
    {
      "cell_type": "markdown",
      "metadata": {
        "id": "Afo91Wmg9zLf"
      },
      "source": [
        "We decide to keep only the most relevant parts, i.e., 'body_text', 'title' and 'abstract'."
      ]
    },
    {
      "cell_type": "markdown",
      "source": [
        "## To extract relevant texts from JSON files, we consider the following format\n",
        "1. The \"title\" is found within the \"metadata\" section.\n",
        "2. The \"abstract\" contains the relevant \"text\" segment.\n",
        "3. The \"body_text\" also contains the relevant \"text\" segment.\n",
        "4. The \"cite_spans\" section has a \"text\" key, but it is not relevant for our work."
      ],
      "metadata": {
        "id": "6wNFLYyOOj9l"
      }
    },
    {
      "cell_type": "code",
      "execution_count": null,
      "metadata": {
        "id": "qqrKOBqm809T"
      },
      "outputs": [],
      "source": [
        "extraction_dir = '/content/dataset/pdf_json'\n",
        "json_files = [f for f in os.listdir(extraction_dir) if f.endswith('.json') and not f.endswith('.swp')]\n",
        "\n",
        "# Function to process each JSON file\n",
        "def process_file(file_name):\n",
        "    file_path = os.path.join(extraction_dir, file_name)\n",
        "    text_data = []\n",
        "\n",
        "    try:\n",
        "        with open(file_path, 'r', encoding='utf-8') as file:\n",
        "            data = json.load(file)\n",
        "\n",
        "            # Function to find \"title\" and \"text\", excluding certain contexts\n",
        "            def extract_text(data):\n",
        "                if isinstance(data, dict):\n",
        "                    # Extract \"title\" if present in \"metadata\"\n",
        "                    if 'metadata' in data:\n",
        "                        metadata = data['metadata']\n",
        "                        if isinstance(metadata, dict) and 'title' in metadata:\n",
        "                            title = metadata['title']\n",
        "                            if isinstance(title, str):\n",
        "                                text_data.append(title)\n",
        "\n",
        "                    # Extract \"abstract\" and \"body_text\" text\n",
        "                    if 'abstract' in data:\n",
        "                        abstract = data['abstract']\n",
        "                        if isinstance(abstract, list):\n",
        "                            for item in abstract:\n",
        "                                if isinstance(item, dict) and 'text' in item:\n",
        "                                    text = item['text']\n",
        "                                    if isinstance(text, str):\n",
        "                                        text_data.append(text)\n",
        "\n",
        "                    if 'body_text' in data:\n",
        "                        body_text = data['body_text']\n",
        "                        if isinstance(body_text, list):\n",
        "                            for item in body_text:\n",
        "                                if isinstance(item, dict) and 'text' in item:\n",
        "                                    text = item['text']\n",
        "                                    if isinstance(text, str):\n",
        "                                        text_data.append(text)\n",
        "\n",
        "                    # Check and skip \"cite_spans\"\n",
        "                    if 'cite_spans' in data:\n",
        "                        # Skip extraction from \"cite_spans\"\n",
        "                        return\n",
        "\n",
        "                    for key, value in data.items():\n",
        "                        extract_text(value)\n",
        "                elif isinstance(data, list):\n",
        "                    for item in data:\n",
        "                        extract_text(item)\n",
        "\n",
        "            extract_text(data)\n",
        "    except Exception as e:\n",
        "        print(f\"Error processing file {file_name}: {e}\")\n",
        "\n",
        "    return text_data\n",
        "\n",
        "# Use multiprocessing to process files in parallel\n",
        "def parallel_process(files, num_workers=4):\n",
        "    with multiprocessing.Pool(num_workers) as pool:\n",
        "        results = list(tqdm(pool.imap(process_file, files), total=len(files)))\n",
        "    return results"
      ]
    },
    {
      "cell_type": "code",
      "execution_count": null,
      "metadata": {
        "colab": {
          "base_uri": "https://localhost:8080/"
        },
        "id": "sY8krq6oHEzd",
        "outputId": "97a78bc1-93c7-459a-cff4-9840134a3939"
      },
      "outputs": [
        {
          "output_type": "stream",
          "name": "stderr",
          "text": [
            "100%|██████████| 56528/56528 [00:15<00:00, 3571.01it/s]\n"
          ]
        }
      ],
      "source": [
        "corpus_file_path = '/content/corpus.txt'\n",
        "results = parallel_process(json_files)\n",
        "\n",
        "# Flatten the list of results and combine all text\n",
        "corpus = [text for sublist in results for text in sublist]\n",
        "\n",
        "# Save the corpus to a text file\n",
        "with open('/content/dataset/corpus.txt', 'w', encoding='utf-8') as corpus_file:\n",
        "    for text in corpus:\n",
        "        corpus_file.write(text + '\\n')"
      ]
    },
    {
      "cell_type": "code",
      "execution_count": null,
      "metadata": {
        "colab": {
          "base_uri": "https://localhost:8080/"
        },
        "id": "zujOIs1rD6R_",
        "outputId": "cf7a4937-97a7-4ecb-8882-9e9fe214b731"
      },
      "outputs": [
        {
          "output_type": "stream",
          "name": "stdout",
          "text": [
            "Before processing corpus size is 1.4 GB\n"
          ]
        }
      ],
      "source": [
        "print(f\"Before processing corpus size is {round(os.path.getsize('/content/dataset/corpus.txt')/(1024 ** 3),2)} GB\")"
      ]
    },
    {
      "cell_type": "markdown",
      "source": [
        "# Task 2"
      ],
      "metadata": {
        "id": "F52rqAufI_Mt"
      }
    },
    {
      "cell_type": "markdown",
      "source": [
        "## Handling case-folding, removal of numbers, etc."
      ],
      "metadata": {
        "id": "FhjTXaqMQVvn"
      }
    },
    {
      "cell_type": "code",
      "execution_count": null,
      "metadata": {
        "id": "zcUnNlwIRGGN"
      },
      "outputs": [],
      "source": [
        "input_file_path = '/content/dataset/corpus.txt'\n",
        "output_file_path = '/content/dataset/corpus_cleaned.txt'"
      ]
    },
    {
      "cell_type": "markdown",
      "source": [
        "Here, I removed: \\\\\n",
        "1. Texts that contain no alphabetic characters\n",
        "2. Texts that include any numbers\n",
        "3. Texts with greek letters\n",
        "4. Punctuation marks\n",
        "5. Texts that are URLs"
      ],
      "metadata": {
        "id": "N7qQJ5-vQdWF"
      }
    },
    {
      "cell_type": "code",
      "source": [
        "# Function to check if a token contains any alphabetic characters and no numbers\n",
        "def contains_alphabet_and_no_numbers(token):\n",
        "    return any(char.isalpha() for char in token) and not any(char.isdigit() for char in token)\n",
        "\n",
        "# Function to remove tokens that do not contain any alphabetic characters and contain numbers\n",
        "def remove_non_alpha_and_numbers_tokens(text):\n",
        "    tokens = word_tokenize(text)\n",
        "    filtered_tokens = [token for token in tokens if contains_alphabet_and_no_numbers(token) and not re.search(r'[\\u0370-\\u03FF]', token)]\n",
        "    return ' '.join(filtered_tokens)\n",
        "\n",
        "# Function to remove punctuation from the text\n",
        "def remove_punctuation(text):\n",
        "    tokens = word_tokenize(text)\n",
        "    filtered_tokens = [token for token in tokens if token not in string.punctuation]\n",
        "    return ' '.join(filtered_tokens)\n",
        "\n",
        "# Function to remove URLs from the text\n",
        "def remove_urls(text):\n",
        "    url_pattern = re.compile(r'https?://\\S+|www\\.\\S+')\n",
        "    return url_pattern.sub('', text)\n",
        "\n",
        "# Function to clean and process each line\n",
        "def process_line(line):\n",
        "    line = line.lower()\n",
        "    line = remove_urls(line)\n",
        "    line = remove_punctuation(line)\n",
        "    cleaned_line = remove_non_alpha_and_numbers_tokens(line)\n",
        "\n",
        "    if cleaned_line.strip():\n",
        "        return cleaned_line\n",
        "    return None"
      ],
      "metadata": {
        "id": "1EBS2r-O1ZZf"
      },
      "execution_count": null,
      "outputs": []
    },
    {
      "cell_type": "code",
      "source": [
        "def main():\n",
        "    input_file_path = '/content/dataset/corpus.txt'\n",
        "    output_file_path = '/content/dataset/corpus_cleaned.txt'\n",
        "\n",
        "    with open(input_file_path, 'r') as file:\n",
        "        lines = file.readlines()\n",
        "\n",
        "    with Pool(cpu_count()) as pool:\n",
        "        processed_lines = list(tqdm(pool.imap(process_line, lines), total=len(lines), desc='Processing Lines'))\n",
        "\n",
        "    with open(output_file_path, 'w') as file:\n",
        "        for line in processed_lines:\n",
        "            if line:\n",
        "                file.write(line + '\\n')\n",
        "\n",
        "    print(f\"Cleaned text has been saved to {output_file_path}.\")\n",
        "\n",
        "if __name__ == \"__main__\":\n",
        "    main()"
      ],
      "metadata": {
        "colab": {
          "base_uri": "https://localhost:8080/"
        },
        "id": "LONPk9l9kThp",
        "outputId": "c0261e10-8600-44bf-b2b5-7e168bc7edc4"
      },
      "execution_count": null,
      "outputs": [
        {
          "output_type": "stream",
          "name": "stderr",
          "text": [
            "Processing Lines: 100%|██████████| 1999067/1999067 [02:09<00:00, 15454.01it/s]\n"
          ]
        },
        {
          "output_type": "stream",
          "name": "stdout",
          "text": [
            "Cleaned text has been saved to /content/dataset/corpus_cleaned.txt.\n"
          ]
        }
      ]
    },
    {
      "cell_type": "code",
      "source": [
        "print(f\"After processing corpus size is {round(os.path.getsize('/content/dataset/corpus_cleaned.txt')/(1024 ** 3),2)} GB\")"
      ],
      "metadata": {
        "colab": {
          "base_uri": "https://localhost:8080/"
        },
        "id": "qoov9AtsoJLc",
        "outputId": "19aad185-dfed-4022-8edd-6d50f2a0506f"
      },
      "execution_count": null,
      "outputs": [
        {
          "output_type": "stream",
          "name": "stdout",
          "text": [
            "After processing corpus size is 1.29 GB\n"
          ]
        }
      ]
    },
    {
      "cell_type": "code",
      "source": [
        "from google.colab import files\n",
        "import shutil\n",
        "from google.colab import drive"
      ],
      "metadata": {
        "id": "CoD6gKlYp98d"
      },
      "execution_count": null,
      "outputs": []
    },
    {
      "cell_type": "code",
      "source": [
        "# Specify the path to your file\n",
        "file_path = '/content/dataset/corpus_cleaned.txt'\n",
        "zip_file_path = '/content/dataset/corpus_cleaned.zip'\n",
        "\n",
        "# Create a zip file\n",
        "shutil.make_archive(zip_file_path.replace('.zip', ''), 'zip', '/content/dataset', 'corpus_cleaned.txt')"
      ],
      "metadata": {
        "colab": {
          "base_uri": "https://localhost:8080/",
          "height": 35
        },
        "id": "SYG0ikaDqtpj",
        "outputId": "a9c0b5f1-ebf0-44d9-d5ee-772141a1d201"
      },
      "execution_count": null,
      "outputs": [
        {
          "output_type": "execute_result",
          "data": {
            "text/plain": [
              "'/content/dataset/corpus_cleaned.zip'"
            ],
            "application/vnd.google.colaboratory.intrinsic+json": {
              "type": "string"
            }
          },
          "metadata": {},
          "execution_count": 16
        }
      ]
    },
    {
      "cell_type": "code",
      "source": [
        "files.download(zip_file_path)"
      ],
      "metadata": {
        "colab": {
          "base_uri": "https://localhost:8080/",
          "height": 34
        },
        "id": "XbTYdvs5rTl6",
        "outputId": "5c0d9086-55b7-4dd9-99b8-9c4ce3c08b7b"
      },
      "execution_count": null,
      "outputs": [
        {
          "output_type": "display_data",
          "data": {
            "text/plain": [
              "<IPython.core.display.Javascript object>"
            ],
            "application/javascript": [
              "\n",
              "    async function download(id, filename, size) {\n",
              "      if (!google.colab.kernel.accessAllowed) {\n",
              "        return;\n",
              "      }\n",
              "      const div = document.createElement('div');\n",
              "      const label = document.createElement('label');\n",
              "      label.textContent = `Downloading \"${filename}\": `;\n",
              "      div.appendChild(label);\n",
              "      const progress = document.createElement('progress');\n",
              "      progress.max = size;\n",
              "      div.appendChild(progress);\n",
              "      document.body.appendChild(div);\n",
              "\n",
              "      const buffers = [];\n",
              "      let downloaded = 0;\n",
              "\n",
              "      const channel = await google.colab.kernel.comms.open(id);\n",
              "      // Send a message to notify the kernel that we're ready.\n",
              "      channel.send({})\n",
              "\n",
              "      for await (const message of channel.messages) {\n",
              "        // Send a message to notify the kernel that we're ready.\n",
              "        channel.send({})\n",
              "        if (message.buffers) {\n",
              "          for (const buffer of message.buffers) {\n",
              "            buffers.push(buffer);\n",
              "            downloaded += buffer.byteLength;\n",
              "            progress.value = downloaded;\n",
              "          }\n",
              "        }\n",
              "      }\n",
              "      const blob = new Blob(buffers, {type: 'application/binary'});\n",
              "      const a = document.createElement('a');\n",
              "      a.href = window.URL.createObjectURL(blob);\n",
              "      a.download = filename;\n",
              "      div.appendChild(a);\n",
              "      a.click();\n",
              "      div.remove();\n",
              "    }\n",
              "  "
            ]
          },
          "metadata": {}
        },
        {
          "output_type": "display_data",
          "data": {
            "text/plain": [
              "<IPython.core.display.Javascript object>"
            ],
            "application/javascript": [
              "download(\"download_f101b3f2-b792-4999-ae25-b165e7555c46\", \"corpus_cleaned.zip\", 408885625)"
            ]
          },
          "metadata": {}
        }
      ]
    },
    {
      "cell_type": "markdown",
      "source": [
        "# Task 3"
      ],
      "metadata": {
        "id": "hGZmmI4ZJG0c"
      }
    },
    {
      "cell_type": "markdown",
      "source": [
        "## Zipf’s Law"
      ],
      "metadata": {
        "id": "uAL7UDGACK9T"
      }
    },
    {
      "cell_type": "code",
      "source": [
        "# Here we set all codes for getting unique words and their frequency\n",
        "def read_corpus(file_path):\n",
        "    with open(file_path, 'r') as file:\n",
        "        return file.read()\n",
        "\n",
        "def tokenize(text):\n",
        "    return re.findall(r'\\b\\w+\\b', text)\n",
        "\n",
        "def compute_tf(chunk):\n",
        "    tokens = tokenize(chunk)\n",
        "    return Counter(tokens)\n",
        "\n",
        "def split_corpus(corpus, num_chunks):\n",
        "    chunk_size = len(corpus) // num_chunks\n",
        "    return [corpus[i:i + chunk_size] for i in range(0, len(corpus), chunk_size)]\n",
        "\n",
        "def main():\n",
        "    output_file_path = '/content/dataset/corpus_cleaned.txt'\n",
        "    save_path = '/content/dataset/word_frequencies.csv'\n",
        "\n",
        "    corpus = read_corpus(output_file_path)\n",
        "\n",
        "    num_processes = cpu_count()\n",
        "\n",
        "    chunks = split_corpus(corpus, num_processes)\n",
        "\n",
        "    with Pool(num_processes) as pool:\n",
        "        results = list(tqdm(pool.imap(compute_tf, chunks), total=num_processes, desc='Processing chunks'))\n",
        "\n",
        "    total_counter = Counter()\n",
        "    for result in results:\n",
        "        total_counter.update(result)\n",
        "\n",
        "    z_df = pd.DataFrame(total_counter.items(), columns=['Word', 'Frequency'])\n",
        "\n",
        "    z_df.to_csv(save_path, index=False)\n",
        "\n",
        "    print(f\"DataFrame saved to {save_path}\")\n",
        "    print(\"DataFrame preview:\")\n",
        "    print(z_df.head())\n",
        "\n",
        "    return z_df"
      ],
      "metadata": {
        "id": "HAdboD1xAvo2"
      },
      "execution_count": null,
      "outputs": []
    },
    {
      "cell_type": "code",
      "source": [
        "if __name__ == \"__main__\":\n",
        "    z_df = main()"
      ],
      "metadata": {
        "colab": {
          "base_uri": "https://localhost:8080/"
        },
        "id": "YyDZXy6_CyfZ",
        "outputId": "d8dffb92-62c1-4a34-e9ed-fa107e30aa9f"
      },
      "execution_count": null,
      "outputs": [
        {
          "output_type": "stream",
          "name": "stderr",
          "text": [
            "Processing chunks: 97it [00:09,  9.74it/s]                        \n"
          ]
        },
        {
          "output_type": "stream",
          "name": "stdout",
          "text": [
            "DataFrame saved to /content/dataset/word_frequencies.csv\n",
            "DataFrame preview:\n",
            "            Word  Frequency\n",
            "0        effects     122958\n",
            "1             of    8342537\n",
            "2  allochthonous         88\n",
            "3         inputs       4098\n",
            "4             in    5586463\n"
          ]
        }
      ]
    },
    {
      "cell_type": "code",
      "source": [
        "sorted_df = z_df.sort_values(by='Frequency', ascending=False)\n",
        "\n",
        "sorted_df = sorted_df.reset_index(drop=True)\n",
        "sorted_df.index = sorted_df.index + 1"
      ],
      "metadata": {
        "id": "-ACzYaCyDSzI"
      },
      "execution_count": null,
      "outputs": []
    },
    {
      "cell_type": "code",
      "source": [
        "# Maximum frequency\n",
        "max_frequency = sorted_df['Frequency'].max()\n",
        "\n",
        "# Weighted term frequency\n",
        "sorted_df['weighted_term_frequency'] = sorted_df['Frequency'] / max_frequency\n",
        "\n",
        "# Calculate log10 of index and frequency columns\n",
        "sorted_df['log10_index'] = np.log10(sorted_df.index)\n",
        "sorted_df['log10_frequency'] = np.log10(sorted_df['Frequency'])"
      ],
      "metadata": {
        "id": "GhLF0_ttG1l4"
      },
      "execution_count": null,
      "outputs": []
    },
    {
      "cell_type": "code",
      "source": [
        "sorted_df.head()"
      ],
      "metadata": {
        "colab": {
          "base_uri": "https://localhost:8080/",
          "height": 206
        },
        "id": "8SDWvYYLG43s",
        "outputId": "08fd17e4-1074-4a83-8b51-13f21652017d"
      },
      "execution_count": null,
      "outputs": [
        {
          "output_type": "execute_result",
          "data": {
            "text/plain": [
              "  Word  Frequency  weighted_term_frequency  log10_index  log10_frequency\n",
              "1  the   12259616                 1.000000     0.000000         7.088477\n",
              "2   of    8342537                 0.680489     0.301030         6.921298\n",
              "3  and    7072286                 0.576877     0.477121         6.849560\n",
              "4   in    5586463                 0.455680     0.602060         6.747137\n",
              "5   to    4786825                 0.390455     0.698970         6.680048"
            ],
            "text/html": [
              "\n",
              "  <div id=\"df-19719bc6-386c-48ac-bc73-36f3dfff3075\" class=\"colab-df-container\">\n",
              "    <div>\n",
              "<style scoped>\n",
              "    .dataframe tbody tr th:only-of-type {\n",
              "        vertical-align: middle;\n",
              "    }\n",
              "\n",
              "    .dataframe tbody tr th {\n",
              "        vertical-align: top;\n",
              "    }\n",
              "\n",
              "    .dataframe thead th {\n",
              "        text-align: right;\n",
              "    }\n",
              "</style>\n",
              "<table border=\"1\" class=\"dataframe\">\n",
              "  <thead>\n",
              "    <tr style=\"text-align: right;\">\n",
              "      <th></th>\n",
              "      <th>Word</th>\n",
              "      <th>Frequency</th>\n",
              "      <th>weighted_term_frequency</th>\n",
              "      <th>log10_index</th>\n",
              "      <th>log10_frequency</th>\n",
              "    </tr>\n",
              "  </thead>\n",
              "  <tbody>\n",
              "    <tr>\n",
              "      <th>1</th>\n",
              "      <td>the</td>\n",
              "      <td>12259616</td>\n",
              "      <td>1.000000</td>\n",
              "      <td>0.000000</td>\n",
              "      <td>7.088477</td>\n",
              "    </tr>\n",
              "    <tr>\n",
              "      <th>2</th>\n",
              "      <td>of</td>\n",
              "      <td>8342537</td>\n",
              "      <td>0.680489</td>\n",
              "      <td>0.301030</td>\n",
              "      <td>6.921298</td>\n",
              "    </tr>\n",
              "    <tr>\n",
              "      <th>3</th>\n",
              "      <td>and</td>\n",
              "      <td>7072286</td>\n",
              "      <td>0.576877</td>\n",
              "      <td>0.477121</td>\n",
              "      <td>6.849560</td>\n",
              "    </tr>\n",
              "    <tr>\n",
              "      <th>4</th>\n",
              "      <td>in</td>\n",
              "      <td>5586463</td>\n",
              "      <td>0.455680</td>\n",
              "      <td>0.602060</td>\n",
              "      <td>6.747137</td>\n",
              "    </tr>\n",
              "    <tr>\n",
              "      <th>5</th>\n",
              "      <td>to</td>\n",
              "      <td>4786825</td>\n",
              "      <td>0.390455</td>\n",
              "      <td>0.698970</td>\n",
              "      <td>6.680048</td>\n",
              "    </tr>\n",
              "  </tbody>\n",
              "</table>\n",
              "</div>\n",
              "    <div class=\"colab-df-buttons\">\n",
              "\n",
              "  <div class=\"colab-df-container\">\n",
              "    <button class=\"colab-df-convert\" onclick=\"convertToInteractive('df-19719bc6-386c-48ac-bc73-36f3dfff3075')\"\n",
              "            title=\"Convert this dataframe to an interactive table.\"\n",
              "            style=\"display:none;\">\n",
              "\n",
              "  <svg xmlns=\"http://www.w3.org/2000/svg\" height=\"24px\" viewBox=\"0 -960 960 960\">\n",
              "    <path d=\"M120-120v-720h720v720H120Zm60-500h600v-160H180v160Zm220 220h160v-160H400v160Zm0 220h160v-160H400v160ZM180-400h160v-160H180v160Zm440 0h160v-160H620v160ZM180-180h160v-160H180v160Zm440 0h160v-160H620v160Z\"/>\n",
              "  </svg>\n",
              "    </button>\n",
              "\n",
              "  <style>\n",
              "    .colab-df-container {\n",
              "      display:flex;\n",
              "      gap: 12px;\n",
              "    }\n",
              "\n",
              "    .colab-df-convert {\n",
              "      background-color: #E8F0FE;\n",
              "      border: none;\n",
              "      border-radius: 50%;\n",
              "      cursor: pointer;\n",
              "      display: none;\n",
              "      fill: #1967D2;\n",
              "      height: 32px;\n",
              "      padding: 0 0 0 0;\n",
              "      width: 32px;\n",
              "    }\n",
              "\n",
              "    .colab-df-convert:hover {\n",
              "      background-color: #E2EBFA;\n",
              "      box-shadow: 0px 1px 2px rgba(60, 64, 67, 0.3), 0px 1px 3px 1px rgba(60, 64, 67, 0.15);\n",
              "      fill: #174EA6;\n",
              "    }\n",
              "\n",
              "    .colab-df-buttons div {\n",
              "      margin-bottom: 4px;\n",
              "    }\n",
              "\n",
              "    [theme=dark] .colab-df-convert {\n",
              "      background-color: #3B4455;\n",
              "      fill: #D2E3FC;\n",
              "    }\n",
              "\n",
              "    [theme=dark] .colab-df-convert:hover {\n",
              "      background-color: #434B5C;\n",
              "      box-shadow: 0px 1px 3px 1px rgba(0, 0, 0, 0.15);\n",
              "      filter: drop-shadow(0px 1px 2px rgba(0, 0, 0, 0.3));\n",
              "      fill: #FFFFFF;\n",
              "    }\n",
              "  </style>\n",
              "\n",
              "    <script>\n",
              "      const buttonEl =\n",
              "        document.querySelector('#df-19719bc6-386c-48ac-bc73-36f3dfff3075 button.colab-df-convert');\n",
              "      buttonEl.style.display =\n",
              "        google.colab.kernel.accessAllowed ? 'block' : 'none';\n",
              "\n",
              "      async function convertToInteractive(key) {\n",
              "        const element = document.querySelector('#df-19719bc6-386c-48ac-bc73-36f3dfff3075');\n",
              "        const dataTable =\n",
              "          await google.colab.kernel.invokeFunction('convertToInteractive',\n",
              "                                                    [key], {});\n",
              "        if (!dataTable) return;\n",
              "\n",
              "        const docLinkHtml = 'Like what you see? Visit the ' +\n",
              "          '<a target=\"_blank\" href=https://colab.research.google.com/notebooks/data_table.ipynb>data table notebook</a>'\n",
              "          + ' to learn more about interactive tables.';\n",
              "        element.innerHTML = '';\n",
              "        dataTable['output_type'] = 'display_data';\n",
              "        await google.colab.output.renderOutput(dataTable, element);\n",
              "        const docLink = document.createElement('div');\n",
              "        docLink.innerHTML = docLinkHtml;\n",
              "        element.appendChild(docLink);\n",
              "      }\n",
              "    </script>\n",
              "  </div>\n",
              "\n",
              "\n",
              "<div id=\"df-9c22ac4c-87aa-432b-9301-ad9e0ca89ea3\">\n",
              "  <button class=\"colab-df-quickchart\" onclick=\"quickchart('df-9c22ac4c-87aa-432b-9301-ad9e0ca89ea3')\"\n",
              "            title=\"Suggest charts\"\n",
              "            style=\"display:none;\">\n",
              "\n",
              "<svg xmlns=\"http://www.w3.org/2000/svg\" height=\"24px\"viewBox=\"0 0 24 24\"\n",
              "     width=\"24px\">\n",
              "    <g>\n",
              "        <path d=\"M19 3H5c-1.1 0-2 .9-2 2v14c0 1.1.9 2 2 2h14c1.1 0 2-.9 2-2V5c0-1.1-.9-2-2-2zM9 17H7v-7h2v7zm4 0h-2V7h2v10zm4 0h-2v-4h2v4z\"/>\n",
              "    </g>\n",
              "</svg>\n",
              "  </button>\n",
              "\n",
              "<style>\n",
              "  .colab-df-quickchart {\n",
              "      --bg-color: #E8F0FE;\n",
              "      --fill-color: #1967D2;\n",
              "      --hover-bg-color: #E2EBFA;\n",
              "      --hover-fill-color: #174EA6;\n",
              "      --disabled-fill-color: #AAA;\n",
              "      --disabled-bg-color: #DDD;\n",
              "  }\n",
              "\n",
              "  [theme=dark] .colab-df-quickchart {\n",
              "      --bg-color: #3B4455;\n",
              "      --fill-color: #D2E3FC;\n",
              "      --hover-bg-color: #434B5C;\n",
              "      --hover-fill-color: #FFFFFF;\n",
              "      --disabled-bg-color: #3B4455;\n",
              "      --disabled-fill-color: #666;\n",
              "  }\n",
              "\n",
              "  .colab-df-quickchart {\n",
              "    background-color: var(--bg-color);\n",
              "    border: none;\n",
              "    border-radius: 50%;\n",
              "    cursor: pointer;\n",
              "    display: none;\n",
              "    fill: var(--fill-color);\n",
              "    height: 32px;\n",
              "    padding: 0;\n",
              "    width: 32px;\n",
              "  }\n",
              "\n",
              "  .colab-df-quickchart:hover {\n",
              "    background-color: var(--hover-bg-color);\n",
              "    box-shadow: 0 1px 2px rgba(60, 64, 67, 0.3), 0 1px 3px 1px rgba(60, 64, 67, 0.15);\n",
              "    fill: var(--button-hover-fill-color);\n",
              "  }\n",
              "\n",
              "  .colab-df-quickchart-complete:disabled,\n",
              "  .colab-df-quickchart-complete:disabled:hover {\n",
              "    background-color: var(--disabled-bg-color);\n",
              "    fill: var(--disabled-fill-color);\n",
              "    box-shadow: none;\n",
              "  }\n",
              "\n",
              "  .colab-df-spinner {\n",
              "    border: 2px solid var(--fill-color);\n",
              "    border-color: transparent;\n",
              "    border-bottom-color: var(--fill-color);\n",
              "    animation:\n",
              "      spin 1s steps(1) infinite;\n",
              "  }\n",
              "\n",
              "  @keyframes spin {\n",
              "    0% {\n",
              "      border-color: transparent;\n",
              "      border-bottom-color: var(--fill-color);\n",
              "      border-left-color: var(--fill-color);\n",
              "    }\n",
              "    20% {\n",
              "      border-color: transparent;\n",
              "      border-left-color: var(--fill-color);\n",
              "      border-top-color: var(--fill-color);\n",
              "    }\n",
              "    30% {\n",
              "      border-color: transparent;\n",
              "      border-left-color: var(--fill-color);\n",
              "      border-top-color: var(--fill-color);\n",
              "      border-right-color: var(--fill-color);\n",
              "    }\n",
              "    40% {\n",
              "      border-color: transparent;\n",
              "      border-right-color: var(--fill-color);\n",
              "      border-top-color: var(--fill-color);\n",
              "    }\n",
              "    60% {\n",
              "      border-color: transparent;\n",
              "      border-right-color: var(--fill-color);\n",
              "    }\n",
              "    80% {\n",
              "      border-color: transparent;\n",
              "      border-right-color: var(--fill-color);\n",
              "      border-bottom-color: var(--fill-color);\n",
              "    }\n",
              "    90% {\n",
              "      border-color: transparent;\n",
              "      border-bottom-color: var(--fill-color);\n",
              "    }\n",
              "  }\n",
              "</style>\n",
              "\n",
              "  <script>\n",
              "    async function quickchart(key) {\n",
              "      const quickchartButtonEl =\n",
              "        document.querySelector('#' + key + ' button');\n",
              "      quickchartButtonEl.disabled = true;  // To prevent multiple clicks.\n",
              "      quickchartButtonEl.classList.add('colab-df-spinner');\n",
              "      try {\n",
              "        const charts = await google.colab.kernel.invokeFunction(\n",
              "            'suggestCharts', [key], {});\n",
              "      } catch (error) {\n",
              "        console.error('Error during call to suggestCharts:', error);\n",
              "      }\n",
              "      quickchartButtonEl.classList.remove('colab-df-spinner');\n",
              "      quickchartButtonEl.classList.add('colab-df-quickchart-complete');\n",
              "    }\n",
              "    (() => {\n",
              "      let quickchartButtonEl =\n",
              "        document.querySelector('#df-9c22ac4c-87aa-432b-9301-ad9e0ca89ea3 button');\n",
              "      quickchartButtonEl.style.display =\n",
              "        google.colab.kernel.accessAllowed ? 'block' : 'none';\n",
              "    })();\n",
              "  </script>\n",
              "</div>\n",
              "\n",
              "    </div>\n",
              "  </div>\n"
            ],
            "application/vnd.google.colaboratory.intrinsic+json": {
              "type": "dataframe",
              "variable_name": "sorted_df"
            }
          },
          "metadata": {},
          "execution_count": 24
        }
      ]
    },
    {
      "cell_type": "markdown",
      "source": [
        "In Zipf's Law we know, \\\\\n",
        "$frequency ∝ 1/rank^{α}$ \\\\\n",
        "So, we can say \\\\\n",
        "$log(frequency) ∝ -αlog(rank)$"
      ],
      "metadata": {
        "id": "8ttugoicMHLb"
      }
    },
    {
      "cell_type": "code",
      "source": [
        "# Prepare data for linear regression\n",
        "X = sorted_df[['log10_index']].values  # Predictor (independent variable)\n",
        "y = sorted_df['log10_frequency'].values  # Response (dependent variable)\n",
        "\n",
        "# Create and fit the model\n",
        "model = LinearRegression()\n",
        "model.fit(X, y)\n",
        "\n",
        "# Predict values for the regression line\n",
        "y_pred = model.predict(X)\n",
        "\n",
        "# Plotting\n",
        "plt.figure(figsize=(10, 6))\n",
        "plt.scatter(sorted_df['log10_index'], sorted_df['log10_frequency'], alpha=0.7, c='blue', label='Data')\n",
        "plt.plot(sorted_df['log10_index'], y_pred, color='red', linewidth=2, label='Fit Line')\n",
        "plt.title('Log10(Rank) vs Log10(Frequency)')\n",
        "plt.xlabel('Log10(Rank)')\n",
        "plt.ylabel('Log10(Frequency)')\n",
        "plt.legend()\n",
        "plt.grid(True)\n",
        "plt.show()"
      ],
      "metadata": {
        "colab": {
          "base_uri": "https://localhost:8080/",
          "height": 564
        },
        "id": "QqlmxWGmG4kP",
        "outputId": "9410006a-ca0c-47be-88ac-63092cde8cf1"
      },
      "execution_count": null,
      "outputs": [
        {
          "output_type": "display_data",
          "data": {
            "text/plain": [
              "<Figure size 1000x600 with 1 Axes>"
            ],
            "image/png": "[encoded data removed]"
          },
          "metadata": {}
        }
      ]
    },
    {
      "cell_type": "code",
      "source": [
        "# Output the slope\n",
        "display(Math(f'\\\\text{{Expected }} \\\\alpha \\\\text{{ is: }} {-model.coef_[0]}'))"
      ],
      "metadata": {
        "colab": {
          "base_uri": "https://localhost:8080/",
          "height": 39
        },
        "id": "rcXp8XjfH_3r",
        "outputId": "c49aad93-515d-43f0-edb5-5ac27d11834d"
      },
      "execution_count": null,
      "outputs": [
        {
          "output_type": "display_data",
          "data": {
            "text/plain": [
              "<IPython.core.display.Math object>"
            ],
            "text/latex": "$\\displaystyle \\text{Expected } \\alpha \\text{ is: } 1.6064202892569155$"
          },
          "metadata": {}
        }
      ]
    },
    {
      "cell_type": "markdown",
      "source": [
        "# Task 4"
      ],
      "metadata": {
        "id": "K0UQPGb4JLQZ"
      }
    },
    {
      "cell_type": "markdown",
      "source": [
        "##  Number of tokens and the vocabulary"
      ],
      "metadata": {
        "id": "RIp4BqV5s88T"
      }
    },
    {
      "cell_type": "code",
      "source": [
        "def process_chunk(chunk):\n",
        "    tokens = chunk.split()  # Tokenize by splitting on whitespace\n",
        "    return tokens\n",
        "\n",
        "def read_in_chunks(file_path, chunk_size=1024*1024):  # 1MB chunks\n",
        "    with open(file_path, 'r', encoding='utf-8') as f:\n",
        "        while True:\n",
        "            data = f.read(chunk_size)\n",
        "            if not data:\n",
        "                break\n",
        "            yield data\n",
        "\n",
        "def count_tokens_and_vocabulary(file_path):\n",
        "    total_tokens = 0\n",
        "    token_counter = Counter()\n",
        "\n",
        "    with Pool(processes=cpu_count()) as pool:\n",
        "        chunks = read_in_chunks(file_path)\n",
        "        for tokens in tqdm(pool.imap_unordered(process_chunk, chunks), desc=\"Processing Chunks\"):\n",
        "            total_tokens += len(tokens)\n",
        "            token_counter.update(tokens)\n",
        "\n",
        "    return total_tokens, token_counter"
      ],
      "metadata": {
        "id": "mpolZO_DKMQR"
      },
      "execution_count": null,
      "outputs": []
    },
    {
      "cell_type": "code",
      "source": [
        "if __name__ == \"__main__\":\n",
        "    output_file_path = '/content/dataset/corpus_cleaned.txt'\n",
        "    total_tokens, token_counter = count_tokens_and_vocabulary(output_file_path)\n",
        "\n",
        "    print(f\"Number of tokens: {total_tokens}\")\n",
        "    print(f\"Vocabulary size: {len(token_counter)}\")"
      ],
      "metadata": {
        "colab": {
          "base_uri": "https://localhost:8080/"
        },
        "id": "84L_Fk_BKuJ2",
        "outputId": "559b0ffb-86d3-4c85-c78b-53b3b66e29ff"
      },
      "execution_count": null,
      "outputs": [
        {
          "output_type": "stream",
          "name": "stderr",
          "text": [
            "Processing Chunks: 1325it [01:20, 16.41it/s]\n"
          ]
        },
        {
          "output_type": "stream",
          "name": "stdout",
          "text": [
            "Number of tokens: 213451370\n",
            "Vocabulary size: 1524671\n"
          ]
        }
      ]
    },
    {
      "cell_type": "markdown",
      "source": [
        "# Task 5"
      ],
      "metadata": {
        "id": "YthP_Xz3JRJx"
      }
    },
    {
      "cell_type": "markdown",
      "source": [
        "##  Heaps’ empirical law"
      ],
      "metadata": {
        "id": "X8WkAf8Ds_yq"
      }
    },
    {
      "cell_type": "code",
      "source": [
        "# While iterating with the number of tokens, we keep track vocabulary into a pair (x,y)\n",
        "def process_file(file_path):\n",
        "    token_vocabulary_pairs = []\n",
        "\n",
        "    vocabulary = set()\n",
        "\n",
        "    token_count = 0\n",
        "\n",
        "    with open(file_path, 'r', encoding='utf-8') as file:\n",
        "        total_lines = sum(1 for _ in file)\n",
        "\n",
        "    with open(file_path, 'r', encoding='utf-8') as file:\n",
        "        for line in tqdm(file, total=total_lines, desc=\"Processing tokens\"):\n",
        "            tokens = line.split()\n",
        "\n",
        "            for token in tokens:\n",
        "                token_count += 1\n",
        "                vocabulary.add(token)\n",
        "                token_vocabulary_pairs.append((token_count, len(vocabulary)))\n",
        "\n",
        "    return token_vocabulary_pairs"
      ],
      "metadata": {
        "id": "whz5Eg3Gd_ke"
      },
      "execution_count": null,
      "outputs": []
    },
    {
      "cell_type": "code",
      "source": [
        "file_path = '/content/dataset/corpus_cleaned.txt'\n",
        "pairs = process_file(file_path)"
      ],
      "metadata": {
        "colab": {
          "base_uri": "https://localhost:8080/"
        },
        "id": "_gele7yHeBs6",
        "outputId": "a42bf495-c809-483e-848b-0b88029cbe6d"
      },
      "execution_count": null,
      "outputs": [
        {
          "output_type": "stream",
          "name": "stderr",
          "text": [
            "Processing tokens: 100%|██████████| 1986917/1986917 [01:44<00:00, 19044.87it/s]\n"
          ]
        }
      ]
    },
    {
      "cell_type": "code",
      "source": [
        "def plot_log_pairs(pairs):\n",
        "    # Convert pairs to numpy arrays for easier manipulation\n",
        "    print(\"Converting pairs to numpy arrays...\")\n",
        "    token_counts, vocab_sizes = zip(*pairs)\n",
        "\n",
        "    # Convert to numpy arrays and calculate logarithms\n",
        "    print(\"Calculating logarithms...\")\n",
        "    log_token_counts = np.log10(token_counts)\n",
        "    log_vocab_sizes = np.log10(vocab_sizes)\n",
        "\n",
        "    # Add a column of ones for the intercept term\n",
        "    print(\"Setting up matrices for linear regression...\")\n",
        "    A = np.vstack([log_token_counts, np.ones(len(log_token_counts))]).T\n",
        "    b = log_vocab_sizes\n",
        "\n",
        "    # Perform linear regression and track progress\n",
        "    print(\"Performing linear regression...\")\n",
        "    for _ in tqdm(range(1)):\n",
        "        slope, intercept = np.linalg.lstsq(A, b, rcond=None)[0]\n",
        "\n",
        "    # Generate fitted line values\n",
        "    print(\"Generating fitted line values...\")\n",
        "    log_token_counts_range = np.linspace(min(log_token_counts), max(log_token_counts), 100)\n",
        "    fitted_line = slope * log_token_counts_range + intercept\n",
        "\n",
        "    print(\"Plotting the results...\")\n",
        "    plt.figure(figsize=(10, 6))\n",
        "    plt.scatter(log_token_counts, log_vocab_sizes, s=1, alpha=0.5, label='Data points')\n",
        "    plt.plot(log_token_counts_range, fitted_line, color='red', label='Fitted line')\n",
        "    plt.xlabel('Log of Token Count')\n",
        "    plt.ylabel('Log of Vocabulary Size')\n",
        "    plt.title('Log-Log Plot of Token Count vs. Vocabulary Size')\n",
        "    plt.grid(True)\n",
        "    plt.legend()\n",
        "    plt.show()\n",
        "\n",
        "    return log_token_counts_range, fitted_line"
      ],
      "metadata": {
        "id": "XcbE-nFysqe9"
      },
      "execution_count": null,
      "outputs": []
    },
    {
      "cell_type": "code",
      "source": [
        "count, line = plot_log_pairs(pairs)"
      ],
      "metadata": {
        "colab": {
          "base_uri": "https://localhost:8080/",
          "height": 552
        },
        "id": "wimjEowRyIc8",
        "outputId": "314fdb5d-0ec8-4426-c7d9-3bc56880cfd3"
      },
      "execution_count": null,
      "outputs": [
        {
          "output_type": "stream",
          "name": "stdout",
          "text": [
            "Converting pairs to numpy arrays...\n",
            "Calculating logarithms...\n",
            "Setting up matrices for linear regression...\n",
            "Performing linear regression...\n"
          ]
        },
        {
          "output_type": "stream",
          "name": "stderr",
          "text": [
            "100%|██████████| 1/1 [00:07<00:00,  7.77s/it]\n"
          ]
        },
        {
          "output_type": "stream",
          "name": "stdout",
          "text": [
            "Generating fitted line values...\n",
            "Plotting the results...\n"
          ]
        },
        {
          "output_type": "display_data",
          "data": {
            "text/plain": [
              "<Figure size 1000x600 with 1 Axes>"
            ],
            "image/png": "[encoded data removed]"
          },
          "metadata": {}
        }
      ]
    },
    {
      "cell_type": "code",
      "source": [
        "def extract_slope_intercept(log_token_counts_range, fitted_line):\n",
        "    # Compute slope and intercept\n",
        "    # Fit a line to the `log_token_counts_range` and `fitted_line` values\n",
        "    A = np.vstack([log_token_counts_range, np.ones(len(log_token_counts_range))]).T\n",
        "    slope, intercept = np.linalg.lstsq(A, fitted_line, rcond=None)[0]\n",
        "\n",
        "    return slope, intercept"
      ],
      "metadata": {
        "id": "dw3gqVy77sIj"
      },
      "execution_count": null,
      "outputs": []
    },
    {
      "cell_type": "code",
      "source": [
        "slope, intercept = extract_slope_intercept(count,line)"
      ],
      "metadata": {
        "id": "__eUHdO18ZIK"
      },
      "execution_count": null,
      "outputs": []
    },
    {
      "cell_type": "markdown",
      "source": [
        " Heaps’ empirical law states \\\\\n",
        " $ V_{R}(n) = Kn^{β}$ \\\\\n",
        " where $ V_{R}(n)$ is the number of distinct words in an instance text of size n. K and β are free parameters determined empirically. Therefore, we can say \\\\\n",
        " $log(V_{R}(n)) = logK +βlogn$ \\\\\n",
        " Thus, from the line fitted above we can tell K and β values."
      ],
      "metadata": {
        "id": "lwV-mRuA875Y"
      }
    },
    {
      "cell_type": "code",
      "source": [
        "print(f\"β = {slope} \\nK = {10 ** intercept}\")"
      ],
      "metadata": {
        "colab": {
          "base_uri": "https://localhost:8080/"
        },
        "id": "O3zzxYcF8nPL",
        "outputId": "04ae1389-6099-4459-e7e0-07f682eaf92f"
      },
      "execution_count": null,
      "outputs": [
        {
          "output_type": "stream",
          "name": "stdout",
          "text": [
            "β = 0.6474172157189944 \n",
            "K = 6.167647759543851\n"
          ]
        }
      ]
    },
    {
      "cell_type": "markdown",
      "source": [
        "## Vocabulary count for every 10000 tokens."
      ],
      "metadata": {
        "id": "xrbFij0A_js3"
      }
    },
    {
      "cell_type": "code",
      "source": [
        "# For consecutive 10000 tokens we calculate the vocabulary\n",
        "file_path = '/content/dataset/corpus_cleaned.txt'\n",
        "\n",
        "# Chunk size\n",
        "chunk_size = 10000\n",
        "\n",
        "start = 0\n",
        "end = chunk_size\n",
        "vocab_size_list = []\n",
        "\n",
        "# Open the file\n",
        "with open(file_path, 'r') as file:\n",
        "    text = file.read()\n",
        "\n",
        "    tokens = text.split()\n",
        "\n",
        "    while start < len(tokens):\n",
        "        chunk_tokens = tokens[start:end]\n",
        "\n",
        "        # Calculate vocabulary size for the current chunk\n",
        "        vocab_size = len(set(chunk_tokens))\n",
        "        vocab_size_list.append((f'{start + 1}-{end}', vocab_size))\n",
        "\n",
        "        start = end\n",
        "        end = start + chunk_size\n",
        "\n",
        "vocab_df = pd.DataFrame(vocab_size_list, columns=['Token Range', 'Vocabulary Size'])"
      ],
      "metadata": {
        "id": "I_M-6THB-DOK"
      },
      "execution_count": null,
      "outputs": []
    },
    {
      "cell_type": "code",
      "source": [
        "vocab_df.head(50)"
      ],
      "metadata": {
        "id": "5AbT2-1bAG9G",
        "colab": {
          "base_uri": "https://localhost:8080/",
          "height": 1000
        },
        "outputId": "9f2d9284-03c6-4bdf-d89e-9f60b4740fcb"
      },
      "execution_count": null,
      "outputs": [
        {
          "output_type": "execute_result",
          "data": {
            "text/plain": [
              "      Token Range  Vocabulary Size\n",
              "0         1-10000             2011\n",
              "1     10001-20000             2034\n",
              "2     20001-30000             2072\n",
              "3     30001-40000             2272\n",
              "4     40001-50000             1960\n",
              "5     50001-60000             2154\n",
              "6     60001-70000             2193\n",
              "7     70001-80000             1100\n",
              "8     80001-90000             2236\n",
              "9    90001-100000             1758\n",
              "10  100001-110000             2326\n",
              "11  110001-120000             2152\n",
              "12  120001-130000             2278\n",
              "13  130001-140000             2616\n",
              "14  140001-150000             2363\n",
              "15  150001-160000             1824\n",
              "16  160001-170000             2146\n",
              "17  170001-180000             2189\n",
              "18  180001-190000             2299\n",
              "19  190001-200000             2301\n",
              "20  200001-210000             2662\n",
              "21  210001-220000             1827\n",
              "22  220001-230000             2148\n",
              "23  230001-240000             2147\n",
              "24  240001-250000             2384\n",
              "25  250001-260000             2143\n",
              "26  260001-270000             2103\n",
              "27  270001-280000             1829\n",
              "28  280001-290000             2046\n",
              "29  290001-300000             2206\n",
              "30  300001-310000             2404\n",
              "31  310001-320000             2152\n",
              "32  320001-330000             2028\n",
              "33  330001-340000             2289\n",
              "34  340001-350000             1990\n",
              "35  350001-360000             2861\n",
              "36  360001-370000             2480\n",
              "37  370001-380000             2577\n",
              "38  380001-390000             2536\n",
              "39  390001-400000             2280\n",
              "40  400001-410000             1798\n",
              "41  410001-420000             2262\n",
              "42  420001-430000             2763\n",
              "43  430001-440000             2401\n",
              "44  440001-450000             2235\n",
              "45  450001-460000             1896\n",
              "46  460001-470000             2121\n",
              "47  470001-480000             2168\n",
              "48  480001-490000             2037\n",
              "49  490001-500000             2318"
            ],
            "text/html": [
              "\n",
              "  <div id=\"df-3723b612-6a14-4a03-95b1-8119692c402c\" class=\"colab-df-container\">\n",
              "    <div>\n",
              "<style scoped>\n",
              "    .dataframe tbody tr th:only-of-type {\n",
              "        vertical-align: middle;\n",
              "    }\n",
              "\n",
              "    .dataframe tbody tr th {\n",
              "        vertical-align: top;\n",
              "    }\n",
              "\n",
              "    .dataframe thead th {\n",
              "        text-align: right;\n",
              "    }\n",
              "</style>\n",
              "<table border=\"1\" class=\"dataframe\">\n",
              "  <thead>\n",
              "    <tr style=\"text-align: right;\">\n",
              "      <th></th>\n",
              "      <th>Token Range</th>\n",
              "      <th>Vocabulary Size</th>\n",
              "    </tr>\n",
              "  </thead>\n",
              "  <tbody>\n",
              "    <tr>\n",
              "      <th>0</th>\n",
              "      <td>1-10000</td>\n",
              "      <td>2011</td>\n",
              "    </tr>\n",
              "    <tr>\n",
              "      <th>1</th>\n",
              "      <td>10001-20000</td>\n",
              "      <td>2034</td>\n",
              "    </tr>\n",
              "    <tr>\n",
              "      <th>2</th>\n",
              "      <td>20001-30000</td>\n",
              "      <td>2072</td>\n",
              "    </tr>\n",
              "    <tr>\n",
              "      <th>3</th>\n",
              "      <td>30001-40000</td>\n",
              "      <td>2272</td>\n",
              "    </tr>\n",
              "    <tr>\n",
              "      <th>4</th>\n",
              "      <td>40001-50000</td>\n",
              "      <td>1960</td>\n",
              "    </tr>\n",
              "    <tr>\n",
              "      <th>5</th>\n",
              "      <td>50001-60000</td>\n",
              "      <td>2154</td>\n",
              "    </tr>\n",
              "    <tr>\n",
              "      <th>6</th>\n",
              "      <td>60001-70000</td>\n",
              "      <td>2193</td>\n",
              "    </tr>\n",
              "    <tr>\n",
              "      <th>7</th>\n",
              "      <td>70001-80000</td>\n",
              "      <td>1100</td>\n",
              "    </tr>\n",
              "    <tr>\n",
              "      <th>8</th>\n",
              "      <td>80001-90000</td>\n",
              "      <td>2236</td>\n",
              "    </tr>\n",
              "    <tr>\n",
              "      <th>9</th>\n",
              "      <td>90001-100000</td>\n",
              "      <td>1758</td>\n",
              "    </tr>\n",
              "    <tr>\n",
              "      <th>10</th>\n",
              "      <td>100001-110000</td>\n",
              "      <td>2326</td>\n",
              "    </tr>\n",
              "    <tr>\n",
              "      <th>11</th>\n",
              "      <td>110001-120000</td>\n",
              "      <td>2152</td>\n",
              "    </tr>\n",
              "    <tr>\n",
              "      <th>12</th>\n",
              "      <td>120001-130000</td>\n",
              "      <td>2278</td>\n",
              "    </tr>\n",
              "    <tr>\n",
              "      <th>13</th>\n",
              "      <td>130001-140000</td>\n",
              "      <td>2616</td>\n",
              "    </tr>\n",
              "    <tr>\n",
              "      <th>14</th>\n",
              "      <td>140001-150000</td>\n",
              "      <td>2363</td>\n",
              "    </tr>\n",
              "    <tr>\n",
              "      <th>15</th>\n",
              "      <td>150001-160000</td>\n",
              "      <td>1824</td>\n",
              "    </tr>\n",
              "    <tr>\n",
              "      <th>16</th>\n",
              "      <td>160001-170000</td>\n",
              "      <td>2146</td>\n",
              "    </tr>\n",
              "    <tr>\n",
              "      <th>17</th>\n",
              "      <td>170001-180000</td>\n",
              "      <td>2189</td>\n",
              "    </tr>\n",
              "    <tr>\n",
              "      <th>18</th>\n",
              "      <td>180001-190000</td>\n",
              "      <td>2299</td>\n",
              "    </tr>\n",
              "    <tr>\n",
              "      <th>19</th>\n",
              "      <td>190001-200000</td>\n",
              "      <td>2301</td>\n",
              "    </tr>\n",
              "    <tr>\n",
              "      <th>20</th>\n",
              "      <td>200001-210000</td>\n",
              "      <td>2662</td>\n",
              "    </tr>\n",
              "    <tr>\n",
              "      <th>21</th>\n",
              "      <td>210001-220000</td>\n",
              "      <td>1827</td>\n",
              "    </tr>\n",
              "    <tr>\n",
              "      <th>22</th>\n",
              "      <td>220001-230000</td>\n",
              "      <td>2148</td>\n",
              "    </tr>\n",
              "    <tr>\n",
              "      <th>23</th>\n",
              "      <td>230001-240000</td>\n",
              "      <td>2147</td>\n",
              "    </tr>\n",
              "    <tr>\n",
              "      <th>24</th>\n",
              "      <td>240001-250000</td>\n",
              "      <td>2384</td>\n",
              "    </tr>\n",
              "    <tr>\n",
              "      <th>25</th>\n",
              "      <td>250001-260000</td>\n",
              "      <td>2143</td>\n",
              "    </tr>\n",
              "    <tr>\n",
              "      <th>26</th>\n",
              "      <td>260001-270000</td>\n",
              "      <td>2103</td>\n",
              "    </tr>\n",
              "    <tr>\n",
              "      <th>27</th>\n",
              "      <td>270001-280000</td>\n",
              "      <td>1829</td>\n",
              "    </tr>\n",
              "    <tr>\n",
              "      <th>28</th>\n",
              "      <td>280001-290000</td>\n",
              "      <td>2046</td>\n",
              "    </tr>\n",
              "    <tr>\n",
              "      <th>29</th>\n",
              "      <td>290001-300000</td>\n",
              "      <td>2206</td>\n",
              "    </tr>\n",
              "    <tr>\n",
              "      <th>30</th>\n",
              "      <td>300001-310000</td>\n",
              "      <td>2404</td>\n",
              "    </tr>\n",
              "    <tr>\n",
              "      <th>31</th>\n",
              "      <td>310001-320000</td>\n",
              "      <td>2152</td>\n",
              "    </tr>\n",
              "    <tr>\n",
              "      <th>32</th>\n",
              "      <td>320001-330000</td>\n",
              "      <td>2028</td>\n",
              "    </tr>\n",
              "    <tr>\n",
              "      <th>33</th>\n",
              "      <td>330001-340000</td>\n",
              "      <td>2289</td>\n",
              "    </tr>\n",
              "    <tr>\n",
              "      <th>34</th>\n",
              "      <td>340001-350000</td>\n",
              "      <td>1990</td>\n",
              "    </tr>\n",
              "    <tr>\n",
              "      <th>35</th>\n",
              "      <td>350001-360000</td>\n",
              "      <td>2861</td>\n",
              "    </tr>\n",
              "    <tr>\n",
              "      <th>36</th>\n",
              "      <td>360001-370000</td>\n",
              "      <td>2480</td>\n",
              "    </tr>\n",
              "    <tr>\n",
              "      <th>37</th>\n",
              "      <td>370001-380000</td>\n",
              "      <td>2577</td>\n",
              "    </tr>\n",
              "    <tr>\n",
              "      <th>38</th>\n",
              "      <td>380001-390000</td>\n",
              "      <td>2536</td>\n",
              "    </tr>\n",
              "    <tr>\n",
              "      <th>39</th>\n",
              "      <td>390001-400000</td>\n",
              "      <td>2280</td>\n",
              "    </tr>\n",
              "    <tr>\n",
              "      <th>40</th>\n",
              "      <td>400001-410000</td>\n",
              "      <td>1798</td>\n",
              "    </tr>\n",
              "    <tr>\n",
              "      <th>41</th>\n",
              "      <td>410001-420000</td>\n",
              "      <td>2262</td>\n",
              "    </tr>\n",
              "    <tr>\n",
              "      <th>42</th>\n",
              "      <td>420001-430000</td>\n",
              "      <td>2763</td>\n",
              "    </tr>\n",
              "    <tr>\n",
              "      <th>43</th>\n",
              "      <td>430001-440000</td>\n",
              "      <td>2401</td>\n",
              "    </tr>\n",
              "    <tr>\n",
              "      <th>44</th>\n",
              "      <td>440001-450000</td>\n",
              "      <td>2235</td>\n",
              "    </tr>\n",
              "    <tr>\n",
              "      <th>45</th>\n",
              "      <td>450001-460000</td>\n",
              "      <td>1896</td>\n",
              "    </tr>\n",
              "    <tr>\n",
              "      <th>46</th>\n",
              "      <td>460001-470000</td>\n",
              "      <td>2121</td>\n",
              "    </tr>\n",
              "    <tr>\n",
              "      <th>47</th>\n",
              "      <td>470001-480000</td>\n",
              "      <td>2168</td>\n",
              "    </tr>\n",
              "    <tr>\n",
              "      <th>48</th>\n",
              "      <td>480001-490000</td>\n",
              "      <td>2037</td>\n",
              "    </tr>\n",
              "    <tr>\n",
              "      <th>49</th>\n",
              "      <td>490001-500000</td>\n",
              "      <td>2318</td>\n",
              "    </tr>\n",
              "  </tbody>\n",
              "</table>\n",
              "</div>\n",
              "    <div class=\"colab-df-buttons\">\n",
              "\n",
              "  <div class=\"colab-df-container\">\n",
              "    <button class=\"colab-df-convert\" onclick=\"convertToInteractive('df-3723b612-6a14-4a03-95b1-8119692c402c')\"\n",
              "            title=\"Convert this dataframe to an interactive table.\"\n",
              "            style=\"display:none;\">\n",
              "\n",
              "  <svg xmlns=\"http://www.w3.org/2000/svg\" height=\"24px\" viewBox=\"0 -960 960 960\">\n",
              "    <path d=\"M120-120v-720h720v720H120Zm60-500h600v-160H180v160Zm220 220h160v-160H400v160Zm0 220h160v-160H400v160ZM180-400h160v-160H180v160Zm440 0h160v-160H620v160ZM180-180h160v-160H180v160Zm440 0h160v-160H620v160Z\"/>\n",
              "  </svg>\n",
              "    </button>\n",
              "\n",
              "  <style>\n",
              "    .colab-df-container {\n",
              "      display:flex;\n",
              "      gap: 12px;\n",
              "    }\n",
              "\n",
              "    .colab-df-convert {\n",
              "      background-color: #E8F0FE;\n",
              "      border: none;\n",
              "      border-radius: 50%;\n",
              "      cursor: pointer;\n",
              "      display: none;\n",
              "      fill: #1967D2;\n",
              "      height: 32px;\n",
              "      padding: 0 0 0 0;\n",
              "      width: 32px;\n",
              "    }\n",
              "\n",
              "    .colab-df-convert:hover {\n",
              "      background-color: #E2EBFA;\n",
              "      box-shadow: 0px 1px 2px rgba(60, 64, 67, 0.3), 0px 1px 3px 1px rgba(60, 64, 67, 0.15);\n",
              "      fill: #174EA6;\n",
              "    }\n",
              "\n",
              "    .colab-df-buttons div {\n",
              "      margin-bottom: 4px;\n",
              "    }\n",
              "\n",
              "    [theme=dark] .colab-df-convert {\n",
              "      background-color: #3B4455;\n",
              "      fill: #D2E3FC;\n",
              "    }\n",
              "\n",
              "    [theme=dark] .colab-df-convert:hover {\n",
              "      background-color: #434B5C;\n",
              "      box-shadow: 0px 1px 3px 1px rgba(0, 0, 0, 0.15);\n",
              "      filter: drop-shadow(0px 1px 2px rgba(0, 0, 0, 0.3));\n",
              "      fill: #FFFFFF;\n",
              "    }\n",
              "  </style>\n",
              "\n",
              "    <script>\n",
              "      const buttonEl =\n",
              "        document.querySelector('#df-3723b612-6a14-4a03-95b1-8119692c402c button.colab-df-convert');\n",
              "      buttonEl.style.display =\n",
              "        google.colab.kernel.accessAllowed ? 'block' : 'none';\n",
              "\n",
              "      async function convertToInteractive(key) {\n",
              "        const element = document.querySelector('#df-3723b612-6a14-4a03-95b1-8119692c402c');\n",
              "        const dataTable =\n",
              "          await google.colab.kernel.invokeFunction('convertToInteractive',\n",
              "                                                    [key], {});\n",
              "        if (!dataTable) return;\n",
              "\n",
              "        const docLinkHtml = 'Like what you see? Visit the ' +\n",
              "          '<a target=\"_blank\" href=https://colab.research.google.com/notebooks/data_table.ipynb>data table notebook</a>'\n",
              "          + ' to learn more about interactive tables.';\n",
              "        element.innerHTML = '';\n",
              "        dataTable['output_type'] = 'display_data';\n",
              "        await google.colab.output.renderOutput(dataTable, element);\n",
              "        const docLink = document.createElement('div');\n",
              "        docLink.innerHTML = docLinkHtml;\n",
              "        element.appendChild(docLink);\n",
              "      }\n",
              "    </script>\n",
              "  </div>\n",
              "\n",
              "\n",
              "<div id=\"df-e0b9edf5-0f7a-4851-aaa0-aa07d7078c98\">\n",
              "  <button class=\"colab-df-quickchart\" onclick=\"quickchart('df-e0b9edf5-0f7a-4851-aaa0-aa07d7078c98')\"\n",
              "            title=\"Suggest charts\"\n",
              "            style=\"display:none;\">\n",
              "\n",
              "<svg xmlns=\"http://www.w3.org/2000/svg\" height=\"24px\"viewBox=\"0 0 24 24\"\n",
              "     width=\"24px\">\n",
              "    <g>\n",
              "        <path d=\"M19 3H5c-1.1 0-2 .9-2 2v14c0 1.1.9 2 2 2h14c1.1 0 2-.9 2-2V5c0-1.1-.9-2-2-2zM9 17H7v-7h2v7zm4 0h-2V7h2v10zm4 0h-2v-4h2v4z\"/>\n",
              "    </g>\n",
              "</svg>\n",
              "  </button>\n",
              "\n",
              "<style>\n",
              "  .colab-df-quickchart {\n",
              "      --bg-color: #E8F0FE;\n",
              "      --fill-color: #1967D2;\n",
              "      --hover-bg-color: #E2EBFA;\n",
              "      --hover-fill-color: #174EA6;\n",
              "      --disabled-fill-color: #AAA;\n",
              "      --disabled-bg-color: #DDD;\n",
              "  }\n",
              "\n",
              "  [theme=dark] .colab-df-quickchart {\n",
              "      --bg-color: #3B4455;\n",
              "      --fill-color: #D2E3FC;\n",
              "      --hover-bg-color: #434B5C;\n",
              "      --hover-fill-color: #FFFFFF;\n",
              "      --disabled-bg-color: #3B4455;\n",
              "      --disabled-fill-color: #666;\n",
              "  }\n",
              "\n",
              "  .colab-df-quickchart {\n",
              "    background-color: var(--bg-color);\n",
              "    border: none;\n",
              "    border-radius: 50%;\n",
              "    cursor: pointer;\n",
              "    display: none;\n",
              "    fill: var(--fill-color);\n",
              "    height: 32px;\n",
              "    padding: 0;\n",
              "    width: 32px;\n",
              "  }\n",
              "\n",
              "  .colab-df-quickchart:hover {\n",
              "    background-color: var(--hover-bg-color);\n",
              "    box-shadow: 0 1px 2px rgba(60, 64, 67, 0.3), 0 1px 3px 1px rgba(60, 64, 67, 0.15);\n",
              "    fill: var(--button-hover-fill-color);\n",
              "  }\n",
              "\n",
              "  .colab-df-quickchart-complete:disabled,\n",
              "  .colab-df-quickchart-complete:disabled:hover {\n",
              "    background-color: var(--disabled-bg-color);\n",
              "    fill: var(--disabled-fill-color);\n",
              "    box-shadow: none;\n",
              "  }\n",
              "\n",
              "  .colab-df-spinner {\n",
              "    border: 2px solid var(--fill-color);\n",
              "    border-color: transparent;\n",
              "    border-bottom-color: var(--fill-color);\n",
              "    animation:\n",
              "      spin 1s steps(1) infinite;\n",
              "  }\n",
              "\n",
              "  @keyframes spin {\n",
              "    0% {\n",
              "      border-color: transparent;\n",
              "      border-bottom-color: var(--fill-color);\n",
              "      border-left-color: var(--fill-color);\n",
              "    }\n",
              "    20% {\n",
              "      border-color: transparent;\n",
              "      border-left-color: var(--fill-color);\n",
              "      border-top-color: var(--fill-color);\n",
              "    }\n",
              "    30% {\n",
              "      border-color: transparent;\n",
              "      border-left-color: var(--fill-color);\n",
              "      border-top-color: var(--fill-color);\n",
              "      border-right-color: var(--fill-color);\n",
              "    }\n",
              "    40% {\n",
              "      border-color: transparent;\n",
              "      border-right-color: var(--fill-color);\n",
              "      border-top-color: var(--fill-color);\n",
              "    }\n",
              "    60% {\n",
              "      border-color: transparent;\n",
              "      border-right-color: var(--fill-color);\n",
              "    }\n",
              "    80% {\n",
              "      border-color: transparent;\n",
              "      border-right-color: var(--fill-color);\n",
              "      border-bottom-color: var(--fill-color);\n",
              "    }\n",
              "    90% {\n",
              "      border-color: transparent;\n",
              "      border-bottom-color: var(--fill-color);\n",
              "    }\n",
              "  }\n",
              "</style>\n",
              "\n",
              "  <script>\n",
              "    async function quickchart(key) {\n",
              "      const quickchartButtonEl =\n",
              "        document.querySelector('#' + key + ' button');\n",
              "      quickchartButtonEl.disabled = true;  // To prevent multiple clicks.\n",
              "      quickchartButtonEl.classList.add('colab-df-spinner');\n",
              "      try {\n",
              "        const charts = await google.colab.kernel.invokeFunction(\n",
              "            'suggestCharts', [key], {});\n",
              "      } catch (error) {\n",
              "        console.error('Error during call to suggestCharts:', error);\n",
              "      }\n",
              "      quickchartButtonEl.classList.remove('colab-df-spinner');\n",
              "      quickchartButtonEl.classList.add('colab-df-quickchart-complete');\n",
              "    }\n",
              "    (() => {\n",
              "      let quickchartButtonEl =\n",
              "        document.querySelector('#df-e0b9edf5-0f7a-4851-aaa0-aa07d7078c98 button');\n",
              "      quickchartButtonEl.style.display =\n",
              "        google.colab.kernel.accessAllowed ? 'block' : 'none';\n",
              "    })();\n",
              "  </script>\n",
              "</div>\n",
              "\n",
              "    </div>\n",
              "  </div>\n"
            ],
            "application/vnd.google.colaboratory.intrinsic+json": {
              "type": "dataframe",
              "variable_name": "vocab_df",
              "summary": "{\n  \"name\": \"vocab_df\",\n  \"rows\": 21346,\n  \"fields\": [\n    {\n      \"column\": \"Token Range\",\n      \"properties\": {\n        \"dtype\": \"string\",\n        \"num_unique_values\": 21346,\n        \"samples\": [\n          \"83540001-83550000\",\n          \"35030001-35040000\",\n          \"81740001-81750000\"\n        ],\n        \"semantic_type\": \"\",\n        \"description\": \"\"\n      }\n    },\n    {\n      \"column\": \"Vocabulary Size\",\n      \"properties\": {\n        \"dtype\": \"number\",\n        \"std\": 282,\n        \"min\": 1,\n        \"max\": 4615,\n        \"num_unique_values\": 1738,\n        \"samples\": [\n          2559,\n          1675,\n          2481\n        ],\n        \"semantic_type\": \"\",\n        \"description\": \"\"\n      }\n    }\n  ]\n}"
            }
          },
          "metadata": {},
          "execution_count": 15
        }
      ]
    }
  ]
}