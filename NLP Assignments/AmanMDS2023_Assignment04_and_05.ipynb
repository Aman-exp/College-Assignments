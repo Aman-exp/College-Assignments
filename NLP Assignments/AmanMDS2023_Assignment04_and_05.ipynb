{
  "cells": [
    {
      "cell_type": "code",
      "execution_count": null,
      "metadata": {
        "id": "mPeUmlfqhvId"
      },
      "outputs": [],
      "source": [
        "import gdown # To download the file from Google Drive\n",
        "import json\n",
        "import re\n",
        "import pandas as pd\n",
        "import numpy as np\n",
        "import random\n",
        "import zipfile\n",
        "import os\n",
        "import glob\n",
        "import multiprocessing\n",
        "from multiprocessing import Pool, cpu_count, Lock\n",
        "import torch\n",
        "import torch.nn as nn\n",
        "import torch.optim as optim\n",
        "from sklearn.metrics.pairwise import cosine_similarity\n",
        "from tqdm import tqdm\n",
        "from collections import Counter\n",
        "import matplotlib.pyplot as plt\n",
        "import nltk\n",
        "from nltk.tokenize import word_tokenize\n",
        "from nltk.corpus import stopwords\n",
        "import string\n",
        "from IPython.display import display, Math"
      ]
    },
    {
      "cell_type": "code",
      "execution_count": null,
      "metadata": {
        "colab": {
          "base_uri": "https://localhost:8080/"
        },
        "id": "qPnQ_YO2lbO_",
        "outputId": "3355a254-15c6-4890-9e31-e243aea49f77"
      },
      "outputs": [
        {
          "output_type": "stream",
          "name": "stderr",
          "text": [
            "[nltk_data] Downloading package stopwords to /root/nltk_data...\n",
            "[nltk_data]   Package stopwords is already up-to-date!\n",
            "[nltk_data] Downloading package punkt to /root/nltk_data...\n",
            "[nltk_data]   Package punkt is already up-to-date!\n"
          ]
        },
        {
          "output_type": "execute_result",
          "data": {
            "text/plain": [
              "True"
            ]
          },
          "metadata": {},
          "execution_count": 32
        }
      ],
      "source": [
        "nltk.download('stopwords')\n",
        "nltk.download('punkt')"
      ]
    },
    {
      "cell_type": "markdown",
      "metadata": {
        "id": "k_0QWOZuOCry"
      },
      "source": [
        "## Getting the file from GDrive"
      ]
    },
    {
      "cell_type": "code",
      "execution_count": null,
      "metadata": {
        "colab": {
          "base_uri": "https://localhost:8080/",
          "height": 142
        },
        "id": "bsXBqcK1zI-F",
        "outputId": "7881175b-54cd-411a-a79d-ecd78975f24f"
      },
      "outputs": [
        {
          "output_type": "stream",
          "name": "stderr",
          "text": [
            "Downloading...\n",
            "From (original): https://drive.google.com/uc?id=1fxAEZNVY0zXhJaGyzEw6BzDuUjvkiHXE\n",
            "From (redirected): https://drive.google.com/uc?id=1fxAEZNVY0zXhJaGyzEw6BzDuUjvkiHXE&confirm=t&uuid=a72f7881-2cfe-407f-acb1-79765483f96b\n",
            "To: /content/dataset.zip\n",
            "100%|██████████| 1.00G/1.00G [00:08<00:00, 112MB/s]\n"
          ]
        },
        {
          "output_type": "execute_result",
          "data": {
            "text/plain": [
              "'dataset.zip'"
            ],
            "application/vnd.google.colaboratory.intrinsic+json": {
              "type": "string"
            }
          },
          "metadata": {},
          "execution_count": 33
        }
      ],
      "source": [
        "file_id = '1fxAEZNVY0zXhJaGyzEw6BzDuUjvkiHXE'\n",
        "url = f'https://drive.google.com/uc?id={file_id}'\n",
        "output = 'dataset.zip'\n",
        "gdown.download(url, output, quiet=False)"
      ]
    },
    {
      "cell_type": "markdown",
      "metadata": {
        "id": "nq0TE6KzOHQL"
      },
      "source": [
        "## File Extraction and setting path for access"
      ]
    },
    {
      "cell_type": "code",
      "execution_count": null,
      "metadata": {
        "colab": {
          "base_uri": "https://localhost:8080/"
        },
        "id": "aJ-W7dhX0msk",
        "outputId": "a6e864c5-8d3a-44e7-f0e6-796d252e77d0"
      },
      "outputs": [
        {
          "output_type": "stream",
          "name": "stderr",
          "text": [
            "Extracting files: 100%|██████████| 56530/56530 [00:56<00:00, 1005.25it/s]\n"
          ]
        }
      ],
      "source": [
        "zip_file_path = 'dataset.zip'\n",
        "extraction_dir = '/content/dataset'\n",
        "\n",
        "os.makedirs(extraction_dir, exist_ok=True)\n",
        "\n",
        "with zipfile.ZipFile(zip_file_path, 'r') as zip_ref:\n",
        "    file_list = zip_ref.namelist()\n",
        "\n",
        "    with tqdm(total=len(file_list), desc='Extracting files') as pbar:\n",
        "        for file in file_list:\n",
        "            zip_ref.extract(file, extraction_dir)\n",
        "            pbar.update(1)"
      ]
    },
    {
      "cell_type": "markdown",
      "metadata": {
        "id": "8Cz7WVvGoGY0"
      },
      "source": [
        "## Extracting all texts from all abstracts"
      ]
    },
    {
      "cell_type": "code",
      "execution_count": null,
      "metadata": {
        "id": "qqrKOBqm809T"
      },
      "outputs": [],
      "source": [
        "extraction_dir = '/content/dataset/pdf_json'\n",
        "json_files = [f for f in os.listdir(extraction_dir) if f.endswith('.json') and not f.endswith('.swp')]\n",
        "\n",
        "# Function to process each JSON file\n",
        "def process_file(file_name):\n",
        "    file_path = os.path.join(extraction_dir, file_name)\n",
        "    text_data = []\n",
        "\n",
        "    try:\n",
        "        with open(file_path, 'r', encoding='utf-8') as file:\n",
        "            data = json.load(file)\n",
        "\n",
        "            # Function to find \"title\" and \"text\", excluding certain contexts\n",
        "            def extract_text(data):\n",
        "                if isinstance(data, dict):\n",
        "                    # Extract \"abstract\" and \"body_text\" text\n",
        "                    if 'abstract' in data:\n",
        "                        abstract = data['abstract']\n",
        "                        if isinstance(abstract, list):\n",
        "                            for item in abstract:\n",
        "                                if isinstance(item, dict) and 'text' in item:\n",
        "                                    text = item['text']\n",
        "                                    if isinstance(text, str):\n",
        "                                        text_data.append(text)\n",
        "\n",
        "                    # Check and skip \"cite_spans\"\n",
        "                    if 'cite_spans' in data:\n",
        "                        # Skip extraction from \"cite_spans\"\n",
        "                        return\n",
        "\n",
        "                    for key, value in data.items():\n",
        "                        extract_text(value)\n",
        "                elif isinstance(data, list):\n",
        "                    for item in data:\n",
        "                        extract_text(item)\n",
        "\n",
        "            extract_text(data)\n",
        "    except Exception as e:\n",
        "        print(f\"Error processing file {file_name}: {e}\")\n",
        "\n",
        "    return text_data\n",
        "\n",
        "# Use multiprocessing to process files in parallel\n",
        "def parallel_process(files, num_workers=4):\n",
        "    with multiprocessing.Pool(num_workers) as pool:\n",
        "        results = list(tqdm(pool.imap(process_file, files), total=len(files)))\n",
        "    return results"
      ]
    },
    {
      "cell_type": "code",
      "execution_count": null,
      "metadata": {
        "colab": {
          "base_uri": "https://localhost:8080/"
        },
        "id": "sY8krq6oHEzd",
        "outputId": "35a639d6-5c40-4e95-ec71-cc8b1f4d745c"
      },
      "outputs": [
        {
          "output_type": "stream",
          "name": "stderr",
          "text": [
            "100%|██████████| 56528/56528 [00:14<00:00, 3808.27it/s]\n"
          ]
        }
      ],
      "source": [
        "corpus_file_path = '/content/corpus.txt'\n",
        "results = parallel_process(json_files)\n",
        "\n",
        "# Flatten the list of results and combine all text\n",
        "corpus = [text for sublist in results for text in sublist]\n",
        "\n",
        "# Save the corpus to a text file\n",
        "with open('/content/dataset/corpus.txt', 'w', encoding='utf-8') as corpus_file:\n",
        "    for text in corpus:\n",
        "        corpus_file.write(text + '\\n')"
      ]
    },
    {
      "cell_type": "code",
      "execution_count": null,
      "metadata": {
        "colab": {
          "base_uri": "https://localhost:8080/"
        },
        "id": "NS547i1_xOiL",
        "outputId": "a6fa6aa8-2727-4830-9d02-3f1afced4c2a"
      },
      "outputs": [
        {
          "output_type": "stream",
          "name": "stdout",
          "text": [
            "Before processing, corpus size is 57.15 MB\n"
          ]
        }
      ],
      "source": [
        "print(f\"Before processing, corpus size is {round(os.path.getsize('/content/dataset/corpus.txt') / (1024 ** 2), 2)} MB\")"
      ]
    },
    {
      "cell_type": "code",
      "execution_count": null,
      "metadata": {
        "id": "zcUnNlwIRGGN"
      },
      "outputs": [],
      "source": [
        "input_file_path = '/content/dataset/corpus.txt'\n",
        "output_file_path = '/content/dataset/corpus_cleaned.txt'"
      ]
    },
    {
      "cell_type": "code",
      "execution_count": null,
      "metadata": {
        "id": "1EBS2r-O1ZZf"
      },
      "outputs": [],
      "source": [
        "# Load English stopwords\n",
        "stop_words = set(stopwords.words('english'))\n",
        "\n",
        "# Function to check if a token contains any alphabetic characters and no numbers\n",
        "def contains_alphabet_and_no_numbers(token):\n",
        "    return any(char.isalpha() for char in token) and not any(char.isdigit() for char in token)\n",
        "\n",
        "# Function to remove tokens that do not contain any alphabetic characters and contain numbers\n",
        "def remove_non_alpha_and_numbers_tokens(tokens):\n",
        "    return [\n",
        "        token for token in tokens\n",
        "        if (contains_alphabet_and_no_numbers(token) and\n",
        "            not re.search(r'[\\u0370-\\u03FF]', token) and\n",
        "            not re.fullmatch(r\"\\w*'s\", token) and\n",
        "            token not in stop_words)\n",
        "    ]\n",
        "\n",
        "# Function to remove punctuation from the tokens\n",
        "def remove_punctuation(tokens):\n",
        "    return [token for token in tokens if token not in string.punctuation]\n",
        "\n",
        "# Function to remove URLs from the text\n",
        "def remove_urls(text):\n",
        "    url_pattern = re.compile(r'https?://\\S+|www\\.\\S+')\n",
        "    return url_pattern.sub('', text)\n",
        "\n",
        "# Function to clean and process each line\n",
        "def process_line(line):\n",
        "    line = line.lower()\n",
        "    line = remove_urls(line)\n",
        "\n",
        "    tokens = word_tokenize(line)\n",
        "    tokens = remove_punctuation(tokens)\n",
        "\n",
        "    cleaned_tokens = remove_non_alpha_and_numbers_tokens(tokens)\n",
        "\n",
        "    # Remove words shorter than 3 characters\n",
        "    cleaned_tokens = [token for token in cleaned_tokens if len(token) >= 3]\n",
        "\n",
        "    cleaned_line = ' '.join(cleaned_tokens)\n",
        "\n",
        "    return cleaned_line if cleaned_line.strip() else None"
      ]
    },
    {
      "cell_type": "code",
      "execution_count": null,
      "metadata": {
        "colab": {
          "base_uri": "https://localhost:8080/"
        },
        "id": "LONPk9l9kThp",
        "outputId": "595d60ae-7d18-4ed4-f777-77ed80ba01a4"
      },
      "outputs": [
        {
          "output_type": "stream",
          "name": "stderr",
          "text": [
            "Processing Lines: 100%|██████████| 78470/78470 [00:05<00:00, 15260.99it/s]\n"
          ]
        },
        {
          "output_type": "stream",
          "name": "stdout",
          "text": [
            "Cleaned text has been saved to /content/dataset/corpus_cleaned.txt.\n"
          ]
        }
      ],
      "source": [
        "def main():\n",
        "    input_file_path = '/content/dataset/corpus.txt'\n",
        "    output_file_path = '/content/dataset/corpus_cleaned.txt'\n",
        "\n",
        "    with open(input_file_path, 'r') as file:\n",
        "        lines = file.readlines()\n",
        "\n",
        "    with Pool(cpu_count()) as pool:\n",
        "        processed_lines = list(tqdm(pool.imap(process_line, lines), total=len(lines), desc='Processing Lines'))\n",
        "\n",
        "    with open(output_file_path, 'w') as file:\n",
        "        for line in processed_lines:\n",
        "            if line:\n",
        "                file.write(line + '\\n')\n",
        "\n",
        "    print(f\"Cleaned text has been saved to {output_file_path}.\")\n",
        "\n",
        "if __name__ == \"__main__\":\n",
        "    main()"
      ]
    },
    {
      "cell_type": "code",
      "execution_count": null,
      "metadata": {
        "colab": {
          "base_uri": "https://localhost:8080/"
        },
        "id": "EipUVyPox99Z",
        "outputId": "5f82dbbf-666a-4d2a-db91-f0dec207f8b2"
      },
      "outputs": [
        {
          "output_type": "stream",
          "name": "stdout",
          "text": [
            "After processing corpus size is 41.84 MB\n"
          ]
        }
      ],
      "source": [
        "print(f\"After processing corpus size is {round(os.path.getsize('/content/dataset/corpus_cleaned.txt') / (1024 ** 2), 2)} MB\")"
      ]
    },
    {
      "cell_type": "code",
      "execution_count": null,
      "metadata": {
        "colab": {
          "base_uri": "https://localhost:8080/"
        },
        "id": "SBDvkwKSyFNj",
        "outputId": "9907be5e-5101-4b65-a2e9-fb96bb0d681d"
      },
      "outputs": [
        {
          "output_type": "stream",
          "name": "stdout",
          "text": [
            "Total vocabulary size: 172398\n"
          ]
        }
      ],
      "source": [
        "with open('/content/dataset/corpus_cleaned.txt', 'r') as file:\n",
        "    text = file.read()\n",
        "\n",
        "words = text.split()  # Basic tokenization by whitespace\n",
        "\n",
        "unique_words = set(words)\n",
        "\n",
        "vocabulary_size = len(unique_words)\n",
        "\n",
        "print(f'Total vocabulary size: {vocabulary_size}')"
      ]
    },
    {
      "cell_type": "code",
      "execution_count": null,
      "metadata": {
        "colab": {
          "base_uri": "https://localhost:8080/"
        },
        "id": "OGAhdx-NKLcI",
        "outputId": "1cc3a7fe-1755-4c06-9ee8-de08d82c9f9b"
      },
      "outputs": [
        {
          "output_type": "execute_result",
          "data": {
            "text/plain": [
              "5083178"
            ]
          },
          "metadata": {},
          "execution_count": 43
        }
      ],
      "source": [
        "len(words)"
      ]
    },
    {
      "cell_type": "markdown",
      "source": [
        "# Assignment 4"
      ],
      "metadata": {
        "id": "iwpmePF0R-56"
      }
    },
    {
      "cell_type": "markdown",
      "source": [
        "## Task 1\n",
        "Extract all the abstracts from the COVID-19 text files and use them as the corpus. Ensure that you create\n",
        "a vocabulary of around 10,000 words"
      ],
      "metadata": {
        "id": "6-Xwjj6lSHza"
      }
    },
    {
      "cell_type": "code",
      "execution_count": null,
      "metadata": {
        "colab": {
          "base_uri": "https://localhost:8080/"
        },
        "id": "XNmZP1mVZeBU",
        "outputId": "83c88532-41a0-49d7-a80b-6022b7339a09"
      },
      "outputs": [
        {
          "output_type": "stream",
          "name": "stderr",
          "text": [
            "100%|██████████| 5/5 [00:01<00:00,  3.16it/s]\n"
          ]
        }
      ],
      "source": [
        "def count_words(chunk):\n",
        "    # Count occurrences of each word in the chunk\n",
        "    return Counter(chunk)\n",
        "\n",
        "if __name__ == '__main__':\n",
        "    num_chunks = min(4, len(words))\n",
        "    chunk_size = max(1, len(words) // num_chunks)\n",
        "\n",
        "    # Create chunks from the words list\n",
        "    chunks = [words[i:i + chunk_size] for i in range(0, len(words), chunk_size)]\n",
        "\n",
        "    with Pool() as pool:\n",
        "        results = list(tqdm(pool.imap(count_words, chunks), total=len(chunks)))\n",
        "\n",
        "    total_counter = Counter()\n",
        "    for result in results:\n",
        "        total_counter.update(result)\n",
        "\n",
        "    # Filter for words with occurrences greater than 30\n",
        "    filtered_words = {word: count for word, count in total_counter.items() if count > 30}\n",
        "\n",
        "    # Store the result as a list of tuples (word, count)\n",
        "    vocab_list = list(filtered_words.items())"
      ]
    },
    {
      "cell_type": "code",
      "source": [
        "# Vocabulary of around 10,000 words\n",
        "len(vocab_list)"
      ],
      "metadata": {
        "colab": {
          "base_uri": "https://localhost:8080/"
        },
        "id": "j33nMCg7Pn25",
        "outputId": "562d067b-0ecd-4fee-e0a2-e7bc7bda8b66"
      },
      "execution_count": null,
      "outputs": [
        {
          "output_type": "execute_result",
          "data": {
            "text/plain": [
              "12085"
            ]
          },
          "metadata": {},
          "execution_count": 45
        }
      ]
    },
    {
      "cell_type": "code",
      "execution_count": null,
      "metadata": {
        "id": "iJ0DnOPsZYf-"
      },
      "outputs": [],
      "source": [
        "# Create a mapping form word to index\n",
        "word_to_index = {word: idx for idx, word in enumerate(vocab_list)}"
      ]
    },
    {
      "cell_type": "markdown",
      "metadata": {
        "id": "CJd2CfbJc3JV"
      },
      "source": [
        "## Task 2: Construct One-Hot Vectors (OHVs)\n",
        "You may construct each one on the fly (just in time) during training, or you can pre-create and store\n",
        "them in memory (volatile or non-volatile). If you associate numerical indexes with the vocabulary, you can\n",
        "generate each OHV on demand during training."
      ]
    },
    {
      "cell_type": "code",
      "source": [
        "# Using indices for one-hot vector creation (indexing method)\n",
        "def retrieve_token_index(token):\n",
        "    if token in word_to_index:\n",
        "        return word_to_index[token]\n",
        "    else:\n",
        "        return None"
      ],
      "metadata": {
        "id": "RuqyB-x57uaI"
      },
      "execution_count": null,
      "outputs": []
    },
    {
      "cell_type": "code",
      "execution_count": null,
      "metadata": {
        "id": "B3BDkYNJa-yQ"
      },
      "outputs": [],
      "source": [
        "# Create one-hot vectors for the vocabulary\n",
        "def create_one_hot_vectors(vocab):\n",
        "    one_hot_vectors = {}\n",
        "    for word in vocab:\n",
        "        one_hot_vector = np.zeros(len(vocab))\n",
        "        one_hot_vector[word_to_index[word]] = 1\n",
        "        one_hot_vectors[word] = one_hot_vector\n",
        "    return one_hot_vectors\n",
        "\n",
        "# Generate one-hot vectors\n",
        "one_hot_vectors = create_one_hot_vectors(vocab_list)"
      ]
    },
    {
      "cell_type": "markdown",
      "source": [
        "## Task 3: Describe Your Architecture\n",
        "Provide a brief description of the architecture used. Use appropriate markdown or formatting to emphasize\n",
        "key design decisions. Optionally, you can include a figure illustrating your neural network architecture,\n",
        "with explanations, instead of text."
      ],
      "metadata": {
        "id": "NbAxpH0YSiI4"
      }
    },
    {
      "cell_type": "markdown",
      "source": [
        "### SGD Architecture for Linear Model Training\n",
        "\n",
        "- **Algorithm**: Implements stochastic gradient descent (SGD) for a linear model.\n",
        "- **Input Representation**: Uses one-hot encoding for vocabulary tokens.\n",
        "- **Weight Initialization**: Randomly initializes weights based on the vocabulary size.\n",
        "- **Error Calculation**: Computes estimated output and error from actual target output.\n",
        "- **Weight Update**: Adjusts weights using the error and learning rate.\n",
        "- **Loss Monitoring**: Calculates Mean Squared Error (MSE) to track performance.\n",
        "- **Training Loop**: Iterates over epochs, updating weights and storing average loss for visualization."
      ],
      "metadata": {
        "id": "nwwCl41mTfKh"
      }
    },
    {
      "cell_type": "markdown",
      "source": [
        "## Task 4: Use Stochastic Gradient Descent (SGD)\n",
        "Apply the SGD algorithm for learning in your model.\n",
        "\n",
        "## Task 5: Plot Epochs vs. Training Error\n",
        "Plot the relationship between the number of epochs and the training error."
      ],
      "metadata": {
        "id": "HImr3TdvSoEj"
      }
    },
    {
      "cell_type": "code",
      "source": [
        "# For single step of gradient descent\n",
        "def execute_sgd_iteration(input_data, target_output, existing_weights, learning_rate):\n",
        "    \"\"\"\n",
        "    For execution of one step of stochastic gradient descent.\n",
        "    \"\"\"\n",
        "    estimated_output = np.dot(existing_weights, input_data)\n",
        "    error = estimated_output - target_output\n",
        "    weight_updates = error * input_data\n",
        "    new_weights = existing_weights - learning_rate * weight_updates  # Update weights\n",
        "    return new_weights"
      ],
      "metadata": {
        "id": "almvooF_7Fec"
      },
      "execution_count": null,
      "outputs": []
    },
    {
      "cell_type": "code",
      "source": [
        "def optimize_model_with_sgd(vocab_list, learning_rate=0.01, num_epochs=100):\n",
        "    \"\"\"\n",
        "    Training the model using SGD and getting the average loss for each epoch.\n",
        "    \"\"\"\n",
        "    # Vocabulary index\n",
        "    token_to_index = {token: index for index, (token, _) in enumerate(vocab_list)}\n",
        "\n",
        "    total_tokens = len(token_to_index)\n",
        "\n",
        "    # Random weights\n",
        "    weight_vector = np.random.randn(total_tokens)\n",
        "\n",
        "    average_losses = []\n",
        "\n",
        "    for epoch in range(num_epochs):\n",
        "        cumulative_loss = 0\n",
        "\n",
        "        # Perform SGD for each token in the vocabulary\n",
        "        for token, count in vocab_list:\n",
        "            token_index = token_to_index.get(token)\n",
        "            if token_index is not None:\n",
        "                # One-hot vector\n",
        "                one_hot_vector = np.zeros(total_tokens)\n",
        "                one_hot_vector[token_index] = 1\n",
        "\n",
        "                # Perform SGD step using `execute_sgd_iteration`\n",
        "                weight_vector = execute_sgd_iteration(one_hot_vector, count, weight_vector, learning_rate)\n",
        "\n",
        "                # Calculate Mean Squared Error loss for monitoring\n",
        "                predicted_output = np.dot(weight_vector, one_hot_vector)\n",
        "                loss = (predicted_output - count) ** 2\n",
        "                cumulative_loss += loss\n",
        "\n",
        "        avg_loss = cumulative_loss / total_tokens\n",
        "        average_losses.append(avg_loss)\n",
        "        print(f\"Epoch {epoch + 1}/{num_epochs}, Loss: {avg_loss:.4f}\")\n",
        "\n",
        "    plt.figure(figsize=(10, 6))\n",
        "    plt.plot(range(1, num_epochs + 1), average_losses, marker='o')\n",
        "    plt.title(\"Epochs vs. Training Loss\")\n",
        "    plt.xlabel(\"Epoch\")\n",
        "    plt.ylabel(\"Average Loss\")\n",
        "    plt.grid(True)\n",
        "    plt.show()"
      ],
      "metadata": {
        "id": "xgz4rnaG7F7E"
      },
      "execution_count": null,
      "outputs": []
    },
    {
      "cell_type": "code",
      "source": [
        "optimize_model_with_sgd(vocab_list, learning_rate=0.01, num_epochs=500)"
      ],
      "metadata": {
        "colab": {
          "base_uri": "https://localhost:8080/",
          "height": 1000
        },
        "id": "bdqQgQpE8b2z",
        "outputId": "e2279d82-0316-4eb8-c7e2-58d4d3229ae2"
      },
      "execution_count": null,
      "outputs": [
        {
          "output_type": "stream",
          "name": "stdout",
          "text": [
            "Epoch 1/500, Loss: 1263706.7230\n",
            "Epoch 2/500, Loss: 1238558.9592\n",
            "Epoch 3/500, Loss: 1213911.6359\n",
            "Epoch 4/500, Loss: 1189754.7944\n",
            "Epoch 5/500, Loss: 1166078.6740\n",
            "Epoch 6/500, Loss: 1142873.7084\n",
            "Epoch 7/500, Loss: 1120130.5216\n",
            "Epoch 8/500, Loss: 1097839.9242\n",
            "Epoch 9/500, Loss: 1075992.9097\n",
            "Epoch 10/500, Loss: 1054580.6508\n",
            "Epoch 11/500, Loss: 1033594.4958\n",
            "Epoch 12/500, Loss: 1013025.9654\n",
            "Epoch 13/500, Loss: 992866.7487\n",
            "Epoch 14/500, Loss: 973108.7004\n",
            "Epoch 15/500, Loss: 953743.8372\n",
            "Epoch 16/500, Loss: 934764.3349\n",
            "Epoch 17/500, Loss: 916162.5246\n",
            "Epoch 18/500, Loss: 897930.8904\n",
            "Epoch 19/500, Loss: 880062.0656\n",
            "Epoch 20/500, Loss: 862548.8305\n",
            "Epoch 21/500, Loss: 845384.1088\n",
            "Epoch 22/500, Loss: 828560.9650\n",
            "Epoch 23/500, Loss: 812072.6018\n",
            "Epoch 24/500, Loss: 795912.3571\n",
            "Epoch 25/500, Loss: 780073.7012\n",
            "Epoch 26/500, Loss: 764550.2345\n",
            "Epoch 27/500, Loss: 749335.6848\n",
            "Epoch 28/500, Loss: 734423.9047\n",
            "Epoch 29/500, Loss: 719808.8690\n",
            "Epoch 30/500, Loss: 705484.6725\n",
            "Epoch 31/500, Loss: 691445.5275\n",
            "Epoch 32/500, Loss: 677685.7615\n",
            "Epoch 33/500, Loss: 664199.8149\n",
            "Epoch 34/500, Loss: 650982.2386\n",
            "Epoch 35/500, Loss: 638027.6920\n",
            "Epoch 36/500, Loss: 625330.9409\n",
            "Epoch 37/500, Loss: 612886.8552\n",
            "Epoch 38/500, Loss: 600690.4068\n",
            "Epoch 39/500, Loss: 588736.6677\n",
            "Epoch 40/500, Loss: 577020.8080\n",
            "Epoch 41/500, Loss: 565538.0939\n",
            "Epoch 42/500, Loss: 554283.8859\n",
            "Epoch 43/500, Loss: 543253.6365\n",
            "Epoch 44/500, Loss: 532442.8892\n",
            "Epoch 45/500, Loss: 521847.2757\n",
            "Epoch 46/500, Loss: 511462.5149\n",
            "Epoch 47/500, Loss: 501284.4108\n",
            "Epoch 48/500, Loss: 491308.8511\n",
            "Epoch 49/500, Loss: 481531.8049\n",
            "Epoch 50/500, Loss: 471949.3220\n",
            "Epoch 51/500, Loss: 462557.5305\n",
            "Epoch 52/500, Loss: 453352.6357\n",
            "Epoch 53/500, Loss: 444330.9182\n",
            "Epoch 54/500, Loss: 435488.7329\n",
            "Epoch 55/500, Loss: 426822.5071\n",
            "Epoch 56/500, Loss: 418328.7393\n",
            "Epoch 57/500, Loss: 410003.9973\n",
            "Epoch 58/500, Loss: 401844.9178\n",
            "Epoch 59/500, Loss: 393848.2039\n",
            "Epoch 60/500, Loss: 386010.6247\n",
            "Epoch 61/500, Loss: 378329.0132\n",
            "Epoch 62/500, Loss: 370800.2659\n",
            "Epoch 63/500, Loss: 363421.3406\n",
            "Epoch 64/500, Loss: 356189.2559\n",
            "Epoch 65/500, Loss: 349101.0897\n",
            "Epoch 66/500, Loss: 342153.9780\n",
            "Epoch 67/500, Loss: 335345.1139\n",
            "Epoch 68/500, Loss: 328671.7461\n",
            "Epoch 69/500, Loss: 322131.1784\n",
            "Epoch 70/500, Loss: 315720.7679\n",
            "Epoch 71/500, Loss: 309437.9246\n",
            "Epoch 72/500, Loss: 303280.1099\n",
            "Epoch 73/500, Loss: 297244.8357\n",
            "Epoch 74/500, Loss: 291329.6635\n",
            "Epoch 75/500, Loss: 285532.2032\n",
            "Epoch 76/500, Loss: 279850.1124\n",
            "Epoch 77/500, Loss: 274281.0951\n",
            "Epoch 78/500, Loss: 268822.9013\n",
            "Epoch 79/500, Loss: 263473.3256\n",
            "Epoch 80/500, Loss: 258230.2064\n",
            "Epoch 81/500, Loss: 253091.4253\n",
            "Epoch 82/500, Loss: 248054.9059\n",
            "Epoch 83/500, Loss: 243118.6133\n",
            "Epoch 84/500, Loss: 238280.5529\n",
            "Epoch 85/500, Loss: 233538.7699\n",
            "Epoch 86/500, Loss: 228891.3484\n",
            "Epoch 87/500, Loss: 224336.4106\n",
            "Epoch 88/500, Loss: 219872.1160\n",
            "Epoch 89/500, Loss: 215496.6609\n",
            "Epoch 90/500, Loss: 211208.2773\n",
            "Epoch 91/500, Loss: 207005.2326\n",
            "Epoch 92/500, Loss: 202885.8285\n",
            "Epoch 93/500, Loss: 198848.4005\n",
            "Epoch 94/500, Loss: 194891.3173\n",
            "Epoch 95/500, Loss: 191012.9801\n",
            "Epoch 96/500, Loss: 187211.8218\n",
            "Epoch 97/500, Loss: 183486.3065\n",
            "Epoch 98/500, Loss: 179834.9290\n",
            "Epoch 99/500, Loss: 176256.2140\n",
            "Epoch 100/500, Loss: 172748.7153\n",
            "Epoch 101/500, Loss: 169311.0159\n",
            "Epoch 102/500, Loss: 165941.7266\n",
            "Epoch 103/500, Loss: 162639.4863\n",
            "Epoch 104/500, Loss: 159402.9605\n",
            "Epoch 105/500, Loss: 156230.8416\n",
            "Epoch 106/500, Loss: 153121.8479\n",
            "Epoch 107/500, Loss: 150074.7231\n",
            "Epoch 108/500, Loss: 147088.2361\n",
            "Epoch 109/500, Loss: 144161.1802\n",
            "Epoch 110/500, Loss: 141292.3727\n",
            "Epoch 111/500, Loss: 138480.6545\n",
            "Epoch 112/500, Loss: 135724.8895\n",
            "Epoch 113/500, Loss: 133023.9642\n",
            "Epoch 114/500, Loss: 130376.7873\n",
            "Epoch 115/500, Loss: 127782.2892\n",
            "Epoch 116/500, Loss: 125239.4217\n",
            "Epoch 117/500, Loss: 122747.1572\n",
            "Epoch 118/500, Loss: 120304.4887\n",
            "Epoch 119/500, Loss: 117910.4294\n",
            "Epoch 120/500, Loss: 115564.0119\n",
            "Epoch 121/500, Loss: 113264.2880\n",
            "Epoch 122/500, Loss: 111010.3287\n",
            "Epoch 123/500, Loss: 108801.2232\n",
            "Epoch 124/500, Loss: 106636.0788\n",
            "Epoch 125/500, Loss: 104514.0208\n",
            "Epoch 126/500, Loss: 102434.1918\n",
            "Epoch 127/500, Loss: 100395.7514\n",
            "Epoch 128/500, Loss: 98397.8760\n",
            "Epoch 129/500, Loss: 96439.7582\n",
            "Epoch 130/500, Loss: 94520.6070\n",
            "Epoch 131/500, Loss: 92639.6470\n",
            "Epoch 132/500, Loss: 90796.1180\n",
            "Epoch 133/500, Loss: 88989.2752\n",
            "Epoch 134/500, Loss: 87218.3887\n",
            "Epoch 135/500, Loss: 85482.7427\n",
            "Epoch 136/500, Loss: 83781.6361\n",
            "Epoch 137/500, Loss: 82114.3816\n",
            "Epoch 138/500, Loss: 80480.3054\n",
            "Epoch 139/500, Loss: 78878.7473\n",
            "Epoch 140/500, Loss: 77309.0602\n",
            "Epoch 141/500, Loss: 75770.6099\n",
            "Epoch 142/500, Loss: 74262.7748\n",
            "Epoch 143/500, Loss: 72784.9456\n",
            "Epoch 144/500, Loss: 71336.5252\n",
            "Epoch 145/500, Loss: 69916.9283\n",
            "Epoch 146/500, Loss: 68525.5814\n",
            "Epoch 147/500, Loss: 67161.9224\n",
            "Epoch 148/500, Loss: 65825.4001\n",
            "Epoch 149/500, Loss: 64515.4747\n",
            "Epoch 150/500, Loss: 63231.6167\n",
            "Epoch 151/500, Loss: 61973.3075\n",
            "Epoch 152/500, Loss: 60740.0387\n",
            "Epoch 153/500, Loss: 59531.3120\n",
            "Epoch 154/500, Loss: 58346.6388\n",
            "Epoch 155/500, Loss: 57185.5407\n",
            "Epoch 156/500, Loss: 56047.5485\n",
            "Epoch 157/500, Loss: 54932.2023\n",
            "Epoch 158/500, Loss: 53839.0514\n",
            "Epoch 159/500, Loss: 52767.6543\n",
            "Epoch 160/500, Loss: 51717.5780\n",
            "Epoch 161/500, Loss: 50688.3982\n",
            "Epoch 162/500, Loss: 49679.6991\n",
            "Epoch 163/500, Loss: 48691.0730\n",
            "Epoch 164/500, Loss: 47722.1207\n",
            "Epoch 165/500, Loss: 46772.4505\n",
            "Epoch 166/500, Loss: 45841.6787\n",
            "Epoch 167/500, Loss: 44929.4293\n",
            "Epoch 168/500, Loss: 44035.3337\n",
            "Epoch 169/500, Loss: 43159.0305\n",
            "Epoch 170/500, Loss: 42300.1658\n",
            "Epoch 171/500, Loss: 41458.3925\n",
            "Epoch 172/500, Loss: 40633.3705\n",
            "Epoch 173/500, Loss: 39824.7664\n",
            "Epoch 174/500, Loss: 39032.2536\n",
            "Epoch 175/500, Loss: 38255.5117\n",
            "Epoch 176/500, Loss: 37494.2271\n",
            "Epoch 177/500, Loss: 36748.0919\n",
            "Epoch 178/500, Loss: 36016.8049\n",
            "Epoch 179/500, Loss: 35300.0705\n",
            "Epoch 180/500, Loss: 34597.5991\n",
            "Epoch 181/500, Loss: 33909.1069\n",
            "Epoch 182/500, Loss: 33234.3156\n",
            "Epoch 183/500, Loss: 32572.9528\n",
            "Epoch 184/500, Loss: 31924.7510\n",
            "Epoch 185/500, Loss: 31289.4485\n",
            "Epoch 186/500, Loss: 30666.7884\n",
            "Epoch 187/500, Loss: 30056.5193\n",
            "Epoch 188/500, Loss: 29458.3946\n",
            "Epoch 189/500, Loss: 28872.1726\n",
            "Epoch 190/500, Loss: 28297.6163\n",
            "Epoch 191/500, Loss: 27734.4938\n",
            "Epoch 192/500, Loss: 27182.5773\n",
            "Epoch 193/500, Loss: 26641.6440\n",
            "Epoch 194/500, Loss: 26111.4753\n",
            "Epoch 195/500, Loss: 25591.8570\n",
            "Epoch 196/500, Loss: 25082.5790\n",
            "Epoch 197/500, Loss: 24583.4357\n",
            "Epoch 198/500, Loss: 24094.2253\n",
            "Epoch 199/500, Loss: 23614.7502\n",
            "Epoch 200/500, Loss: 23144.8167\n",
            "Epoch 201/500, Loss: 22684.2349\n",
            "Epoch 202/500, Loss: 22232.8186\n",
            "Epoch 203/500, Loss: 21790.3855\n",
            "Epoch 204/500, Loss: 21356.7568\n",
            "Epoch 205/500, Loss: 20931.7574\n",
            "Epoch 206/500, Loss: 20515.2154\n",
            "Epoch 207/500, Loss: 20106.9626\n",
            "Epoch 208/500, Loss: 19706.8340\n",
            "Epoch 209/500, Loss: 19314.6680\n",
            "Epoch 210/500, Loss: 18930.3062\n",
            "Epoch 211/500, Loss: 18553.5931\n",
            "Epoch 212/500, Loss: 18184.3766\n",
            "Epoch 213/500, Loss: 17822.5075\n",
            "Epoch 214/500, Loss: 17467.8396\n",
            "Epoch 215/500, Loss: 17120.2296\n",
            "Epoch 216/500, Loss: 16779.5370\n",
            "Epoch 217/500, Loss: 16445.6242\n",
            "Epoch 218/500, Loss: 16118.3563\n",
            "Epoch 219/500, Loss: 15797.6010\n",
            "Epoch 220/500, Loss: 15483.2287\n",
            "Epoch 221/500, Loss: 15175.1125\n",
            "Epoch 222/500, Loss: 14873.1277\n",
            "Epoch 223/500, Loss: 14577.1525\n",
            "Epoch 224/500, Loss: 14287.0672\n",
            "Epoch 225/500, Loss: 14002.7545\n",
            "Epoch 226/500, Loss: 13724.0997\n",
            "Epoch 227/500, Loss: 13450.9901\n",
            "Epoch 228/500, Loss: 13183.3154\n",
            "Epoch 229/500, Loss: 12920.9675\n",
            "Epoch 230/500, Loss: 12663.8402\n",
            "Epoch 231/500, Loss: 12411.8298\n",
            "Epoch 232/500, Loss: 12164.8344\n",
            "Epoch 233/500, Loss: 11922.7542\n",
            "Epoch 234/500, Loss: 11685.4914\n",
            "Epoch 235/500, Loss: 11452.9501\n",
            "Epoch 236/500, Loss: 11225.0364\n",
            "Epoch 237/500, Loss: 11001.6581\n",
            "Epoch 238/500, Loss: 10782.7251\n",
            "Epoch 239/500, Loss: 10568.1489\n",
            "Epoch 240/500, Loss: 10357.8428\n",
            "Epoch 241/500, Loss: 10151.7217\n",
            "Epoch 242/500, Loss: 9949.7024\n",
            "Epoch 243/500, Loss: 9751.7033\n",
            "Epoch 244/500, Loss: 9557.6444\n",
            "Epoch 245/500, Loss: 9367.4473\n",
            "Epoch 246/500, Loss: 9181.0351\n",
            "Epoch 247/500, Loss: 8998.3325\n",
            "Epoch 248/500, Loss: 8819.2657\n",
            "Epoch 249/500, Loss: 8643.7623\n",
            "Epoch 250/500, Loss: 8471.7514\n",
            "Epoch 251/500, Loss: 8303.1636\n",
            "Epoch 252/500, Loss: 8137.9306\n",
            "Epoch 253/500, Loss: 7975.9858\n",
            "Epoch 254/500, Loss: 7817.2637\n",
            "Epoch 255/500, Loss: 7661.7002\n",
            "Epoch 256/500, Loss: 7509.2323\n",
            "Epoch 257/500, Loss: 7359.7986\n",
            "Epoch 258/500, Loss: 7213.3386\n",
            "Epoch 259/500, Loss: 7069.7932\n",
            "Epoch 260/500, Loss: 6929.1043\n",
            "Epoch 261/500, Loss: 6791.2151\n",
            "Epoch 262/500, Loss: 6656.0699\n",
            "Epoch 263/500, Loss: 6523.6141\n",
            "Epoch 264/500, Loss: 6393.7942\n",
            "Epoch 265/500, Loss: 6266.5577\n",
            "Epoch 266/500, Loss: 6141.8532\n",
            "Epoch 267/500, Loss: 6019.6303\n",
            "Epoch 268/500, Loss: 5899.8397\n",
            "Epoch 269/500, Loss: 5782.4329\n",
            "Epoch 270/500, Loss: 5667.3625\n",
            "Epoch 271/500, Loss: 5554.5820\n",
            "Epoch 272/500, Loss: 5444.0458\n",
            "Epoch 273/500, Loss: 5335.7093\n",
            "Epoch 274/500, Loss: 5229.5286\n",
            "Epoch 275/500, Loss: 5125.4610\n",
            "Epoch 276/500, Loss: 5023.4644\n",
            "Epoch 277/500, Loss: 4923.4974\n",
            "Epoch 278/500, Loss: 4825.5198\n",
            "Epoch 279/500, Loss: 4729.4920\n",
            "Epoch 280/500, Loss: 4635.3751\n",
            "Epoch 281/500, Loss: 4543.1311\n",
            "Epoch 282/500, Loss: 4452.7228\n",
            "Epoch 283/500, Loss: 4364.1136\n",
            "Epoch 284/500, Loss: 4277.2678\n",
            "Epoch 285/500, Loss: 4192.1501\n",
            "Epoch 286/500, Loss: 4108.7263\n",
            "Epoch 287/500, Loss: 4026.9627\n",
            "Epoch 288/500, Loss: 3946.8261\n",
            "Epoch 289/500, Loss: 3868.2843\n",
            "Epoch 290/500, Loss: 3791.3054\n",
            "Epoch 291/500, Loss: 3715.8585\n",
            "Epoch 292/500, Loss: 3641.9129\n",
            "Epoch 293/500, Loss: 3569.4388\n",
            "Epoch 294/500, Loss: 3498.4070\n",
            "Epoch 295/500, Loss: 3428.7887\n",
            "Epoch 296/500, Loss: 3360.5558\n",
            "Epoch 297/500, Loss: 3293.6807\n",
            "Epoch 298/500, Loss: 3228.1365\n",
            "Epoch 299/500, Loss: 3163.8966\n",
            "Epoch 300/500, Loss: 3100.9350\n",
            "Epoch 301/500, Loss: 3039.2264\n",
            "Epoch 302/500, Loss: 2978.7458\n",
            "Epoch 303/500, Loss: 2919.4688\n",
            "Epoch 304/500, Loss: 2861.3713\n",
            "Epoch 305/500, Loss: 2804.4300\n",
            "Epoch 306/500, Loss: 2748.6219\n",
            "Epoch 307/500, Loss: 2693.9243\n",
            "Epoch 308/500, Loss: 2640.3152\n",
            "Epoch 309/500, Loss: 2587.7729\n",
            "Epoch 310/500, Loss: 2536.2763\n",
            "Epoch 311/500, Loss: 2485.8044\n",
            "Epoch 312/500, Loss: 2436.3369\n",
            "Epoch 313/500, Loss: 2387.8538\n",
            "Epoch 314/500, Loss: 2340.3355\n",
            "Epoch 315/500, Loss: 2293.7628\n",
            "Epoch 316/500, Loss: 2248.1169\n",
            "Epoch 317/500, Loss: 2203.3794\n",
            "Epoch 318/500, Loss: 2159.5321\n",
            "Epoch 319/500, Loss: 2116.5574\n",
            "Epoch 320/500, Loss: 2074.4380\n",
            "Epoch 321/500, Loss: 2033.1566\n",
            "Epoch 322/500, Loss: 1992.6968\n",
            "Epoch 323/500, Loss: 1953.0422\n",
            "Epoch 324/500, Loss: 1914.1766\n",
            "Epoch 325/500, Loss: 1876.0845\n",
            "Epoch 326/500, Loss: 1838.7504\n",
            "Epoch 327/500, Loss: 1802.1593\n",
            "Epoch 328/500, Loss: 1766.2963\n",
            "Epoch 329/500, Loss: 1731.1470\n",
            "Epoch 330/500, Loss: 1696.6972\n",
            "Epoch 331/500, Loss: 1662.9329\n",
            "Epoch 332/500, Loss: 1629.8406\n",
            "Epoch 333/500, Loss: 1597.4067\n",
            "Epoch 334/500, Loss: 1565.6183\n",
            "Epoch 335/500, Loss: 1534.4625\n",
            "Epoch 336/500, Loss: 1503.9267\n",
            "Epoch 337/500, Loss: 1473.9986\n",
            "Epoch 338/500, Loss: 1444.6660\n",
            "Epoch 339/500, Loss: 1415.9172\n",
            "Epoch 340/500, Loss: 1387.7404\n",
            "Epoch 341/500, Loss: 1360.1244\n",
            "Epoch 342/500, Loss: 1333.0579\n",
            "Epoch 343/500, Loss: 1306.5300\n",
            "Epoch 344/500, Loss: 1280.5301\n",
            "Epoch 345/500, Loss: 1255.0475\n",
            "Epoch 346/500, Loss: 1230.0721\n",
            "Epoch 347/500, Loss: 1205.5937\n",
            "Epoch 348/500, Loss: 1181.6024\n",
            "Epoch 349/500, Loss: 1158.0885\n",
            "Epoch 350/500, Loss: 1135.0425\n",
            "Epoch 351/500, Loss: 1112.4552\n",
            "Epoch 352/500, Loss: 1090.3173\n",
            "Epoch 353/500, Loss: 1068.6200\n",
            "Epoch 354/500, Loss: 1047.3544\n",
            "Epoch 355/500, Loss: 1026.5121\n",
            "Epoch 356/500, Loss: 1006.0845\n",
            "Epoch 357/500, Loss: 986.0634\n",
            "Epoch 358/500, Loss: 966.4408\n",
            "Epoch 359/500, Loss: 947.2086\n",
            "Epoch 360/500, Loss: 928.3591\n",
            "Epoch 361/500, Loss: 909.8848\n",
            "Epoch 362/500, Loss: 891.7781\n",
            "Epoch 363/500, Loss: 874.0317\n",
            "Epoch 364/500, Loss: 856.6385\n",
            "Epoch 365/500, Loss: 839.5914\n",
            "Epoch 366/500, Loss: 822.8835\n",
            "Epoch 367/500, Loss: 806.5081\n",
            "Epoch 368/500, Loss: 790.4586\n",
            "Epoch 369/500, Loss: 774.7285\n",
            "Epoch 370/500, Loss: 759.3114\n",
            "Epoch 371/500, Loss: 744.2011\n",
            "Epoch 372/500, Loss: 729.3915\n",
            "Epoch 373/500, Loss: 714.8766\n",
            "Epoch 374/500, Loss: 700.6505\n",
            "Epoch 375/500, Loss: 686.7076\n",
            "Epoch 376/500, Loss: 673.0421\n",
            "Epoch 377/500, Loss: 659.6486\n",
            "Epoch 378/500, Loss: 646.5216\n",
            "Epoch 379/500, Loss: 633.6558\n",
            "Epoch 380/500, Loss: 621.0460\n",
            "Epoch 381/500, Loss: 608.6872\n",
            "Epoch 382/500, Loss: 596.5744\n",
            "Epoch 383/500, Loss: 584.7025\n",
            "Epoch 384/500, Loss: 573.0669\n",
            "Epoch 385/500, Loss: 561.6629\n",
            "Epoch 386/500, Loss: 550.4858\n",
            "Epoch 387/500, Loss: 539.5312\n",
            "Epoch 388/500, Loss: 528.7945\n",
            "Epoch 389/500, Loss: 518.2715\n",
            "Epoch 390/500, Loss: 507.9579\n",
            "Epoch 391/500, Loss: 497.8495\n",
            "Epoch 392/500, Loss: 487.9423\n",
            "Epoch 393/500, Loss: 478.2323\n",
            "Epoch 394/500, Loss: 468.7154\n",
            "Epoch 395/500, Loss: 459.3880\n",
            "Epoch 396/500, Loss: 450.2462\n",
            "Epoch 397/500, Loss: 441.2863\n",
            "Epoch 398/500, Loss: 432.5047\n",
            "Epoch 399/500, Loss: 423.8978\n",
            "Epoch 400/500, Loss: 415.4623\n",
            "Epoch 401/500, Loss: 407.1946\n",
            "Epoch 402/500, Loss: 399.0914\n",
            "Epoch 403/500, Loss: 391.1495\n",
            "Epoch 404/500, Loss: 383.3656\n",
            "Epoch 405/500, Loss: 375.7366\n",
            "Epoch 406/500, Loss: 368.2595\n",
            "Epoch 407/500, Loss: 360.9311\n",
            "Epoch 408/500, Loss: 353.7486\n",
            "Epoch 409/500, Loss: 346.7090\n",
            "Epoch 410/500, Loss: 339.8095\n",
            "Epoch 411/500, Loss: 333.0473\n",
            "Epoch 412/500, Loss: 326.4196\n",
            "Epoch 413/500, Loss: 319.9239\n",
            "Epoch 414/500, Loss: 313.5574\n",
            "Epoch 415/500, Loss: 307.3176\n",
            "Epoch 416/500, Loss: 301.2020\n",
            "Epoch 417/500, Loss: 295.2081\n",
            "Epoch 418/500, Loss: 289.3334\n",
            "Epoch 419/500, Loss: 283.5757\n",
            "Epoch 420/500, Loss: 277.9325\n",
            "Epoch 421/500, Loss: 272.4017\n",
            "Epoch 422/500, Loss: 266.9809\n",
            "Epoch 423/500, Loss: 261.6680\n",
            "Epoch 424/500, Loss: 256.4608\n",
            "Epoch 425/500, Loss: 251.3572\n",
            "Epoch 426/500, Loss: 246.3552\n",
            "Epoch 427/500, Loss: 241.4527\n",
            "Epoch 428/500, Loss: 236.6478\n",
            "Epoch 429/500, Loss: 231.9385\n",
            "Epoch 430/500, Loss: 227.3229\n",
            "Epoch 431/500, Loss: 222.7992\n",
            "Epoch 432/500, Loss: 218.3655\n",
            "Epoch 433/500, Loss: 214.0200\n",
            "Epoch 434/500, Loss: 209.7610\n",
            "Epoch 435/500, Loss: 205.5868\n",
            "Epoch 436/500, Loss: 201.4956\n",
            "Epoch 437/500, Loss: 197.4859\n",
            "Epoch 438/500, Loss: 193.5559\n",
            "Epoch 439/500, Loss: 189.7041\n",
            "Epoch 440/500, Loss: 185.9290\n",
            "Epoch 441/500, Loss: 182.2290\n",
            "Epoch 442/500, Loss: 178.6027\n",
            "Epoch 443/500, Loss: 175.0485\n",
            "Epoch 444/500, Loss: 171.5650\n",
            "Epoch 445/500, Loss: 168.1509\n",
            "Epoch 446/500, Loss: 164.8047\n",
            "Epoch 447/500, Loss: 161.5250\n",
            "Epoch 448/500, Loss: 158.3107\n",
            "Epoch 449/500, Loss: 155.1603\n",
            "Epoch 450/500, Loss: 152.0726\n",
            "Epoch 451/500, Loss: 149.0464\n",
            "Epoch 452/500, Loss: 146.0804\n",
            "Epoch 453/500, Loss: 143.1734\n",
            "Epoch 454/500, Loss: 140.3242\n",
            "Epoch 455/500, Loss: 137.5318\n",
            "Epoch 456/500, Loss: 134.7949\n",
            "Epoch 457/500, Loss: 132.1125\n",
            "Epoch 458/500, Loss: 129.4834\n",
            "Epoch 459/500, Loss: 126.9067\n",
            "Epoch 460/500, Loss: 124.3813\n",
            "Epoch 461/500, Loss: 121.9061\n",
            "Epoch 462/500, Loss: 119.4801\n",
            "Epoch 463/500, Loss: 117.1025\n",
            "Epoch 464/500, Loss: 114.7721\n",
            "Epoch 465/500, Loss: 112.4882\n",
            "Epoch 466/500, Loss: 110.2497\n",
            "Epoch 467/500, Loss: 108.0557\n",
            "Epoch 468/500, Loss: 105.9054\n",
            "Epoch 469/500, Loss: 103.7979\n",
            "Epoch 470/500, Loss: 101.7323\n",
            "Epoch 471/500, Loss: 99.7078\n",
            "Epoch 472/500, Loss: 97.7236\n",
            "Epoch 473/500, Loss: 95.7789\n",
            "Epoch 474/500, Loss: 93.8729\n",
            "Epoch 475/500, Loss: 92.0049\n",
            "Epoch 476/500, Loss: 90.1740\n",
            "Epoch 477/500, Loss: 88.3795\n",
            "Epoch 478/500, Loss: 86.6208\n",
            "Epoch 479/500, Loss: 84.8970\n",
            "Epoch 480/500, Loss: 83.2075\n",
            "Epoch 481/500, Loss: 81.5517\n",
            "Epoch 482/500, Loss: 79.9288\n",
            "Epoch 483/500, Loss: 78.3383\n",
            "Epoch 484/500, Loss: 76.7793\n",
            "Epoch 485/500, Loss: 75.2514\n",
            "Epoch 486/500, Loss: 73.7539\n",
            "Epoch 487/500, Loss: 72.2862\n",
            "Epoch 488/500, Loss: 70.8477\n",
            "Epoch 489/500, Loss: 69.4378\n",
            "Epoch 490/500, Loss: 68.0560\n",
            "Epoch 491/500, Loss: 66.7017\n",
            "Epoch 492/500, Loss: 65.3744\n",
            "Epoch 493/500, Loss: 64.0734\n",
            "Epoch 494/500, Loss: 62.7983\n",
            "Epoch 495/500, Loss: 61.5487\n",
            "Epoch 496/500, Loss: 60.3238\n",
            "Epoch 497/500, Loss: 59.1234\n",
            "Epoch 498/500, Loss: 57.9468\n",
            "Epoch 499/500, Loss: 56.7937\n",
            "Epoch 500/500, Loss: 55.6635\n"
          ]
        },
        {
          "output_type": "display_data",
          "data": {
            "text/plain": [
              "<Figure size 1000x600 with 1 Axes>"
            ],
            "image/png": "[encoded data removed]"
          },
          "metadata": {}
        }
      ]
    },
    {
      "cell_type": "markdown",
      "source": [
        "## Task 6: Use Negative Sampling\n",
        "Replace naive softmax with negative sampling (use five negative samples per training instance)"
      ],
      "metadata": {
        "id": "3ZStu5mUS7Qo"
      }
    },
    {
      "cell_type": "code",
      "source": [
        "# For performing a single step of gradient descent using negative sampling\n",
        "def execute_negative_sampling_step(word_index_input, target_value, input_matrix, output_matrix, learning_rate, neg_samples):\n",
        "    \"\"\"\n",
        "    For execution of one step of gradient descent with negative sampling, updating both W_in and W_out.\n",
        "    \"\"\"\n",
        "    vector_input = input_matrix[:, word_index_input]  # Embedding for the input word from the input matrix\n",
        "\n",
        "    # Positive target (correct word)\n",
        "    predicted_output = np.dot(output_matrix[word_index_input], vector_input)\n",
        "    error_prediction = predicted_output - target_value\n",
        "\n",
        "    # Update output matrix for the positive sample\n",
        "    output_matrix[word_index_input] -= learning_rate * error_prediction * vector_input\n",
        "\n",
        "    # Update input matrix for the input word\n",
        "    input_matrix[:, word_index_input] -= learning_rate * np.dot(output_matrix[word_index_input].T, error_prediction)\n",
        "\n",
        "    # Negative samples update\n",
        "    for sample_neg in neg_samples:\n",
        "        predicted_neg_output = np.dot(output_matrix[sample_neg], vector_input)  # Prediction for negative sample\n",
        "        error_neg = predicted_neg_output - 0\n",
        "\n",
        "        # Update output matrix for the negative sample\n",
        "        output_matrix[sample_neg] -= learning_rate * error_neg * vector_input\n",
        "\n",
        "        # Update input matrix based on negative sample\n",
        "        input_matrix[:, sample_neg] -= learning_rate * np.dot(output_matrix[sample_neg].T, error_neg)\n",
        "\n",
        "    return input_matrix, output_matrix\n",
        "\n",
        "def select_negative_words(word_index_map, num_samples=5):\n",
        "    \"\"\"\n",
        "    Randomly sampling negative words from the vocabulary.\n",
        "    \"\"\"\n",
        "    all_words = list(word_index_map.keys())\n",
        "    return random.sample(all_words, num_samples)\n",
        "\n",
        "# Function to train the model using SGD with negative sampling\n",
        "def train_model_with_sgd_and_negative_sampling(vocab_list, learning_rate=0.01, num_epochs=100, num_neg_samples=5):\n",
        "    \"\"\"\n",
        "    Trains a Skip-gram model using SGD with negative sampling and updates input and output matrices.\n",
        "    \"\"\"\n",
        "    word_index_map = {word: idx for idx, (word, _) in enumerate(vocab_list)}\n",
        "\n",
        "    vocab_size = len(word_index_map)\n",
        "    embedding_dim = 128  # Size of the embedding vector\n",
        "\n",
        "    # Random input and output matrices\n",
        "    input_matrix = np.random.randn(embedding_dim, vocab_size)\n",
        "    output_matrix = np.random.randn(vocab_size, embedding_dim)\n",
        "\n",
        "    # Dummy target value for each word (1.0 for simplicity)\n",
        "    target_value = 1.0\n",
        "\n",
        "    avg_epoch_losses = []\n",
        "\n",
        "    for epoch in range(num_epochs):\n",
        "        total_loss = 0\n",
        "\n",
        "        # Prepare lists for batch processing\n",
        "        all_indices = list(word_index_map.values())\n",
        "        random.shuffle(all_indices)  # Shuffle the word indices for each epoch\n",
        "\n",
        "        # Perform SGD for each word in the vocabulary\n",
        "        for input_word_idx in all_indices:\n",
        "            # Sample negative words\n",
        "            negative_samples = select_negative_words(word_index_map, num_neg_samples)\n",
        "\n",
        "            negative_indices = [word_index_map[neg_word] for neg_word in negative_samples]\n",
        "\n",
        "            # Perform SGD step using negative sampling\n",
        "            input_matrix, output_matrix = execute_negative_sampling_step(input_word_idx, target_value, input_matrix, output_matrix, learning_rate, negative_indices)\n",
        "\n",
        "            # Mean Squared Error loss calculation for monitoring\n",
        "            predicted_value = np.dot(output_matrix[input_word_idx], input_matrix[:, input_word_idx])\n",
        "            loss = (predicted_value - target_value) ** 2\n",
        "            total_loss += loss\n",
        "\n",
        "        # Calculate and store average loss for the epoch\n",
        "        avg_loss = total_loss / vocab_size\n",
        "        avg_epoch_losses.append(avg_loss)\n",
        "        print(f\"Epoch {epoch + 1}/{num_epochs}, Loss: {avg_loss:.4f}\")\n",
        "\n",
        "    plt.figure(figsize=(10, 6))\n",
        "    plt.plot(range(1, num_epochs + 1), avg_epoch_losses, marker='o')\n",
        "    plt.title(\"Epochs vs. Training Loss with Negative Sampling\")\n",
        "    plt.xlabel(\"Epoch\")\n",
        "    plt.ylabel(\"Average Loss\")\n",
        "    plt.grid(True)\n",
        "    plt.show()\n",
        "\n",
        "    return input_matrix, output_matrix"
      ],
      "metadata": {
        "id": "6tzqIF1h-feT"
      },
      "execution_count": null,
      "outputs": []
    },
    {
      "cell_type": "code",
      "source": [
        "# Train the model using negative sampling and retrieve W_in and W_out\n",
        "win_matrix, wout_matrix = train_model_with_sgd_and_negative_sampling(vocab_list, learning_rate=0.001, num_epochs=50, num_neg_samples=5)"
      ],
      "metadata": {
        "colab": {
          "base_uri": "https://localhost:8080/",
          "height": 1000
        },
        "id": "eSrURAEYB0rA",
        "outputId": "44cf4a7b-a2e6-404a-a556-547d550f7232"
      },
      "execution_count": null,
      "outputs": [
        {
          "output_type": "stream",
          "name": "stdout",
          "text": [
            "Epoch 1/50, Loss: 73.8918\n",
            "Epoch 2/50, Loss: 46.2225\n",
            "Epoch 3/50, Loss: 30.9379\n",
            "Epoch 4/50, Loss: 23.1205\n",
            "Epoch 5/50, Loss: 17.9838\n",
            "Epoch 6/50, Loss: 15.2043\n",
            "Epoch 7/50, Loss: 13.5912\n",
            "Epoch 8/50, Loss: 12.5576\n",
            "Epoch 9/50, Loss: 11.9335\n",
            "Epoch 10/50, Loss: 11.2608\n",
            "Epoch 11/50, Loss: 10.9977\n",
            "Epoch 12/50, Loss: 10.6604\n",
            "Epoch 13/50, Loss: 10.0443\n",
            "Epoch 14/50, Loss: 9.8826\n",
            "Epoch 15/50, Loss: 9.6007\n",
            "Epoch 16/50, Loss: 9.6685\n",
            "Epoch 17/50, Loss: 9.5363\n",
            "Epoch 18/50, Loss: 9.3955\n",
            "Epoch 19/50, Loss: 9.2424\n",
            "Epoch 20/50, Loss: 8.8385\n",
            "Epoch 21/50, Loss: 8.4761\n",
            "Epoch 22/50, Loss: 8.4823\n",
            "Epoch 23/50, Loss: 8.1872\n",
            "Epoch 24/50, Loss: 7.9966\n",
            "Epoch 25/50, Loss: 7.6855\n",
            "Epoch 26/50, Loss: 7.6645\n",
            "Epoch 27/50, Loss: 7.6005\n",
            "Epoch 28/50, Loss: 7.4767\n",
            "Epoch 29/50, Loss: 7.3292\n",
            "Epoch 30/50, Loss: 7.1774\n",
            "Epoch 31/50, Loss: 6.9916\n",
            "Epoch 32/50, Loss: 6.7682\n",
            "Epoch 33/50, Loss: 6.6172\n",
            "Epoch 34/50, Loss: 6.5617\n",
            "Epoch 35/50, Loss: 6.4173\n",
            "Epoch 36/50, Loss: 6.2795\n",
            "Epoch 37/50, Loss: 6.1022\n",
            "Epoch 38/50, Loss: 5.9200\n",
            "Epoch 39/50, Loss: 5.7735\n",
            "Epoch 40/50, Loss: 5.6217\n",
            "Epoch 41/50, Loss: 5.5395\n",
            "Epoch 42/50, Loss: 5.4054\n",
            "Epoch 43/50, Loss: 5.2637\n",
            "Epoch 44/50, Loss: 5.2987\n",
            "Epoch 45/50, Loss: 5.2336\n",
            "Epoch 46/50, Loss: 5.0715\n",
            "Epoch 47/50, Loss: 4.9135\n",
            "Epoch 48/50, Loss: 4.7420\n",
            "Epoch 49/50, Loss: 4.5961\n",
            "Epoch 50/50, Loss: 4.6101\n"
          ]
        },
        {
          "output_type": "display_data",
          "data": {
            "text/plain": [
              "<Figure size 1000x600 with 1 Axes>"
            ],
            "image/png": "[encoded data removed]"
          },
          "metadata": {}
        }
      ]
    },
    {
      "cell_type": "markdown",
      "source": [
        "## Task 7: Test Analogies\n",
        "Provide at least one example to test word analogies. The chosen words should not include the following\n",
        "terms: ”man,” ”woman,” ”boy,” ”girl,” ”country,” ”city,” ”malware,” ”virus,” and their synonyms. Ensure\n",
        "that two of the selected words used in the analogy are related to COVID-19."
      ],
      "metadata": {
        "id": "oX_CIcSQTLS6"
      }
    },
    {
      "cell_type": "code",
      "source": [
        "def create_vocab_index(vocab_list):\n",
        "    word_to_index = {word: idx for idx, (word, _) in enumerate(vocab_list)}\n",
        "    return word_to_index\n",
        "\n",
        "def get_word_vector(word, word_to_index, embedding_matrix):\n",
        "    index = word_to_index.get(word)\n",
        "    if index is not None:\n",
        "        return embedding_matrix[:, index]  # Return the column corresponding to the word\n",
        "    print(f\"Word '{word}' not found in vocabulary.\")\n",
        "    return None\n",
        "\n",
        "def compute_similarity(vector_a, vector_b):\n",
        "    norm_a = np.linalg.norm(vector_a)\n",
        "    norm_b = np.linalg.norm(vector_b)\n",
        "    if norm_a == 0 or norm_b == 0:\n",
        "        return -1\n",
        "    return np.dot(vector_a, vector_b) / (norm_a * norm_b)\n",
        "\n",
        "def perform_analogy(word_a, word_b, word_c, word_to_index, embedding_matrix):\n",
        "    vec_a = get_word_vector(word_a, word_to_index, embedding_matrix)\n",
        "    vec_b = get_word_vector(word_b, word_to_index, embedding_matrix)\n",
        "    vec_c = get_word_vector(word_c, word_to_index, embedding_matrix)\n",
        "\n",
        "    if vec_a is None or vec_b is None or vec_c is None:\n",
        "        return None\n",
        "\n",
        "    analogy_vector = vec_b - vec_a + vec_c\n",
        "    best_word, highest_similarity = None, -np.inf\n",
        "\n",
        "    for candidate_word, index in word_to_index.items():\n",
        "        if candidate_word in (word_a, word_b, word_c):\n",
        "            continue\n",
        "\n",
        "        similarity = compute_similarity(embedding_matrix[:, index], analogy_vector)\n",
        "        if similarity > highest_similarity:\n",
        "            highest_similarity = similarity\n",
        "            best_word = candidate_word\n",
        "\n",
        "    return best_word"
      ],
      "metadata": {
        "id": "Low2c4otCiPb"
      },
      "execution_count": null,
      "outputs": []
    },
    {
      "cell_type": "code",
      "source": [
        "def main():\n",
        "    # Load vocabulary and embedding matrix\n",
        "    word_to_index = create_vocab_index(vocab_list)\n",
        "    embedding_matrix = win_matrix\n",
        "\n",
        "    # Using words related to a specific topic\n",
        "    word_a = \"quarantine\"\n",
        "    word_b = \"safety\"\n",
        "    word_c = \"isolation\"\n",
        "\n",
        "    word_d = perform_analogy(word_a, word_b, word_c, word_to_index, embedding_matrix)\n",
        "    if word_d:\n",
        "        print(f\"Analogy: '{word_a}' is to '{word_b}' as '{word_c}' is to '{word_d}'.\")\n",
        "    else:\n",
        "        print(\"Analogy could not be computed due to missing words.\")\n",
        "\n",
        "if __name__ == \"__main__\":\n",
        "    main()"
      ],
      "metadata": {
        "colab": {
          "base_uri": "https://localhost:8080/"
        },
        "id": "rtccoJ9yFbgP",
        "outputId": "9ed642bd-38c4-46ce-c251-195de7be0161"
      },
      "execution_count": null,
      "outputs": [
        {
          "output_type": "stream",
          "name": "stdout",
          "text": [
            "Analogy: 'quarantine' is to 'safety' as 'isolation' is to 'precaution'.\n"
          ]
        }
      ]
    },
    {
      "cell_type": "markdown",
      "source": [
        "# Assignment 5"
      ],
      "metadata": {
        "id": "oJ7TzBl3C7I6"
      }
    },
    {
      "cell_type": "markdown",
      "source": [
        "## Task 1\n",
        "Find similar words for a word of your choice using $W_{in}$"
      ],
      "metadata": {
        "id": "gO8g0cBmDB6d"
      }
    },
    {
      "cell_type": "code",
      "source": [
        "def get_closest_terms(term, embeddings, vocab_list, num_results=5):\n",
        "    # Create term_to_idx mapping from vocab_list\n",
        "    term_to_idx = { (t, c): idx for idx, (t, c) in enumerate(vocab_list) }\n",
        "\n",
        "    # Find the count for the term in vocab_list\n",
        "    count = next((c for t, c in vocab_list if t == term), None)\n",
        "    if count is None:\n",
        "        print(f\"Term '{term}' not found in vocabulary.\")\n",
        "        return None\n",
        "\n",
        "    # Use the count to get the index\n",
        "    idx = term_to_idx.get((term, count))\n",
        "    if idx is None:\n",
        "        print(f\"Term '{term}' not found in vocabulary.\")\n",
        "        return None\n",
        "\n",
        "    # Compute cosine similarity\n",
        "    term_vector = embeddings[idx].reshape(1, -1)\n",
        "    similarity_scores = cosine_similarity(term_vector, embeddings)[0]\n",
        "\n",
        "    # Get the top-N most similar terms (excluding the term itself)\n",
        "    closest_indices = np.argsort(-similarity_scores)[1:num_results+1]\n",
        "\n",
        "    # Retrieve the corresponding terms from term_to_idx\n",
        "    closest_terms = [\n",
        "        (list(term_to_idx.keys())[i][0], similarity_scores[i])  # Use only the term part\n",
        "        for i in closest_indices\n",
        "    ]\n",
        "\n",
        "    return closest_terms"
      ],
      "metadata": {
        "id": "dRwkMfBEHbI0"
      },
      "execution_count": null,
      "outputs": []
    },
    {
      "cell_type": "code",
      "source": [
        "# Use case\n",
        "term = \"disease\"\n",
        "\n",
        "print(f\"Similar terms to '{term}':\")\n",
        "closest_terms_win = get_closest_terms(term, win_matrix, vocab_list)\n",
        "if closest_terms_win:\n",
        "    for close_term, score in closest_terms_win:\n",
        "        print(f\"{close_term}: {score:.4f}\")"
      ],
      "metadata": {
        "colab": {
          "base_uri": "https://localhost:8080/"
        },
        "id": "HK_QwnMnILRj",
        "outputId": "8e72a79e-bd6e-426d-92c2-ea543cbefabb"
      },
      "execution_count": null,
      "outputs": [
        {
          "output_type": "stream",
          "name": "stdout",
          "text": [
            "Similar terms to 'disease':\n",
            "strategies: 0.0280\n",
            "identified: 0.0214\n",
            "case: 0.0195\n",
            "crucial: 0.0176\n",
            "assessment: 0.0165\n"
          ]
        }
      ]
    },
    {
      "cell_type": "markdown",
      "source": [
        "## Task 2\n",
        "Find the similar words for the same word chosen in Task 1 using $W_{out}$"
      ],
      "metadata": {
        "id": "XenXJPVyECLZ"
      }
    },
    {
      "cell_type": "code",
      "source": [
        "print(f\"\\nSimilar words to '{term}' using Wout:\")\n",
        "similar_words_wout = get_closest_terms(term, wout_matrix, vocab_list)\n",
        "if similar_words_wout:\n",
        "    for sim_word, score in similar_words_wout:\n",
        "        print(f\"{sim_word}: {score:.4f}\")"
      ],
      "metadata": {
        "colab": {
          "base_uri": "https://localhost:8080/"
        },
        "id": "r9FCqoDI1N_r",
        "outputId": "97f6269d-9e23-467b-e4cc-fdc44ad5a74d"
      },
      "execution_count": null,
      "outputs": [
        {
          "output_type": "stream",
          "name": "stdout",
          "text": [
            "\n",
            "Similar words to 'disease' using Wout:\n",
            "healing: 0.3722\n",
            "therapists: 0.3235\n",
            "persisting: 0.3176\n",
            "intensities: 0.2957\n",
            "biological: 0.2947\n"
          ]
        }
      ]
    },
    {
      "cell_type": "markdown",
      "source": [
        "##Task 3\n",
        "Find the similar words for the same word chosen in Task 1 after combining $W_{in}$ and $W_{out}$ - either concatenate them to have a longer vector or average them out."
      ],
      "metadata": {
        "id": "zIdWrcLdE0h1"
      }
    },
    {
      "cell_type": "code",
      "source": [
        "# Transpose InputMatrix to match the shape of OutputMatrix\n",
        "output_matrix_transposed = wout_matrix.T\n",
        "\n",
        "# Now combine them by averaging or concatenating\n",
        "def merge_matrices(win_matrix, output_matrix_transposed, method='average'):\n",
        "    if method == 'average':\n",
        "        return (win_matrix + output_matrix_transposed) / 2\n",
        "    elif method == 'concatenate':\n",
        "        return np.hstack((win_matrix, output_matrix_transposed))\n",
        "    else:\n",
        "        raise ValueError(\"Invalid method. Use 'average' or 'concatenate'.\")\n",
        "\n",
        "# Combine InputMatrix and OutputMatrix (transposed) using the 'average' method\n",
        "merged_matrix = merge_matrices(win_matrix, output_matrix_transposed, method='average')"
      ],
      "metadata": {
        "id": "fPggn2t3EVCw"
      },
      "execution_count": null,
      "outputs": []
    },
    {
      "cell_type": "code",
      "source": [
        "print(f\"\\nSimilar words to '{term}' using combined Win and Wout (average):\")\n",
        "similar_words_combined = get_closest_terms(term, merged_matrix, vocab_list)\n",
        "if similar_words_combined:\n",
        "    for sim_word, score in similar_words_combined:\n",
        "        print(f\"{sim_word}: {score:.4f}\")"
      ],
      "metadata": {
        "id": "BpUXleNOEjG2",
        "colab": {
          "base_uri": "https://localhost:8080/"
        },
        "outputId": "f1585686-d2e7-405e-8016-c9673ed6489b"
      },
      "execution_count": null,
      "outputs": [
        {
          "output_type": "stream",
          "name": "stdout",
          "text": [
            "\n",
            "Similar words to 'disease' using combined Win and Wout (average):\n",
            "strategies: 0.0230\n",
            "avian: 0.0174\n",
            "study: 0.0156\n",
            "identified: 0.0154\n",
            "stay: 0.0139\n"
          ]
        }
      ]
    },
    {
      "cell_type": "markdown",
      "source": [
        "## Task 4\n",
        "Compare the results of Task 1, Task 2 and Task 3 and write a brief description of the outcome"
      ],
      "metadata": {
        "id": "vZBrMN5pUy_E"
      }
    },
    {
      "cell_type": "code",
      "source": [
        "win_terms = {close_term for close_term, _ in closest_terms_win}\n",
        "wout_terms = {sim_word for sim_word, _ in similar_words_wout}\n",
        "combined_terms = {sim_word for sim_word, _ in similar_words_combined}\n",
        "\n",
        "# Prepare output\n",
        "output = []\n",
        "\n",
        "print(\"Word chosen:\", term, \"\\n\")\n",
        "\n",
        "# Printing only from each list\n",
        "only_win = win_terms - wout_terms - combined_terms\n",
        "output.append(f\"Words found only in W_in: {', '.join(only_win) if only_win else 'None'}\")\n",
        "\n",
        "only_wout = wout_terms - win_terms - combined_terms\n",
        "output.append(f\"Words found only in W_out: {', '.join(only_wout) if only_wout else 'None'}\")\n",
        "\n",
        "only_combined = combined_terms - win_terms - wout_terms\n",
        "output.append(f\"Words found only in Combined: {', '.join(only_combined) if only_combined else 'None'}\")\n",
        "\n",
        "# Common words in all lists\n",
        "common_terms = win_terms & wout_terms & combined_terms\n",
        "output.append(f\"Common words in all: {', '.join(common_terms) if common_terms else 'None'}\")\n",
        "\n",
        "# Print the output\n",
        "for line in output:\n",
        "    print(line)"
      ],
      "metadata": {
        "colab": {
          "base_uri": "https://localhost:8080/"
        },
        "id": "HCLyh3ojgYsI",
        "outputId": "d576e329-5e87-4520-a523-46ca68289dc9"
      },
      "execution_count": null,
      "outputs": [
        {
          "output_type": "stream",
          "name": "stdout",
          "text": [
            "Word chosen: disease\n",
            "\n",
            "W_in: strategies, identified, case, crucial, assessment\n",
            "W_out: biological, intensities, persisting, healing, therapists\n",
            "W_in and W_out combined: strategies, avian, study, identified, stay\n",
            "\n",
            "Words found only in W_in: crucial, case, assessment\n",
            "Words found only in W_out: biological, intensities, persisting, healing, therapists\n",
            "Words found only in Combined: study, stay, avian\n",
            "Common words in all: None\n"
          ]
        }
      ]
    },
    {
      "cell_type": "markdown",
      "source": [
        "### Outcome Description\n",
        "\n",
        "In Word2Vec, the **W_in** matrix captures the relationships of words based on their surrounding context (the words that precede them), while the **W_out** matrix focuses on co-occurrence with subsequent words (the words that follow). This dual approach allows for a richer representation of word meanings.\n",
        "\n",
        "1. **Words Found Only in W_in**:\n",
        "   - **\"crucial,\" \"case,\" \"assessment\"** emphasize the importance and evaluation of diseases, focusing on diagnostics and critical discussions.\n",
        "\n",
        "2. **Words Found Only in W_out**:\n",
        "   - **\"biological,\" \"intensities,\" \"persisting,\" \"healing,\" \"therapists\"** highlight therapeutic aspects and biological implications, reflecting treatment and healthcare contexts.\n",
        "\n",
        "3. **Words Found Only in Combined**:\n",
        "   - **\"study,\" \"stay,\" \"avian\"** suggest research contexts and specific classifications of diseases, capturing both analytical and contextual dimensions.\n",
        "\n",
        "4. **Common Words in All**:\n",
        "   - No common words indicate distinct contexts for \"disease\" in W_in and W_out, showcasing its multifaceted nature.\n",
        "\n",
        "### Summary\n",
        "This analysis illustrates the varied associations of \"disease\" based on different contexts, revealing its complexity across discussions. By leveraging both W_in and W_out, we gain a comprehensive understanding of the term's usage and implications.\n"
      ],
      "metadata": {
        "id": "h-tCunvfjC-4"
      }
    },
    {
      "cell_type": "markdown",
      "source": [
        "## Task 5\n",
        "A slide related to the complexities of skipgram and CBOW model was shown in the class. Check if they are correct. If not, what are the correct entries?"
      ],
      "metadata": {
        "id": "Q8bSA24CVAC0"
      }
    },
    {
      "cell_type": "markdown",
      "source": [
        "### Analyzing the Complexity of Skip-gram and CBOW Models\n",
        "\n",
        "Here's a summary of the complexities associated with various model types and tasks:\n",
        "\n",
        "1. **Skip-gram with Hierarchical Softmax:**  \n",
        "   The time complexity is expressed as:  \n",
        "   **O(T * N * C * log(V))**  \n",
        "   This is valid since hierarchical softmax leverages a binary tree structure for log-probability calculations, resulting in logarithmic dependency on vocabulary size \\( V \\).\n",
        "\n",
        "2. **Skip-gram with Negative Sampling:**  \n",
        "   For this model, the complexity is:  \n",
        "   **O(T * N * C * k)**  \n",
        "   This reflects the reduction in computational load, as negative sampling focuses on \\( k \\) negative samples rather than the full vocabulary.\n",
        "\n",
        "3. **CBOW with Hierarchical Softmax:**  \n",
        "   The complexity is also:  \n",
        "   **O(T * N * C * log(V))**  \n",
        "   This matches the Skip-gram model using hierarchical softmax, as both methods employ a binary tree to approximate softmax, thus sharing the same logarithmic relationship with \\( V \\).\n",
        "\n",
        "4. **CBOW with Negative Sampling:**  \n",
        "   The complexity here is:  \n",
        "   **O(T * N * C * k)**  \n",
        "   Similar to the Skip-gram variant, this is correct because the computations are limited to dot products for \\( k \\) negative samples.\n",
        "\n",
        "5. **Cosine Similarity:**  \n",
        "   The complexity for calculating cosine similarity between vectors is:  \n",
        "   **O(N)**  \n",
        "   This is accurate, as determining cosine similarity requires a dot product and normalization of vectors, both of which scale linearly with the embedding size \\( N \\).\n",
        "\n",
        "6. **Analogy Task:**  \n",
        "   The complexity for performing an analogy task is:  \n",
        "   **O(V * N)**  \n",
        "   This is appropriate since it necessitates calculating similarities between the target vector and all vocabulary vectors, leading to complexity proportional to the product of vocabulary size \\( V \\) and embedding size \\( N \\).\n",
        "\n",
        "### Summary:\n",
        "The complexity assessments for Skip-gram, CBOW, cosine similarity, and analogy tasks are precise and require no modifications. These complexities effectively represent the performance of the models and tasks concerning vocabulary size, embedding dimensions, context window, and negative samples.\n"
      ],
      "metadata": {
        "id": "rEBrRCVAlZyj"
      }
    }
  ],
  "metadata": {
    "colab": {
      "provenance": [],
      "gpuType": "V28"
    },
    "kernelspec": {
      "display_name": "Python 3",
      "name": "python3"
    },
    "language_info": {
      "name": "python"
    },
    "accelerator": "TPU"
  },
  "nbformat": 4,
  "nbformat_minor": 0
}