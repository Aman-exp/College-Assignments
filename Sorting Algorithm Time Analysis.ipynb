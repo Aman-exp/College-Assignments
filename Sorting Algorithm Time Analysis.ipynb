{
 "cells": [
  {
   "cell_type": "code",
   "execution_count": 19,
   "metadata": {},
   "outputs": [],
   "source": [
    "import time\n",
    "import random\n",
    "import statistics"
   ]
  },
  {
   "cell_type": "code",
   "execution_count": 20,
   "metadata": {},
   "outputs": [],
   "source": [
    "# Selection Sort\n",
    "def SelectionSort(arr):\n",
    "    for i in range(len(arr)):\n",
    "        m = i\n",
    "        for j in range(i+1, len(arr)):\n",
    "            if arr[m] > arr[j]:\n",
    "                m = j     \n",
    "        arr[i], arr[m] = arr[m], arr[i]\n",
    "# (Iterative) Insertion Sort\n",
    "def InsertionSort(arr):\n",
    "    for i in range(1, len(arr)):\n",
    "        key = arr[i]\n",
    "        j = i-1\n",
    "        while j >= 0 and key < arr[j] :\n",
    "                arr[j + 1] = arr[j]\n",
    "                j -= 1\n",
    "        arr[j + 1] = key"
   ]
  },
  {
   "cell_type": "code",
   "execution_count": 21,
   "metadata": {},
   "outputs": [
    {
     "name": "stdout",
     "output_type": "stream",
     "text": [
      "(mean_run_time, std_deviation) for Selection and (Iterative) Insertion Sort on same list of lists\n",
      "(0.5811797642707824, 0.07878896964227905) (0.5781805086135864, 0.08621732938366279)\n",
      "(0.587426311969757, 0.025852195539811697) (0.5893279218673706, 0.03115592596480991)\n",
      "(0.5544572734832763, 0.09886113996822782) (0.5522519373893737, 0.09791129831270041)\n",
      "(0.6092468810081482, 0.019160562351174887) (0.6066808748245239, 0.021992934804433064)\n",
      "(0.6100336313247681, 0.027631142556963976) (0.6076956510543823, 0.024011094330250185)\n"
     ]
    }
   ],
   "source": [
    "# Repeating M times with K random lists of N size\n",
    "M = 5\n",
    "K = 100\n",
    "N = 5000\n",
    "print(\"(mean_run_time, std_deviation) for Selection and (Iterative) Insertion Sort on same list of lists\")\n",
    "for i in range(M):\n",
    "    Random_Lists, Sel_Sort_Time, Ins_Sort_Time = [], [], []\n",
    "    for j in range(K):\n",
    "        Random_Lists.append(random.choices(range(N),k=N))\n",
    "    for k in range(K):\n",
    "        f = Random_Lists[k]\n",
    "        s = Random_Lists[k][:]\n",
    "        a = time.time()\n",
    "        SelectionSort(f)\n",
    "        b = time.time()\n",
    "        Sel_Sort_Time.append(b-a)\n",
    "        p = time.time()\n",
    "        InsertionSort(s)\n",
    "        q = time.time()\n",
    "        Ins_Sort_Time.append(q-p)\n",
    "    print((statistics.mean(Sel_Sort_Time),statistics.stdev(Sel_Sort_Time)),(statistics.mean(Ins_Sort_Time),statistics.stdev(Ins_Sort_Time)))"
   ]
  },
  {
   "cell_type": "code",
   "execution_count": 4,
   "metadata": {},
   "outputs": [],
   "source": [
    "# Hybrid merge-iteration sort\n",
    "def Merge(arr1,arr2):\n",
    "    m, n = len(arr1), len(arr2)\n",
    "    C = []\n",
    "    x=y=z=0\n",
    "    while z < m+n:\n",
    "        if x == m:\n",
    "            C.extend(arr2[y:])\n",
    "            z = z+(n-y)\n",
    "        elif y == n:\n",
    "            C.extend(arr1[x:])\n",
    "            z = z+(n-x)\n",
    "        elif arr1[x] < arr2[y]:\n",
    "            C.append(arr1[x])\n",
    "            x,z = x+1, z+1\n",
    "        else:\n",
    "            C.append(arr2[y])\n",
    "            y,z = y+1, z+1\n",
    "    return C\n",
    "def HybridMergeSort(arr,cutoff):\n",
    "    l = len(arr)\n",
    "    if l < cutoff or l <= 1:\n",
    "        InsertionSort(arr)\n",
    "        return arr\n",
    "    L = HybridMergeSort(arr[:l//2],cutoff)\n",
    "    R = HybridMergeSort(arr[l//2:],cutoff)\n",
    "    B = Merge(L,R)\n",
    "    return B"
   ]
  },
  {
   "cell_type": "code",
   "execution_count": 5,
   "metadata": {},
   "outputs": [
    {
     "name": "stdout",
     "output_type": "stream",
     "text": [
      "With cutoff = 100 \n",
      "(mean_run_time, std_deviation) for Hybrid Merge Sort\n",
      "(0.2902286148071289, 0.010367839530276986)\n",
      "(0.28941277265548704, 0.00904494105089248)\n",
      "(0.2934489107131958, 0.010518215003610021)\n",
      "(0.28948953866958615, 0.008444803153716813)\n",
      "(0.28961124658584597, 0.008669465049922538)\n",
      "With cutoff = 61 \n",
      "(mean_run_time, std_deviation) for Hybrid Merge Sort\n",
      "(0.23017168998718263, 0.008943002635209443)\n",
      "(0.2323720645904541, 0.00924957691790959)\n",
      "(0.2372963833808899, 0.016800379992824466)\n",
      "(0.10588128566741943, 0.04549138409136113)\n",
      "(0.10317949533462524, 0.014379328028297689)\n",
      "With cutoff = 74 \n",
      "(mean_run_time, std_deviation) for Hybrid Merge Sort\n",
      "(0.09363131523132324, 0.012065500424828415)\n",
      "(0.08845181465148926, 0.010108204204453929)\n",
      "(0.08552412748336792, 0.00665308881730149)\n",
      "(0.084790198802948, 0.005069942505695234)\n",
      "(0.08293266773223877, 0.012379850350499653)\n",
      "With cutoff = 73 \n",
      "(mean_run_time, std_deviation) for Hybrid Merge Sort\n",
      "(0.07020460367202759, 0.007547765331121093)\n",
      "(0.07396094560623169, 0.007684666719809053)\n",
      "(0.07791800260543823, 0.009063266705609009)\n",
      "(0.07333836317062378, 0.0076559759825701856)\n",
      "(0.0729973316192627, 0.007533667276730032)\n",
      "With cutoff = 0 \n",
      "(mean_run_time, std_deviation) for Hybrid Merge Sort\n",
      "(0.08898678541183472, 0.00816495044702656)\n",
      "(0.08399690389633178, 0.005543469442301957)\n",
      "(0.08379869937896728, 0.006279312384090478)\n",
      "(0.08377396345138549, 0.0059081801231161265)\n",
      "(0.08459615468978882, 0.005961418270082052)\n"
     ]
    }
   ],
   "source": [
    "# Trying with diifferent cutoff values while repeating M times with K random lists of N size\n",
    "K = 100\n",
    "N = 50000\n",
    "M = 5\n",
    "cutoff = random.sample(range(101),5)\n",
    "Lists = []\n",
    "for i in range(M):\n",
    "    Random_Lists = []\n",
    "    for j in range(K):\n",
    "        Random_Lists.append(random.choices(range(N),k=N))\n",
    "    Lists.append(Random_Lists)\n",
    "for i in cutoff:\n",
    "    print(\"With cutoff =\",i ,\"\\n(mean_run_time, std_deviation) for Hybrid Merge Sort\")\n",
    "    for j in range(M):\n",
    "        Hyb_Mer_Sort_Time = []\n",
    "        for k in range(K):\n",
    "            r = Lists[j][k][:]\n",
    "            a = time.time()\n",
    "            HybridMergeSort(r,i)\n",
    "            b = time.time()\n",
    "            Hyb_Mer_Sort_Time.append(b-a)\n",
    "        print((statistics.mean(Hyb_Mer_Sort_Time),statistics.stdev(Hyb_Mer_Sort_Time)))"
   ]
  },
  {
   "cell_type": "code",
   "execution_count": 6,
   "metadata": {},
   "outputs": [
    {
     "name": "stdout",
     "output_type": "stream",
     "text": [
      "After checking for all values of cutoff from 0 to 100, we get the optimum value for cutoff at\n",
      "15\n"
     ]
    }
   ],
   "source": [
    "# Finding the optimum value for cutoff\n",
    "Time = [0]*101\n",
    "for i in range(101):\n",
    "    for j in range(M):\n",
    "        Hyb_Mer_Sort_Time = []\n",
    "        for k in range(K):\n",
    "            r = Lists[j][k][:]\n",
    "            a = time.time()\n",
    "            HybridMergeSort(r,i)\n",
    "            b = time.time()\n",
    "            Hyb_Mer_Sort_Time.append(b-a)\n",
    "        Time[i] += statistics.mean(Hyb_Mer_Sort_Time)\n",
    "print(\"After checking for all values of cutoff from 0 to 100, we get the optimum value for cutoff at\")\n",
    "print(Time.index(min(Time)))"
   ]
  },
  {
   "cell_type": "code",
   "execution_count": 7,
   "metadata": {},
   "outputs": [],
   "source": [
    "# Hybrid Randomized-quick-iteration Sort\n",
    "def HybridRanQuickSort(arr, start, end, cutoff):\n",
    "    if len(arr) < cutoff:\n",
    "        InsertionSort(arr)\n",
    "        return arr\n",
    "    if(start < end):\n",
    "        pivotindex = partitionrand(arr,start,end)\n",
    "        HybridRanQuickSort(arr, start, pivotindex-1, cutoff)\n",
    "        HybridRanQuickSort(arr, pivotindex + 1, end, cutoff)\n",
    "def partitionrand(arr, start, end):\n",
    "    randpivot = random.randrange(start, end)\n",
    "    arr[start], arr[randpivot] = arr[randpivot], arr[start]\n",
    "    return partition(arr, start, end)\n",
    "def partition(arr,start,end):\n",
    "    pivot = start\n",
    "    i = start + 1\n",
    "    for j in range(start + 1, end + 1):\n",
    "        if arr[j] <= arr[pivot]:\n",
    "            arr[i] , arr[j] = arr[j] , arr[i]\n",
    "            i = i + 1\n",
    "    arr[pivot] , arr[i - 1] = arr[i - 1] , arr[pivot]\n",
    "    pivot = i - 1\n",
    "    return (pivot)"
   ]
  },
  {
   "cell_type": "code",
   "execution_count": 8,
   "metadata": {},
   "outputs": [
    {
     "name": "stdout",
     "output_type": "stream",
     "text": [
      "With cutoff = 15 \n",
      "(mean_run_time, std_deviation) for Hybrid Randomized-quick-iteration Sort\n",
      "(0.00016726493835449217, 0.001518017313631044)\n",
      "(0.0, 0.0)\n",
      "(1.055002212524414e-05, 0.0001055002212524414)\n",
      "(0.0, 0.0)\n",
      "(1.4081001281738282e-05, 0.00011017677716374388)\n",
      "With cutoff = 84 \n",
      "(mean_run_time, std_deviation) for Hybrid Randomized-quick-iteration Sort\n",
      "(0.0001201486587524414, 0.0010680854127249457)\n",
      "(0.0, 0.0)\n",
      "(0.00017565488815307617, 0.0015536495093659267)\n",
      "(3.1120777130126953e-05, 0.0001782974221819624)\n",
      "(0.00016587018966674806, 0.0011624138431517246)\n",
      "With cutoff = 81 \n",
      "(mean_run_time, std_deviation) for Hybrid Randomized-quick-iteration Sort\n",
      "(0.00017493009567260743, 0.0015187868890804855)\n",
      "(0.0001562356948852539, 0.001562356948852539)\n",
      "(0.00016215801239013672, 0.0014617952251288091)\n",
      "(0.0, 0.0)\n",
      "(0.0, 0.0)\n",
      "With cutoff = 76 \n",
      "(mean_run_time, std_deviation) for Hybrid Randomized-quick-iteration Sort\n",
      "(5.793571472167969e-07, 5.793571472167969e-06)\n",
      "(0.0, 0.0)\n",
      "(4.0934085845947265e-05, 0.0003980159094124379)\n",
      "(1.0688304901123046e-05, 0.00010688304901123047)\n",
      "(0.0, 0.0)\n",
      "With cutoff = 39 \n",
      "(mean_run_time, std_deviation) for Hybrid Randomized-quick-iteration Sort\n",
      "(0.00015504837036132814, 0.0015504837036132812)\n",
      "(8.935928344726562e-06, 8.935928344726563e-05)\n",
      "(5.767345428466797e-06, 4.901572497290834e-05)\n",
      "(0.0, 0.0)\n",
      "(0.0001657533645629883, 0.0015457270229284343)\n"
     ]
    }
   ],
   "source": [
    "# Trying with diifferent cutoff values while repeating M times with K random lists of N size\n",
    "K = 100\n",
    "N = 50000\n",
    "M = 5\n",
    "cutoff = random.sample(range(101),5)\n",
    "Lists = []\n",
    "for i in range(M):\n",
    "    Random_Lists = []\n",
    "    for j in range(K):\n",
    "        Random_Lists.append(random.choices(range(N),k=N))\n",
    "    Lists.append(Random_Lists)\n",
    "for i in cutoff:\n",
    "    print(\"With cutoff =\",i ,\"\\n(mean_run_time, std_deviation) for Hybrid Randomized-quick-iteration Sort\")\n",
    "    for j in range(M):\n",
    "        Hyb_Ran_Quick_Sort_Time = []\n",
    "        for k in range(K):\n",
    "            r = Lists[j][k][:]\n",
    "            a = time.time()\n",
    "            HybridRanQuickSort(r,0,K-1,i)\n",
    "            b = time.time()\n",
    "            Hyb_Ran_Quick_Sort_Time.append(b-a)\n",
    "        print((statistics.mean(Hyb_Ran_Quick_Sort_Time),statistics.stdev(Hyb_Ran_Quick_Sort_Time)))"
   ]
  },
  {
   "cell_type": "code",
   "execution_count": 9,
   "metadata": {},
   "outputs": [
    {
     "name": "stdout",
     "output_type": "stream",
     "text": [
      "After checking for all values of cutoff from 0 to 100, we get the optimum value for cutoff at\n",
      "9\n"
     ]
    }
   ],
   "source": [
    "# Finding optimum value for cutoff\n",
    "Time = [0]*101\n",
    "for i in range(101):\n",
    "    for j in range(M):\n",
    "        Hyb_Ran_Quick_Sort_Time = []\n",
    "        for k in range(K):\n",
    "            r = Lists[j][k][:]\n",
    "            a = time.time()\n",
    "            HybridRanQuickSort(r,0,K-1,i)\n",
    "            b = time.time()\n",
    "            Hyb_Ran_Quick_Sort_Time.append(b-a)\n",
    "        Time[i] += statistics.mean(Hyb_Ran_Quick_Sort_Time)\n",
    "print(\"After checking for all values of cutoff from 0 to 100, we get the optimum value for cutoff at\")\n",
    "print(Time.index(min(Time)))"
   ]
  }
 ],
 "metadata": {
  "kernelspec": {
   "display_name": "Python 3",
   "language": "python",
   "name": "python3"
  },
  "language_info": {
   "codemirror_mode": {
    "name": "ipython",
    "version": 3
   },
   "file_extension": ".py",
   "mimetype": "text/x-python",
   "name": "python",
   "nbconvert_exporter": "python",
   "pygments_lexer": "ipython3",
   "version": "3.11.4"
  }
 },
 "nbformat": 4,
 "nbformat_minor": 2
}
